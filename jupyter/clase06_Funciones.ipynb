{
  "nbformat": 4,
  "nbformat_minor": 0,
  "metadata": {
    "colab": {
      "name": "clase06_Funciones.ipynb",
      "version": "0.3.2",
      "provenance": [],
      "collapsed_sections": [],
      "include_colab_link": true
    },
    "kernelspec": {
      "name": "python3",
      "display_name": "Python 3"
    }
  },
  "cells": [
    {
      "cell_type": "markdown",
      "metadata": {
        "id": "view-in-github",
        "colab_type": "text"
      },
      "source": [
        "<a href=\"https://colab.research.google.com/github/ryali93/UNMSM_programacion2019-1/blob/master/jupyter/clase06_Funciones.ipynb\" target=\"_parent\"><img src=\"https://colab.research.google.com/assets/colab-badge.svg\" alt=\"Open In Colab\"/></a>"
      ]
    },
    {
      "cell_type": "markdown",
      "metadata": {
        "id": "3mnoXSdTr_Oa",
        "colab_type": "text"
      },
      "source": [
        "# Clase 06\n",
        "# Funciones"
      ]
    },
    {
      "cell_type": "markdown",
      "metadata": {
        "id": "uGIvBamPsYiH",
        "colab_type": "text"
      },
      "source": [
        "Esta semana nos centraremos en tomar decisiones y repetir tareas en Python. Ambos conceptos forman parte de la idea computacional más grande llamada **flujo de control** , que se refiere a cómo se determina la ejecución de diferentes partes de un programa de computadora. \n",
        "\n",
        "En Python, el término función tiene un significado más que sólo una función matemática. Una función es una colección de sentencias que puede ejecutarse una y otra vez. Este abstracción obedece a la filosofía de reutilizar código en diferentes programas. \n",
        "\n",
        "Puede enviar variables a la función para influir en lo que está siendo calculado por las instrucciones en la función, y la función puede devolverle objetos nuevos. Las funciones también se utilizan a menudo para dividir un programa largo en piezas más pequeñas y manejables, por lo que el programa y su propio pensamiento sobre él se vuelven más claros. \n",
        "\n",
        "Python viene con un amplio conjunto de funciones **(math, range, len, find, replace, split, join, os, sys,...etc).**\n",
        "\n"
      ]
    },
    {
      "cell_type": "markdown",
      "metadata": {
        "id": "lKBA79C_LuX1",
        "colab_type": "text"
      },
      "source": [
        "### Palabras reservadas def y return"
      ]
    },
    {
      "cell_type": "markdown",
      "metadata": {
        "id": "9W0ehBGLLAgP",
        "colab_type": "text"
      },
      "source": [
        "Las funciones en Python, inician con la palabra reservada **def**, seguido por el nombre de la función, y entre paréntesis uno o más argumentos. Mietras que la palabra **return** devuelve el resultado de la función. De manera general una función se inicia con la palabra **def** y finalizar con la palabra **return**."
      ]
    },
    {
      "cell_type": "markdown",
      "metadata": {
        "id": "CJI2HK13L8tZ",
        "colab_type": "text"
      },
      "source": [
        "![texto alternativo](http://swcarpentry.github.io/python-novice-inflammation/fig/python-function.svg)"
      ]
    },
    {
      "cell_type": "code",
      "metadata": {
        "id": "5mvV9guiL-fx",
        "colab_type": "code",
        "colab": {}
      },
      "source": [
        "def suma(a,b):\n",
        "    s = a+b\n",
        "    return s\n",
        "    \n",
        "\n",
        "c = suma(3,5)\n",
        "print(\"c = \", c)\n",
        "\n",
        "d = suma(33,-14)\n",
        "print(\"d = \", d)"
      ],
      "execution_count": 0,
      "outputs": []
    },
    {
      "cell_type": "markdown",
      "metadata": {
        "id": "DMgiJBNjMAFG",
        "colab_type": "text"
      },
      "source": [
        "En el siguiente caso, la función **calcula_media_desviación(*ss)** contiene un sólo argimento **(*args)**, lo cual significa que en dicha función se puede ingresar una cantidad variable de argumentos y el intérprete de Python creará una tupla con el número de variables numéricas siguiendo el orden declarado de manera consecutiva."
      ]
    },
    {
      "cell_type": "code",
      "metadata": {
        "id": "3505iJLVMOxH",
        "colab_type": "code",
        "colab": {}
      },
      "source": [
        "def calcula_media_desviacion(*ss):\n",
        "    total = 0\n",
        "    print(\"ss = \", ss)\n",
        "    # calcula media\n",
        "    for i in ss:\n",
        "        total += i\n",
        "    media = total / len(ss)\n",
        "    \n",
        "    #calcula std\n",
        "    total = 0\n",
        "    for i in ss:\n",
        "        total += (i - media) ** 2\n",
        "    desviacion = (total / len(ss)) ** 0.5\n",
        "    return media, desviacion\n",
        "\n",
        "a, b, c, d,e = 3, 5, 10, 12,13\n",
        "media, desviacion_tipica = calcula_media_desviacion(a, b, c, d,e)\n",
        "print(f\"Datos: {a} {b} {c} {d}\")\n",
        "print(f\"Media: {media}\")\n",
        "print(f\"Desviación típica: {desviacion_tipica}\")\n",
        "print(\"Programa terminado\")"
      ],
      "execution_count": 0,
      "outputs": []
    },
    {
      "cell_type": "code",
      "metadata": {
        "id": "-2kkYpteMQdy",
        "colab_type": "code",
        "colab": {}
      },
      "source": [
        "def c2kf(C,convert2):\n",
        "    if convert2==\"K\":\n",
        "        K = C + 273\n",
        "        return K\n",
        "    elif convert2==\"F\":\n",
        "        F = (9/5)*C +32\n",
        "        return F\n",
        "\n",
        "K = c2kf(10,\"K\")   \n",
        "print(\"10 °C --> \",K, \"K\")\n",
        "\n",
        "F = c2kf(10,\"F\")   \n",
        "print(\"{0}°C equivale a {1} F\".format(10, F))"
      ],
      "execution_count": 0,
      "outputs": []
    },
    {
      "cell_type": "code",
      "metadata": {
        "id": "cSCOyQyUMSS8",
        "colab_type": "code",
        "colab": {}
      },
      "source": [
        "def solEq2(a,b,c):\n",
        "    # Determinar el discriminante usando la ecuación (2)\n",
        "    discriminante = b**2 - 4*a*c\n",
        "    print(\"discriminante =\", discriminante)\n",
        "    \n",
        "    # Determinando las solucioines x1 y x2\n",
        "    import math \n",
        "    if discriminante >0:\n",
        "        x1 = (-b + math.sqrt(discriminante) )/(2*a)\n",
        "        x2 = (-b - math.sqrt(discriminante) )/(2*a)\n",
        "        \n",
        "        print(\"x1 = \", x1)\n",
        "        print(\"x2 = \", x2)\n",
        "        \n",
        "        print(\"\\n\")\n",
        "        print(a,\"(\",x1,\"**2) +\",  b,\"(\",x1,\") +\", c, \" = \", a*x1**2 + b*x1 + c)\n",
        "        print(a,\"(\",x2,\"**2) +\",  b,\"(\",x2,\") +\", c, \" = \", a*x2**2 + b*x2 + c)\n",
        "        return x1,x2\n",
        "    \n",
        "    elif discriminante ==0:\n",
        "        x1 = (-b + math.sqrt(discriminante) )/(2*a)\n",
        "        x2 = x1\n",
        "        print(\"x1,2= \", x2)\n",
        "        print(\"\\n\")\n",
        "        print(a,\"(\",x1,\"**2) +\",  b,\"(\",x1,\") +\", c, \" = \", a*x1**2 + b*x1 + c)\n",
        "        print(a,\"(\",x2,\"**2) +\",  b,\"(\",x2,\") +\", c, \" = \", a*x2**2 + b*x2 + c)\n",
        "        return x1,x2\n",
        "    else:\n",
        "        print(\"La ecuación no tiene soluciones reales\")\n",
        "        return 0,0\n",
        "        \n",
        "        \n",
        "    \n",
        "\n",
        "s1,s2 = solEq2(3,2,1)\n",
        "s1,s2 = solEq2(3,2,1)"
      ],
      "execution_count": 0,
      "outputs": []
    },
    {
      "cell_type": "markdown",
      "metadata": {
        "id": "fCfMKXR_MUsf",
        "colab_type": "text"
      },
      "source": [
        "Para crear una lista de números iniciando en un determinado valor y finalizando en otro valor, con un incremento determinado, similar a la función **range**. Definiremos la función **makeList** con tres argumentos, de la siguiente forma:\n",
        "\n",
        "**def makeList**(inicio, fin, inc)"
      ]
    },
    {
      "cell_type": "code",
      "metadata": {
        "id": "hxfsg7LJMajE",
        "colab_type": "code",
        "colab": {}
      },
      "source": [
        "def makeList(inicio, fin, inc):\n",
        "    \"\"\"\n",
        "    Genera una lista de valores iniciando en [inicio] hasta [fin], con un incremento [inc]\n",
        "    \n",
        "    \"\"\"\n",
        "    valor= inicio\n",
        "    lista = []\n",
        "    while valor<=fin:\n",
        "        lista.append(valor)\n",
        "        valor = valor + inc\n",
        "    return lista\n",
        "lats = makeList(-23,10,0.5)\n",
        "print(\"lats = \", lats)\n",
        "\n",
        "lons = makeList(-90,-65,0.5)\n",
        "print(\"\\nlons = \", lons)\n",
        "print(\"\\n Documenta\", makeList.__doc__)"
      ],
      "execution_count": 0,
      "outputs": []
    },
    {
      "cell_type": "markdown",
      "metadata": {
        "id": "jURfV984MmAL",
        "colab_type": "text"
      },
      "source": [
        "### Doc Strings"
      ]
    },
    {
      "cell_type": "markdown",
      "metadata": {
        "id": "kyiVfVr6MoIk",
        "colab_type": "text"
      },
      "source": [
        "Hay una convención en python para introducir documentación. La documentación es conocido como un doc **string**, el cual puede contener una pequeña descripción del propósito de la función, explicando los diferentes argumentos y el valor de retorno o resultado de la función. En una sesión interactiva desde el shell de Python **IPython** es común ilustrar la forma adecuada de usar el código. Usualmente el **Doc strings** va entre triple comilla \"\"\", el cual permite escribir varias líneas a manera de comentario.\n",
        "\n"
      ]
    },
    {
      "cell_type": "code",
      "metadata": {
        "id": "EDsy04PLMuJC",
        "colab_type": "code",
        "colab": {}
      },
      "source": [
        "def eqRecta(x0, y0, x1, y1):\n",
        "    \"\"\"\n",
        "    Calcula la pendiente (a) y el intersecto (b) de una recta a partir de dos\n",
        "    pustos (x0, y0) y (x1, y1) que pertenecen a dicha recta.\n",
        "         \n",
        "    x0, y0: Un punto sobre la recta (floats).\n",
        "    x1, y1: Otro punto sobre la recta (floats).\n",
        "    retorna: los coeficientes  a, b (floats) para la recta (y=a*x+b).\n",
        "    \"\"\"\n",
        "    a = (y1 - y0)/float(x1 - x0)\n",
        "    b = y0 - a*x0\n",
        "    return a, b"
      ],
      "execution_count": 0,
      "outputs": []
    },
    {
      "cell_type": "code",
      "metadata": {
        "id": "qmaKn84oMv__",
        "colab_type": "code",
        "colab": {}
      },
      "source": [
        "print(eqRecta.__doc__)"
      ],
      "execution_count": 0,
      "outputs": []
    },
    {
      "cell_type": "code",
      "metadata": {
        "id": "WDfQGieWNIhV",
        "colab_type": "code",
        "colab": {}
      },
      "source": [
        "\n",
        "def c2kf(CC):\n",
        "    i=0\n",
        "    KK=[]; FF=[]\n",
        "    while i < len(CC):\n",
        "        C = CC[i]\n",
        "        K = CC[i] + 273\n",
        "        F = (9.0/5)*C + 32\n",
        "        KK.append(K)\n",
        "        FF.append(F)\n",
        "        #print('%3d %5d %5.1f' %(C, K, F))\n",
        "        i += 1\n",
        "    return KK, FF\n",
        "\n",
        "to = time.clock()\n",
        "CC = [-20, -15, -10, -5, 0, 5, 10, 15, 20, 25, 30, 35, 40]\n",
        "\n",
        "kk, ff = c2kf(CC)\n",
        "print(kk)\n",
        "print(ff)"
      ],
      "execution_count": 0,
      "outputs": []
    },
    {
      "cell_type": "code",
      "metadata": {
        "id": "CcLplWvQNPds",
        "colab_type": "code",
        "colab": {}
      },
      "source": [
        "def area(b,h=None):\n",
        "    \n",
        "    if h is not None:\n",
        "        a=b*h\n",
        "    else:\n",
        "        a=b**2\n",
        "    return a\n",
        "areaC = area(3)\n",
        "print(\"areaC = \", areaC)\n",
        "\n",
        "areaR = area(3,4)\n",
        "print(\"areaR = \", areaR)"
      ],
      "execution_count": 0,
      "outputs": []
    },
    {
      "cell_type": "markdown",
      "metadata": {
        "id": "4ZTOnA9mNSkX",
        "colab_type": "text"
      },
      "source": [
        "### Entradas y salidas de una función"
      ]
    },
    {
      "cell_type": "markdown",
      "metadata": {
        "id": "aW9tbRTGNTlx",
        "colab_type": "text"
      },
      "source": [
        "Es una convención en Python que los argumentos de una función representan los datos de entrada, mientras que el valor del objeto que retorna, representa el dato de salida de la función.\n",
        "\n",
        "**Ejemplo:**\n",
        "\n",
        "Escribir un programa que calcule la derivada de una funcion **f(x)**\n",
        "\n",
        "![texto alternativo](https://calculointegralusco.files.wordpress.com/2017/07/interpretacion-geometrica-de-la-derivada.png?w=840)"
      ]
    },
    {
      "cell_type": "code",
      "metadata": {
        "id": "Xaw693HXNeS5",
        "colab_type": "code",
        "colab": {}
      },
      "source": [
        "def diff2nd(f, x, h=1E-6):\n",
        "    r = (f(x+h) - f(x))/float(h)\n",
        "    return r\n",
        "\n",
        "def y(x):\n",
        "    return x**2\n",
        "\n",
        "x = 2\n",
        "dy = diff2nd(y,x)\n",
        "print(dy)"
      ],
      "execution_count": 0,
      "outputs": []
    },
    {
      "cell_type": "markdown",
      "metadata": {
        "id": "p7L0GP3uODLv",
        "colab_type": "text"
      },
      "source": [
        "## Módulos y paquetes"
      ]
    },
    {
      "cell_type": "markdown",
      "metadata": {
        "id": "P3whQKGgOHuL",
        "colab_type": "text"
      },
      "source": [
        "Un módulo es un archivo de Python cuyos objetos (funciones, clases, excepciones, etc.) pueden ser accedidos desde otro archivo. Se trata simplemente de una forma de organizar grandes códigos.\n",
        "\n",
        "Consideremos, por ejemplo, un archivo aritmetica.py que contenga las siguientes definiciones."
      ]
    },
    {
      "cell_type": "markdown",
      "metadata": {
        "id": "h9FgAFraOMMm",
        "colab_type": "text"
      },
      "source": [
        "### Paquetes\n",
        "\n",
        "Un paquete es una carpeta que contiene varios módulos. Siguiendo el ejemplo anterior, podemos diseñar un paquete matematica creando una carpeta con la siguiente estructura.\n",
        "\n",
        "\n",
        "Refrescaremos algunos conceptos básicos de geometría:\n",
        "\n",
        "$C = 2\\pi r$\n",
        "\n",
        "\n",
        "$A = \\pi r^2$"
      ]
    },
    {
      "cell_type": "code",
      "metadata": {
        "id": "vJDihD3wORij",
        "colab_type": "code",
        "colab": {}
      },
      "source": [
        "# Definiendo el radio\n",
        "r = 0.43\n",
        "\n",
        "# Importando el paquete math\n",
        "import math\n",
        "\n",
        "# Calculando la circunferencia\n",
        "C = 2*math.pi*r\n",
        "\n",
        "# Calculando el área\n",
        "A = math.pi*r**2\n",
        "\n",
        "# Build printout\n",
        "print(\"Circunferencia: \" + str(C))\n",
        "print(\"Area: \" + str(A))"
      ],
      "execution_count": 0,
      "outputs": []
    }
  ]
}