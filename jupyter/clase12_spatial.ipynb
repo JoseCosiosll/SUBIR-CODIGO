{
  "nbformat": 4,
  "nbformat_minor": 0,
  "metadata": {
    "colab": {
      "name": "clase12_spatial",
      "version": "0.3.2",
      "provenance": [],
      "include_colab_link": true
    },
    "kernelspec": {
      "name": "python3",
      "display_name": "Python 3"
    }
  },
  "cells": [
    {
      "cell_type": "markdown",
      "metadata": {
        "id": "view-in-github",
        "colab_type": "text"
      },
      "source": [
        "<a href=\"https://colab.research.google.com/github/ryali93/UNMSM_programacion2019-1/blob/master/jupyter/clase12_spatial.ipynb\" target=\"_parent\"><img src=\"https://colab.research.google.com/assets/colab-badge.svg\" alt=\"Open In Colab\"/></a>"
      ]
    },
    {
      "cell_type": "code",
      "metadata": {
        "id": "IkwPa4t6xCSZ",
        "colab_type": "code",
        "colab": {}
      },
      "source": [
        "!pip install fiona\n",
        "!pip install geopandas\n",
        "!pip install descartes\n",
        "!pip install mapclassify"
      ],
      "execution_count": 0,
      "outputs": []
    },
    {
      "cell_type": "markdown",
      "metadata": {
        "id": "DqXvVI8Cs-qt",
        "colab_type": "text"
      },
      "source": [
        "## 01_Describe"
      ]
    },
    {
      "cell_type": "code",
      "metadata": {
        "id": "0wpmuWetseyp",
        "colab_type": "code",
        "colab": {}
      },
      "source": [
        "import fiona\n",
        "import pprint"
      ],
      "execution_count": 0,
      "outputs": []
    },
    {
      "cell_type": "code",
      "metadata": {
        "id": "01oTyiEuskbv",
        "colab_type": "code",
        "colab": {}
      },
      "source": [
        "data_path = \"TM_WORLD_BORDERS-0.3.shp\"\n",
        "c = fiona.open(data_path)"
      ],
      "execution_count": 0,
      "outputs": []
    },
    {
      "cell_type": "code",
      "metadata": {
        "id": "S1WvH363szHC",
        "colab_type": "code",
        "colab": {}
      },
      "source": [
        "print(c.driver)\n",
        "print(c.crs)\n",
        "print(len(c))\n",
        "print(c.bounds)\n",
        "pprint.pprint(c.schema)"
      ],
      "execution_count": 0,
      "outputs": []
    },
    {
      "cell_type": "markdown",
      "metadata": {
        "id": "3uNtcG3btDS0",
        "colab_type": "text"
      },
      "source": [
        "## 02_Transform"
      ]
    },
    {
      "cell_type": "code",
      "metadata": {
        "id": "sojNIabutJ2w",
        "colab_type": "code",
        "colab": {}
      },
      "source": [
        "import csv\n",
        "from shapely.geometry import Point, mapping\n",
        "from fiona import collection\n",
        "from fiona.crs import from_epsg"
      ],
      "execution_count": 0,
      "outputs": []
    },
    {
      "cell_type": "code",
      "metadata": {
        "id": "d2tgV0WZtLyE",
        "colab_type": "code",
        "colab": {}
      },
      "source": [
        "schema = { 'geometry': 'Point', 'properties': { 'depth': 'float:7.3', 'magnitude' : 'float:7.3' } }"
      ],
      "execution_count": 0,
      "outputs": []
    },
    {
      "cell_type": "code",
      "metadata": {
        "id": "69qXdiR7tOc8",
        "colab_type": "code",
        "colab": {}
      },
      "source": [
        "with collection(\"earthquakes.shp\", \"w\", crs=from_epsg(4326), driver='ESRI Shapefile', schema=schema) as output:\n",
        "    with open('earthquakes.csv', 'r') as f:\n",
        "        reader = csv.DictReader(f)\n",
        "        for row in reader:\n",
        "            point = Point(float(row['Longitude']), float(row['Latitude']))\n",
        "            output.write({\n",
        "                'properties': {\n",
        "                    'depth': row['Depth'],'magnitude': row['Magnitude']\n",
        "                },\n",
        "                'geometry': mapping(point)\n",
        "            })"
      ],
      "execution_count": 0,
      "outputs": []
    },
    {
      "cell_type": "markdown",
      "metadata": {
        "id": "ne1ooVAxuj5F",
        "colab_type": "text"
      },
      "source": [
        "## 03_Geocoding"
      ]
    },
    {
      "cell_type": "code",
      "metadata": {
        "id": "Mc52h4qaumPr",
        "colab_type": "code",
        "colab": {}
      },
      "source": [
        "from geopy.geocoders import Nominatim"
      ],
      "execution_count": 0,
      "outputs": []
    },
    {
      "cell_type": "code",
      "metadata": {
        "id": "zf17IVItupnV",
        "colab_type": "code",
        "colab": {}
      },
      "source": [
        "geolocator = Nominatim()\n",
        "location = geolocator.geocode(\"Estadio de la UNMSM, Avenida Carlos Germán Amezaga, Urbanizacion Las Brisas, Lima, CALLAO 02, Perú\")"
      ],
      "execution_count": 0,
      "outputs": []
    },
    {
      "cell_type": "code",
      "metadata": {
        "id": "Iy40lIDZurKN",
        "colab_type": "code",
        "colab": {}
      },
      "source": [
        "print(location.address)\n",
        "print((location.latitude, location.longitude))\n",
        "print(location.raw)"
      ],
      "execution_count": 0,
      "outputs": []
    },
    {
      "cell_type": "markdown",
      "metadata": {
        "id": "k6QVWiK7v3_i",
        "colab_type": "text"
      },
      "source": [
        "Geocoding inverso"
      ]
    },
    {
      "cell_type": "code",
      "metadata": {
        "id": "6C-PZMt_vegf",
        "colab_type": "code",
        "colab": {}
      },
      "source": [
        "geolocator = Nominatim()\n",
        "location = geolocator.reverse(\"-12.057615, -77.082842\")\n",
        "print(location.address)"
      ],
      "execution_count": 0,
      "outputs": []
    },
    {
      "cell_type": "markdown",
      "metadata": {
        "id": "qkhqKduIw8NX",
        "colab_type": "text"
      },
      "source": [
        "## 04_Geopandas"
      ]
    },
    {
      "cell_type": "code",
      "metadata": {
        "id": "HurvwlFDw9eb",
        "colab_type": "code",
        "colab": {}
      },
      "source": [
        "import geopandas as gp\n",
        "%matplotlib inline\n",
        "pth = \"TM_WORLD_BORDERS-0.3.shp\"\n",
        "world = gp.GeoDataFrame.from_file(pth)"
      ],
      "execution_count": 0,
      "outputs": []
    },
    {
      "cell_type": "code",
      "metadata": {
        "id": "lqc-3uO9xKEK",
        "colab_type": "code",
        "colab": {}
      },
      "source": [
        "world.head(3)"
      ],
      "execution_count": 0,
      "outputs": []
    },
    {
      "cell_type": "code",
      "metadata": {
        "id": "Q8BeMmuYxMxy",
        "colab_type": "code",
        "colab": {}
      },
      "source": [
        "world.plot()"
      ],
      "execution_count": 0,
      "outputs": []
    },
    {
      "cell_type": "code",
      "metadata": {
        "id": "z_oAvbcKxmuW",
        "colab_type": "code",
        "colab": {}
      },
      "source": [
        "world.plot(column='POP2005', scheme='QUANTILES', k=5, colormap='OrRd',  legend=True,  figsize=(16, 10))"
      ],
      "execution_count": 0,
      "outputs": []
    },
    {
      "cell_type": "code",
      "metadata": {
        "id": "MBrXemoAx1zB",
        "colab_type": "code",
        "colab": {}
      },
      "source": [
        "world.plot(column='POP2005', scheme='fisher_jenks', k=5, colormap='OrRd',  legend=True, figsize=(16, 10))"
      ],
      "execution_count": 0,
      "outputs": []
    },
    {
      "cell_type": "markdown",
      "metadata": {
        "id": "rqfqSZgF07Lw",
        "colab_type": "text"
      },
      "source": [
        "***\n",
        "## Ejercicio"
      ]
    },
    {
      "cell_type": "markdown",
      "metadata": {
        "id": "Gub5IIvz1DrN",
        "colab_type": "text"
      },
      "source": [
        "Leer los datos"
      ]
    },
    {
      "cell_type": "code",
      "metadata": {
        "id": "JdGcaQdv09Wo",
        "colab_type": "code",
        "colab": {}
      },
      "source": [
        "import pandas as pd\n",
        "from geopandas import GeoDataFrame\n",
        "from shapely.geometry import Point\n",
        "import fiona"
      ],
      "execution_count": 0,
      "outputs": []
    },
    {
      "cell_type": "code",
      "metadata": {
        "id": "Da4apWhN1Oku",
        "colab_type": "code",
        "colab": {}
      },
      "source": [
        "from datetime import datetime"
      ],
      "execution_count": 0,
      "outputs": []
    },
    {
      "cell_type": "code",
      "metadata": {
        "id": "puOhJjXo2Wg8",
        "colab_type": "code",
        "colab": {}
      },
      "source": [
        "data = pd.read_csv('earthquakes.csv')\n",
        "data.head()"
      ],
      "execution_count": 0,
      "outputs": []
    },
    {
      "cell_type": "code",
      "metadata": {
        "id": "tLHGegsA2ect",
        "colab_type": "code",
        "colab": {}
      },
      "source": [
        "geometry = [Point(xy) for xy in zip(data.Longitude, data.Latitude)]\n",
        "crs = {'init': 'epsg:4326'} #https://www.spatialreferen%matplotlib inline\n",
        "geo_df.plot()ce.org/ref/epsg/4326/\n",
        "geo_df = GeoDataFrame(data, crs=crs, geometry=geometry)\n",
        "\n",
        "# geo_df.to_file(driver='ESRI Shapefile', filename='data.shp')"
      ],
      "execution_count": 0,
      "outputs": []
    },
    {
      "cell_type": "code",
      "metadata": {
        "id": "hEO083AJ2gzE",
        "colab_type": "code",
        "colab": {}
      },
      "source": [
        "%matplotlib inline\n",
        "geo_df.plot()"
      ],
      "execution_count": 0,
      "outputs": []
    },
    {
      "cell_type": "code",
      "metadata": {
        "id": "JZLZ5ntd2joU",
        "colab_type": "code",
        "colab": {}
      },
      "source": [
        "geo_df = geo_df.drop(columns=['DateTime'])\n",
        "gjson = geo_df.to_crs(epsg='4326').to_json()"
      ],
      "execution_count": 0,
      "outputs": []
    },
    {
      "cell_type": "code",
      "metadata": {
        "id": "TEUtHFvq2mwH",
        "colab_type": "code",
        "colab": {}
      },
      "source": [
        "import folium"
      ],
      "execution_count": 0,
      "outputs": []
    },
    {
      "cell_type": "code",
      "metadata": {
        "id": "yiGW7jpa2oYG",
        "colab_type": "code",
        "colab": {}
      },
      "source": [
        "mapa = folium.Map([-8.783333, -74.866667], zoom_start=4, tiles='cartodbpositron')\n",
        "points = folium.features.GeoJson(gjson)\n",
        "mapa.add_children(points)\n",
        "mapa"
      ],
      "execution_count": 0,
      "outputs": []
    },
    {
      "cell_type": "code",
      "metadata": {
        "id": "JSjE_7QX2-9N",
        "colab_type": "code",
        "colab": {}
      },
      "source": [
        ""
      ],
      "execution_count": 0,
      "outputs": []
    }
  ]
}