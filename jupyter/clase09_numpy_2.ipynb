{
  "nbformat": 4,
  "nbformat_minor": 0,
  "metadata": {
    "colab": {
      "name": "clase09_numpy_2.ipynb",
      "version": "0.3.2",
      "provenance": [],
      "include_colab_link": true
    },
    "language_info": {
      "codemirror_mode": {
        "name": "ipython",
        "version": 3
      },
      "file_extension": ".py",
      "mimetype": "text/x-python",
      "name": "python",
      "nbconvert_exporter": "python",
      "pygments_lexer": "ipython3",
      "version": "3.6.4"
    },
    "kernelspec": {
      "display_name": "Python 3",
      "language": "python",
      "name": "python3"
    }
  },
  "cells": [
    {
      "cell_type": "markdown",
      "metadata": {
        "id": "view-in-github",
        "colab_type": "text"
      },
      "source": [
        "<a href=\"https://colab.research.google.com/github/ryali93/UNMSM_programacion2019-1/blob/master/jupyter/clase09_numpy_2.ipynb\" target=\"_parent\"><img src=\"https://colab.research.google.com/assets/colab-badge.svg\" alt=\"Open In Colab\"/></a>"
      ]
    },
    {
      "cell_type": "markdown",
      "metadata": {
        "id": "SBoigbSRKkBB",
        "colab_type": "text"
      },
      "source": [
        "# 9. Numpy\n",
        "\n",
        "**Numpy** es un paquete especializado en computación científica. Contiene tipos de datos, módulos, clases y funciones que posibilitan la creación y manejo de matrices (arrays) de n-dimensiones.\n",
        "Las ventajas más importante de usar **Numpy** son:\n",
        "\n",
        "* **Es multiplataforma**\n",
        "* **Potente** conjunto de librerías."
      ]
    },
    {
      "cell_type": "markdown",
      "metadata": {
        "id": "KEfp30Y7KkBG",
        "colab_type": "text"
      },
      "source": [
        "## 9.1. Matrices\n",
        "\n",
        "En matemática, una matriz es un arreglo bidimensional de números. Dado que puede definirse tanto la suma como el producto de matrices. En Python una matriz (array) es un objeto y tiene propiedades (métodos) como la mutabilidad. Acontinuación se define la matriz **A** de **m** filas y **n** columnas.\n",
        "Es importante tener  presente que en Python la indexación siempre inicia en **cero**, ya sea en tuplas, listas o arrays (vectores ó matrices).\n",
        "\n",
        "\n",
        "$$\n",
        "\\mathbf{A}=\n",
        "\\left| \\begin{array}{ccc}\n",
        "  a_{0,0} & a_{0,1} &  a_{0,2} &  \\dots &  a_{0,n} \\\\\n",
        "  a_{1,0} & a_{1,1} &  a_{1,2} &  \\dots &   a_{1,n} \\\\\n",
        "   \\vdots  &  \\vdots  &   \\vdots  &  \\vdots &   \\vdots \\\\\n",
        "  a_{m,0} & a_{m,1} &  a_{m,2} &  \\dots &   a_{m,n} \\\\\n",
        "  \\end{array}\\right|_{mxn} = \\mathbf{A}_{m\\times n}\n",
        "$$\n",
        "\n",
        "> Acontinuación se muestra una tabla con los métodos que ofrece **numpy** para trabajar con arreglos/matrices.\n",
        "\n",
        "|Método| Resultado| \n",
        "|:-----|:-------------|\n",
        "|**A**.shape   | Tupla con las dimensiones | \n",
        "|**A**.ndim    | Número de dimensiones  |\n",
        "|**A**.size    | Número de elementos  |\n",
        "|**A**.itemsize| Tamaño de uno de los elementos en bytes  |\n",
        "|**A**.nbytes  | Tamaño total ocupado por los elementos  |\n",
        "|**A**.dtype   |  Tipo de dato de los elementos |\n",
        "|**A**.real    | Parte real  |\n",
        "|**A**.imag    | Parte imaginaria  |\n",
        "\n",
        "Acontinuación trataremos:\n",
        "\n",
        "* Arreglos de una dimensión (1D).\n",
        "* Arreglos de n-dimensiones (nD).\n",
        "\n",
        "### Arreglos de una dimensión (1D)\n",
        "> Para empezar crearemos los arreglos  $\\mathbf{x1D}_{1\\times n}$ y $\\mathbf{y1D}_{1\\times n}$ de manera manual."
      ]
    },
    {
      "cell_type": "code",
      "metadata": {
        "id": "eo0y-q-2KkBH",
        "colab_type": "code",
        "colab": {},
        "outputId": "af20ec4e-2f3d-4214-ae8c-ef0efc78190d"
      },
      "source": [
        "import numpy as np\n",
        "\n",
        "x = np.array([1, 2, 3,4])\n",
        "y = np.array([4, 5, 6])\n",
        "\n",
        "print(\"\\nx = \", x)\n",
        "print(\"y = \", y)"
      ],
      "execution_count": 0,
      "outputs": [
        {
          "output_type": "stream",
          "text": [
            "\n",
            "x =  [1 2 3 4]\n",
            "y =  [4 5 6]\n"
          ],
          "name": "stdout"
        }
      ]
    },
    {
      "cell_type": "markdown",
      "metadata": {
        "id": "BgIjB24ZKkBP",
        "colab_type": "text"
      },
      "source": [
        ">Ahora, se hará uso de los módulos **arange** y **linspace** del paquete **numpy** para crear de manera automática los arreglos $\\mathbf{A1D}_{1\\times n}$ y $\\mathbf{B1D}_{1\\times n}$. "
      ]
    },
    {
      "cell_type": "code",
      "metadata": {
        "id": "uPK9ZtW-KkBQ",
        "colab_type": "code",
        "colab": {},
        "outputId": "999355ca-b839-436b-ef73-c975a2e128ad"
      },
      "source": [
        "# importar el paquete [numpy]\n",
        "import numpy as np\n",
        "\n",
        "# Generar el arreglo A1D, usando el módulo numpy.arange\n",
        "A1D = np.arange(0,10,0.5)\n",
        "print(\"\\nA1D = \", A1D)\n",
        "print(\"dim/len(A1D) = \", len(A1D))\n",
        "print(\"dim/A1D.shape = \", A1D.shape)\n",
        "print(type(A1D),A1D.dtype)\n",
        "\n",
        "# Generar el arreglo B1D, usando el módulo numpy.linspace\n",
        "B1D = np.linspace(-5,5,19)\n",
        "print(\"\\nB1D = \", B1D)\n",
        "print(\"dim/len(B1D) = \", len(B1D))\n",
        "print(\"dim/B1D.shape = \", B1D.shape)\n",
        "print(type(B1D),B1D.dtype)"
      ],
      "execution_count": 0,
      "outputs": [
        {
          "output_type": "stream",
          "text": [
            "\n",
            "A1D =  [0.  0.5 1.  1.5 2.  2.5 3.  3.5 4.  4.5 5.  5.5 6.  6.5 7.  7.5 8.  8.5\n",
            " 9.  9.5]\n",
            "dim/len(A1D) =  20\n",
            "dim/A1D.shape =  (20,)\n",
            "<class 'numpy.ndarray'> float64\n",
            "\n",
            "B1D =  [-5.         -4.44444444 -3.88888889 -3.33333333 -2.77777778 -2.22222222\n",
            " -1.66666667 -1.11111111 -0.55555556  0.          0.55555556  1.11111111\n",
            "  1.66666667  2.22222222  2.77777778  3.33333333  3.88888889  4.44444444\n",
            "  5.        ]\n",
            "dim/len(B1D) =  19\n",
            "dim/B1D.shape =  (19,)\n",
            "<class 'numpy.ndarray'> float64\n"
          ],
          "name": "stdout"
        }
      ]
    },
    {
      "cell_type": "markdown",
      "metadata": {
        "id": "FZCYTmLuKkBX",
        "colab_type": "text"
      },
      "source": [
        "### Arreglos de n dimensiones (nD)\n",
        "> Los arreglos de n-dimensiones más comunes debido a su utilidad para representar problemas reales, son los de 2 y 3 dimensiones. Para empezar crearemos los arreglos:\n",
        "\n",
        "#### Arreglos de dos dimensiones  $\\mathbf{x2D}_{m\\times n}$ y $\\mathbf{y2D}_{m\\times n}$ de manera manual."
      ]
    },
    {
      "cell_type": "code",
      "metadata": {
        "id": "zl3id-WUKkBY",
        "colab_type": "code",
        "colab": {},
        "outputId": "9f470c3b-d85d-48e1-b1ed-3a08e6254dbc"
      },
      "source": [
        "import numpy as np\n",
        "x2D = np.array([[1,2],[3,4]])\n",
        "print(\"Arreglo de 2-dimensiones: 2 filas y 2 columnas\")\n",
        "print(\"\\2D =\\n \", x2D)\n",
        "print(\"x2D[0,1] = \", x2D[0,1])\n",
        "x2D[0,1]=999\n",
        "print(\"\\nx2D =\\n \", x2D)\n",
        "\n",
        "y2D = np.array([[2,3,4],[6,5,4]])\n",
        "print(\"\\nArreglo de 2-dimensiones: 2 filas y 3 columnas\")\n",
        "print(\"y2D = \\n\", y2D)\n",
        "print(\"y2D[0,1] = \", y2D[0,1])\n",
        "y2D[0,1]=999\n",
        "print(\"\\ny2D =\\n \", y2D)"
      ],
      "execution_count": 0,
      "outputs": [
        {
          "output_type": "stream",
          "text": [
            "Arreglo de 2-dimensiones: 2 filas y 2 columnas\n",
            "\u0002D =\n",
            "  [[1 2]\n",
            " [3 4]]\n",
            "x2D[0,1] =  2\n",
            "\n",
            "x2D =\n",
            "  [[  1 999]\n",
            " [  3   4]]\n",
            "\n",
            "Arreglo de 2-dimensiones: 2 filas y 3 columnas\n",
            "y2D = \n",
            " [[2 3 4]\n",
            " [6 5 4]]\n",
            "y2D[0,1] =  3\n",
            "\n",
            "y2D =\n",
            "  [[  2 999   4]\n",
            " [  6   5   4]]\n"
          ],
          "name": "stdout"
        }
      ]
    },
    {
      "cell_type": "markdown",
      "metadata": {
        "id": "UFRRzV1kKkBd",
        "colab_type": "text"
      },
      "source": [
        "#### Arreglos de dos dimensiones $(\\mathbf{A2D}_{m\\times n})$ y tres dimensiones $(\\mathbf{A3D}_{t \\times m\\times n})$ dimensiones usando  los módulos **np.arange**, **np.linspace**, **np.reshape**, **np.zeros** y **np.ones**."
      ]
    },
    {
      "cell_type": "code",
      "metadata": {
        "id": "FSWZlUETKkBe",
        "colab_type": "code",
        "colab": {},
        "outputId": "24207386-3f49-4cff-a5d6-81972162aeb5"
      },
      "source": [
        "import numpy as np\n",
        "\n",
        "print(\"Arreglo de 2-dimensiones: 3 filas y 4 columnas \")\n",
        "A2D = np.arange(3*4).reshape(3,4)\n",
        "print(\"\\nA2D = \\n\", A2D)\n",
        "print(\"\\ndim/A2D.shape = \", A2D.shape)\n",
        "print(type(A2D), A2D.dtype)\n",
        "\n",
        "print(\"\\nArreglo de 3-dimensiones: 3 niveles, 3 filas y 4 columnas \")\n",
        "A3D = np.arange(3*3*4).reshape(3,3,4)\n",
        "print(\"A3D = \\n\", A3D)\n",
        "print(\"\\ndim/A3D.shape = \", A3D.shape)\n",
        "print(type(A3D), A3D.dtype)"
      ],
      "execution_count": 0,
      "outputs": [
        {
          "output_type": "stream",
          "text": [
            "Arreglo de 2-dimensiones: 3 filas y 4 columnas \n",
            "\n",
            "A2D = \n",
            " [[ 0  1  2  3]\n",
            " [ 4  5  6  7]\n",
            " [ 8  9 10 11]]\n",
            "\n",
            "dim/A2D.shape =  (3, 4)\n",
            "<class 'numpy.ndarray'> int64\n",
            "\n",
            "Arreglo de 3-dimensiones: 3 niveles, 3 filas y 4 columnas \n",
            "A3D = \n",
            " [[[ 0  1  2  3]\n",
            "  [ 4  5  6  7]\n",
            "  [ 8  9 10 11]]\n",
            "\n",
            " [[12 13 14 15]\n",
            "  [16 17 18 19]\n",
            "  [20 21 22 23]]\n",
            "\n",
            " [[24 25 26 27]\n",
            "  [28 29 30 31]\n",
            "  [32 33 34 35]]]\n",
            "\n",
            "dim/A3D.shape =  (3, 3, 4)\n",
            "<class 'numpy.ndarray'> int64\n"
          ],
          "name": "stdout"
        }
      ]
    },
    {
      "cell_type": "markdown",
      "metadata": {
        "id": "HgOTUByDKkBj",
        "colab_type": "text"
      },
      "source": [
        "## 9.2. Operaciones con matrices\n",
        "\n",
        "Los arreglos de **numpy** permiten realizar operaciones de suma, resta, productor escalar (elemento a elemento)  producto vectorial. Para lo cual, es necesario que los arreglos cumplan las siguientes condiciones:\n",
        "* Los arreglos deben tener las mismas dimensiones (suma, resta, producto aritmético y escalar)\n",
        "\n",
        "* Para el producto vectorial de los arreglos $\\mathbf{A}_{m \\times n}$ y $\\mathbf{B}_{s \\times p}$, es necesario que $n=s$, esto es: el número de columnas de $\\mathbf{A}$ tiene que ser igual al número de filas de $\\mathbf{B}$.\n",
        "\n",
        "#### Suma  y producto aritmético y escalar de arreglos de una dimensión"
      ]
    },
    {
      "cell_type": "code",
      "metadata": {
        "id": "zmW4WDglKkBl",
        "colab_type": "code",
        "colab": {},
        "outputId": "125b1bfa-60ec-4d10-a041-556c1afefb0c"
      },
      "source": [
        "# importar el paquete [numpy]\n",
        "import numpy as np\n",
        "\n",
        "# Generar el arreglo A1D, usando el módulo numpy.arange\n",
        "A1D = np.arange(0,10,1)\n",
        "print(\"\\nA1D = \", A1D)\n",
        "print(\"dim/A1D.shape = \", A1D.shape)\n",
        "\n",
        "\n",
        "# Generar el arreglo B1D, usando el módulo numpy.linspace\n",
        "B1D = np.arange(10,20,1)\n",
        "print(\"\\nB1D = \", B1D)\n",
        "print(\"dim/B1D.shape = \", B1D.shape)\n",
        "\n",
        "print(\"\\nSuma de arreglos\")\n",
        "S1D = A1D + B1D\n",
        "print(\"S1D = A1D + B1D =\", S1D)\n",
        "print(\"dim/S1D.shape = \", S1D.shape)\n",
        "\n",
        "print(\"\\nProducto aitmético (*) de arreglos\")\n",
        "P1D = A1D*B1D\n",
        "print(\"C1D = A1D + B1D =\", P1D)\n",
        "print(\"dim/C1D.shape = \", P1D.shape)\n",
        "\n",
        "print(\"\\nProducto escalar (np.dot) de arreglos\")\n",
        "dot1D = np.dot(A1D,B1D)\n",
        "print(\"C1D = A1D + B1D =\", dot1D)\n",
        "print(\"dim/C1D.shape = \", dot1D.shape)"
      ],
      "execution_count": 0,
      "outputs": [
        {
          "output_type": "stream",
          "text": [
            "\n",
            "A1D =  [0 1 2 3 4 5 6 7 8 9]\n",
            "dim/A1D.shape =  (10,)\n",
            "\n",
            "B1D =  [10 11 12 13 14 15 16 17 18 19]\n",
            "dim/B1D.shape =  (10,)\n",
            "\n",
            "Suma de arreglos\n",
            "S1D = A1D + B1D = [10 12 14 16 18 20 22 24 26 28]\n",
            "dim/S1D.shape =  (10,)\n",
            "\n",
            "Producto aitmético (*) de arreglos\n",
            "C1D = A1D + B1D = [  0  11  24  39  56  75  96 119 144 171]\n",
            "dim/C1D.shape =  (10,)\n",
            "\n",
            "Producto escalar (np.dot) de arreglos\n",
            "C1D = A1D + B1D = 735\n",
            "dim/C1D.shape =  ()\n"
          ],
          "name": "stdout"
        }
      ]
    },
    {
      "cell_type": "markdown",
      "metadata": {
        "id": "YyTzmc1AKkBr",
        "colab_type": "text"
      },
      "source": [
        "#### Suma  y producto atrimético de arreglos de n-dimensiones\n",
        "Las operaciones de suma y producto aritmético entre arreglos se da elemento a elemento, por lo que, es necesario que los arreglos presenten las mismas dimensiones."
      ]
    },
    {
      "cell_type": "code",
      "metadata": {
        "id": "lZ0Fei9MKkBt",
        "colab_type": "code",
        "colab": {},
        "outputId": "51c374c9-bd31-4b23-8cdb-930b69e4cc4c"
      },
      "source": [
        "import numpy as np\n",
        "\n",
        "print(\"Arreglo de 2-dimensiones: 3 filas y 4 columnas \")\n",
        "A2D = np.arange(3*4).reshape(3,4)\n",
        "print(\"\\nA2D = \\n\", A2D)\n",
        "print(\"\\ndim/A2D.shape = \", A2D.shape)\n",
        "\n",
        "B2D = np.arange(0,12).reshape(3,4)\n",
        "print(\"B2D = \\n\", B2D)\n",
        "print(\"\\ndim/A3D.shape = \", B2D.shape)\n",
        "\n",
        "print(\"\\n Producto aritmético de A2D y B2D\")\n",
        "M2D = A2D*B2D#np.dot(A2D, B2D)\n",
        "print(M2D)"
      ],
      "execution_count": 0,
      "outputs": [
        {
          "output_type": "stream",
          "text": [
            "Arreglo de 2-dimensiones: 3 filas y 4 columnas \n",
            "\n",
            "A2D = \n",
            " [[ 0  1  2  3]\n",
            " [ 4  5  6  7]\n",
            " [ 8  9 10 11]]\n",
            "\n",
            "dim/A2D.shape =  (3, 4)\n",
            "B2D = \n",
            " [[ 0  1  2  3]\n",
            " [ 4  5  6  7]\n",
            " [ 8  9 10 11]]\n",
            "\n",
            "dim/A3D.shape =  (3, 4)\n",
            "\n",
            " Producto aritmético de A2D y B2D\n",
            "[[  0   1   4   9]\n",
            " [ 16  25  36  49]\n",
            " [ 64  81 100 121]]\n"
          ],
          "name": "stdout"
        }
      ]
    },
    {
      "cell_type": "markdown",
      "metadata": {
        "id": "hgSTQAOTKkBy",
        "colab_type": "text"
      },
      "source": [
        "#### Producto escalar de arreglos de n-dimensiones\n",
        "El producto esccalar de los arreglos $\\mathbf{A}_{m \\times n}$ y $\\mathbf{B}_{n \\times p}$ dará como resultado un nuevo arreglo $\\mathbf{C}_{m \\times p}$, siguiendo la definición del producto de matrices en matemáticas. \n",
        "\n",
        "## $$\\mathbf{A}_{m \\times n} + \\mathbf{B}_{n \\times p} = \\mathbf{C}_{m\\times p}$$\n",
        "Donde el número de columnas de $\\mathbf{A}$ debe ser igual al número de filas de $\\mathbf{B}$."
      ]
    },
    {
      "cell_type": "code",
      "metadata": {
        "id": "pIgo5s7GKkBz",
        "colab_type": "code",
        "colab": {},
        "outputId": "07cc1bf8-169a-4549-f7ba-6901ff061776"
      },
      "source": [
        "import numpy as np\n",
        "\n",
        "print(\"Arreglo de 2-dimensiones: 3 filas y 4 columnas \")\n",
        "A2D = np.arange(3*4).reshape(3,4)\n",
        "print(\"\\nA2D = \\n\", A2D)\n",
        "print(\"\\ndim/A2D.shape = \", A2D.shape)\n",
        "\n",
        "B2D = np.arange(0,12).reshape(4,3)\n",
        "print(\"B2D = \\n\", B2D)\n",
        "print(\"\\ndim/B2D.shape = \", B2D.shape)\n",
        "\n",
        "\n",
        "print(\"\\nProducto escalar: \\nC2D = np.dot(A2D,2D)\")\n",
        "C2D = np.dot(A2D, B2D)\n",
        "print(C2D)\n",
        "print(\"\\ndim/C2D.shape = \", C2D.shape)"
      ],
      "execution_count": 0,
      "outputs": [
        {
          "output_type": "stream",
          "text": [
            "Arreglo de 2-dimensiones: 3 filas y 4 columnas \n",
            "\n",
            "A2D = \n",
            " [[ 0  1  2  3]\n",
            " [ 4  5  6  7]\n",
            " [ 8  9 10 11]]\n",
            "\n",
            "dim/A2D.shape =  (3, 4)\n",
            "B2D = \n",
            " [[ 0  1  2]\n",
            " [ 3  4  5]\n",
            " [ 6  7  8]\n",
            " [ 9 10 11]]\n",
            "\n",
            "dim/B2D.shape =  (4, 3)\n",
            "\n",
            "Producto escalar: \n",
            "C2D = np.dot(A2D,2D)\n",
            "[[ 42  48  54]\n",
            " [114 136 158]\n",
            " [186 224 262]]\n",
            "\n",
            "dim/C2D.shape =  (3, 3)\n"
          ],
          "name": "stdout"
        }
      ]
    },
    {
      "cell_type": "markdown",
      "metadata": {
        "id": "OeBPVaEWKkB5",
        "colab_type": "text"
      },
      "source": [
        "## 9.4. Indexación de arreglos\n",
        "Una de las bondades que presentan los arreglos de **numpy** es, la posibilidad de acceder y asignar cada elemento de un arreglo de la misma forma que las listas de Python. En la siguiente figura se presenta las diferentes formas para acceder a uno ó más elementos de un arreglo.\n",
        "\n",
        "<img src=\"https://raw.githubusercontent.com/ryali93/UNMSM_programacion2019-1/master/jupyter/img/numpy_indexing.png\" height=\"400\" width=\"400\">"
      ]
    },
    {
      "cell_type": "code",
      "metadata": {
        "id": "PN8uxOYDKkB6",
        "colab_type": "code",
        "colab": {},
        "outputId": "9797f5ce-adbc-4d74-c8dd-1b01a74a761c"
      },
      "source": [
        "import numpy as np # Importar paquete numpy como np\n",
        "f1 = list(range(0,6)); f2 = np.arange(10,16); f3 = np.arange(20,26);f4 = np.arange(30,36); f5 = np.arange(40,46); f6 = np.arange(50,56)\n",
        "a = np.array([f1,f2,f3,f4,f5,f6])\n",
        "         \n",
        "print(\"a =\\n \", a)\n",
        "print(\"\\ndim(a) = \", a.shape)\n",
        "print(\"ndim(a) = \", a.ndim)\n",
        "print(\"\\na[0,3:5] = \", a[0,3:5])\n",
        "print(\"\\na[4:,4:] = \\n\", a[4:,4:])\n",
        "print(\"\\na[:,2] = \", a[:,2])\n",
        "print(\"\\na[2::2,::2] = \\n\", a[2::2,::2])"
      ],
      "execution_count": 0,
      "outputs": [
        {
          "output_type": "stream",
          "text": [
            "a =\n",
            "  [[ 0  1  2  3  4  5]\n",
            " [10 11 12 13 14 15]\n",
            " [20 21 22 23 24 25]\n",
            " [30 31 32 33 34 35]\n",
            " [40 41 42 43 44 45]\n",
            " [50 51 52 53 54 55]]\n",
            "\n",
            "dim(a) =  (6, 6)\n",
            "ndim(a) =  2\n",
            "\n",
            "a[0,3:5] =  [3 4]\n",
            "\n",
            "a[4:,4:] = \n",
            " [[44 45]\n",
            " [54 55]]\n",
            "\n",
            "a[:,2] =  [ 2 12 22 32 42 52]\n",
            "\n",
            "a[2::2,::2] = \n",
            " [[20 22 24]\n",
            " [40 42 44]]\n"
          ],
          "name": "stdout"
        }
      ]
    },
    {
      "cell_type": "markdown",
      "metadata": {
        "id": "fY3UU_5oKkB-",
        "colab_type": "text"
      },
      "source": [
        "#### Indexación usando control de flujos y condicionales"
      ]
    },
    {
      "cell_type": "code",
      "metadata": {
        "id": "BQDaNFY8KkB_",
        "colab_type": "code",
        "colab": {},
        "outputId": "3e49dcf8-d2f7-4f3f-cb0e-cbee56ecd92b"
      },
      "source": [
        "import numpy as np # Importar paquete numpy como np\n",
        "f1 = list(range(0,6)); f2 = np.arange(10,16); f3 = np.arange(20,26)\n",
        "f4 = np.arange(30,36); f5 = np.arange(40,46); f6 = np.arange(50,56)\n",
        "a = np.array([f1,f2,f3,f4,f5,f6])\n",
        "print(a)\n",
        "\n",
        "nrows, ncols = a.shape\n",
        "\n",
        "for irow in range(nrows):\n",
        "    for icol in range(ncols):\n",
        "        if a[irow,icol]%3==0:\n",
        "            a[irow,icol]=999\n",
        "        else:pass\n",
        "\n",
        "print(\"\\n\",a)\n",
        "            \n"
      ],
      "execution_count": 0,
      "outputs": [
        {
          "output_type": "stream",
          "text": [
            "[[ 0  1  2  3  4  5]\n",
            " [10 11 12 13 14 15]\n",
            " [20 21 22 23 24 25]\n",
            " [30 31 32 33 34 35]\n",
            " [40 41 42 43 44 45]\n",
            " [50 51 52 53 54 55]]\n",
            "\n",
            " [[999   1   2 999   4   5]\n",
            " [ 10  11 999  13  14 999]\n",
            " [ 20 999  22  23 999  25]\n",
            " [999  31  32 999  34  35]\n",
            " [ 40  41 999  43  44 999]\n",
            " [ 50 999  52  53 999  55]]\n"
          ],
          "name": "stdout"
        }
      ]
    },
    {
      "cell_type": "markdown",
      "metadata": {
        "id": "Gd-9yheKKkCD",
        "colab_type": "text"
      },
      "source": [
        "## 9.5. Manipulación de formas\n",
        "**Numpy** posee el método **numpy.ravels** que permite convertir un arreglo 2D en un arreglo de 1D con la finalidad de modificar la forma del arreglo. En ocasiones este proceso es conveniente para realizar el procesamiento de los datos de manera más eficiente."
      ]
    },
    {
      "cell_type": "code",
      "metadata": {
        "id": "K38R2nuzKkCE",
        "colab_type": "code",
        "colab": {},
        "outputId": "0bc472c6-f6e6-44e8-ea6f-2b79945bcd93"
      },
      "source": [
        "### import numpy as np # Importar paquete numpy como np\n",
        "f1 = list(range(0,6)); f2 = np.arange(10,16); f3 = np.arange(20,26)\n",
        "f4 = np.arange(30,36); f5 = np.arange(40,46); f6 = np.arange(50,56)\n",
        "a = np.array([f1,f2,f3,f4,f5,f6])\n",
        "             \n",
        "print(\"a =\\n \", a)\n",
        "print(\"dim/a = \", a.shape)\n",
        "\n",
        "a = a.ravel()\n",
        "print(\"a =\\n \", a)\n",
        "print(\"dim/a = \", a.shape)\n",
        "\n",
        "for i in range(len(a)):\n",
        "     if a[i]%3==0:\n",
        "            a[i]=999\n",
        "\n",
        "a=a.reshape(4,9)\n",
        "print(\"a =\\n \", a)\n",
        "print(\"dim/a = \", a.shape)\n",
        "            \n"
      ],
      "execution_count": 0,
      "outputs": [
        {
          "output_type": "stream",
          "text": [
            "a =\n",
            "  [[ 0  1  2  3  4  5]\n",
            " [10 11 12 13 14 15]\n",
            " [20 21 22 23 24 25]\n",
            " [30 31 32 33 34 35]\n",
            " [40 41 42 43 44 45]\n",
            " [50 51 52 53 54 55]]\n",
            "dim/a =  (6, 6)\n",
            "a =\n",
            "  [ 0  1  2  3  4  5 10 11 12 13 14 15 20 21 22 23 24 25 30 31 32 33 34 35\n",
            " 40 41 42 43 44 45 50 51 52 53 54 55]\n",
            "dim/a =  (36,)\n",
            "a =\n",
            "  [[999   1   2 999   4   5  10  11 999]\n",
            " [ 13  14 999  20 999  22  23 999  25]\n",
            " [999  31  32 999  34  35  40  41 999]\n",
            " [ 43  44 999  50 999  52  53 999  55]]\n",
            "dim/a =  (4, 9)\n"
          ],
          "name": "stdout"
        }
      ]
    },
    {
      "cell_type": "markdown",
      "metadata": {
        "id": "bWWkFjB7KkCK",
        "colab_type": "text"
      },
      "source": [
        "## 9.6. Apilación de matrices\n",
        "\n",
        "**Numpy** posee el módulo **numpy.concatenate** que permite concatenar arreglos/matrices a través de los ejes de las filas **(axis=0)** y columnas **(axis=1)** como se ilustra en la siguiente figura.\n",
        "<img src=\"https://raw.githubusercontent.com/ryali93/UNMSM_programacion2019-1/master/jupyter/img/axis_array.png\" height=\"150\" width=\"150\">"
      ]
    },
    {
      "cell_type": "code",
      "metadata": {
        "id": "v_1MOutmKkCL",
        "colab_type": "code",
        "colab": {},
        "outputId": "856e14f4-016b-45d4-c7cc-45f5b964419b"
      },
      "source": [
        "import numpy as np # Importar paquete numpy como np\n",
        "f1 = list(range(0,6)); f2 = np.arange(10,16); f3 = np.arange(20,26)\n",
        "f4 = np.arange(30,36); f5 = np.arange(40,46); f6 = np.arange(50,56)\n",
        "\n",
        "a =np.array([f1,f2])\n",
        "print(\"a = \\n\",a)\n",
        "print(type(a))\n",
        "\n",
        "b =np.array([f3,f4])\n",
        "print(\"b = \\n\",b)\n",
        "print(type(b))\n",
        "\n",
        "print(\"\\napilando en el axis=0\")\n",
        "cc_axis0 = np.concatenate((a,b), axis=0)\n",
        "print(\"cc_axis0 = \\n\",cc_axis0)\n",
        "print(type(cc_axis0))\n",
        "\n",
        "print(\"\\napilando en el axis=1\")\n",
        "cc_axis1 = np.concatenate((a,b), axis=1)\n",
        "print(\"\\ncc_axis1 = \\n\",cc_axis1)\n",
        "print(type(cc_axis1))"
      ],
      "execution_count": 0,
      "outputs": [
        {
          "output_type": "stream",
          "text": [
            "a = \n",
            " [[ 0  1  2  3  4  5]\n",
            " [10 11 12 13 14 15]]\n",
            "<class 'numpy.ndarray'>\n",
            "b = \n",
            " [[20 21 22 23 24 25]\n",
            " [30 31 32 33 34 35]]\n",
            "<class 'numpy.ndarray'>\n",
            "\n",
            "apilando en el axis=0\n",
            "cc_axis0 = \n",
            " [[ 0  1  2  3  4  5]\n",
            " [10 11 12 13 14 15]\n",
            " [20 21 22 23 24 25]\n",
            " [30 31 32 33 34 35]]\n",
            "<class 'numpy.ndarray'>\n",
            "\n",
            "apilando en el axis=1\n",
            "\n",
            "cc_axis1 = \n",
            " [[ 0  1  2  3  4  5 20 21 22 23 24 25]\n",
            " [10 11 12 13 14 15 30 31 32 33 34 35]]\n",
            "<class 'numpy.ndarray'>\n"
          ],
          "name": "stdout"
        }
      ]
    },
    {
      "cell_type": "markdown",
      "metadata": {
        "id": "my_NyjxNKkCS",
        "colab_type": "text"
      },
      "source": [
        "## 9.7. Introducción al algebra lineal\n",
        "\n",
        "El **algebra lineal** es un de las herramientas matemáticas más utilizadas para el procesamiento y análisis de datos (machine learning, data mining y redes neuronales).\n",
        "\n",
        "Debido al avance de la tecnología, la capacidad y la velocidad con la que se genera datos en diversas actividades y campos, el algebra lineal es utilizada en diferentes ramas de la ciencia (investigación, ingeniería, y finanzas).\n",
        "En Python dentro del Paquete **numpy** se encuentra el módulo **numpy.linalg** el cual permite trabajar con sistemas de ecuaciones lineales, matrices y vectores."
      ]
    },
    {
      "cell_type": "markdown",
      "metadata": {
        "id": "b5aPy7qoKkCT",
        "colab_type": "text"
      },
      "source": [
        "### 9.7.1 Matrices\n",
        "\n",
        "**Transpuesta de una matriz**\n",
        "\n",
        "Sea $\\mathbf{A}$ una matriz con **m** filas y **n** columnas. La matriz transpuesta, denotada matemáticamente con $\\mathbf{A}^{t}$, está dada por:\n",
        "\n",
        "## $\\mathbf{A}_{ji}^{t} = \\mathbf{A}_{ij}$\n",
        "\n",
        "En donde el elemento ${a}_{ij}$ de la matriz original $\\mathbf{A}$ se convertirá en el elemento ${a}_{ji}$ de la matriz transpuesta $\\mathbf{A}^{t}$."
      ]
    },
    {
      "cell_type": "code",
      "metadata": {
        "id": "1YpUo4CLKkCV",
        "colab_type": "code",
        "colab": {},
        "outputId": "ea4a4ba8-ff21-4198-f3ea-b912c22290b6"
      },
      "source": [
        "import numpy as np\n",
        "\n",
        "A = np.arange(30).reshape(5,6)\n",
        "     \n",
        "def print_r(matriz):\n",
        "    for fila in matriz:\n",
        "        print(fila)\n",
        "    \n",
        "def transpuesta1(matriz):    \n",
        "    nrows, ncols = np.shape(matriz)\n",
        "    return [[matriz[j][i] for j in np.arange(nrows)] for i in np.arange(ncols)]     \n",
        "\n",
        "def transpuesta2(matriz):    \n",
        "    nrows, ncols = np.shape(matriz)\n",
        "    matrizT = np.zeros((ncols, nrows))\n",
        "    for i in range(4):\n",
        "        for j in range(3):\n",
        "            matrizT[j][i] = matriz[i][j]\n",
        "    return matrizT\n",
        "\n",
        "print(\"Original(A)\")\n",
        "print_r(A)\n",
        "print(\"\\nTRANSPUESTA(A)\")\n",
        "print_r(transpuesta1(A))\n",
        "print(type(transpuesta1(A)))\n",
        "\n",
        "print(\"\\nTRANSPUESTA(A) usando numpy\")\n",
        "#print_r(A.transpose())\n",
        "print_r(A.T)\n",
        "print(type(A.transpose()))"
      ],
      "execution_count": 0,
      "outputs": [
        {
          "output_type": "stream",
          "text": [
            "Original(A)\n",
            "[0 1 2 3 4 5]\n",
            "[ 6  7  8  9 10 11]\n",
            "[12 13 14 15 16 17]\n",
            "[18 19 20 21 22 23]\n",
            "[24 25 26 27 28 29]\n",
            "\n",
            "TRANSPUESTA(A)\n",
            "[0, 6, 12, 18, 24]\n",
            "[1, 7, 13, 19, 25]\n",
            "[2, 8, 14, 20, 26]\n",
            "[3, 9, 15, 21, 27]\n",
            "[4, 10, 16, 22, 28]\n",
            "[5, 11, 17, 23, 29]\n",
            "<class 'list'>\n",
            "\n",
            "TRANSPUESTA(A) usando numpy\n",
            "[ 0  6 12 18 24]\n",
            "[ 1  7 13 19 25]\n",
            "[ 2  8 14 20 26]\n",
            "[ 3  9 15 21 27]\n",
            "[ 4 10 16 22 28]\n",
            "[ 5 11 17 23 29]\n",
            "<class 'numpy.ndarray'>\n"
          ],
          "name": "stdout"
        }
      ]
    },
    {
      "cell_type": "markdown",
      "metadata": {
        "id": "JXpUrWleKkCe",
        "colab_type": "text"
      },
      "source": [
        "### 9.7.2. Vectores en el espacio 2D y 3D\n",
        "Sean $\\mathbf{a}$ y $\\mathbf{b}$ dos vectores de un mismo plano como se muestra en la siguiente figura.\n",
        "\n",
        "<img src=\"https://raw.githubusercontent.com/ryali93/UNMSM_programacion2019-1/master/jupyter/img/ab.png\" height=\"150\" width=\"150\">\n",
        "\n",
        "Donde:\n",
        "$\\mathbf{a} = (a_{1}, a_{2}, a_{3})$ y $\\mathbf{b} = (b_{1}, b_{2}, b_{3})$\n",
        "\n",
        "**Producto escalar**\n",
        "\n",
        "$\\mathbf{a}.\\mathbf{b} = numpy.dot(a,b) = a_{1}b_{1} + a_{2}b_{2} + a_{3}b_{3}$\n",
        "\n",
        "** Producto vectorial**\n",
        "\n",
        "$\\mathbf{a} \\times \\mathbf{b} = numpy.cross(a,b) $"
      ]
    },
    {
      "cell_type": "code",
      "metadata": {
        "id": "qT8IoyHiKkCg",
        "colab_type": "code",
        "colab": {},
        "outputId": "9a2808b6-14d0-475d-aae3-5abda49746a6"
      },
      "source": [
        "import numpy as np\n",
        "\n",
        "a = np.array([3,4,0])\n",
        "b = np.array([3,5,0])\n",
        "\n",
        "# producto escalar \n",
        "ab = np.dot(a,b)\n",
        "print(\"a.b = \", ab)\n",
        "\n",
        "# producto vectorial \n",
        "axb = np.cross(a,b)\n",
        "print(\"a x b = \", axb)"
      ],
      "execution_count": 0,
      "outputs": [
        {
          "output_type": "stream",
          "text": [
            "a.b =  29\n",
            "a x b =  [0 0 3]\n"
          ],
          "name": "stdout"
        }
      ]
    },
    {
      "cell_type": "markdown",
      "metadata": {
        "id": "i-VjUf7TKkCl",
        "colab_type": "text"
      },
      "source": [
        "### 9.7.3. Sistema de ecuaciones lineales\n",
        "\n",
        "Sea el sistema de ecuaciones lineales:\n",
        "\n",
        "### $$\\mathbf{x} + \\mathbf{y} + \\mathbf{z} = -1$$\n",
        "### $$\\mathbf{x} + 2\\mathbf{y} + 2\\mathbf{z} = 0$$\n",
        "### $$2\\mathbf{x} + \\mathbf{y} - \\mathbf{z} = 1$$\n",
        "\n",
        "\n",
        "Donde la representación matricial está dado por:\n",
        "\n",
        "$$\n",
        "\\left[ \\begin{array}{ccc}\n",
        "  1 & 1 & 1\\\\\n",
        "  1 & 2 & 2\\\\\n",
        "  2 & 1 &-1 \\\\\n",
        "  \\end{array}\\right] \\left[ \\begin{array}{ccc}\n",
        "  x \\\\\n",
        "  y \\\\\n",
        "  z \\\\\n",
        "  \\end{array}\\right]  = \\left[ \\begin{array}{ccc}\n",
        "  -1 \\\\\n",
        "  0 \\\\\n",
        "  1 \\\\\n",
        "  \\end{array}\\right] \n",
        "$$\n",
        "\n",
        "Por lo tanto la forma matricial del sistema de ecuaciones lineales presenta la siguiente forma:\n",
        "\n",
        "## $\\mathbf{a}\\mathbf{x} = \\mathbf{b} \\hspace{3cm} (\\alpha)$\n",
        "Si el $det(\\mathbf{a})\\not=0$ entonces la matriz **a** tiene inversa y es $\\mathbf{a}^{-1}$. y se cumple la siguiente:\n",
        "\n",
        "## $\\mathbf{a}\\mathbf{a}^{-1} = I$\n",
        "\n",
        "Luego si multiplicamos ambos miembros de la ecuación $(\\alpha)$ por $\\mathbf{a}^{-1}$, tendremos lo siguiente:\n",
        "\n",
        "## $\\mathbf{a} \\mathbf{a}^{-1}\\mathbf{x} = \\mathbf{a}^{-1}\\mathbf{b}$\n",
        "\n",
        "## $\\mathbf{I}\\mathbf{x} = \\mathbf{a}^{-1}\\mathbf{b}$\n",
        "\n",
        "## $\\mathbf{x} = \\mathbf{a}^{-1}\\mathbf{b} \\hspace{3cm}(\\beta)$ \n",
        "\n",
        "Por lo tanto, la ecuación $(\\mathbf{\\beta})$ también porporciona las soluciones de un sistema de ecuaciones lineales.\n"
      ]
    },
    {
      "cell_type": "code",
      "metadata": {
        "id": "3QAn7LuIKkCn",
        "colab_type": "code",
        "colab": {},
        "outputId": "a2f82b3b-ed19-4393-a45f-f0fa59d9b46f"
      },
      "source": [
        "import numpy as np\n",
        "\"\"\"\n",
        "El sistema de ecuaciones lineales tiene solución si se cumple:\n",
        "    det(a) != 0\n",
        "Caso contrario el sistema de ecuaciones no tiene solución.\n",
        "\"\"\"\n",
        "\n",
        "a = np.array([[1,1,-1], [1,2,2], [2,1,-1]])\n",
        "b = np.array([-1, 0, 1])\n",
        "\n",
        "# determinante de (a)\n",
        "print(\"determinante de (a):\")\n",
        "det_a = np.linalg.det(a)\n",
        "print(\"det_a = \", det_a)\n",
        "\n",
        "# Determinar las soluciones del sistema lineal de ecuaciones\n",
        "x = np.linalg.solve(a,b)\n",
        "print(\"\\nLas soluciones son:\\n[x0, y0, z0]\\n\", x)\n",
        "\n",
        "#Segunda forma\n",
        "inv_a = np.linalg.inv(a)\n",
        "print(a)\n",
        "print(\"\\n\",inv_a)\n",
        "\n",
        "xx = np.dot(inv_a,b)\n",
        "print(xx)"
      ],
      "execution_count": 0,
      "outputs": [
        {
          "output_type": "stream",
          "text": [
            "determinante de (a):\n",
            "det_a =  3.999999999999999\n",
            "\n",
            "Las soluciones son:\n",
            "[x0, y0, z0]\n",
            " [ 2. -2.  1.]\n",
            "[[ 1  1 -1]\n",
            " [ 1  2  2]\n",
            " [ 2  1 -1]]\n",
            "\n",
            " [[-1.    0.    1.  ]\n",
            " [ 1.25  0.25 -0.75]\n",
            " [-0.75  0.25  0.25]]\n",
            "[ 2. -2.  1.]\n"
          ],
          "name": "stdout"
        }
      ]
    },
    {
      "cell_type": "code",
      "metadata": {
        "id": "RVc_m-qNKkCr",
        "colab_type": "code",
        "colab": {},
        "outputId": "deb0effb-02a6-47a7-b99f-ccb03234dce7"
      },
      "source": [
        "import numpy as np\n",
        "\n",
        "x = np.array([1, 2, 3,4])\n",
        "y = np.array([4, 5, 6])\n",
        "\n",
        "print(\"\\nx = \", x)\n",
        "print(\"y = \", y)"
      ],
      "execution_count": 0,
      "outputs": [
        {
          "output_type": "stream",
          "text": [
            "\n",
            "x =  [1 2 3 4]\n",
            "y =  [4 5 6]\n"
          ],
          "name": "stdout"
        }
      ]
    },
    {
      "cell_type": "code",
      "metadata": {
        "id": "l3gvbc0MKkCw",
        "colab_type": "code",
        "colab": {}
      },
      "source": [
        ""
      ],
      "execution_count": 0,
      "outputs": []
    }
  ]
}