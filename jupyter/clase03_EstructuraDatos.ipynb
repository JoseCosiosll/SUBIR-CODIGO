{
  "nbformat": 4,
  "nbformat_minor": 0,
  "metadata": {
    "colab": {
      "name": "clase03_EstructuraDatos.ipynb",
      "version": "0.3.2",
      "provenance": [],
      "collapsed_sections": [],
      "include_colab_link": true
    },
    "kernelspec": {
      "name": "python3",
      "display_name": "Python 3"
    }
  },
  "cells": [
    {
      "cell_type": "markdown",
      "metadata": {
        "id": "view-in-github",
        "colab_type": "text"
      },
      "source": [
        "<a href=\"https://colab.research.google.com/github/ryali93/UNMSM_programacion2019-1/blob/master/jupyter/clase03_EstructuraDatos.ipynb\" target=\"_parent\"><img src=\"https://colab.research.google.com/assets/colab-badge.svg\" alt=\"Open In Colab\"/></a>"
      ]
    },
    {
      "cell_type": "markdown",
      "metadata": {
        "id": "6vaDt7Z2b8nc",
        "colab_type": "text"
      },
      "source": [
        "# Clase 03\n",
        "# ESTRUCTURAS DE DATOS"
      ]
    },
    {
      "cell_type": "markdown",
      "metadata": {
        "id": "pueMRGcNCZbR",
        "colab_type": "text"
      },
      "source": [
        "## Tuplas\n",
        "\n",
        "Al igual que las cadenas de caracteres, las tuplas son una secuencia de elementos ordenados. La diferencia de una tupla radica en que sus elementos no son necesariamente caracteres. Los elementos individuales pueden ser de cualquier tipo (str, int, float). Además, las tuplas son objetos inmutables.\n",
        "\n"
      ]
    },
    {
      "cell_type": "code",
      "metadata": {
        "id": "fzShxU8wCcWb",
        "colab_type": "code",
        "colab": {}
      },
      "source": [
        "t1 = (1)\n",
        "print(\"t1 \\t= \",t1)\n",
        "\n",
        "t2 = (1, 'a', 34.55, 3 + 4j, 'Hello world!', t1)\n",
        "print(\"t2 \\t= \", t2)\n",
        "print(type(t1))\n",
        "print(type(t2), \"\\n\")\n",
        "\n",
        "t3= (\"two\",\"rain\")\n",
        "t = t2 + t3\n",
        "\n",
        "print(\"t \\t= \", t)\n",
        "print(\"t[3] \\t= \", t[3])\n",
        "print(\"t[2:5] \\t = \",t[2:5])\n",
        "\n",
        "print(\"---\"*20)\n",
        "print(\"len(t)\", len(t))"
      ],
      "execution_count": 0,
      "outputs": []
    },
    {
      "cell_type": "markdown",
      "metadata": {
        "id": "BPlU2pjQCe_1",
        "colab_type": "text"
      },
      "source": [
        "## Listas\n",
        "\n",
        "Al igual que una tupla, una lista es una secuencia de valores ordenados, donde cada valor es identificado por un índice. La sintaxis para expresar una lista es literalmente igual al de una tupla; la diferencia está en el uso de brackets **[ ]** en lugar de paréntesis y su mutabilidad."
      ]
    },
    {
      "cell_type": "code",
      "metadata": {
        "id": "vsrTEuQrClmu",
        "colab_type": "code",
        "colab": {}
      },
      "source": [
        "l1 = [\"wind\"]\n",
        "print(\"l1 \\t= \",l1)\n",
        "\n",
        "l2 = [1, 'a', 34.55, 3 + 4j, 'Hello world!', l1]\n",
        "print(\"l2 \\t= \", l2)\n",
        "l2[-1]=\"hola\"\n",
        "\n",
        "l3= [\"two\",\"rain\"]\n",
        "l = l2 + l3\n",
        "print(\"l \\t= \", l)\n",
        "\n",
        "print(\"l[3] \\t= \", l[3])\n",
        "print(\"l[3:5] \\t = \",l[3:5])\n",
        "\n",
        "print(\"---\"*20)\n",
        "print(\"len(l)\", len(l))"
      ],
      "execution_count": 0,
      "outputs": []
    },
    {
      "cell_type": "markdown",
      "metadata": {
        "id": "kyOrooHdCo4V",
        "colab_type": "text"
      },
      "source": [
        "### Mutabilidad de una lista\n",
        "\n",
        "### Algunos métodos de las listas\n",
        "\n",
        "\n",
        "*   **lista[i]:** Devuelve el elemento que está en la posición i de la lista.\n",
        "* **lista.pop(i):** Devuelve el elemento en la posición i de una lista y luego lo borra.\n",
        "* **lista.append(elemento):** Añade elemento al final de la lista.\n",
        "* **lista.insert(i, elemento)**: Inserta elemento en la posición i.\n",
        "* **lista.extend(lista2)**: Fusiona lista con lista2.\n",
        "* **lista.remove(elemento)**: Elimina la primera vez que aparece elemento.\n",
        "* **lista.count(e)**: Devuelve el número de veces que se repite (e) dentro de lista\n",
        "* **lista.sort()**: Ordena los elementos de la lista en orden ascendente\n",
        "* **lista.reverse()**: Invierte el orden de los elementos de la lista"
      ]
    },
    {
      "cell_type": "code",
      "metadata": {
        "id": "MBGSLOsmDAbf",
        "colab_type": "code",
        "colab": {}
      },
      "source": [
        "l1 = [\"wind\"]\n",
        "print(\"l1 \\t= \",l1)\n",
        "\n",
        "l2 = [1, 'a', 34.55, 3 + 4j, 'Hello world!', l1]\n",
        "print(\"l2 \\t= \", l2)\n",
        "\n",
        "print(\"\\nEjemplos de mutabilidad\\n\")\n",
        "l2[0]=100\n",
        "l2[-1].append(\"sst\")\n",
        "print(\"l2 \\t= \", l2)\n",
        "\n",
        "# Reemplazar el elemento \"sst\" por \"prc\"\n",
        "l2[-1][1]=\"prc\"\n",
        "print(\"l2 \\t= \", l2)"
      ],
      "execution_count": 0,
      "outputs": []
    },
    {
      "cell_type": "markdown",
      "metadata": {
        "id": "WR-M2sMUDEth",
        "colab_type": "text"
      },
      "source": [
        "### Convertir una cadena de caracteres en una lista"
      ]
    },
    {
      "cell_type": "code",
      "metadata": {
        "id": "8xlodDi2DJaR",
        "colab_type": "code",
        "colab": {}
      },
      "source": [
        "\n",
        "cadena1 = \"océano \"\n",
        "cadena2 = \"atmósfera\"\n",
        "\n",
        "cadena = \"Interacción \" + cadena1 + cadena2\n",
        "print(cadena)\n",
        "\n",
        "lista1 = cadena.split(\" \")\n",
        "print(lista1)\n",
        "\n",
        "lista2 = cadena.split(\"o\")\n",
        "print(lista2)"
      ],
      "execution_count": 0,
      "outputs": []
    },
    {
      "cell_type": "code",
      "metadata": {
        "id": "COnof2mjDKg6",
        "colab_type": "code",
        "colab": {}
      },
      "source": [
        "\n",
        "elem1, elem2, elem3 = lista1\n",
        "print(elem1)\n",
        "print(elem2)\n",
        "print(elem3)"
      ],
      "execution_count": 0,
      "outputs": []
    },
    {
      "cell_type": "markdown",
      "metadata": {
        "id": "fo1BqPhBDMrn",
        "colab_type": "text"
      },
      "source": [
        "## Diccionarios\n",
        "\n",
        "\n",
        "De la misma forma como sucede con un diccionario convencional, un diccionario en Python es un objeto que tiene asociado algo.\n",
        "\n",
        "Se crean poniendo sus elementos entre llaves:\n",
        "\n",
        "**dic = {\"key\":\"value\", ...}**\n",
        "**Donde:**\n",
        "**\"key\" : son numeros enteros o cadenas de caracteres.**\n",
        "**\"value\": numeros enteros, cadenas de caracteres, tuplas, listas, arrays.**"
      ]
    },
    {
      "cell_type": "code",
      "metadata": {
        "id": "miUqqmDKDUQQ",
        "colab_type": "code",
        "colab": {}
      },
      "source": [
        "lima = {\"region\":\"costa\",\"superficie\":\"2672km2\",\"altura\": 154, \"lat\": -12, \"lon\":-77}\n",
        "print(lima)\n",
        "print(type(lima))\n",
        "#print(\"\\n\\n\")"
      ],
      "execution_count": 0,
      "outputs": []
    },
    {
      "cell_type": "markdown",
      "metadata": {
        "id": "lpOTRZYhDWSs",
        "colab_type": "text"
      },
      "source": [
        "### Agregar elementos en diccionarios"
      ]
    },
    {
      "cell_type": "code",
      "metadata": {
        "id": "-mMBSZxnDYVL",
        "colab_type": "code",
        "colab": {}
      },
      "source": [
        "print(lima)"
      ],
      "execution_count": 0,
      "outputs": []
    },
    {
      "cell_type": "code",
      "metadata": {
        "id": "ghkTa7pFDZQ0",
        "colab_type": "code",
        "colab": {}
      },
      "source": [
        "lima[\"idioma\"]= \"español\"\n",
        "lima[\"fundacion\"]=\"18 de enero de 1535\"\n",
        "lima[\"poblacion\"]= [8574974,\"3878928 mujeres\", \"3726814 hombres\"]\n",
        "\n",
        "print(lima)"
      ],
      "execution_count": 0,
      "outputs": []
    },
    {
      "cell_type": "markdown",
      "metadata": {
        "id": "BgJzsrf9Db9r",
        "colab_type": "text"
      },
      "source": [
        "### Estructura de un diccionario"
      ]
    },
    {
      "cell_type": "code",
      "metadata": {
        "id": "7LhYcuZpDdL9",
        "colab_type": "code",
        "colab": {}
      },
      "source": [
        "keys  = lima.keys()\n",
        "values= lima.values()\n",
        "items = list(lima.items())\n",
        "print(keys)\n",
        "print(\"\\n\")\n",
        "print(values)\n",
        "print(\"\\n\")\n",
        "print(items)\n",
        "print(type(items))\n",
        "print(items[0])"
      ],
      "execution_count": 0,
      "outputs": []
    },
    {
      "cell_type": "markdown",
      "metadata": {
        "id": "rcTj8M-HDfXa",
        "colab_type": "text"
      },
      "source": [
        "### Operaciones con diccionarios\n",
        "\n",
        "* **diccionario.get('key')**: Devuelve el valor que corresponde con la key introducida.\n",
        "* **diccionario.pop('key')**: Devuelve el valor que corresponde con la key introducida, y luego borra la key y el valor.\n",
        "* **diccionario.update({'key'**:'valor'})**: Inserta una determinada key o actualiza su valor si ya existiera.\n",
        "* **\"key\" in diccionario**: Devuelve verdadero (True) o falso (False) si la key (no los valores) existe en el diccionario.\n",
        "* **\"definicion\" in diccionario.values()**: Devuelve verdadero (True) o falso (False) si definición existe en el diccionario (no como key)."
      ]
    },
    {
      "cell_type": "code",
      "metadata": {
        "id": "0uFrgYFhD19h",
        "colab_type": "code",
        "colab": {}
      },
      "source": [
        "dic=lima\n",
        "print(dic)\n",
        "idioma = dic.get(\"idioma\")\n",
        "print(\"\\nidioma de lima -> \",idioma)"
      ],
      "execution_count": 0,
      "outputs": []
    },
    {
      "cell_type": "code",
      "metadata": {
        "id": "oS0TfcoMD3Hs",
        "colab_type": "code",
        "colab": {}
      },
      "source": [
        "dic=lima\n",
        "print(dic)\n",
        "idioma = dic.pop(\"idioma\")\n",
        "print(\"\\nidioma de lima -> \",idioma)\n",
        "print(dic)"
      ],
      "execution_count": 0,
      "outputs": []
    },
    {
      "cell_type": "markdown",
      "metadata": {
        "id": "YntQzr-iM_Ed",
        "colab_type": "text"
      },
      "source": [
        "## Índices de listas"
      ]
    },
    {
      "cell_type": "markdown",
      "metadata": {
        "id": "C1vRFGzaJZxm",
        "colab_type": "text"
      },
      "source": [
        "Anteriormente, hemos visto algunos datos relacionados con una de varias estaciones hidrométricas del SENAMHI en el área de Chosica. En lugar de tener variables individuales para cada una de esas estaciones, podemos almacenar muchos valores relacionados en una colección . El tipo de colección más simple en Python es una **lista**."
      ]
    },
    {
      "cell_type": "markdown",
      "metadata": {
        "id": "99oqBl4xOOuV",
        "colab_type": "text"
      },
      "source": [
        "### Creando una lista "
      ]
    },
    {
      "cell_type": "markdown",
      "metadata": {
        "id": "YKCodQUrOruY",
        "colab_type": "text"
      },
      "source": [
        "Creamos una lista de varias estaciones."
      ]
    },
    {
      "cell_type": "code",
      "metadata": {
        "id": "aNTePMAKOuvn",
        "colab_type": "code",
        "colab": {}
      },
      "source": [
        "nombresEstaciones = ['Chosica', 'San Mateo', 'Rio Blanco', 'Puente Los Angeles']"
      ],
      "execution_count": 0,
      "outputs": []
    },
    {
      "cell_type": "code",
      "metadata": {
        "id": "KnuiXEoANqsa",
        "colab_type": "code",
        "colab": {}
      },
      "source": [
        "print(stationNames)"
      ],
      "execution_count": 0,
      "outputs": []
    },
    {
      "cell_type": "code",
      "metadata": {
        "id": "qSbVuVHcOyft",
        "colab_type": "code",
        "colab": {}
      },
      "source": [
        "type(stationNames)"
      ],
      "execution_count": 0,
      "outputs": []
    },
    {
      "cell_type": "markdown",
      "metadata": {
        "id": "D7IZ4IF5QiLl",
        "colab_type": "text"
      },
      "source": [
        "Aquí tenemos una lista de 4 nombres de estaciones en una lista llamada **nombresEstaciones**. Como puede ver, la función **type()**  reconoce esto como una lista. Las listas se pueden crear utilizando los corchetes ( [  ] ), con comas que separan los valores de la lista.\n"
      ]
    },
    {
      "cell_type": "markdown",
      "metadata": {
        "id": "h-5BKRHWQ3Yt",
        "colab_type": "text"
      },
      "source": [
        "### Índice de valores "
      ]
    },
    {
      "cell_type": "markdown",
      "metadata": {
        "id": "e5OZXczwQ5x0",
        "colab_type": "text"
      },
      "source": [
        "Para acceder a un valor individual en la lista necesitamos usar un valor de índice. Un valor de índice es un número que se refiere a una posición dada en la lista. Veamos el primer valor en nuestra lista como ejemplo:"
      ]
    },
    {
      "cell_type": "code",
      "metadata": {
        "id": "GwzgGy8rRVs1",
        "colab_type": "code",
        "colab": {}
      },
      "source": [
        "print(nombresEstaciones[1])"
      ],
      "execution_count": 0,
      "outputs": []
    },
    {
      "cell_type": "markdown",
      "metadata": {
        "id": "-LPvaBCsRd5M",
        "colab_type": "text"
      },
      "source": [
        "¿Espera, qué? Este es el segundo valor en la lista que hemos creado, ¿qué está mal? \n",
        "Resulta que Python (y muchos otros lenguajes de programación) inician los valores almacenados en colecciones con el valor de **índice 0**. \n",
        "Por lo tanto, para obtener el valor del primer elemento de la lista, debemos usar el índice 0."
      ]
    },
    {
      "cell_type": "code",
      "metadata": {
        "id": "hXr7_zlHQzJb",
        "colab_type": "code",
        "colab": {}
      },
      "source": [
        "print(nombresEstaciones[0])"
      ],
      "execution_count": 0,
      "outputs": []
    },
    {
      "cell_type": "markdown",
      "metadata": {
        "id": "pVb7cC9nN1J8",
        "colab_type": "text"
      },
      "source": [
        ""
      ]
    },
    {
      "cell_type": "markdown",
      "metadata": {
        "id": "3_0IxQwjNhP9",
        "colab_type": "text"
      },
      "source": [
        "**Estructura de una lista:**\n",
        "\n",
        "![Lista](https://cdncontribute.geeksforgeeks.org/wp-content/uploads/CommonArticleDesign1-min.png)\n",
        "\n",
        "\n",
        "**Subsetting:**\n",
        "![Indices de una lista](https://i.stack.imgur.com/vIKaD.png)\n"
      ]
    },
    {
      "cell_type": "markdown",
      "metadata": {
        "id": "3kZ-_YDRRPmU",
        "colab_type": "text"
      },
      "source": [
        "### Consejos de valor de índice \n"
      ]
    },
    {
      "cell_type": "markdown",
      "metadata": {
        "id": "qnUtX2fvRRje",
        "colab_type": "text"
      },
      "source": [
        "Si conocemos la longitud de la lista, ahora podemos usarla para encontrar el valor del último elemento de la lista.\n"
      ]
    },
    {
      "cell_type": "code",
      "metadata": {
        "id": "ix3TfipcQwS-",
        "colab_type": "code",
        "colab": {}
      },
      "source": [
        "print(nombreEstaciones[4])"
      ],
      "execution_count": 0,
      "outputs": []
    },
    {
      "cell_type": "markdown",
      "metadata": {
        "id": "GxrGJiDsRa2D",
        "colab_type": "text"
      },
      "source": [
        "**¿IndexError?!!?**\n",
        "\n",
        "Así es, ya que nuestra lista comienza con el índice 0 y tiene 4 valores, el índice del último elemento de la lista es 3. Eso no es lo ideal, pero afortunadamente hay un buen truco en Python para encontrar el último elemento en una lista.\n",
        "\n",
        "**len(nombreEstaciones) - 1**"
      ]
    },
    {
      "cell_type": "code",
      "metadata": {
        "id": "NFJaxmOIRYbv",
        "colab_type": "code",
        "colab": {}
      },
      "source": [
        "print(nombreEstaciones)"
      ],
      "execution_count": 0,
      "outputs": []
    },
    {
      "cell_type": "code",
      "metadata": {
        "id": "ErKVbkRgSSZM",
        "colab_type": "code",
        "colab": {}
      },
      "source": [
        "print(nombreEstaciones[-1])"
      ],
      "execution_count": 0,
      "outputs": []
    },
    {
      "cell_type": "code",
      "metadata": {
        "id": "R6O3ZXDWSTjz",
        "colab_type": "code",
        "colab": {}
      },
      "source": [
        "print(nombreEstaciones[-4])"
      ],
      "execution_count": 0,
      "outputs": []
    },
    {
      "cell_type": "markdown",
      "metadata": {
        "id": "-rm9hk7GSbj7",
        "colab_type": "text"
      },
      "source": [
        "Sí, en Python puede ir hacia atrás a través de listas utilizando valores de índice negativos. El índice -1da el último valor en la lista y el índice -len(nombreEstaciones) daría el primero. Por supuesto, todavía es necesario mantener los valores de índice dentro de sus rangos."
      ]
    },
    {
      "cell_type": "code",
      "metadata": {
        "id": "DnTgjCxeS1ND",
        "colab_type": "code",
        "colab": {}
      },
      "source": [
        "print(nombreEstaciones[-5])"
      ],
      "execution_count": 0,
      "outputs": []
    },
    {
      "cell_type": "markdown",
      "metadata": {
        "id": "K42sJQxxS6ec",
        "colab_type": "text"
      },
      "source": [
        "### Modificar los valores de la lista "
      ]
    },
    {
      "cell_type": "markdown",
      "metadata": {
        "id": "5h7nu4AmTPFc",
        "colab_type": "text"
      },
      "source": [
        "Otra característica de las listas es que son mutables , lo que significa que los valores en una lista que se ha definido pueden modificarse. Considere una lista de los tipos de estaciones de observación correspondientes a los nombres de estaciones en la lista **nombreEstaciones**."
      ]
    },
    {
      "cell_type": "code",
      "metadata": {
        "id": "Xwkg0WCIS7QG",
        "colab_type": "code",
        "colab": {}
      },
      "source": [
        "tiposEstaciones = ['Estacion climatica', 'Estacion climatica', 'Estacion climatica', 'Estacion climatica']\n",
        "print(tiposEstaciones)"
      ],
      "execution_count": 0,
      "outputs": []
    },
    {
      "cell_type": "markdown",
      "metadata": {
        "id": "ag68zczuTubf",
        "colab_type": "text"
      },
      "source": [
        "Ahora, como vimos antes, el tipo de estación para Chosica debería ser **'Estacion hidrometrica'**, no **'Estacion climatica'**. Afortunadamente, esta es una solución fácil. Simplemente reemplazamos el valor en la ubicación correspondiente en la lista con la correcta."
      ]
    },
    {
      "cell_type": "code",
      "metadata": {
        "id": "F1s4MpRDTr_9",
        "colab_type": "code",
        "colab": {}
      },
      "source": [
        "tiposEstaciones[2] = 'Estacion hidrometrica'\n",
        "print(tiposEstaciones)"
      ],
      "execution_count": 0,
      "outputs": []
    },
    {
      "cell_type": "markdown",
      "metadata": {
        "id": "6ZpRLpFjUNCV",
        "colab_type": "text"
      },
      "source": [
        "### Tipos de datos en listas "
      ]
    },
    {
      "cell_type": "markdown",
      "metadata": {
        "id": "NQlvcVfhUYaz",
        "colab_type": "text"
      },
      "source": [
        "Las listas también pueden almacenar más de un tipo de datos. Consideremos que además de tener una lista de cada nombre de estación, ID, latitud, etc. nos gustaría tener una lista de todos los valores para una fecha específica de la estación Chosica."
      ]
    },
    {
      "cell_type": "code",
      "metadata": {
        "id": "oCdWYN-EUO8m",
        "colab_type": "code",
        "colab": {}
      },
      "source": [
        "nombre = 'CHOSICA'\n",
        "id = 202906\n",
        "longitud = 76.689\n",
        "latitud = 11.930\n",
        "tipo = 'Hidrometrica'\n",
        "fecha = \"28-02-1998\"\n",
        "\n",
        "estacionChosica = [nombre, id, longitud, latitud, tipo, fecha]\n",
        "print(estacionChosica)"
      ],
      "execution_count": 0,
      "outputs": []
    },
    {
      "cell_type": "markdown",
      "metadata": {
        "id": "IY-e8o1fV-ul",
        "colab_type": "text"
      },
      "source": [
        "Aquí tenemos una lista con 3 tipos diferentes de datos en ella. Podemos confirmar esto utilizando la función **type()**."
      ]
    },
    {
      "cell_type": "code",
      "metadata": {
        "id": "gQVzyKz_Vk8-",
        "colab_type": "code",
        "colab": {}
      },
      "source": [
        "type(estacionChosica)"
      ],
      "execution_count": 0,
      "outputs": []
    },
    {
      "cell_type": "code",
      "metadata": {
        "id": "wnrYh-JgWGb0",
        "colab_type": "code",
        "colab": {}
      },
      "source": [
        "type(estacionChosica[0])"
      ],
      "execution_count": 0,
      "outputs": []
    },
    {
      "cell_type": "code",
      "metadata": {
        "id": "K0jIEDthWG8W",
        "colab_type": "code",
        "colab": {}
      },
      "source": [
        "type(estacionChosica[1])"
      ],
      "execution_count": 0,
      "outputs": []
    },
    {
      "cell_type": "code",
      "metadata": {
        "id": "wX-zHrUdWHp7",
        "colab_type": "code",
        "colab": {}
      },
      "source": [
        "type(estacionChosica[3])"
      ],
      "execution_count": 0,
      "outputs": []
    },
    {
      "cell_type": "markdown",
      "metadata": {
        "id": "jvOTJdX2WOXO",
        "colab_type": "text"
      },
      "source": [
        "### Agregar y eliminar valores de las listas \n"
      ]
    },
    {
      "cell_type": "markdown",
      "metadata": {
        "id": "33HS84V2WQpu",
        "colab_type": "text"
      },
      "source": [
        "Finalmente, podemos agregar y eliminar valores de las listas para cambiar sus longitudes. Consideremos que ya no queremos incluir el primer valor en la **estacionChosica**."
      ]
    },
    {
      "cell_type": "code",
      "metadata": {
        "id": "TUVSdtHbWPRo",
        "colab_type": "code",
        "colab": {}
      },
      "source": [
        "print(nombresEstaciones)"
      ],
      "execution_count": 0,
      "outputs": []
    },
    {
      "cell_type": "code",
      "metadata": {
        "id": "rp61Zh2fXWkN",
        "colab_type": "code",
        "colab": {}
      },
      "source": [
        "del nombresEstaciones[0]"
      ],
      "execution_count": 0,
      "outputs": []
    },
    {
      "cell_type": "code",
      "metadata": {
        "id": "BAuE6yG7XYfk",
        "colab_type": "code",
        "colab": {}
      },
      "source": [
        "print(nombresEstaciones)"
      ],
      "execution_count": 0,
      "outputs": []
    },
    {
      "cell_type": "markdown",
      "metadata": {
        "id": "ivqrLflwXcTq",
        "colab_type": "text"
      },
      "source": [
        "La función **del** permite eliminar valores en listas. También se puede utilizar para eliminar valores de la memoria en Python. Si en su lugar nos gustaría agregar algunas muestras a la lista de nombres de estaciones, podemos hacerlo de la siguiente manera."
      ]
    },
    {
      "cell_type": "code",
      "metadata": {
        "id": "j72ckt-yXiPt",
        "colab_type": "code",
        "colab": {}
      },
      "source": [
        "nombresEstaciones.append('Yanacoto')\n",
        "nombresEstaciones.append('Puente Huachipa')"
      ],
      "execution_count": 0,
      "outputs": []
    },
    {
      "cell_type": "code",
      "metadata": {
        "id": "sVGdS9BYXklB",
        "colab_type": "code",
        "colab": {}
      },
      "source": [
        "print(nombresEstaciones)"
      ],
      "execution_count": 0,
      "outputs": []
    },
    {
      "cell_type": "markdown",
      "metadata": {
        "id": "KtIGmS6MX-Rb",
        "colab_type": "text"
      },
      "source": [
        "Como puede ver, agregamos valores uno a la vez usando **nombresEstaciones.append()**. list.append() se llama método en Python, que es una función que funciona para un tipo de datos determinado (una lista en este caso). \n",
        "\n",
        "Veremos un poco más sobre esto a continuación."
      ]
    },
    {
      "cell_type": "markdown",
      "metadata": {
        "id": "NN2FKet0YeeK",
        "colab_type": "text"
      },
      "source": [
        "### El concepto de objetos "
      ]
    },
    {
      "cell_type": "markdown",
      "metadata": {
        "id": "Qxp0I3RyYh-L",
        "colab_type": "text"
      },
      "source": [
        "Python es un lenguajes de programación dentro de los que se denominan **'lenguajes orientados a objetos (POO)'**.\n",
        "\n",
        "Puede llevar bastante tiempo entender lo que esto significa, pero la explicación simple es que podemos considerar las variables que definimos como **'objetos'** que pueden contener datos conocidos como **atributos** y un conjunto específico de **funciones** conocidas como **métodos** . La oración anterior también puede tomar algún tiempo para entenderse por sí misma, pero usando un ejemplo, el concepto de **\"objetos\"** es mucho más fácil de entender."
      ]
    },
    {
      "cell_type": "markdown",
      "metadata": {
        "id": "ESIzRGqKZKrl",
        "colab_type": "text"
      },
      "source": [
        "### Un (mal) ejemplo de métodos "
      ]
    },
    {
      "cell_type": "markdown",
      "metadata": {
        "id": "XBWuPoksZMja",
        "colab_type": "text"
      },
      "source": [
        "Consideremos nuestra lista **nombresEstaciones**. Como sabemos, ya tenemos datos en la lista **nombresEstaciones**, y podemos modificarlos utilizando métodos incorporados como **nombresEstaciones.append()**. \n",
        "\n",
        "En este caso, el método **append()** es algo que existe para las listas, pero no para otros tipos de datos. Es intuitivo que le gustaría agregar (o adjuntar) elementos a una lista, pero tal vez no tenga sentido agregar a otros tipos de datos.\n",
        "\n"
      ]
    },
    {
      "cell_type": "code",
      "metadata": {
        "id": "ZoPaVX8DZ7i5",
        "colab_type": "code",
        "colab": {}
      },
      "source": [
        "nombresEstacionesLength = len(nombresEstaciones)"
      ],
      "execution_count": 0,
      "outputs": []
    },
    {
      "cell_type": "code",
      "metadata": {
        "id": "3nrfN0I0YdRG",
        "colab_type": "code",
        "colab": {}
      },
      "source": [
        "print(nombresEstacionesLength)"
      ],
      "execution_count": 0,
      "outputs": []
    },
    {
      "cell_type": "code",
      "metadata": {
        "id": "qUguafXRaB57",
        "colab_type": "code",
        "colab": {}
      },
      "source": [
        "type(nombresEstacionesLength)"
      ],
      "execution_count": 0,
      "outputs": []
    },
    {
      "cell_type": "code",
      "metadata": {
        "id": "SXyhaKtsaEKb",
        "colab_type": "code",
        "colab": {}
      },
      "source": [
        "nombresEstacionesLength.append(1)"
      ],
      "execution_count": 0,
      "outputs": []
    },
    {
      "cell_type": "markdown",
      "metadata": {
        "id": "Gg9Zz3zHaIJr",
        "colab_type": "text"
      },
      "source": [
        "Aquí obtenemos un **AttributeError** porque no hay ningún método integrado en el tipo **int** de datos para adjuntar a los datos **int**. Si bien **append()** tiene sentido para los **listdatos**, no es sensato para los datos **int**, por lo que no existe tal método para los datos **int**."
      ]
    },
    {
      "cell_type": "markdown",
      "metadata": {
        "id": "UyBZE8qXbZkL",
        "colab_type": "text"
      },
      "source": [
        "### Invertir una lista "
      ]
    },
    {
      "cell_type": "markdown",
      "metadata": {
        "id": "EJCO6xM8bdl6",
        "colab_type": "text"
      },
      "source": [
        "Hay otros dos métodos comunes para listas que necesitamos ver. Primero, está el método **.reverse()**, utilizado para invertir el orden de los elementos en una lista."
      ]
    },
    {
      "cell_type": "code",
      "metadata": {
        "id": "iDB3ZWzNbjL6",
        "colab_type": "code",
        "colab": {}
      },
      "source": [
        "nombresEstaciones.reverse()"
      ],
      "execution_count": 0,
      "outputs": []
    },
    {
      "cell_type": "code",
      "metadata": {
        "id": "O_-edQ30bcid",
        "colab_type": "code",
        "colab": {}
      },
      "source": [
        "print(nombresEstaciones)"
      ],
      "execution_count": 0,
      "outputs": []
    },
    {
      "cell_type": "markdown",
      "metadata": {
        "id": "UNwxx4bdbo9y",
        "colab_type": "text"
      },
      "source": [
        "Un error común al ordenar las listas es hacer algo así nombresEstaciones = nombresEstaciones.reverse(). \n",
        "\n",
        "**¡No hagas esto!** Al revertir las listas con **.reverse()** el **valor** es devuelto (es por esto que no hay salida de pantalla cuando se ejecuta **nombresEstaciones.reverse()**). Si luego asigna la salida de **nombresEstaciones.reverse()** a **nombresEstaciones**, revertirá la lista, pero luego sobrescribirá su contenido con el valor **None** . Esto significa que ha eliminado el contenido de la lista (!)"
      ]
    },
    {
      "cell_type": "markdown",
      "metadata": {
        "id": "-dwIwYr1c33K",
        "colab_type": "text"
      },
      "source": [
        "### Ordenar una lista "
      ]
    },
    {
      "cell_type": "markdown",
      "metadata": {
        "id": "_a_HgnJSc7Tv",
        "colab_type": "text"
      },
      "source": [
        "El método **.sort()** funciona de la misma manera.\n"
      ]
    },
    {
      "cell_type": "code",
      "metadata": {
        "id": "FTNQnso-c_Nu",
        "colab_type": "code",
        "colab": {}
      },
      "source": [
        "nombresEstaciones.sort()"
      ],
      "execution_count": 0,
      "outputs": []
    },
    {
      "cell_type": "code",
      "metadata": {
        "id": "4K_pIHuqc2Y1",
        "colab_type": "code",
        "colab": {}
      },
      "source": [
        "print(nombresEstaciones)"
      ],
      "execution_count": 0,
      "outputs": []
    },
    {
      "cell_type": "markdown",
      "metadata": {
        "id": "jHF-TlBjdFQt",
        "colab_type": "text"
      },
      "source": [
        "Como puede ver, la lista se ha ordenado alfabéticamente utilizando el método **.sort()**, pero cuando esto ocurre no hay salida de pantalla. De nuevo, si tuviera que asignar esa salida a la lista **nombresEstaciones** , se ordenaría, pero el contenido se asignaría **None**."
      ]
    },
    {
      "cell_type": "markdown",
      "metadata": {
        "id": "qRwlhN9adkER",
        "colab_type": "text"
      },
      "source": [
        "*Como habrás notado, aparece antes en la lista ordenada. Esto se debe a que la ordenación alfabética en Python coloca las mayúsculas antes de las minúsculas.*"
      ]
    },
    {
      "cell_type": "markdown",
      "metadata": {
        "id": "z4a4uuzqg1LP",
        "colab_type": "text"
      },
      "source": [
        "### Múltiples argumentos"
      ]
    },
    {
      "cell_type": "markdown",
      "metadata": {
        "id": "Gl-mu4mBg3h-",
        "colab_type": "text"
      },
      "source": [
        "Echa un vistazo a la documentación de sorted() al escribir help(sorted)en el shell de IPython.\n",
        "La función **sorted()** toma tres argumentos: **iterable**, **key** y **reverse**.\n",
        "\n",
        "**key = None**\n",
        "significa que si no especificas el argumento **key**, será None. \n",
        "**reverse=False**\n",
        "significa que si no especificas el argumento **reverse**, será False.\n",
        "\n",
        "En este ejercicio, solo tendrás que especificar **iterable** y **reverse**, no **key**. \n",
        "\n",
        "La primera entrada que pase **sorted()** coincidirá con el argumento **iterable**"
      ]
    },
    {
      "cell_type": "code",
      "metadata": {
        "id": "-AltxWHFhvbp",
        "colab_type": "code",
        "colab": {}
      },
      "source": [
        "\n",
        "primera = [11.25, 18.0, 20.0]\n",
        "segunda = [10.75, 9.50]  # Crear las listas primera y segunda\n",
        "\n",
        "full = primera + segunda   # Paste together first and second: full\n",
        "full_sorted = sorted(full, reverse = True)   # Sort full in descending order: full_sorted\n",
        "\n",
        "print(full_sorted) # Print out full_sorted"
      ],
      "execution_count": 0,
      "outputs": []
    },
    {
      "cell_type": "markdown",
      "metadata": {
        "id": "YOuBbmc_dqNi",
        "colab_type": "text"
      },
      "source": [
        "### Enumerar atributos \n"
      ]
    },
    {
      "cell_type": "markdown",
      "metadata": {
        "id": "dY4D7ETIdr3f",
        "colab_type": "text"
      },
      "source": [
        "No discutiremos ningún atributo de lista porque, por lo que sabemos, no hay ninguno, pero encontraremos algunos atributos muy útiles de otros tipos de datos en el futuro."
      ]
    },
    {
      "cell_type": "code",
      "metadata": {
        "id": "i6yXJ6qVBhQ9",
        "colab_type": "code",
        "colab": {}
      },
      "source": [
        ""
      ],
      "execution_count": 0,
      "outputs": []
    },
    {
      "cell_type": "code",
      "metadata": {
        "id": "7g5uDQTnBhOB",
        "colab_type": "code",
        "colab": {}
      },
      "source": [
        ""
      ],
      "execution_count": 0,
      "outputs": []
    }
  ]
}