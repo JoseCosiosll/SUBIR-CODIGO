{
  "nbformat": 4,
  "nbformat_minor": 0,
  "metadata": {
    "colab": {
      "name": "clase14_EarthEngine.ipynb",
      "version": "0.3.2",
      "provenance": [],
      "collapsed_sections": [],
      "include_colab_link": true
    },
    "kernelspec": {
      "name": "python3",
      "display_name": "Python 3"
    }
  },
  "cells": [
    {
      "cell_type": "markdown",
      "metadata": {
        "id": "view-in-github",
        "colab_type": "text"
      },
      "source": [
        "<a href=\"https://colab.research.google.com/github/ryali93/UNMSM_programacion/blob/master/jupyter/clase14_EarthEngine.ipynb\" target=\"_parent\"><img src=\"https://colab.research.google.com/assets/colab-badge.svg\" alt=\"Open In Colab\"/></a>"
      ]
    },
    {
      "cell_type": "markdown",
      "metadata": {
        "id": "LLsMfKkqWf9j",
        "colab_type": "text"
      },
      "source": [
        "# Earth Engine Colab Intro\n",
        "\n",
        "This notebook is a brief introduction to the  **Earth Engine Python API** potencialities. Here you can access to planetary maps and aerial imagery that are much more extensive and considerably more specialized than those immediately accessible through Google Earth.  These include global and sub-global datasets relating to land cover, topographic elevation, \n",
        "and meteorological conditions that often range over time as well as space.\n",
        "\n",
        "<center>\n",
        "![](https://raw.githubusercontent.com/csaybar/programacionUNMSM/master/class02%3AGEE/img/ee.png)"
      ]
    },
    {
      "cell_type": "markdown",
      "metadata": {
        "id": "4PMwgxRK3Lv5",
        "colab_type": "text"
      },
      "source": [
        "## What is Google Earth Engine?\n",
        "\n",
        "Earth Engine consists of a multi-petabyte analysis-ready data catalog\n",
        "co-located with a high-performance, intrinsically parallel computation service. It is accessed and controlled through an Internet-accessible application programming interface (API) and an associated web-based interactive development environment (IDE) that enables rapid prototyping and visualization of results.\n",
        "\n",
        "The data catalog houses a large repository of publicly available geospatial datasets, including observations from a variety of satellite and aerial imaging systems in both optical and non-optical wavelengths,\n",
        "environmental variables, weather and climate forecasts and\n",
        "hindcasts, land cover, topographic and socio-economic datasets. All of\n",
        "this data is preprocessed to a ready-to-use but information-preserving\n",
        "form that allows efficient access and removes many barriers associated\n",
        "with data management.\n",
        "\n",
        "<center>\n",
        "![](https://raw.githubusercontent.com/csaybar/programacionUNMSM/master/class02%3AGEE/img/architecture.png)\n",
        "  \n",
        "**A simplified system architecture diagram.**"
      ]
    },
    {
      "cell_type": "markdown",
      "metadata": {
        "id": "IArkCvVsWjEA",
        "colab_type": "text"
      },
      "source": [
        "#  ¿What is colab?\n",
        "\n",
        "Google **colab** is a free cloud service (jupyter as service) with GPU and TPU support.\n",
        "\n",
        "<img class=\"center\"  height=\"200\" src=\"https://colab.research.google.com/img/colab_favicon_256px.png\" >\n",
        "\n",
        "### Try yourself!!"
      ]
    },
    {
      "cell_type": "code",
      "metadata": {
        "id": "AITIiF0aWk97",
        "colab_type": "code",
        "colab": {}
      },
      "source": [
        "#check the SO\n",
        "!cat /etc/*release"
      ],
      "execution_count": 0,
      "outputs": []
    },
    {
      "cell_type": "code",
      "metadata": {
        "id": "QvxKpoGTZsWj",
        "colab_type": "code",
        "colab": {}
      },
      "source": [
        "#How many cpu are there?\n",
        "!lscpu"
      ],
      "execution_count": 0,
      "outputs": []
    },
    {
      "cell_type": "code",
      "metadata": {
        "id": "qANP673eZus6",
        "colab_type": "code",
        "colab": {}
      },
      "source": [
        "# How much RAM does it have?\n",
        "!grep MemTotal /proc/meminfo"
      ],
      "execution_count": 0,
      "outputs": []
    },
    {
      "cell_type": "markdown",
      "metadata": {
        "id": "GrpGEz7OZzvk",
        "colab_type": "text"
      },
      "source": [
        "## 1. Autorizando servicios"
      ]
    },
    {
      "cell_type": "code",
      "metadata": {
        "id": "JHRSR7BgaHx_",
        "colab_type": "code",
        "cellView": "form",
        "colab": {}
      },
      "source": [
        "#@title Google Earth Engine (Oauth2 Authorization)\n",
        "\n",
        "# Check if the server is authenticated. If not, display instructions that\n",
        "# explain how to complete the process.\n",
        "\n",
        "!pip install earthengine-api\n",
        "import ee  \n",
        "\n",
        "!earthengine authenticate\n",
        "ee.Initialize()"
      ],
      "execution_count": 0,
      "outputs": []
    },
    {
      "cell_type": "code",
      "metadata": {
        "id": "mynecdw_afeO",
        "colab_type": "code",
        "cellView": "both",
        "colab": {}
      },
      "source": [
        "#@title Google Drive (Oauth Authorization)\n",
        "from google.colab import drive\n",
        "drive.mount('/content/drive')"
      ],
      "execution_count": 0,
      "outputs": []
    },
    {
      "cell_type": "code",
      "metadata": {
        "id": "Gd8Go3BzEqQ1",
        "colab_type": "code",
        "colab": {}
      },
      "source": [
        "from matplotlib import pyplot"
      ],
      "execution_count": 0,
      "outputs": []
    },
    {
      "cell_type": "markdown",
      "metadata": {
        "id": "0djKTwgVe4Oi",
        "colab_type": "text"
      },
      "source": [
        "## 2. Colab & Google drive example"
      ]
    },
    {
      "cell_type": "code",
      "metadata": {
        "id": "2FjNx_XOakU-",
        "colab_type": "code",
        "colab": {}
      },
      "source": [
        "#1._ Create a folder in google drive from colab\n",
        "import os, errno\n",
        "newfolder = 'drive/My Drive/claseEE/'\n",
        "os.makedirs(newfolder)"
      ],
      "execution_count": 0,
      "outputs": []
    },
    {
      "cell_type": "code",
      "metadata": {
        "id": "iaEcIPYgdHo_",
        "colab_type": "code",
        "outputId": "96f3f070-7a9c-4df1-dd20-08029fc1ab91",
        "colab": {
          "base_uri": "https://localhost:8080/",
          "height": 34
        }
      },
      "source": [
        "#2._ Change current directory /content to newfolder\n",
        "pwd      # 1.current directory"
      ],
      "execution_count": 0,
      "outputs": [
        {
          "output_type": "execute_result",
          "data": {
            "text/plain": [
              "'/content'"
            ]
          },
          "metadata": {
            "tags": []
          },
          "execution_count": 7
        }
      ]
    },
    {
      "cell_type": "code",
      "metadata": {
        "id": "rPB7O1v2eugR",
        "colab_type": "code",
        "outputId": "04ed9ee2-1360-4f43-d669-5476085c18b5",
        "colab": {
          "base_uri": "https://localhost:8080/",
          "height": 35
        }
      },
      "source": [
        "cd /content/drive/My\\ Drive/claseEE/"
      ],
      "execution_count": 0,
      "outputs": [
        {
          "output_type": "stream",
          "text": [
            "/content/drive/My Drive/clase03\n"
          ],
          "name": "stdout"
        }
      ]
    },
    {
      "cell_type": "code",
      "metadata": {
        "id": "WjrbnANrewoA",
        "colab_type": "code",
        "outputId": "9456a89c-17da-415c-a64c-6896d50448be",
        "colab": {
          "base_uri": "https://localhost:8080/",
          "height": 34
        }
      },
      "source": [
        "pwd"
      ],
      "execution_count": 0,
      "outputs": [
        {
          "output_type": "execute_result",
          "data": {
            "text/plain": [
              "'/content'"
            ]
          },
          "metadata": {
            "tags": []
          },
          "execution_count": 8
        }
      ]
    },
    {
      "cell_type": "markdown",
      "metadata": {
        "id": "P3pynUsTp5bo",
        "colab_type": "text"
      },
      "source": [
        "### Instalación de EE API"
      ]
    },
    {
      "cell_type": "code",
      "metadata": {
        "id": "9_hwJazdp3-f",
        "colab_type": "code",
        "colab": {}
      },
      "source": [
        "!pip install earthengine-api #earth-engine Python API"
      ],
      "execution_count": 0,
      "outputs": []
    },
    {
      "cell_type": "code",
      "metadata": {
        "id": "fU733iwVp-og",
        "colab_type": "code",
        "colab": {}
      },
      "source": [
        "!earthengine authenticate"
      ],
      "execution_count": 0,
      "outputs": []
    },
    {
      "cell_type": "markdown",
      "metadata": {
        "id": "JE7dOW6nqGOB",
        "colab_type": "text"
      },
      "source": [
        "#### Testing"
      ]
    },
    {
      "cell_type": "code",
      "metadata": {
        "id": "5HzsehmwqKc6",
        "colab_type": "code",
        "colab": {}
      },
      "source": [
        "import ee\n",
        "ee.Initialize()"
      ],
      "execution_count": 0,
      "outputs": []
    },
    {
      "cell_type": "markdown",
      "metadata": {
        "id": "teN2InaeXbAn",
        "colab_type": "text"
      },
      "source": [
        "## 3. Objectos Google Earth \n",
        "\n",
        "Piense en **_ee.Thing_** como un contenedor para una cosa que existe en el servidor. En este ejemplo, la cadena se define primero y luego se coloca en el contenedor. También puede definir el contenedor y su contenido a la vez. Por ejemplo:\n",
        "\n",
        "Aunque el primer argumento para **print()** es solo una cadena en el cliente, el segundo argumento se envía al servidor para que se evalúe y luego se devuelva."
      ]
    },
    {
      "cell_type": "markdown",
      "metadata": {
        "id": "BTPYqQBVoWhx",
        "colab_type": "text"
      },
      "source": [
        "### 3.1 Strings\n",
        "Por ejemplo, defina una cadena, luego póngala en el contenedor ee.String () para enviarla a Earth Engine:"
      ]
    },
    {
      "cell_type": "code",
      "metadata": {
        "id": "BTVDMy1aZ09f",
        "colab_type": "code",
        "outputId": "8ed4b5c5-dc20-4d53-ae89-16bde4e1f32e",
        "colab": {
          "base_uri": "https://localhost:8080/",
          "height": 34
        }
      },
      "source": [
        "# Defina una cadena, luego póngala en un contenedor de EE.\n",
        "aString = 'To the cloud!'\n",
        "eeString = ee.String(aString)\n",
        "print('Where to?', eeString)"
      ],
      "execution_count": 0,
      "outputs": [
        {
          "output_type": "stream",
          "text": [
            "Where to? ee.String(\"To the cloud!\")\n"
          ],
          "name": "stdout"
        }
      ]
    },
    {
      "cell_type": "markdown",
      "metadata": {
        "id": "T9gTkcVdaT1I",
        "colab_type": "text"
      },
      "source": [
        "### 3.2 Numbers\n",
        "Use **ee.Number ()** para crear números de objetos en el servidor.\n"
      ]
    },
    {
      "cell_type": "code",
      "metadata": {
        "id": "2j0lbQTxbZDb",
        "colab_type": "code",
        "outputId": "50ed4d89-9438-4235-e7ec-bc811ae571fa",
        "colab": {
          "base_uri": "https://localhost:8080/",
          "height": 34
        }
      },
      "source": [
        "import math\n",
        "serverNumber = ee.Number(math.e)\n",
        "print('e=', serverNumber);"
      ],
      "execution_count": 0,
      "outputs": [
        {
          "output_type": "stream",
          "text": [
            "e= ee.Number(2.718281828459045)\n"
          ],
          "name": "stdout"
        }
      ]
    },
    {
      "cell_type": "code",
      "metadata": {
        "id": "5MDyTYUeb3gV",
        "colab_type": "code",
        "outputId": "94c62891-28f3-44cf-e4b3-c11bfcdac767",
        "colab": {
          "base_uri": "https://localhost:8080/",
          "height": 34
        }
      },
      "source": [
        "log_e = serverNumber.log()\n",
        "log_e.getInfo()"
      ],
      "execution_count": 0,
      "outputs": [
        {
          "output_type": "execute_result",
          "data": {
            "text/plain": [
              "1.0"
            ]
          },
          "metadata": {
            "tags": []
          },
          "execution_count": 15
        }
      ]
    },
    {
      "cell_type": "markdown",
      "metadata": {
        "id": "I2hEQ2S9cdxJ",
        "colab_type": "text"
      },
      "source": [
        "### 3.3 List\n",
        "\n",
        "Para convertir una lista de Python en un objeto ee.List en el servidor, puede colocar un literal de Python en un contenedor como con números y cadenas. Earth Engine también proporciona métodos de conveniencia del lado del servidor para hacer secuencias de números. Por ejemplo:"
      ]
    },
    {
      "cell_type": "code",
      "metadata": {
        "id": "XB0xyJNLdQSc",
        "colab_type": "code",
        "outputId": "de0cc99e-9cca-4c0d-bc8e-971250aa7391",
        "colab": {
          "base_uri": "https://localhost:8080/",
          "height": 170
        }
      },
      "source": [
        "eeList = ee.List([1, 2, 3, 4, 5])\n",
        "# Make a sequence the easy way!\n",
        "sequence = ee.List.sequence(1, 5)\n",
        "print('Sequence:', sequence)\n",
        "sequence.getInfo()"
      ],
      "execution_count": 0,
      "outputs": [
        {
          "output_type": "stream",
          "text": [
            "Sequence: ee.List({\n",
            "  \"type\": \"Invocation\",\n",
            "  \"arguments\": {\n",
            "    \"start\": 1,\n",
            "    \"end\": 5\n",
            "  },\n",
            "  \"functionName\": \"List.sequence\"\n",
            "})\n"
          ],
          "name": "stdout"
        },
        {
          "output_type": "execute_result",
          "data": {
            "text/plain": [
              "[1.0, 2.0, 3.0, 4.0, 5.0]"
            ]
          },
          "metadata": {
            "tags": []
          },
          "execution_count": 16
        }
      ]
    },
    {
      "cell_type": "markdown",
      "metadata": {
        "id": "y2GiK5aqd6rz",
        "colab_type": "text"
      },
      "source": [
        "### 3.4 Dictionaries\n",
        "\n",
        "You can construct an Earth Engine Dictionary from a Python object, as with strings, numbers and lists. At construction time, you can use JavaScript functionality to initialize the Earth Engine object. In this case an ee.Dictionary is constructed directly from a Python literal object:\n",
        "\n",
        "Puedes construir un  Earth Engine Dictionary a partir de un objeto de Python, como con cadenas, números y listas. En el momento de la construcción, puede utilizar la funcionalidad de JavaScript para inicializar el objecto Earth Engine. En este caso, un ee.Dictionary se construye directamente desde un objeto literal de Python:\n",
        "\n"
      ]
    },
    {
      "cell_type": "code",
      "metadata": {
        "id": "Gj3MDKSteOMR",
        "colab_type": "code",
        "colab": {}
      },
      "source": [
        "import math \n",
        "\n",
        "dictionary = ee.Dictionary({\n",
        "  'e': math.e,\n",
        "  'pi': math.pi,\n",
        "  'phi': (1 + math.sqrt(5)) / 2\n",
        "})\n",
        "\n",
        "print('Euler:', dictionary.get('e'))\n",
        "print('Pi:', dictionary.get('pi'))\n",
        "print('Golden ratio:', dictionary.get('phi'))\n",
        "\n",
        "dictionary.keys().getInfo()"
      ],
      "execution_count": 0,
      "outputs": []
    },
    {
      "cell_type": "markdown",
      "metadata": {
        "id": "3fKZrV02hYJi",
        "colab_type": "text"
      },
      "source": [
        "### 3.5 Dates\n",
        "\n",
        "Los objetos de fecha son la forma en que Earth Engine representa el tiempo. Como en los ejemplos anteriores, es importante distinguir entre un objeto de fecha de Python y un objeto ee.Date de Earth Engine. Construya un ee.Date a partir de una cadena, a partir de una fecha de Python, o usando métodos estáticos proporcionados por la clase ee.Date. Este ejemplo ilustra la construcción de fechas a partir de cadenas o una fecha de Python que representa milisegundos desde la medianoche del 1 de enero de 1970:"
      ]
    },
    {
      "cell_type": "code",
      "metadata": {
        "id": "aH_upRbAh1-s",
        "colab_type": "code",
        "colab": {}
      },
      "source": [
        "# Create a Date object using a string\n",
        "date = ee.Date('2015-12-31')\n",
        "print('Date:', date)\n",
        "print(date.getInfo())\n",
        "\n",
        "# Create a Date object using the module datetime\n",
        "import datetime\n",
        "now = datetime.datetime.now()\n",
        "print('Milliseconds since January 1, 1970', now)\n",
        "eeNow = ee.Date(now)\n",
        "print('Now:', eeNow)\n",
        "eeNow.getInfo()"
      ],
      "execution_count": 0,
      "outputs": []
    },
    {
      "cell_type": "markdown",
      "metadata": {
        "id": "wS0kCBq7jzjI",
        "colab_type": "text"
      },
      "source": [
        "### 3.6 Digression: passing parameters by name\n",
        "\n",
        "Los métodos de Arguments to Earth Engine se pueden pasar en orden, por ejemplo, para crear una fecha de ee a partir del año, mes y día, puede pasar los parámetros del método estático fromYMD () en el año, mes, día del pedido:"
      ]
    },
    {
      "cell_type": "code",
      "metadata": {
        "id": "4tPGL6RLj66C",
        "colab_type": "code",
        "colab": {}
      },
      "source": [
        "# First method\n",
        "aDate = ee.Date.fromYMD(2017, 1, 13)\n",
        "print('aDate:', aDate)\n",
        "aDate.getInfo()"
      ],
      "execution_count": 0,
      "outputs": []
    },
    {
      "cell_type": "markdown",
      "metadata": {
        "id": "9haJO4pCg1GY",
        "colab_type": "text"
      },
      "source": [
        "## 4. Hello world \n",
        "---"
      ]
    },
    {
      "cell_type": "markdown",
      "metadata": {
        "id": "TlQ-91qtsXzH",
        "colab_type": "text"
      },
      "source": [
        "**ee.Image('assetID'):** En GEE, los datos ráster se representan como **Image objects**. Las imágenes se componen de una o más bandas y cada banda tiene su propio nombre, tipo de datos, escala, máscara y proyección. Cada imagen tiene metadatos almacenados como un conjunto de propiedades.\n",
        "\n",
        "**ee.Image()** acepta una variedad de argumentos:\n",
        "- A string: un ID activo de EarthEngine,\n",
        "- A string and a number --Una cadena y un número-- ,\n",
        "- A number or EEArray: crea una imagen constante,\n",
        "- A list: crea una imagen fuera de cada elemento de la lista y las combina en una sola imagen,\n",
        "- An ee.Image: devuelve el argumento,\n",
        "- Nothing: da como resultado una imagen transparente vacía.\n",
        "\n",
        "---\n",
        "\n",
        "**ee.Terrain.hillshade**\n",
        "Calcula una sombra simple de un DEM.\n",
        "\n",
        "**ee.Terrain.slope**\n",
        "Calcula la pendiente en grados desde un terreno DEM. El gradiente local se calcula utilizando los vecinos conectados a 4 de cada píxel, por lo que los valores que faltan aparecerán alrededor de los bordes de una imagen.\n",
        "\n",
        "---\n",
        "**ee.Image.addBands()**\n",
        "Devuelve una imagen que contiene todas las bandas copiadas de la primera entrada y las bandas seleccionadas de la segunda entrada, opcionalmente sobrescribiendo las bandas en la primera imagen con el mismo nombre. La nueva imagen tiene los metadatos y la huella de la primera imagen de entrada."
      ]
    },
    {
      "cell_type": "code",
      "metadata": {
        "id": "Xy5K4rdqg5XI",
        "colab_type": "code",
        "colab": {}
      },
      "source": [
        "from IPython.display import Image\n",
        "# Display a thumbnail of a sample image asset.\n",
        "Image(url=ee.Image(\"USGS/SRTMGL1_003\").getThumbUrl({'min': 0, 'max': 3000}))"
      ],
      "execution_count": 0,
      "outputs": []
    },
    {
      "cell_type": "code",
      "metadata": {
        "id": "VfF6xxBpiJx5",
        "colab_type": "code",
        "colab": {}
      },
      "source": [
        "#Loading a image\n",
        "terrain = ee.Image(\"CGIAR/SRTM90_V4\").float()\n",
        "terrain.getInfo()"
      ],
      "execution_count": 0,
      "outputs": []
    },
    {
      "cell_type": "markdown",
      "metadata": {
        "id": "Vx4BlVV3zatN",
        "colab_type": "text"
      },
      "source": [
        "#### slope\n",
        "*Horn, B.K.P., 1981. Hill shading and the reflectance map. Proceedings of the IEEE 69, 14–47. doi:10.1109/PROC.1981.11918*\n",
        "\n",
        "Horn (1981) Calcula la pendiente de una celda focal mediante el uso de una estimación de diferencia central de una superficie adaptada a la célula focal y sus vecinos. La pendiente elegida es el máximo de esta superficie y puede devolverse en varios formatos.\n",
        "\n",
        "#### aspect\n",
        "*Horn, B.K.P., 1981. Hill shading and the reflectance map. Proceedings of the IEEE 69, 14–47. doi:10.1109/PROC.1981.11918*\n",
        "\n",
        "Horn (1981) calcula el aspecto como la dirección de la pendiente máxima de la celda focal. El valor devuelto es en grados."
      ]
    },
    {
      "cell_type": "code",
      "metadata": {
        "id": "C4x9BVnCl8FS",
        "colab_type": "code",
        "colab": {}
      },
      "source": [
        "# Estimating the slope\n",
        "slope = ee.Terrain.slope(terrain).float()\n",
        "\n",
        "# Estimating the hillshade\n",
        "aspect = ee.Terrain.aspect(terrain).float()\n",
        "\n",
        "#Adding the slope and hillshade to the dem\n",
        "newterrain = terrain.addBands(slope).addBands(aspect)\n",
        "print(newterrain)"
      ],
      "execution_count": 0,
      "outputs": []
    },
    {
      "cell_type": "markdown",
      "metadata": {
        "id": "T9j1w7SirCy4",
        "colab_type": "text"
      },
      "source": [
        "## 4.  Upload a Shapefile"
      ]
    },
    {
      "cell_type": "code",
      "metadata": {
        "id": "rwlxWLHPrIvR",
        "colab_type": "code",
        "colab": {}
      },
      "source": [
        "#4.1 Install libraries\n",
        "!pip install geopandas # manipulate geometries in python\n",
        "!pip install descartes # vizualization library"
      ],
      "execution_count": 0,
      "outputs": []
    },
    {
      "cell_type": "code",
      "metadata": {
        "id": "sVFGeI3YnSQf",
        "colab_type": "code",
        "colab": {}
      },
      "source": [
        "#4.2 Install libraries\n",
        "import geopandas as gpd # Manipulate geometries in python\n",
        "import urllib # Package that collects several modules for working with URLs.\n",
        "import zipfile # Unzip a *.zip file\n",
        "from matplotlib import pyplot as plt # Data vzualization with python!"
      ],
      "execution_count": 0,
      "outputs": []
    },
    {
      "cell_type": "code",
      "metadata": {
        "id": "l2DOejEgr_xt",
        "colab_type": "code",
        "colab": {}
      },
      "source": [
        "#4.3 download \"prov.zip\"\n",
        "provincias = 'https://github.com/csaybar/programacionUNMSM/raw/master/class02:GEE/data/data.zip'\n",
        "urllib.request.urlretrieve(provincias, 'prov.zip')\n",
        "\n",
        "#4.4 unzip\n",
        "zpfile = 'prov.zip'\n",
        "with zipfile.ZipFile(zpfile, 'r') as zip_file:\n",
        "  zip_file.extractall('.')"
      ],
      "execution_count": 0,
      "outputs": []
    },
    {
      "cell_type": "code",
      "metadata": {
        "id": "Bo0WN40M354Z",
        "colab_type": "code",
        "outputId": "ac952e99-6cf4-48c2-97d3-5e4539935e59",
        "colab": {
          "base_uri": "https://localhost:8080/",
          "height": 269
        }
      },
      "source": [
        "provincias = gpd.read_file('Provincia.shp')\n",
        "provincias.plot()\n",
        "plt.show()"
      ],
      "execution_count": 0,
      "outputs": [
        {
          "output_type": "display_data",
          "data": {
            "image/png": "[encoded data removed]",
            "text/plain": [
              "<Figure size 432x288 with 1 Axes>"
            ]
          },
          "metadata": {
            "tags": []
          }
        }
      ]
    },
    {
      "cell_type": "markdown",
      "metadata": {
        "id": "1GEQEWlZ3xgJ",
        "colab_type": "text"
      },
      "source": [
        "## 5. Geopandas to ee.Geometry"
      ]
    },
    {
      "cell_type": "code",
      "metadata": {
        "id": "DuPNUrw8zB7V",
        "colab_type": "code",
        "outputId": "b9c1bffc-1796-4906-8c69-b8d0f987b44f",
        "colab": {
          "base_uri": "https://localhost:8080/",
          "height": 269
        }
      },
      "source": [
        "# 5.1 Select a province of Peru!\n",
        "quispicanchi = provincias[provincias.NOMBRE == 'BARRANCA']\n",
        "quispicanchi_geojson = eval(quispicanchi.to_json())\n",
        "quispicanchi.plot()\n",
        "plt.show()"
      ],
      "execution_count": 0,
      "outputs": [
        {
          "output_type": "display_data",
          "data": {
            "image/png": "[encoded data removed]",
            "text/plain": [
              "<Figure size 432x288 with 1 Axes>"
            ]
          },
          "metadata": {
            "tags": []
          }
        }
      ]
    },
    {
      "cell_type": "markdown",
      "metadata": {
        "id": "vjGUnoXO6qkj",
        "colab_type": "text"
      },
      "source": [
        "- **ee.Geometry('type menber'):** GEE handles vector data with the Geometry type. The [GeoJSON](http://geojson.org/geojson-spec.html) spec describes in detail the type of geometries supported by Earth Engine.\n",
        "\n",
        "![](https://r-spatial.github.io/sf/articles/sf1_files/figure-html/unnamed-chunk-20-1.png)\n",
        "\n",
        "---\n",
        "- **ee.Feature('type menber'):** A Feature in GEE is defined as a **GeoJSON** Feature. Specifically, a Feature is an object with a **geometry property** storing a Geometry object (or null) and a **properties property** storing a dictionary of other properties.\n"
      ]
    },
    {
      "cell_type": "code",
      "metadata": {
        "id": "woIun7W__X2m",
        "colab_type": "code",
        "colab": {}
      },
      "source": [
        "# 5.2 Creating a ee.Geometry\n",
        "coord_poly = quispicanchi_geojson['features'][0]['geometry']['coordinates']\n",
        "properties_poly = quispicanchi_geojson['features'][0]['properties']\n",
        "\n",
        "# 5.3 Creating a ee.Feature (Remenber that ee.Feature(ee.Geometry,properties))\n",
        "quispicanchi_geom = ee.Geometry.Polygon(coord_poly)\n",
        "quispicanchi_feature = ee.Feature(quispicanchi_geom,properties_poly)\n",
        "print(quispicanchi_feature)"
      ],
      "execution_count": 0,
      "outputs": []
    },
    {
      "cell_type": "markdown",
      "metadata": {
        "id": "vwTOe5ES9Clv",
        "colab_type": "text"
      },
      "source": [
        "## 6. Clipping image and metada"
      ]
    },
    {
      "cell_type": "code",
      "metadata": {
        "id": "CLV_gbuFA1nK",
        "colab_type": "code",
        "colab": {}
      },
      "source": [
        "newterrain_crop = newterrain.clip(quispicanchi_feature)\n",
        "\n",
        "print(newterrain_crop.bandNames().getInfo()) #band names\n",
        "print(newterrain_crop.projection().getInfo()) #CRS and transform\n",
        "print(newterrain_crop.projection().nominalScale().getInfo()) #pixel resolution\n",
        "print(newterrain_crop.propertyNames().getInfo()) #List of metadata properties"
      ],
      "execution_count": 0,
      "outputs": []
    },
    {
      "cell_type": "markdown",
      "metadata": {
        "id": "odVveOiUGTMN",
        "colab_type": "text"
      },
      "source": [
        "## 7. Dowloading a ee.Image()"
      ]
    },
    {
      "cell_type": "code",
      "metadata": {
        "id": "ZUkn61i9-lvG",
        "colab_type": "code",
        "outputId": "25b4c2ab-714a-40e2-d5d9-21576de2dc7a",
        "colab": {
          "base_uri": "https://localhost:8080/",
          "height": 34
        }
      },
      "source": [
        "# 7.1 First method (obsolete)\n",
        "pixel_size = newterrain_crop.projection().nominalScale().getInfo()\n",
        "terrain = newterrain_crop.getDownloadURL({\n",
        "            'scale':pixel_size,\n",
        "            'crs':'EPSG:4326'\n",
        "    })\n",
        "print(terrain)"
      ],
      "execution_count": 0,
      "outputs": [
        {
          "output_type": "stream",
          "text": [
            "https://earthengine.googleapis.com/api/download?docid=28d710732220d25d64766c1fe2327fba&token=a12a6bab39bbcc171b1d9b41cf1d5800\n"
          ],
          "name": "stdout"
        }
      ]
    },
    {
      "cell_type": "code",
      "metadata": {
        "id": "Xzi7AVs-GnTz",
        "colab_type": "code",
        "colab": {}
      },
      "source": [
        "#7.2 Second method (Save in your google drive account)\n",
        "task_config = {\n",
        "    'scale': pixel_size,\n",
        "    'folder': 'myfirstfolder'\n",
        "    #'region': geometry\n",
        "    }\n",
        "\n",
        "task = ee.batch.Export.image(newterrain_crop, 'myterrain', task_config)\n",
        "task.start()"
      ],
      "execution_count": 0,
      "outputs": []
    },
    {
      "cell_type": "code",
      "metadata": {
        "id": "lrqlAqePKWkg",
        "colab_type": "code",
        "colab": {}
      },
      "source": [
        "task.status()"
      ],
      "execution_count": 0,
      "outputs": []
    },
    {
      "cell_type": "markdown",
      "metadata": {
        "id": "v8edmTE7x3Bk",
        "colab_type": "text"
      },
      "source": [
        "## NDVI using Landsat8"
      ]
    },
    {
      "cell_type": "code",
      "metadata": {
        "id": "A34RodlWymn8",
        "colab_type": "code",
        "colab": {}
      },
      "source": [
        "init_date = ee.Date('2015-12-31')\n",
        "last_date = ee.Date('2018-12-31')\n",
        "l8_s = ee.ImageCollection(\"LANDSAT/LC08/C01/T1_SR\")\\\n",
        "         .filterDate(init_date,last_date)\\\n",
        "         .max()\\\n",
        "         .normalizedDifference(['B5', 'B4'])\\\n",
        "         .clip(quispicanchi_feature)\n",
        "\n",
        "task_config = {\n",
        "    'scale': 30,\n",
        "    'folder': 'myfirstfolder'\n",
        "}\n",
        "task = ee.batch.Export.image(l8_s, 'ndvi', task_config)\n",
        "task.start()"
      ],
      "execution_count": 0,
      "outputs": []
    },
    {
      "cell_type": "code",
      "metadata": {
        "id": "CD_CSMxJ19ga",
        "colab_type": "code",
        "outputId": "d67c926b-1024-4c83-e3d6-7ca8e932ef6f",
        "colab": {
          "base_uri": "https://localhost:8080/",
          "height": 153
        }
      },
      "source": [
        "task.status()"
      ],
      "execution_count": 0,
      "outputs": [
        {
          "output_type": "execute_result",
          "data": {
            "text/plain": [
              "{'creation_timestamp_ms': 1562138184146,\n",
              " 'description': 'ndvi',\n",
              " 'id': '3RSPU23GOWRBHX2SWC7AL5LC',\n",
              " 'progress': 0.0,\n",
              " 'start_timestamp_ms': 1562138185936,\n",
              " 'state': 'RUNNING',\n",
              " 'task_type': 'EXPORT_IMAGE',\n",
              " 'update_timestamp_ms': 1562138186118}"
            ]
          },
          "metadata": {
            "tags": []
          },
          "execution_count": 35
        }
      ]
    }
  ]
}