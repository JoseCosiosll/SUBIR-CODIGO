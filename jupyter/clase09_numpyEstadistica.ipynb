{
  "nbformat": 4,
  "nbformat_minor": 0,
  "metadata": {
    "colab": {
      "name": "Copia de 10 - Introduccion_estadistica.ipynb",
      "version": "0.3.2",
      "provenance": [],
      "include_colab_link": true
    },
    "language_info": {
      "codemirror_mode": {
        "name": "ipython",
        "version": 3
      },
      "file_extension": ".py",
      "mimetype": "text/x-python",
      "name": "python",
      "nbconvert_exporter": "python",
      "pygments_lexer": "ipython3",
      "version": "3.6.0"
    },
    "kernelspec": {
      "display_name": "Python 3",
      "language": "python",
      "name": "python3"
    }
  },
  "cells": [
    {
      "cell_type": "markdown",
      "metadata": {
        "id": "view-in-github",
        "colab_type": "text"
      },
      "source": [
        "<a href=\"https://colab.research.google.com/github/ryali93/UNMSM_programacion2019-1/blob/master/jupyter/Clase09_Introduccion_estadistica.ipynb\" target=\"_parent\"><img src=\"https://colab.research.google.com/assets/colab-badge.svg\" alt=\"Open In Colab\"/></a>"
      ]
    },
    {
      "cell_type": "markdown",
      "metadata": {
        "id": "68czQ44uO4QD",
        "colab_type": "text"
      },
      "source": [
        "# Python para Geociencias"
      ]
    },
    {
      "cell_type": "markdown",
      "metadata": {
        "id": "4ZiL-imfO4QN",
        "colab_type": "text"
      },
      "source": [
        "# 10. Introducción a la estadística\n",
        "\n",
        "La estadística es una disciplina que usa las matemáticas como herramienta para la gestión y análisis de datos obtenidos de la realidad, con la finalidad de inferir conclusiones respecto a ellos. Los estadísticos más importantes que veremos a continuación son:\n",
        "* La media muestral $(\\mathbf{\\bar{X}})$\n",
        "* La desviación típica muestral $(\\mathbf{\\sigma})$\n",
        "* La varianza muestral $(\\mathbf{\\sigma}^{2})$\n",
        "* La covarianza muestral $(\\mathbf{s}_{XY})$\n",
        "* Coeficiente de correlación lineal de Pearson $(\\mathbf{r}_{XY})$\n",
        "* Regresión lineal.\n",
        "\n",
        "En el directorio **data** se encuentra el archivo **resist_temp.csv** que contiene mediciones de un termistor a diferentes temperaturas. Estos datos serán el conjunto de datos muestral."
      ]
    },
    {
      "cell_type": "code",
      "metadata": {
        "scrolled": true,
        "id": "qyG60dQCO4QR",
        "colab_type": "code",
        "outputId": "6ed09e23-0eec-4517-cd97-57cedb2c1ca7",
        "colab": {}
      },
      "source": [
        "import numpy as np\n",
        "#x, y = np.loadtxt(\"./data/resist_temp.csv\", delimiter=',',skiprows=0, usecols=(0, 2), unpack=True)\n",
        "\n",
        "filename = \"./data/resist_temp.csv\"\n",
        "def getDataCol(filename, ncol):\n",
        "    fillValue = 999\n",
        "    file = open(filename,'r')\n",
        "    dataCol = []\n",
        "    for line in file.readlines():\n",
        "        l = line.replace('\\n','').split(',')\n",
        "        if type(l[ncol])==\"str\":\n",
        "            try:\n",
        "                dataCol.append(float(l[ncol]))\n",
        "            except (RuntimeError, ValueError, TypeError, NameError):\n",
        "                dataCol.append(fillValue)\n",
        "        else: dataCol.append(l[ncol])                \n",
        "    return dataCol\n",
        "\n",
        "col0 = getDataCol(filename, 0)        \n",
        "col1 = getDataCol(filename, 1)\n",
        "col2 = getDataCol(filename, 2)\n",
        "\n",
        "for i,j,k in zip(col0,col1,col2):\n",
        "    print(\"{0:10} {1:15} {2}\".format(i,j,k))\n",
        "    \n",
        "col0 = np.array(col0[1:])\n",
        "temp = np.array(col1[1:], np.int32)\n",
        "r1 = np.array(col2[1:], np.int32)\n",
        "\n",
        "for i,j,k in zip(col0, temp, r1):\n",
        "    print(\"{0:10} {1:15} {2}\".format(i,j,k))\n"
      ],
      "execution_count": 0,
      "outputs": [
        {
          "output_type": "stream",
          "text": [
            "LECTURAS   TEMPERATURAS    R1\n",
            "1          0               1426\n",
            "2          5               1177\n",
            "3          10              930\n",
            "4          15              750\n",
            "5          20              563\n",
            "6          25              523\n",
            "7          30              382\n",
            "8          35              320\n",
            "9          40              273\n",
            "10         45              223\n",
            "11         50              187\n",
            "12         55              160\n",
            "13         60              134\n",
            "14         65              117\n",
            "15         70              101\n",
            "16         75              87\n",
            "1                        0 1426\n",
            "2                        5 1177\n",
            "3                       10 930\n",
            "4                       15 750\n",
            "5                       20 563\n",
            "6                       25 523\n",
            "7                       30 382\n",
            "8                       35 320\n",
            "9                       40 273\n",
            "10                      45 223\n",
            "11                      50 187\n",
            "12                      55 160\n",
            "13                      60 134\n",
            "14                      65 117\n",
            "15                      70 101\n",
            "16                      75 87\n"
          ],
          "name": "stdout"
        }
      ]
    },
    {
      "cell_type": "markdown",
      "metadata": {
        "id": "R-kXN1L5O4Qq",
        "colab_type": "text"
      },
      "source": [
        "Una representación gráfica de los datos facilita su análisis  e interpretación. Para este fin se hará uso del  paquete **matplotlib**, el cual se tratará con mayor detalle en el capítulo 10."
      ]
    },
    {
      "cell_type": "markdown",
      "metadata": {
        "collapsed": true,
        "id": "bmuXw_GjO4Qt",
        "colab_type": "text"
      },
      "source": [
        "## * La media muestral $(\\mathbf{\\bar{X}})$\n",
        "Son las medidas de tendencia central ampliamente usadas para describir una variable. Nos indica en donde se ubican los valores centrales de ls datos.\n",
        "# $$\\mathbf{\\bar{X}} = \\frac{1}{n} \\sum_{i=1}^{n}x_{i} $$"
      ]
    },
    {
      "cell_type": "code",
      "metadata": {
        "id": "IwyOyOobO4Qx",
        "colab_type": "code",
        "outputId": "58e7eaa4-712d-4464-9533-0f86ccc537b3",
        "colab": {}
      },
      "source": [
        "def media(muestra):\n",
        "    total = 0\n",
        "    for i in muestra:\n",
        "        total += i\n",
        "    media = total / len(muestra)\n",
        "    return media\n",
        "\n",
        "print(\"temp = \", temp)\n",
        "print(\"media(temp) = \", media(temp))\n",
        "\n",
        "print(\"\\nnumpy: media(temp) = \", np.mean(temp))\n"
      ],
      "execution_count": 0,
      "outputs": [
        {
          "output_type": "stream",
          "text": [
            "temp =  [ 0  5 10 15 20 25 30 35 40 45 50 55 60 65 70 75]\n",
            "media(temp) =  37.5\n",
            "\n",
            "numpy: media(temp) =  37.5\n"
          ],
          "name": "stdout"
        }
      ]
    },
    {
      "cell_type": "markdown",
      "metadata": {
        "id": "uEExpWC1O4Q_",
        "colab_type": "text"
      },
      "source": [
        "## * Desviación típica muestral $(\\mathbf{\\sigma}_{x})$\n",
        "Es una medida del **grado de dispersión** de los datos con respecto al valor promedio.\n",
        "\n",
        "# $$ \\mathbf{\\sigma}_{x} = \\sqrt{\\frac{\\sum_{i=1}^{n}(x_{i} - \\bar{X})^{2}}{n}}$$"
      ]
    },
    {
      "cell_type": "code",
      "metadata": {
        "id": "rRT4Q79pO4RC",
        "colab_type": "code",
        "outputId": "2f2906af-af47-4d26-acb1-0d626459cdd6",
        "colab": {}
      },
      "source": [
        "def des_estandar(muestra):\n",
        "    total = 0\n",
        "    print(muestra)\n",
        "    \n",
        "    for i in muestra:\n",
        "        total += i\n",
        "    media = total / len(muestra)\n",
        "    total = 0\n",
        "    for i in muestra:\n",
        "        total += (i - media) ** 2\n",
        "    desviacion = (total / len(muestra)) ** 0.5\n",
        "    return desviacion\n",
        "\n",
        "sigma_temp = des_estandar(temp)\n",
        "print(sigma_temp)"
      ],
      "execution_count": 0,
      "outputs": [
        {
          "output_type": "error",
          "ename": "NameError",
          "evalue": "name 'temp' is not defined",
          "traceback": [
            "\u001b[0;31m---------------------------------------------------------------------------\u001b[0m",
            "\u001b[0;31mNameError\u001b[0m                                 Traceback (most recent call last)",
            "\u001b[0;32m<ipython-input-1-b43854dba506>\u001b[0m in \u001b[0;36m<module>\u001b[0;34m()\u001b[0m\n\u001b[1;32m     12\u001b[0m     \u001b[0;32mreturn\u001b[0m \u001b[0mdesviacion\u001b[0m\u001b[0;34m\u001b[0m\u001b[0m\n\u001b[1;32m     13\u001b[0m \u001b[0;34m\u001b[0m\u001b[0m\n\u001b[0;32m---> 14\u001b[0;31m \u001b[0msigma_temp\u001b[0m \u001b[0;34m=\u001b[0m \u001b[0mdes_estandar\u001b[0m\u001b[0;34m(\u001b[0m\u001b[0mtemp\u001b[0m\u001b[0;34m)\u001b[0m\u001b[0;34m\u001b[0m\u001b[0m\n\u001b[0m\u001b[1;32m     15\u001b[0m \u001b[0mprint\u001b[0m\u001b[0;34m(\u001b[0m\u001b[0msigma_temp\u001b[0m\u001b[0;34m)\u001b[0m\u001b[0;34m\u001b[0m\u001b[0m\n",
            "\u001b[0;31mNameError\u001b[0m: name 'temp' is not defined"
          ]
        }
      ]
    },
    {
      "cell_type": "markdown",
      "metadata": {
        "id": "V0kQJCMDO4RQ",
        "colab_type": "text"
      },
      "source": [
        "## * Varianza muestral $(\\mathbf{S}_{x})$\n",
        "La varianza muestral también es una medida de dispersión de un conjunto de datos y está definida por la siguinetne expresión.\n",
        "\n",
        "## $$ \\mathbf{S}_{x}=\\mathbf{\\sigma}^{2}_{x} = \\frac{\\sum_{i=1}^{n}(x_{i} -\\bar{X})^{2}}{n}$$"
      ]
    },
    {
      "cell_type": "code",
      "metadata": {
        "id": "wnSs8ettO4RV",
        "colab_type": "code",
        "outputId": "156d0d89-0f19-4899-d578-18b2196d43c8",
        "colab": {}
      },
      "source": [
        "def varianza(muestra):\n",
        "    total = 0\n",
        "    print(muestra)\n",
        "    \n",
        "    for i in muestra:\n",
        "        total += i\n",
        "    media = total / len(muestra)\n",
        "    total = 0\n",
        "    for i in muestra:\n",
        "        total += (i - media) ** 2\n",
        "    varianza = (total / len(muestra)) \n",
        "    return varianza\n",
        "\n",
        "varianza = varianza(temp)\n",
        "print(varianza)\n"
      ],
      "execution_count": 0,
      "outputs": [
        {
          "output_type": "stream",
          "text": [
            "[ 0  5 10 15 20 25 30 35 40 45 50 55 60 65 70 75]\n",
            "531.25\n"
          ],
          "name": "stdout"
        }
      ]
    },
    {
      "cell_type": "markdown",
      "metadata": {
        "id": "lQMwuCz8O4Ri",
        "colab_type": "text"
      },
      "source": [
        "## * Covarianza $(\\mathbf{S}_{xy})$\n",
        "La covarianza mide la relación lineal entre dos variables.\n",
        "Se dice que dos variables están **variando conjuntamente, y en el mismo sentido**, cuando al crecer los valores de una de las variables tmabién aumenta los de la otra.\n",
        "En cambio, están **variando conjuntamente, pero en sentido contrario**, cuando al aumentar los valores de una, los de la otra disminuyen.\n",
        "\n",
        "$$ \\mathbf{S}_{xy} = \\frac{\\sum_{i=1}^{n}(x_{i} - \\bar{X})(y_{i} - \\bar{Y})}{n} = \\frac{1}{n}\\sum_{i=1}^{n}x_{i}y_{i} - \\bar{x} . \\bar{y}\n",
        "$$\n",
        "La **covarianza**, puede ser utilizada como una medida inicial de la asociación lineal entre las dos variables, de modo que si éstqa es positiva, nos indica una relación directa entre ellas y si es negativa, nos indica una relación inversa. Si las variables son independientes, entonces la covarianza es aproximadamente cero.\n",
        "<img src=\"https://github.com/vrrp/Workshop2018Python/blob/master/Modulo2/util/cov.gif?raw=1\" height=\"650\" width=\"650\">\n"
      ]
    },
    {
      "cell_type": "code",
      "metadata": {
        "id": "iwigKDonO4Rm",
        "colab_type": "code",
        "outputId": "4daa107c-ab68-47cf-d535-03ae5088396e",
        "colab": {}
      },
      "source": [
        "import matplotlib.pyplot as plt\n",
        "\n",
        "plt.plot(temp, r1, \"p\")\n",
        "plt.xlabel(\"temperatura (°C)\")\n",
        "plt.ylabel(\"resistencia (ohms)\")\n",
        "plt.show()"
      ],
      "execution_count": 0,
      "outputs": [
        {
          "output_type": "display_data",
          "data": {
            "image/png": "[encoded data removed]",
            "text/plain": [
              "<matplotlib.figure.Figure at 0x7f3c0eef1748>"
            ]
          },
          "metadata": {
            "tags": []
          }
        }
      ]
    },
    {
      "cell_type": "code",
      "metadata": {
        "id": "yaXdLl8iO4R0",
        "colab_type": "code",
        "outputId": "67cc8b6f-5f88-499e-bc36-47deefb23d7d",
        "colab": {}
      },
      "source": [
        "def covar(x,y):\n",
        "    if len(x) != len(y):\n",
        "        return\n",
        "    xtotal = 0\n",
        "    ytotal = 0\n",
        "    \n",
        "    for ix,iy in zip(x,y):\n",
        "        xtotal += ix\n",
        "        ytotal += iy\n",
        "        \n",
        "    xmedia = xtotal / len(x)\n",
        "    ymedia = ytotal / len(y)\n",
        "    \n",
        "    total = 0    \n",
        "    for ix,iy in zip(x,y):\n",
        "        total += (ix - xmedia)*(iy - ymedia)\n",
        "    covarianza = (total / len(x)) \n",
        "    return covarianza\n",
        "\n",
        "\n",
        "print(covar(temp,r1))\n",
        "\n",
        "print(\"\\nNumpy:\")\n",
        "print(temp)\n",
        "print(r1)\n",
        "X = np.stack((temp, r1), axis=0)\n",
        "print(\"X =\\n\",X)\n",
        "\n",
        "print(np.cov(X))\n",
        "print(\"\\n\")\n",
        "print(np.cov(X, bias=True))\n",
        "print(\"\\n\")\n",
        "print(np.cov(X, ddof=0))\n",
        "print(np.cov(X, bias=True)[0][1])\n",
        "print(np.cov(temp, r1, ddof=0)[0][1])\n"
      ],
      "execution_count": 0,
      "outputs": [
        {
          "output_type": "stream",
          "text": [
            "-8372.65625\n",
            "\n",
            "Numpy:\n",
            "[ 0  5 10 15 20 25 30 35 40 45 50 55 60 65 70 75]\n",
            "[1426 1177  930  750  563  523  382  320  273  223  187  160  134  117\n",
            "  101   87]\n",
            "X =\n",
            " [[   0    5   10   15   20   25   30   35   40   45   50   55   60   65\n",
            "    70   75]\n",
            " [1426 1177  930  750  563  523  382  320  273  223  187  160  134  117\n",
            "   101   87]]\n",
            "[[   566.66666667  -8930.83333333]\n",
            " [ -8930.83333333 169340.39583333]]\n",
            "\n",
            "\n",
            "[[   531.25        -8372.65625   ]\n",
            " [ -8372.65625    158756.62109375]]\n",
            "\n",
            "\n",
            "[[   531.25        -8372.65625   ]\n",
            " [ -8372.65625    158756.62109375]]\n",
            "-8372.65625\n",
            "-8372.65625\n"
          ],
          "name": "stdout"
        }
      ]
    },
    {
      "cell_type": "markdown",
      "metadata": {
        "id": "rtQgK5k-O4SB",
        "colab_type": "text"
      },
      "source": [
        "Aunque la covarianza es similar a la correlación entre dos variables, difieren de las siguiente manera:\n",
        "* Los coeficientes de **correlación** están estandarizado. Por tanto, una correlación perfecta da como resultado un coeficinete de 1. La correlación mide tanto la fuerza como la dirección de la relación entre dos variables.\n",
        "* Los valores de **covarianza** no están estandarizados. Por consiguiente, la covarianza pude ir desde infinito negativo hasta infinito positivo. Por lo tanto, el valor de una relación perfecta depende de los datos. Puesto que los datos no están estandarizados, es difícil determinar la fuerza de la relación entre las variables."
      ]
    },
    {
      "cell_type": "markdown",
      "metadata": {
        "id": "-krty3fDO4SE",
        "colab_type": "text"
      },
      "source": [
        "## * Coeficiente de correlación lineal de Pearson $(\\mathbf{r}_{xy})$\n",
        "En estadística, el **coeficiente de correlación de Pearson** es una medida de la relación lineal entre dos variables aleatorias cuantivativas. A diferencia de la covarianza, la correlación de **Pearson** es independiente de la escala de medida de las variables.\n",
        "\n",
        "De manera menos formal, el coeficiente de **Pearson** se define como un índice que pueda utilizarse para medir el grado de relación de dos variables siempre y cuando ambas sean cuantitativas y continuas.\n",
        "\n",
        "$$ \\mathbf{r}_{xy} = \\frac{\\mathbf{S}_{xy}}{\\mathbf{S}_{x}\\mathbf{S}_{y}} = \\frac{n\\sum_{i=1}^{n}x_{i}y_{i} - \\sum_{i=1}^{n}x_{i}\\sum_{i=1}^{n}y_{i}}{\\sqrt{n\\sum{x_{i}^{2}}- (\\sum{x_{i}})^{2} } \\sqrt{n\\sum{y_{i}^{2}}- (\\sum{y_{i}})^{2} }}$$\n",
        "\n",
        "### Interpretación\n",
        "El valor del índice de correlación **$(\\mathbf{r}_{xy})$** varía en el intérvalo $[-1, 1]$, donde el signo indica el sentido de la relación:\n",
        "\n",
        "* Si **r = 1**, existe una correlación positiva perfecta. El índice indica una dependencia total entre las dos variables denominada relación directa: cuando una de ellas aumenta, la otra también lo hace en proporción constante.\n",
        "* Si **0 < r < 1**, existe una correlación positiva.\n",
        "* Si **r = 0**, no existe relación lineal. Pero esto no necesariamente implica que las variables son independientes: pueden existir todavía relaciones no lineales entre las dos variables.\n",
        "* Si **-1 < r < 0**, existe una correlación negativa.\n",
        "* Si **r = -1**, existe una correlación negativa perfecta. El índice indica una dependencia total entre las dos variables llamada relación inversa: cuando una de ellas aumenta, la otra disminuye en proporción constante.\n",
        "\n",
        "(Fuente: **Wikipedia**)"
      ]
    },
    {
      "cell_type": "code",
      "metadata": {
        "id": "QZnG7MsVO4SH",
        "colab_type": "code",
        "outputId": "e722f4ce-3c28-4970-f5de-9190b0891523",
        "colab": {}
      },
      "source": [
        "def cPearson(xx,yy,type):\n",
        "    n = len(xx)\n",
        "    x = np.zeros(n);   y = np.zeros(n)\n",
        "    x2 = np.zeros(n); y2 = np.zeros(n)\n",
        "    xy = np.zeros(n)\n",
        "    \n",
        "    lny= np.zeros(n)\n",
        "    lny2= np.zeros(n)\n",
        "    xlny= np.zeros(n)\n",
        "    for i in range(n):\n",
        "        x[i]=float(xx[i])\n",
        "        y[i]=float(yy[i])\n",
        "    sum_x, sum_y = (sum(x), sum(y))\n",
        "    \n",
        "    if(type=='lineal'):\n",
        "        for i in range(n):\n",
        "            xy[i]  = x[i]*y[i]\n",
        "            x2[i]  = x[i]*x[i]\n",
        "            y2[i]  = y[i]*y[i]\n",
        "        sum_x2  = sum(x2); sum_y2  = sum(y2); sum_xy  = sum(xy)\n",
        "        \n",
        "        r = (n*sum_xy - sum_x*sum_y)/(np.sqrt(n*sum_x2 - sum_x**2)*np.sqrt(n*sum_y2 - sum_y**2))\n",
        "        return r\n",
        "    \n",
        "        \n",
        "p = cPearson(temp,r1,\"lineal\")\n",
        "print(p)\n",
        "\n",
        "pp = np.corrcoef(temp, r1)\n",
        "print(pp[0,1])\n",
        "print(pp[1,0])"
      ],
      "execution_count": 0,
      "outputs": [
        {
          "output_type": "stream",
          "text": [
            "-0.9116914166331215\n",
            "-0.9116914166331217\n",
            "-0.9116914166331216\n"
          ],
          "name": "stdout"
        }
      ]
    },
    {
      "cell_type": "code",
      "metadata": {
        "id": "8liYHLCKO4ST",
        "colab_type": "code",
        "outputId": "5ee34688-4fd2-4aeb-e175-0f0e72f9d7da",
        "colab": {}
      },
      "source": [
        "t=temp\n",
        "\n",
        "print(\"t=\", t)\n",
        "tmin,tmax = (np.min(t), np.max(t))\n",
        "print(\"\\ntmin,tmax = \", tmin,tmax)\n",
        "\n",
        "t[0]==np.nan\n",
        "print(\"\\nt=\", t)\n",
        "#t = np.ma.masked_equal(t, 999)\n",
        "tmin,tmax = (np.min(t), np.nanmax(t))\n",
        "print(\"\\ntmin,tmax = \", tmin,tmax)\n",
        "\n",
        "#tmask=np.ma.masked_greater(t,40)\n",
        "#tmask=np.ma.masked_inside(t,40,60)\n",
        "tmask=np.ma.masked_outside(t,20,60)\n",
        "print(\"tmask = \", tmask)\n",
        "suma = temp +t5\n",
        "print(\"suma = \",suma)\n",
        "print(len(temp),len(tmask))\n",
        "\n",
        "import matplotlib.pyplot as plt\n",
        "plt.plot(tmask,'o')\n",
        "plt.show()"
      ],
      "execution_count": 0,
      "outputs": [
        {
          "output_type": "stream",
          "text": [
            "t= [999   5  10  15  20  25  30  35  40  45  50  55  60  65  70  75]\n",
            "\n",
            "tmin,tmax =  5 999\n",
            "\n",
            "t= [999   5  10  15  20  25  30  35  40  45  50  55  60  65  70  75]\n",
            "\n",
            "tmin,tmax =  5 999\n",
            "tmask =  [-- -- -- -- 20 25 30 35 40 45 50 55 60 -- -- --]\n",
            "suma =  [-- 10 20 30 40 50 60 70 80 90 100 110 120 130 140 150]\n",
            "16 16\n"
          ],
          "name": "stdout"
        },
        {
          "output_type": "display_data",
          "data": {
            "image/png": "[encoded data removed]",
            "text/plain": [
              "<matplotlib.figure.Figure at 0x7f3c0ec5d908>"
            ]
          },
          "metadata": {
            "tags": []
          }
        }
      ]
    },
    {
      "cell_type": "markdown",
      "metadata": {
        "id": "rYqgS-gEO4Sh",
        "colab_type": "text"
      },
      "source": [
        "## * Regresión lineal\n",
        "\n",
        "En estadística la **regresión lineal ** o **ajuste lineal** es un modelo matemático usado para aproximar la relación de dependencia entre una variable dependiente **y** e independiente **x**. Esta puede ser una dependencia causa efecto, por ejemplo, la cantidad de lluvia (causa), da lugar al aumento de la producción agrícola (efecto).\n",
        "\n",
        "Si la distribución de los datos presentata una distribución lineal, entonces el modelo matemático está dado por la siguiente relación.\n",
        "\n",
        "$y = ax + b$\n",
        "\n",
        "donde de:\n",
        "$$ \\mathbf{a}=\\frac{n\\sum_{i=1}^{n}x_{i}y_{i} - \\sum_{i=1}^{n}x_{i} \\sum_{i=1}^{n}y_{i}}{n\\sum_{i=1}^{n}x_{i}^{2} -(\\sum_{i=1}^{n}x_{i})^{2}}\n",
        "$$\n",
        "\n",
        "$$ \\mathbf{b}=\\frac{\\sum_{i=1}^{n}x_{i}^{2} \\sum_{i=1}^{n}y_{i}  - \\sum_{i=1}^{n}x_{i}y_{i}\\sum_{i=1}^{n}x_{i}}{n\\sum_{i=1}^{n}x_{i}^{2} -(\\sum_{i=1}^{n}x_{i})^{2}}\n",
        "$$\n",
        "\n",
        "Si la distribución de los datos presentata una distribución nolineal, entonces el modelo matemático está dado por la siguiente relación.\n",
        "\n",
        "$y = be^{ax}$\n",
        "\n",
        "Esta relación es posible linealizar haciendo las siguientes operaciones:\n",
        "$y = be^{ax}$\n",
        "\n",
        "$ln(y = be^{ax})$\n",
        "\n",
        "$lny = lnb + lne^{ax}$\n",
        "\n",
        "$lny = ax + lnb$\n"
      ]
    },
    {
      "cell_type": "code",
      "metadata": {
        "id": "vmYUGVr4O4Sk",
        "colab_type": "code",
        "outputId": "8f32ba22-441d-457a-d1ce-7844288b8685",
        "colab": {}
      },
      "source": [
        "import matplotlib.pyplot as plt\n",
        "plt.figure()\n",
        "plt.plot(temp, r1, \"o\")\n",
        "plt.xlabel(\"temperatura (°C)\")\n",
        "plt.ylabel(\"resistencia (ohms)\")\n",
        "\n",
        "plt.figure()\n",
        "plt.plot(np.log(temp), r1, \"o\")\n",
        "plt.xlabel(\"temperatura (°C)\")\n",
        "plt.ylabel(\"resistencia (ohms)\")\n",
        "plt.show()"
      ],
      "execution_count": 0,
      "outputs": [
        {
          "output_type": "stream",
          "text": [
            "/home/vrojas/anaconda3/lib/python3.6/site-packages/ipykernel_launcher.py:8: RuntimeWarning: divide by zero encountered in log\n",
            "  \n"
          ],
          "name": "stderr"
        },
        {
          "output_type": "display_data",
          "data": {
            "image/png": "[encoded data removed]",
            "text/plain": [
              "<matplotlib.figure.Figure at 0x7f569c008080>"
            ]
          },
          "metadata": {
            "tags": []
          }
        },
        {
          "output_type": "display_data",
          "data": {
            "image/png": "[encoded data removed]",
            "text/plain": [
              "<matplotlib.figure.Figure at 0x7f569c008748>"
            ]
          },
          "metadata": {
            "tags": []
          }
        }
      ]
    },
    {
      "cell_type": "code",
      "metadata": {
        "scrolled": true,
        "id": "sbgflOOIO4Sw",
        "colab_type": "code",
        "outputId": "a34cb11c-0ef0-4341-e2ba-38d40b923912",
        "colab": {}
      },
      "source": [
        "import numpy as np\n",
        "#x, y = np.loadtxt(\"./data/resist_temp.csv\", delimiter=',',skiprows=0, usecols=(0, 2), unpack=True)\n",
        "\n",
        "filename = \"./data/2017-MES.csv\"\n",
        "def getDataCol(filename, ncol, separador, typeVal=\"number\"):\n",
        "    fillValue = 999\n",
        "    file = open(filename,'r')\n",
        "    dataCol = []\n",
        "    \n",
        "    if typeVal ==\"number\":\n",
        "        for line in file.readlines():\n",
        "            l = line.replace('\\n','').split(separador)\n",
        "            il = l[ncol]\n",
        "            try:\n",
        "                dataCol.append(float(il))\n",
        "            except(ValueError):\n",
        "                  dataCol.append(fillValue)              \n",
        "    elif typeVal==\"str\":\n",
        "        for line in file.readlines():\n",
        "            l = line.replace('\\n','').split(separador)\n",
        "            il = l[ncol]\n",
        "            dataCol.append(il)\n",
        "    return dataCol\n",
        "    \n",
        "col0 = getDataCol(filename, 0, separador=\";\", typeVal=\"str\")               \n",
        "col5 = getDataCol(filename, 5, separador=\";\")        \n",
        "col4 = getDataCol(filename, 4, separador=\";\") \n",
        "\n",
        "col4 = np.array(col4[1:])\n",
        "col5 = np.array(col5[1:])\n",
        "c =col4[1] + col5[1]\n",
        "print(c)\n",
        "\n",
        "suma = col4+col5\n",
        "\n",
        "for x,i,j,k in zip(col0,col4,col5,suma):\n",
        "   #print(type(i),type(j),type(k))\n",
        "   print(\"{0:10} {1:10} {2:10} {3:10}\".format(x, i,j,k))"
      ],
      "execution_count": 0,
      "outputs": [
        {
          "output_type": "stream",
          "text": [
            "0.5\n",
            "ESTACIONES        0.0        0.0        0.0\n",
            "BUENAVISTA        0.0        0.5        0.5\n",
            "ALCANTARILLA        0.1        0.0        0.1\n",
            "CAMAY             0.9        1.2        2.1\n",
            "LOMASDELACHAY        5.3        1.3        6.6\n",
            "HUAYAN            4.4        0.4 4.800000000000001\n",
            "NANA              6.3        0.2        6.5\n",
            "FONAGRO           4.7        0.0        4.7\n",
            "HACIENDABERNALES       34.5        0.9       35.4\n",
            "RIOGRANDE        36.5        1.3       37.8\n",
            "SANCAMILO         8.3        0.1        8.4\n",
            "COPARA           11.0        0.2       11.2\n",
            "OCUCAJE           0.4        0.0        0.4\n",
            "PUNTAATICO        2.3        0.0        2.3\n",
            "PAMPABLANCA        0.0        0.0        0.0\n",
            "ILO               0.0        0.0        0.0\n",
            "SAMAGRANDE        0.2        2.0        2.2\n",
            "JORGEBASADRE        0.5        0.0        0.5\n",
            "PUNTACOLES      249.6      251.8      501.4\n",
            "PUERTOPIZARRO      155.8       86.9 242.70000000000002\n",
            "PAPAYAL         152.8      230.0      382.8\n",
            "CANAVERAL        89.5      198.4      287.9\n",
            "MIRAFLORES       20.2      167.3      187.5\n",
            "MALLARES         13.0      122.5      135.5\n",
            "LAESPERANZA       20.9       24.7 45.599999999999994\n",
            "CHUSIS          205.8      680.7      886.5\n",
            "MORROPON         97.4       86.3      183.7\n",
            "SANMIGUEL       999.0      999.0     1998.0\n",
            "CHULUCANAS        2.2       69.5       71.7\n",
            "LAMBAYEQUE        6.3      135.0      141.3\n",
            "CAYALTI          18.3       25.3       43.6\n",
            "TALLA             1.4       66.6       68.0\n",
            "REQUE            35.4      326.1      361.5\n",
            "JAYANCA         158.2      793.1      951.3\n",
            "SANPEDRO        142.1      224.6      366.7\n",
            "ELTIGRE          47.6      116.7      164.3\n",
            "BERNAL           50.6      348.9      399.5\n",
            "LANCONES        999.0      999.0     1998.0\n",
            "MAZAN           586.3      102.2      688.5\n",
            "PUERTOALMENDRA      416.0      214.1      630.1\n",
            "TAMSHIYACU      999.0      128.2     1127.2\n",
            "SANROQUE        205.6      217.4      423.0\n",
            "SAPOSOA         999.0      258.5     1257.5\n",
            "NARANJILLO       99.9       34.9      134.8\n",
            "JAEN             73.1       52.6 125.69999999999999\n",
            "BAGUACHICA      105.1      130.2 235.29999999999998\n",
            "CHIRINOS        340.7      279.8      620.5\n",
            "SANRAMON        999.0      999.0     1998.0\n",
            "NAUTA           999.0      999.0     1998.0\n",
            "REQUENA         277.5      147.9      425.4\n",
            "GENAROHERRERA      158.7      135.2      293.9\n",
            "ELPORVENIR      271.5      220.1      491.6\n",
            "TABALOSOS       187.3      305.2      492.5\n",
            "RIOJA           171.1      241.1      412.2\n",
            "MOYOBAMBA       230.4      177.6      408.0\n",
            "LAMAS           170.5       98.7      269.2\n",
            "SAUCE           538.6      323.8 862.4000000000001\n",
            "NAVARRO         309.0      182.0      491.0\n",
            "CONTAMANA       354.9      403.3      758.2\n",
            "TANANTA         466.4      212.2 678.5999999999999\n",
            "ELMARONAL       650.8      535.3     1186.1\n",
            "AGUAYTIA        385.1      420.4      805.5\n",
            "TINGOMARIA      427.7      377.8      805.5\n",
            "TULUMAYO        233.4      126.0      359.4\n",
            "CAMPANILLA      145.2      221.4      366.6\n",
            "ALAO            402.3      445.6 847.9000000000001\n",
            "PONGODECAYNARACHI      476.0      165.0      641.0\n",
            "MANITI          401.0      161.9      562.9\n",
            "TIMICURILLO      341.6      197.8 539.4000000000001\n",
            "BELLAVISTA      999.0      999.0     1998.0\n",
            "PUNCHANA        521.8      279.6      801.4\n",
            "SANTAROSA       405.9      178.9      584.8\n",
            "FRANCISCOORELLANA      126.4       75.0      201.4\n",
            "JAMALCA         268.2      135.6 403.79999999999995\n",
            "SANTARITADECASTILLA      406.2      240.4      646.6\n",
            "BRETANA         395.5      178.0      573.5\n",
            "TAMANCO         299.0      227.0      526.0\n",
            "FLORDEPUNGA      628.5      217.6      846.1\n",
            "SANTAMARIADENANAY      204.4      128.5      332.9\n",
            "DOSDEMAYO       209.7      229.2      438.9\n",
            "SORITOR         164.4      225.7      390.1\n",
            "JEPELACIO        94.3      207.9      302.2\n",
            "SANPABLO        159.1      139.5      298.6\n",
            "CUNUMBUQUE      132.8      149.1      281.9\n",
            "NUEVOLIMA       126.7      137.1      263.8\n",
            "PICOTA          241.4      133.0      374.4\n",
            "SANANTONIO      393.6      293.4      687.0\n",
            "SHANUSI         165.7      116.5      282.2\n",
            "PILLUANA        349.2      230.4      579.6\n",
            "CHAZUTA         367.9      544.9      912.8\n",
            "PUCALLPA        315.4      234.6      550.0\n",
            "PELEJO           72.1       70.9      143.0\n",
            "HUANUCO         117.5      191.2      308.7\n",
            "RECUAY          141.3      183.8      325.1\n",
            "POMABAMBA       132.3       88.2      220.5\n",
            "CHAVIN          241.3      162.4 403.70000000000005\n",
            "JACASCHICO       66.2       74.6      140.8\n",
            "CANCHAN         232.4      128.8 361.20000000000005\n",
            "YANAHUANCA      160.5      143.4      303.9\n",
            "SANTAANA        120.3      140.1      260.4\n",
            "JAUJA           138.5      107.0      245.5\n",
            "PAMPAS          142.1      132.5      274.6\n",
            "CHIQUIAN        191.5      218.5      410.0\n",
            "CAJATAMBO       130.0      128.3      258.3\n",
            "OYON             64.5      139.4      203.9\n",
            "PICOY           147.5      151.8      299.3\n",
            "CANTA           125.9      106.0      231.9\n",
            "MATUCANA        241.9      195.1      437.0\n",
            "MARCAPOMACOCHA      109.6      104.8 214.39999999999998\n",
            "SANRAFAEL        93.6      134.3      227.9\n",
            "TARMA           147.4      182.7      330.1\n",
            "LAOROYA         183.0      137.6      320.6\n",
            "VIQUES          236.7      193.1 429.79999999999995\n",
            "ACOSTAMBO       246.9      252.6      499.5\n",
            "HUAROCHIRI      191.4      162.2      353.6\n",
            "HUAYAO           64.0        2.5       66.5\n",
            "PACARAN         244.9      138.4      383.3\n",
            "PILCHACA        222.8      187.9 410.70000000000005\n",
            "LIRCAY          200.6      163.1      363.7\n",
            "ACOBAMBA        147.5      215.6      363.1\n",
            "LAQUINUA        188.1      137.7 325.79999999999995\n",
            "SALCABAMBA       84.0       64.6      148.6\n",
            "CHAMANA         174.3      166.4 340.70000000000005\n",
            "MALVAS          183.4      279.9 463.29999999999995\n",
            "MAYORARCA        28.4      102.5      130.9\n",
            "PARIACOTO       257.4      246.9 504.29999999999995\n",
            "CANCHACALLA       52.6       14.3       66.9\n",
            "CHOSICA         178.9      230.4      409.3\n",
            "RIOBLANCO       202.8      159.0      361.8\n",
            "SANPEDRODEPILAS      171.9      148.1      320.0\n",
            "SHEQUE          143.2      128.4      271.6\n",
            "LANGA           325.2      314.3      639.5\n",
            "HUACHOS         114.3      106.1 220.39999999999998\n",
            "CALLANCAS       108.0      496.8      604.8\n",
            "SANBENITO       145.8      311.0      456.8\n",
            "SINSICAP        172.2      179.1 351.29999999999995\n",
            "JULCAN          180.5      157.6      338.1\n",
            "QUIRUVILCA      140.8      171.5      312.3\n",
            "CACHICADAN       79.5      126.2      205.7\n",
            "MOLLEPATA       168.5      133.7      302.2\n",
            "SIHUAS          288.1      180.4      468.5\n",
            "YANTAC          205.3      303.5      508.8\n",
            "PACCHO          123.7      140.0      263.7\n",
            "ANDAJES         198.9      158.3 357.20000000000005\n",
            "PALLAC          190.1      195.5      385.6\n",
            "PARQUIN          64.4        8.2 72.60000000000001\n",
            "SANTAEULALIA      148.4      140.4      288.8\n",
            "PIRCA           192.0      177.9      369.9\n",
            "LACHAQUI        189.1      170.3      359.4\n",
            "HUAROS          189.1      154.3      343.4\n",
            "CARAMPOMA       279.4      232.4 511.79999999999995\n",
            "SANTIAGODETUNA      183.0      163.8      346.8\n",
            "RICRAN          188.7      114.2      302.9\n",
            "INGENIO         220.3      174.4 394.70000000000005\n",
            "CASAPALCA       215.4      216.4      431.8\n",
            "MILLOC          226.9      165.5      392.4\n",
            "SANLAZARODEESCOMARCA      210.8      135.6      346.4\n",
            "HUANGASCAR      167.6       71.0      238.6\n",
            "SANJUANDEYANAC      179.4       77.5      256.9\n",
            "SANJUANDECASTROVIRREYNA      297.1      141.9      439.0\n",
            "HUANCALPI       144.4      297.5      441.9\n",
            "AYABACA          69.6       71.5      141.1\n",
            "HUANCABAMBA      219.8      409.3      629.1\n",
            "HUARMACA        148.0      132.5      280.5\n",
            "CHONTALI         77.7       72.6      150.3\n",
            "AUGUSTOWEBERBAUER      186.8      269.4      456.2\n",
            "NIEPOS           94.1      172.0      266.1\n",
            "INCAHUASI       143.7       35.3      179.0\n",
            "NAMORA          155.6      469.5      625.1\n",
            "LLAMA            80.1       73.6      153.7\n",
            "HUAMBOS          79.7       49.8      129.5\n",
            "SANTACRUZ       136.7      469.8      606.5\n",
            "CONTUMAZA       156.0      235.8      391.8\n",
            "GRANJAPORCON      115.0       57.4      172.4\n",
            "BAMBAMARCA      268.2      182.9      451.1\n",
            "SANJUAN          96.1       47.1      143.2\n",
            "SANMARCOS       103.7      145.6      249.3\n",
            "CAJABAMBA       142.3      104.2      246.5\n",
            "HUAMACHUCO      134.5      194.9      329.4\n",
            "LLAPA            71.5       61.4      132.9\n",
            "MAGDALENA       268.2      285.1      553.3\n",
            "ASUNCION        105.0       75.4      180.4\n",
            "CHANCAYBANOS      124.7      540.3      665.0\n",
            "TOCMOCHE        177.5      212.0      389.5\n",
            "UDIMA            98.4      282.5      380.9\n",
            "LIVES            32.6       82.4      115.0\n",
            "CHILETE         228.6      334.2      562.8\n",
            "CHUGUR          148.0       88.5      236.5\n",
            "CACHACHI        193.0      162.5      355.5\n",
            "HUANGACOCHA       88.8       10.9       99.7\n",
            "HUAMANI         214.2      228.7      442.9\n",
            "OLLACHEA        311.3      119.7      431.0\n",
            "PUNO            350.4      121.0      471.4\n",
            "PUQUIO          273.2       93.4      366.6\n",
            "CORACORA        139.8       54.3 194.10000000000002\n",
            "PAUZA            27.3       16.3       43.6\n",
            "CARAVELI        169.8       75.3 245.10000000000002\n",
            "COTAHUASI       201.2       79.1 280.29999999999995\n",
            "CHUQUIBAMBA      166.2       61.9      228.1\n",
            "PAMPACOLCA      188.5      107.3      295.8\n",
            "SIBAYO          223.2       87.9      311.1\n",
            "CHIVAY          137.3      107.6      244.9\n",
            "CHUQUIBAMBILLA      189.2      103.7      292.9\n",
            "IMATA           999.0       64.1     1063.1\n",
            "AYAVIRI         109.8       79.2      189.0\n",
            "PROGRESO        164.3      133.6      297.9\n",
            "LAMPA           135.2      105.4      240.6\n",
            "CABANILLAS       93.2       43.0      136.2\n",
            "AZANGARO         68.1      105.1      173.2\n",
            "ARAPA            85.1       54.1      139.2\n",
            "MUNANI          115.2       46.0      161.2\n",
            "HUANCANE        175.0       67.6      242.6\n",
            "HUARAYAMOHO      166.5       86.5      253.0\n",
            "CAPACHICA       222.7       93.6 316.29999999999995\n",
            "CABANACONDE      154.4       62.7 217.10000000000002\n",
            "SALAMANCA       234.9      105.2      340.1\n",
            "CRUCEROALTO       22.1        0.0       22.1\n",
            "LAJOYA           19.6        1.7       21.3\n",
            "PAMPADEMAJES       21.8        3.8       25.6\n",
            "MOQUEGUA          0.4        3.6        4.0\n",
            "CALANA           76.2      115.2      191.4\n",
            "PUCARA           60.8       71.0      131.8\n",
            "TARACO          191.9      165.9      357.8\n",
            "ISLASOTO        192.9      108.8      301.7\n",
            "ISLATAQUILE      161.9      122.2      284.1\n",
            "ISLASUANA       999.0      212.3     1211.3\n",
            "LIMBANI         999.0       98.0     1097.0\n",
            "ANANEA           11.0        0.0       11.0\n",
            "APLAO           103.9       50.6      154.5\n",
            "LAPAMPILLA      161.8       62.5      224.3\n",
            "ELFRAYLE        163.9      100.3      264.2\n",
            "OMATE           191.8       86.2      278.0\n",
            "UBINAS          107.3       45.6      152.9\n",
            "YACANGO         130.6       81.1      211.7\n",
            "CHUAPALCA       182.9       65.2 248.10000000000002\n",
            "YANAQUIHUA      113.9       68.1      182.0\n",
            "CANDARAVE       171.0       94.4      265.4\n",
            "TARATA          208.6       84.0      292.6\n",
            "MAZOCRUZ        219.4      123.8      343.2\n",
            "ILAVE           325.5      194.4      519.9\n",
            "JULI            270.4      138.2 408.59999999999997\n",
            "DESAGUADERO      277.3      169.1      446.4\n",
            "LARAQUERI        72.5       58.8      131.3\n",
            "CRUCERO         548.8      354.1      902.9\n",
            "HUAC-HUAS       223.1      144.5      367.6\n",
            "CUSICANCHA      355.0      138.2      493.2\n",
            "TAMBO           233.3       96.6      329.9\n",
            "SANTIAGODECHOCORVOS      259.0      204.6      463.6\n",
            "VILCASHUAMAN      246.7      253.6 500.29999999999995\n",
            "CHILCAYOC       143.9       43.7 187.60000000000002\n",
            "CHICHAS         248.1      185.7 433.79999999999995\n",
            "PULLHUAY        151.9       71.4      223.3\n",
            "ANDAHUA         265.1       84.4      349.5\n",
            "ORCOPAMPA       138.8       71.7      210.5\n",
            "CHACHAS          51.4       27.4       78.8\n",
            "AYO             140.4       78.6      219.0\n",
            "CHOCO           156.0       44.6      200.6\n",
            "HUAMBO          243.1       84.6      327.7\n",
            "MADRIGAL        253.6      158.8      412.4\n",
            "TISCO           263.9      129.5      393.4\n",
            "PORPERA          89.5      107.9      197.4\n",
            "CUYOCUYO        211.0       87.6      298.6\n",
            "PAMPADEARRIEROS      139.1       78.0      217.1\n",
            "PILLONES        200.1       52.6      252.7\n",
            "LASSALINAS       83.0       21.7      104.7\n",
            "QUINISTAQUILLAS      384.4      113.2 497.59999999999997\n",
            "CALACOA         151.0       56.6      207.6\n",
            "PAMPAUMALZO       80.5       53.2      133.7\n",
            "CAIRANI         129.3       81.7      211.0\n",
            "SUSAPAYA        119.2       66.6      185.8\n",
            "SITAJARA        172.1       89.8      261.9\n",
            "TALABAYA        143.1      122.0      265.1\n",
            "CAPAZO          143.5       81.0      224.5\n",
            "PAUCARANI       103.4      111.4      214.8\n"
          ],
          "name": "stdout"
        }
      ]
    },
    {
      "cell_type": "code",
      "metadata": {
        "id": "TphLx6F1O4S9",
        "colab_type": "code",
        "colab": {}
      },
      "source": [
        ""
      ],
      "execution_count": 0,
      "outputs": []
    },
    {
      "cell_type": "code",
      "metadata": {
        "id": "hh6joLv1O4TG",
        "colab_type": "code",
        "colab": {}
      },
      "source": [
        ""
      ],
      "execution_count": 0,
      "outputs": []
    }
  ]
}