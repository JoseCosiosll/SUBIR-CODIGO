{
  "nbformat": 4,
  "nbformat_minor": 0,
  "metadata": {
    "colab": {
      "name": "clase07_ManipulacionArchivos.ipynb",
      "version": "0.3.2",
      "provenance": [],
      "collapsed_sections": [],
      "toc_visible": true,
      "include_colab_link": true
    },
    "language_info": {
      "codemirror_mode": {
        "name": "ipython",
        "version": 3
      },
      "file_extension": ".py",
      "mimetype": "text/x-python",
      "name": "python",
      "nbconvert_exporter": "python",
      "pygments_lexer": "ipython3",
      "version": "3.6.7"
    },
    "kernelspec": {
      "display_name": "Python 3",
      "language": "python",
      "name": "python3"
    }
  },
  "cells": [
    {
      "cell_type": "markdown",
      "metadata": {
        "id": "view-in-github",
        "colab_type": "text"
      },
      "source": [
        "<a href=\"https://colab.research.google.com/github/ryali93/UNMSM_programacion2019-1/blob/master/jupyter/clase07_ManipulacionArchivos.ipynb\" target=\"_parent\"><img src=\"https://colab.research.google.com/assets/colab-badge.svg\" alt=\"Open In Colab\"/></a>"
      ]
    },
    {
      "cell_type": "markdown",
      "metadata": {
        "colab_type": "text",
        "id": "3mnoXSdTr_Oa"
      },
      "source": [
        "# Clase 07\n"
      ]
    },
    {
      "cell_type": "markdown",
      "metadata": {
        "id": "ouvH8w9wGuaz",
        "colab_type": "text"
      },
      "source": [
        "# Manipulación de archivos"
      ]
    },
    {
      "cell_type": "markdown",
      "metadata": {
        "colab_type": "text",
        "id": "uGIvBamPsYiH"
      },
      "source": [
        "En la última década se ha incrementado las fuentes desde las que se puede obtener y desplegar información (datos) que un sistema informatico consume, gestiona y genera. En Python existe una gran variedad de métodos para presentar la salida de datos, los cuales pueden ser impresos de manera legible para los humanos, o escritos a un archivo para su uso futuro. En este capítulo se tratará algunas de las posibilidades.\n"
      ]
    },
    {
      "cell_type": "markdown",
      "metadata": {
        "colab_type": "text",
        "id": "1fRElhGpTaD6"
      },
      "source": [
        "## Función open()\n",
        "\n",
        "Antes de leer o escribir en un archivo, hay que abrirlo utilizando la función open() . Esta función crea un objeto file que se utiliza para llamar a otros métodos de apoyo asociados con ella.\n",
        "\n",
        "Sintaxis:\n",
        "\n",
        "archivo = open(Nombre_archivo ,< Modo Apertura>, < Buffer>)\n",
        "\n",
        "**Nombre_archivo:** El argumento Nombre_archivo es un valor de cadena que contiene el nombre del archivo que se desea acceder.\n",
        "\n",
        "**Modo_apertura:** Determina el modo en el que el archivo tiene que ser abierto, es decir, leer, escribir, añadir, etc. Este es un parámetro opcional y se lee el modo de acceso de archivos por defecto (r).\n",
        "\n",
        "**Búfer:** determina el tamaño del buffer indicado."
      ]
    },
    {
      "cell_type": "markdown",
      "metadata": {
        "colab_type": "text",
        "id": "IYMtKmOJU3MO"
      },
      "source": [
        "| Modos | Descripción |\n",
        "|------|------|\n",
        "|  **r**  | Abre un archivo de sólo lectura. Este es el modo por defecto. |\n",
        "|  **rb**  | Abre un archivo de sólo lectura en formato binario. |\n",
        "|  **r+**  | Abre un archivo en modo de lectura y escritura. |\n",
        "|  **rb+**  | Abre un archivo para lectura y escritura en formato binario. |\n",
        "|  **w**  | Abre un archivo para sólo escritura. Sobrescribe el archivo si existe. Si no existe el archivo, crea un nuevo archivo para escritura. |\n",
        "|  **wb**  | Abre un archivo para escribir en formato binario. Sobrescribe el archivo si existe. Si no existe el archivo, crea un nuevo archivo para escritura. |\n",
        "|  **w+**  | Abre un archivo para escritura y lectura. Sobrescribe el archivo existente. Si no existe el archivo, crea un nuevo archivo para la lectura y la escritura. |\n",
        "|  **WB+** | Abre un archivo para escritura y lectura en formato binario. Sobrescribe el archivo existente. Si no existe el archivo, crea uno nuevo. |\n",
        "|  **un**  | Abre un archivo para anexar. Si no existe el archivo, se crea un nuevo archivo para escritura. |\n",
        "|  **ab**  | Abre un archivo para anexar en formato binario. Si no existe el archivo, se crea un nuevo archivo para escritura. |\n",
        "|  **a+**  | Abre un archivo tanto para anexar y lectura. Si no existe el archivo, se crea un nuevo archivo para la lectura y la escritura. |\n",
        "|  **ab+** | Abre un archivo tanto para anexar y la lectura en formato binario. Si no existe el archivo, se crea un nuevo archivo para la lectura y la escritura. |"
      ]
    },
    {
      "cell_type": "markdown",
      "metadata": {
        "colab_type": "text",
        "id": "lO8T74KTwj8G"
      },
      "source": [
        "### Atributos del objeto File\n",
        "\n",
        "Una vez que se abre un archivo, se puede obtener diversa información relacionada con ese archivo. Aquí está una lista de algunos atributos relacionados con el objeto File:\n",
        "\n",
        "\n",
        "\n",
        "| Atributo | Descripción |\n",
        "|------|------|\n",
        "|  **file.closed**  | Devuelve true si el archivo está cerrado, falso en caso que este abierto. |\n",
        "|  **file.mode**  | Devuelve el modo de acceso con el que se abrió el objeto. |\n",
        "|  **file.name**  | Devuelve el nombre del archivo. |"
      ]
    },
    {
      "cell_type": "code",
      "metadata": {
        "colab_type": "code",
        "id": "0CTB25uOxRzs",
        "colab": {}
      },
      "source": [
        "archivo = open(\"prueba.txt\", \"wb\")\n",
        "print(\"Nombre archivo: \"+ archivo)"
      ],
      "execution_count": 0,
      "outputs": []
    },
    {
      "cell_type": "code",
      "metadata": {
        "colab_type": "code",
        "id": "uMOgiInTxbWG",
        "colab": {}
      },
      "source": [
        "print(\"Esta cerrado?\" + str(archivo.closed))"
      ],
      "execution_count": 0,
      "outputs": []
    },
    {
      "cell_type": "code",
      "metadata": {
        "colab_type": "code",
        "id": "POl5xFucxgs_",
        "colab": {}
      },
      "source": [
        "print(\"Modo de apertura: \" + archivo.mode)"
      ],
      "execution_count": 0,
      "outputs": []
    },
    {
      "cell_type": "code",
      "metadata": {
        "colab_type": "code",
        "id": "2c39-t9QxmOz",
        "colab": {}
      },
      "source": [
        "archivo.close()"
      ],
      "execution_count": 0,
      "outputs": []
    },
    {
      "cell_type": "code",
      "metadata": {
        "colab_type": "code",
        "id": "kvHGFRc-xofI",
        "colab": {}
      },
      "source": [
        "print(\"Esta cerrado?\" + str(archivo.closed))"
      ],
      "execution_count": 0,
      "outputs": []
    },
    {
      "cell_type": "markdown",
      "metadata": {
        "colab_type": "text",
        "id": "aYrh8koqxuQG"
      },
      "source": [
        "Se puede apreciar en el código fuente como que después de ejecutar el método close, se cierra el puntero que estaba sobre el archivo.\n",
        "\n"
      ]
    },
    {
      "cell_type": "markdown",
      "metadata": {
        "colab_type": "text",
        "id": "S_4lYGHHxxBd"
      },
      "source": [
        "## Lectura y escritura de archivos\n",
        "\n",
        "El objeto de File proporciona un conjunto de métodos de acceso para hacernos la vida más fácil. En los siguientes ejemplo vamos a utilizar los métodos  read () y write () para leer y escribir archivos."
      ]
    },
    {
      "cell_type": "markdown",
      "metadata": {
        "colab_type": "text",
        "id": "YfSmCjmzx00D"
      },
      "source": [
        "### Método write()\n",
        "\n",
        "El método de write () escribe cualquier tipo de cadena en un archivo abierto. Es importante tener en cuenta que las cadenas en Python pueden tener datos binarios y no sólo de texto. El método de write() no añade saltos de linea **\\ n** al final de la cadena, por lo que tendremos que agregarlo nosotros en el código:"
      ]
    },
    {
      "cell_type": "code",
      "metadata": {
        "colab_type": "code",
        "id": "BNeq8Vg1x8iV",
        "colab": {}
      },
      "source": [
        "archivo = open(\"prueba.txt\", \"wb\")"
      ],
      "execution_count": 0,
      "outputs": []
    },
    {
      "cell_type": "code",
      "metadata": {
        "colab_type": "code",
        "id": "iA13VlLMyANd",
        "colab": {}
      },
      "source": [
        "archivo.write(\"www.python.org\\n\")\n",
        "archivo.write(\"www.google.com\\n\")\n",
        "archivo.write(\"www.gmail.com\\n\")\n",
        "archivo.close()"
      ],
      "execution_count": 0,
      "outputs": []
    },
    {
      "cell_type": "markdown",
      "metadata": {
        "colab_type": "text",
        "id": "QYUw1mDYyK77"
      },
      "source": [
        "En el ejemplo agregamos 3 host al archivo prueba.txt"
      ]
    },
    {
      "cell_type": "markdown",
      "metadata": {
        "colab_type": "text",
        "id": "vN9vGygoyzKF"
      },
      "source": [
        "### Método read ()\n",
        "\n",
        "El método de read () lee una cadena de un archivo abierto. Es importante tener en cuenta que las cadenas en Python pueden tener datos binarios. Además de los datos de texto.\n",
        "\n"
      ]
    },
    {
      "cell_type": "code",
      "metadata": {
        "colab_type": "code",
        "id": "7NKqJrwey15m",
        "colab": {}
      },
      "source": [
        "archivo = open(\"prueba.txt\", \"r\")\n",
        "contenido = archivo.read()\n",
        "print(contenido)"
      ],
      "execution_count": 0,
      "outputs": []
    },
    {
      "cell_type": "markdown",
      "metadata": {
        "colab_type": "text",
        "id": "-1Vk0jJLy94g"
      },
      "source": [
        "En la línea 1 abrimos en modo lectura (r) el archivo que ya estaba escrito por el ejemplo anterior y utilizamos el método read() para traernos el contenido.\n",
        "\n",
        "En la línea 1 abrimos en modo lectura (r) el archivo que ya estaba escrito por el ejemplo anterior y utilizamos el método read() para traernos el contenido.\n"
      ]
    },
    {
      "cell_type": "code",
      "metadata": {
        "colab_type": "code",
        "id": "SLvse3y1zAtv",
        "colab": {}
      },
      "source": [
        "archivo = open(\"prueba.txt\", \"wb\")\n",
        "archivo.write(\"www.python.org\\n\")\n",
        "archivo.write(\"www.google.com\\n\")\n",
        "archivo.write(\"www.gmail.com\\n\")\n",
        "archivo.close()\n",
        "\n",
        "archivo.open(\"prueba.txt\", \"r\")\n",
        "for lista in archivo.readlines():\n",
        "    print(lista)"
      ],
      "execution_count": 0,
      "outputs": []
    },
    {
      "cell_type": "markdown",
      "metadata": {
        "colab_type": "text",
        "id": "qOUka0vKzWK0"
      },
      "source": [
        "En Python desde la versión 2.5 adelante, nos entrega una forma más fácil de leer archivos con la palabra reservada with."
      ]
    },
    {
      "cell_type": "code",
      "metadata": {
        "colab_type": "code",
        "id": "vosJ1MkozXKv",
        "colab": {}
      },
      "source": [
        "with open(\"prueba.txt\", \"r\") as archivo:\n",
        "    print(archivo.read())"
      ],
      "execution_count": 0,
      "outputs": []
    },
    {
      "cell_type": "markdown",
      "metadata": {
        "colab_type": "text",
        "id": "dNI2sekGzy3o"
      },
      "source": [
        "En el código fuente se puede apreciar que en pocas líneas de código leemos un objeto file y el mismo interprete se encarga de cerrar el archivo evitándonos utilizar el método close()\n",
        "\n"
      ]
    },
    {
      "cell_type": "markdown",
      "metadata": {
        "id": "kvt1SjIFGyET",
        "colab_type": "text"
      },
      "source": [
        "# Archivos JSON"
      ]
    },
    {
      "cell_type": "markdown",
      "metadata": {
        "id": "apg2DXVSG0Z2",
        "colab_type": "text"
      },
      "source": [
        "El formato **JSON (JavaScript Object Notation)** es comúnmente utilizado para la transferencia de datos por la red, es un formato simple y muy utilizado en todo tipo de aplicaciones web para el intercambio de datos entre el cliente y el servidor de datos.\n",
        "\n",
        "Utilizar el formato JSON en Python es muy fácil con el módulo json el cual cuenta con sus dos funciones principales, **json.dumps()** y **json.loads()**, para crear y cargar una estructura de datos en formato JSON."
      ]
    },
    {
      "cell_type": "markdown",
      "metadata": {
        "id": "F_gBgEbVHOC5",
        "colab_type": "text"
      },
      "source": [
        "## Python a JSON\n",
        "\n",
        "Python hace que sea sencillo trabajar con archivos JSON. El módulo utilizado para este propósito es el módulo json. Este módulo debe ser incluido (built-in) dentro de tu instalación Python y, por lo tanto, no será necesario instalar módulos externos como se tendría que hacer para trabajar con archivos PDF y Excel, por ejemplo. Lo único que necesitas hacer con el fin de utilizar este módulo es importarlo:"
      ]
    },
    {
      "cell_type": "code",
      "metadata": {
        "id": "_d2tAd9eHAOM",
        "colab_type": "code",
        "colab": {}
      },
      "source": [
        "import json\n",
        "\n",
        "datos = {\n",
        "    'nombre' : 'Roy Yali',\n",
        "    'edad'   : 25,\n",
        "    'pais'   : 'Perú'\n",
        "}\n",
        "\n",
        "json_str = json.dumps(datos)"
      ],
      "execution_count": 0,
      "outputs": []
    },
    {
      "cell_type": "markdown",
      "metadata": {
        "id": "07l4gYgxHg--",
        "colab_type": "text"
      },
      "source": [
        "Si deseas ver la salida, haz un print json_str. Si todo ha salido bien obtendrás el siguiente resultado:"
      ]
    },
    {
      "cell_type": "code",
      "metadata": {
        "id": "D_Bf7cC9HlGa",
        "colab_type": "code",
        "colab": {
          "base_uri": "https://localhost:8080/",
          "height": 34
        },
        "outputId": "bfdbc0b1-a129-46e0-d4b5-dd0f385fd1b7"
      },
      "source": [
        "print('Datos en formato JSON:', json_str)"
      ],
      "execution_count": 2,
      "outputs": [
        {
          "output_type": "execute_result",
          "data": {
            "text/plain": [
              "{'age': 39, 'name': 'Frank'}"
            ]
          },
          "metadata": {
            "tags": []
          },
          "execution_count": 2
        }
      ]
    },
    {
      "cell_type": "markdown",
      "metadata": {
        "id": "rG7h-_kgHpPq",
        "colab_type": "text"
      },
      "source": [
        "Es decir, los datos se devuelven como si fuese un diccionario de Python. Por lo tanto, la declaración print json_str[\"name\"], ¿devolverá algo? Inténtalo..."
      ]
    },
    {
      "cell_type": "markdown",
      "metadata": {
        "id": "SkZelZQUISb9",
        "colab_type": "text"
      },
      "source": [
        "## JSON a Python\n",
        "\n",
        "Leer JSON significa convertir el JSON en un valor de Python (objeto). Como hemos mencionado anteriormente, la librería json parsea el JSON en un diccionario o en una lista en Python. Con el fin de hacer eso, utilizamos la función loads(), de la siguiente manera:"
      ]
    },
    {
      "cell_type": "code",
      "metadata": {
        "id": "y5_eNZt0IYAJ",
        "colab_type": "code",
        "colab": {}
      },
      "source": [
        "str_json = \"\"\"\n",
        "    {\n",
        "        \"nombre\": \"Juan Perez\",\n",
        "        \"edad\": 18,\n",
        "        \"pais\": \"Panama\"\n",
        "    }\n",
        "\"\"\"\n",
        "\n",
        "json_dat = json.loads(str_json);"
      ],
      "execution_count": 0,
      "outputs": []
    },
    {
      "cell_type": "code",
      "metadata": {
        "id": "zmofMWHrHlbz",
        "colab_type": "code",
        "colab": {
          "base_uri": "https://localhost:8080/",
          "height": 34
        },
        "outputId": "f9407962-f3dd-4917-e205-08792ea9419d"
      },
      "source": [
        "print(\"Objeto tipo diccionario:\", json_dat)"
      ],
      "execution_count": 6,
      "outputs": [
        {
          "output_type": "stream",
          "text": [
            "Objeto tipo diccionario: {'nombre': 'Juan Perez', 'edad': 18, 'pais': 'Panama'}\n"
          ],
          "name": "stdout"
        }
      ]
    },
    {
      "cell_type": "markdown",
      "metadata": {
        "id": "3G6q9rGLItKS",
        "colab_type": "text"
      },
      "source": [
        "## Leer o guardar un archivo en formato JSON"
      ]
    },
    {
      "cell_type": "markdown",
      "metadata": {
        "id": "mLkhtb8wI3tB",
        "colab_type": "text"
      },
      "source": [
        "Cuando deseemos leer o guardar un archivo en formato JSON usaremos las funciones dump() y load() nótese que son diferentes a las anteriores, estas no terminan en “s”.\n",
        "\n",
        "Primero veamos como escribir un archivo en formato JSON, debemos indicarle a la función cuales son los datos que deseamos guardar y el archivo en el que lo haremos."
      ]
    },
    {
      "cell_type": "code",
      "metadata": {
        "id": "LsNu5lVRIwlE",
        "colab_type": "code",
        "colab": {}
      },
      "source": [
        "import json\n",
        "\n",
        "datos = {\n",
        "    'nombre' : 'Juan Perez',\n",
        "    'edad'   : 18,\n",
        "    'pais'   : 'Panama'\n",
        "}\n",
        "\n",
        "with open('datos.json', 'w') as file:\n",
        "    json.dump(datos, file)"
      ],
      "execution_count": 0,
      "outputs": []
    },
    {
      "cell_type": "markdown",
      "metadata": {
        "id": "FSOebpL-I8eY",
        "colab_type": "text"
      },
      "source": [
        "De modo similar leemos el archivo datos.json que acabamos de crear."
      ]
    },
    {
      "cell_type": "code",
      "metadata": {
        "id": "EtuRVWJ5I68o",
        "colab_type": "code",
        "colab": {}
      },
      "source": [
        "with open('datos.json', 'r') as file:\n",
        "    data = json.load(file)\n",
        "    print(data)"
      ],
      "execution_count": 0,
      "outputs": []
    }
  ]
}