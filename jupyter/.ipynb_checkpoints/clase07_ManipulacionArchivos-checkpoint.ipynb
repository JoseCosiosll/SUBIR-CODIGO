{
 "cells": [
  {
   "cell_type": "markdown",
   "metadata": {
    "colab_type": "text",
    "id": "view-in-github"
   },
   "source": [
    "<a href=\"https://colab.research.google.com/github/ryali93/UNMSM_programacion2019-1/blob/master/jupyter/clase07_ManipulacionArchivos.ipynb\" target=\"_parent\"><img src=\"https://colab.research.google.com/assets/colab-badge.svg\" alt=\"Open In Colab\"/></a>"
   ]
  },
  {
   "cell_type": "markdown",
   "metadata": {
    "colab_type": "text",
    "id": "3mnoXSdTr_Oa"
   },
   "source": [
    "# Clase 07\n",
    "# Manipulación de archivos"
   ]
  },
  {
   "cell_type": "markdown",
   "metadata": {
    "colab_type": "text",
    "id": "uGIvBamPsYiH"
   },
   "source": [
    "En la última década se ha incrementado las fuentes desde las que se puede obtener y desplegar información (datos) que un sistema informatico consume, gestiona y genera. En Python existe una gran variedad de métodos para presentar la salida de datos, los cuales pueden ser impresos de manera legible para los humanos, o escritos a un archivo para su uso futuro. En este capítulo se tratará algunas de las posibilidades.\n"
   ]
  },
  {
   "cell_type": "markdown",
   "metadata": {
    "colab_type": "text",
    "id": "1fRElhGpTaD6"
   },
   "source": [
    "## Función open()\n",
    "\n",
    "Antes de leer o escribir en un archivo, hay que abrirlo utilizando la función open() . Esta función crea un objeto file que se utiliza para llamar a otros métodos de apoyo asociados con ella.\n",
    "\n",
    "Sintaxis:\n",
    "\n",
    "archivo = open(Nombre_archivo ,< Modo Apertura>, < Buffer>)\n",
    "\n",
    "**Nombre_archivo:** El argumento Nombre_archivo es un valor de cadena que contiene el nombre del archivo que se desea acceder.\n",
    "\n",
    "**Modo_apertura:** Determina el modo en el que el archivo tiene que ser abierto, es decir, leer, escribir, añadir, etc. Este es un parámetro opcional y se lee el modo de acceso de archivos por defecto (r).\n",
    "\n",
    "**Búfer:** determina el tamaño del buffer indicado."
   ]
  },
  {
   "cell_type": "markdown",
   "metadata": {
    "colab_type": "text",
    "id": "IYMtKmOJU3MO"
   },
   "source": [
    "| Modos | Descripción |\n",
    "|------|------|\n",
    "|  **r**  | Abre un archivo de sólo lectura. Este es el modo por defecto. |\n",
    "|  **rb**  | Abre un archivo de sólo lectura en formato binario. |\n",
    "|  **r+**  | Abre un archivo en modo de lectura y escritura. |\n",
    "|  **rb+**  | Abre un archivo para lectura y escritura en formato binario. |\n",
    "|  **w**  | Abre un archivo para sólo escritura. Sobrescribe el archivo si existe. Si no existe el archivo, crea un nuevo archivo para escritura. |\n",
    "|  **wb**  | Abre un archivo para escribir en formato binario. Sobrescribe el archivo si existe. Si no existe el archivo, crea un nuevo archivo para escritura. |\n",
    "|  **w+**  | Abre un archivo para escritura y lectura. Sobrescribe el archivo existente. Si no existe el archivo, crea un nuevo archivo para la lectura y la escritura. |\n",
    "|  **WB+** | Abre un archivo para escritura y lectura en formato binario. Sobrescribe el archivo existente. Si no existe el archivo, crea uno nuevo. |\n",
    "|  **un**  | Abre un archivo para anexar. Si no existe el archivo, se crea un nuevo archivo para escritura. |\n",
    "|  **ab**  | Abre un archivo para anexar en formato binario. Si no existe el archivo, se crea un nuevo archivo para escritura. |\n",
    "|  **a+**  | Abre un archivo tanto para anexar y lectura. Si no existe el archivo, se crea un nuevo archivo para la lectura y la escritura. |\n",
    "|  **ab+** | Abre un archivo tanto para anexar y la lectura en formato binario. Si no existe el archivo, se crea un nuevo archivo para la lectura y la escritura. |"
   ]
  },
  {
   "cell_type": "markdown",
   "metadata": {
    "colab_type": "text",
    "id": "lO8T74KTwj8G"
   },
   "source": [
    "### Atributos del objeto File\n",
    "\n",
    "Una vez que se abre un archivo, se puede obtener diversa información relacionada con ese archivo. Aquí está una lista de algunos atributos relacionados con el objeto File:\n",
    "\n",
    "\n",
    "\n",
    "| Atributo | Descripción |\n",
    "|------|------|\n",
    "|  **file.closed**  | Devuelve true si el archivo está cerrado, falso en caso que este abierto. |\n",
    "|  **file.mode**  | Devuelve el modo de acceso con el que se abrió el objeto. |\n",
    "|  **file.name**  | Devuelve el nombre del archivo. |"
   ]
  },
  {
   "cell_type": "code",
   "execution_count": 0,
   "metadata": {
    "colab": {},
    "colab_type": "code",
    "id": "0CTB25uOxRzs"
   },
   "outputs": [],
   "source": [
    "archivo = open(\"prueba.txt\", \"wb\")\n",
    "print(\"Nombre archivo: \"+ archivo)"
   ]
  },
  {
   "cell_type": "code",
   "execution_count": 0,
   "metadata": {
    "colab": {},
    "colab_type": "code",
    "id": "uMOgiInTxbWG"
   },
   "outputs": [],
   "source": [
    "print(\"Esta cerrado?\" + str(archivo.closed))"
   ]
  },
  {
   "cell_type": "code",
   "execution_count": 0,
   "metadata": {
    "colab": {},
    "colab_type": "code",
    "id": "POl5xFucxgs_"
   },
   "outputs": [],
   "source": [
    "print(\"Modo de apertura: \" + archivo.mode)"
   ]
  },
  {
   "cell_type": "code",
   "execution_count": 0,
   "metadata": {
    "colab": {},
    "colab_type": "code",
    "id": "2c39-t9QxmOz"
   },
   "outputs": [],
   "source": [
    "archivo.close()"
   ]
  },
  {
   "cell_type": "code",
   "execution_count": 0,
   "metadata": {
    "colab": {},
    "colab_type": "code",
    "id": "kvHGFRc-xofI"
   },
   "outputs": [],
   "source": [
    "print(\"Esta cerrado?\" + str(archivo.closed))"
   ]
  },
  {
   "cell_type": "markdown",
   "metadata": {
    "colab_type": "text",
    "id": "aYrh8koqxuQG"
   },
   "source": [
    "Se puede apreciar en el código fuente como que después de ejecutar el método close, se cierra el puntero que estaba sobre el archivo.\n",
    "\n"
   ]
  },
  {
   "cell_type": "markdown",
   "metadata": {
    "colab_type": "text",
    "id": "S_4lYGHHxxBd"
   },
   "source": [
    "## Lectura y escritura de archivos\n",
    "\n",
    "El objeto de File proporciona un conjunto de métodos de acceso para hacernos la vida más fácil. En los siguientes ejemplo vamos a utilizar los métodos  read () y write () para leer y escribir archivos."
   ]
  },
  {
   "cell_type": "markdown",
   "metadata": {
    "colab_type": "text",
    "id": "YfSmCjmzx00D"
   },
   "source": [
    "### Método write()\n",
    "\n",
    "El método de write () escribe cualquier tipo de cadena en un archivo abierto. Es importante tener en cuenta que las cadenas en Python pueden tener datos binarios y no sólo de texto. El método de write() no añade saltos de linea **\\ n** al final de la cadena, por lo que tendremos que agregarlo nosotros en el código:"
   ]
  },
  {
   "cell_type": "code",
   "execution_count": 0,
   "metadata": {
    "colab": {},
    "colab_type": "code",
    "id": "BNeq8Vg1x8iV"
   },
   "outputs": [],
   "source": [
    "archivo = open(\"prueba.txt\", \"wb\")"
   ]
  },
  {
   "cell_type": "code",
   "execution_count": 0,
   "metadata": {
    "colab": {},
    "colab_type": "code",
    "id": "iA13VlLMyANd"
   },
   "outputs": [],
   "source": [
    "archivo.write(\"www.python.org\\n\")\n",
    "archivo.write(\"www.google.com\\n\")\n",
    "archivo.write(\"www.gmail.com\\n\")\n",
    "archivo.close()"
   ]
  },
  {
   "cell_type": "markdown",
   "metadata": {
    "colab_type": "text",
    "id": "QYUw1mDYyK77"
   },
   "source": [
    "En el ejemplo agregamos 3 host al archivo prueba.txt"
   ]
  },
  {
   "cell_type": "markdown",
   "metadata": {
    "colab_type": "text",
    "id": "vN9vGygoyzKF"
   },
   "source": [
    "### Método read ()\n",
    "\n",
    "El método de read () lee una cadena de un archivo abierto. Es importante tener en cuenta que las cadenas en Python pueden tener datos binarios. Además de los datos de texto.\n",
    "\n"
   ]
  },
  {
   "cell_type": "code",
   "execution_count": 0,
   "metadata": {
    "colab": {},
    "colab_type": "code",
    "id": "7NKqJrwey15m"
   },
   "outputs": [],
   "source": [
    "archivo = open(\"prueba.txt\", \"r\")\n",
    "contenido = archivo.read()\n",
    "print(contenido)"
   ]
  },
  {
   "cell_type": "markdown",
   "metadata": {
    "colab_type": "text",
    "id": "-1Vk0jJLy94g"
   },
   "source": [
    "En la línea 1 abrimos en modo lectura (r) el archivo que ya estaba escrito por el ejemplo anterior y utilizamos el método read() para traernos el contenido.\n",
    "\n",
    "En la línea 1 abrimos en modo lectura (r) el archivo que ya estaba escrito por el ejemplo anterior y utilizamos el método read() para traernos el contenido.\n"
   ]
  },
  {
   "cell_type": "code",
   "execution_count": 0,
   "metadata": {
    "colab": {},
    "colab_type": "code",
    "id": "SLvse3y1zAtv"
   },
   "outputs": [],
   "source": [
    "archivo = open(\"prueba.txt\", \"wb\")\n",
    "archivo.write(\"www.python.org\\n\")\n",
    "archivo.write(\"www.google.com\\n\")\n",
    "archivo.write(\"www.gmail.com\\n\")\n",
    "archivo.close()\n",
    "\n",
    "archivo.open(\"prueba.txt\", \"r\")\n",
    "for lista in archivo.readlines():\n",
    "    print(lista)"
   ]
  },
  {
   "cell_type": "markdown",
   "metadata": {
    "colab_type": "text",
    "id": "qOUka0vKzWK0"
   },
   "source": [
    "En Python desde la versión 2.5 adelante, nos entrega una forma más fácil de leer archivos con la palabra reservada with."
   ]
  },
  {
   "cell_type": "code",
   "execution_count": 0,
   "metadata": {
    "colab": {},
    "colab_type": "code",
    "id": "vosJ1MkozXKv"
   },
   "outputs": [],
   "source": [
    "with open(\"prueba.txt\", \"r\") as archivo:\n",
    "    print(archivo.read())"
   ]
  },
  {
   "cell_type": "markdown",
   "metadata": {
    "colab_type": "text",
    "id": "dNI2sekGzy3o"
   },
   "source": [
    "En el código fuente se puede apreciar que en pocas líneas de código leemos un objeto file y el mismo interprete se encarga de cerrar el archivo evitándonos utilizar el método close()\n",
    "\n"
   ]
  }
 ],
 "metadata": {
  "colab": {
   "collapsed_sections": [],
   "include_colab_link": true,
   "name": "clase07_ManipulacionArchivos.ipynb",
   "provenance": [],
   "version": "0.3.2"
  },
  "kernelspec": {
   "display_name": "Python 3",
   "language": "python",
   "name": "python3"
  },
  "language_info": {
   "codemirror_mode": {
    "name": "ipython",
    "version": 3
   },
   "file_extension": ".py",
   "mimetype": "text/x-python",
   "name": "python",
   "nbconvert_exporter": "python",
   "pygments_lexer": "ipython3",
   "version": "3.6.7"
  }
 },
 "nbformat": 4,
 "nbformat_minor": 1
}
