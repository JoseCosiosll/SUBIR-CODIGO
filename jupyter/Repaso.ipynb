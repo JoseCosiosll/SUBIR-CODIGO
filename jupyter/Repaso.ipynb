{
  "nbformat": 4,
  "nbformat_minor": 0,
  "metadata": {
    "colab": {
      "name": "Repaso.ipynb",
      "version": "0.3.2",
      "provenance": [],
      "include_colab_link": true
    },
    "kernelspec": {
      "name": "python3",
      "display_name": "Python 3"
    }
  },
  "cells": [
    {
      "cell_type": "markdown",
      "metadata": {
        "id": "view-in-github",
        "colab_type": "text"
      },
      "source": [
        "<a href=\"https://colab.research.google.com/github/ryali93/UNMSM_programacion/blob/master/jupyter/Repaso.ipynb\" target=\"_parent\"><img src=\"https://colab.research.google.com/assets/colab-badge.svg\" alt=\"Open In Colab\"/></a>"
      ]
    },
    {
      "cell_type": "code",
      "metadata": {
        "id": "CT9Hq8gxvw4Q",
        "colab_type": "code",
        "colab": {}
      },
      "source": [
        "import pandas as pd"
      ],
      "execution_count": 0,
      "outputs": []
    },
    {
      "cell_type": "code",
      "metadata": {
        "id": "KFESUk5Kw2WW",
        "colab_type": "code",
        "colab": {
          "base_uri": "https://localhost:8080/",
          "height": 430
        },
        "outputId": "15663043-2d94-40ce-a3b6-25c8cd8c29a7"
      },
      "source": [
        "data = pd.read_excel(\"hidrobiologiaEATtiamaria.xlsx\")\n",
        "data.head()"
      ],
      "execution_count": 14,
      "outputs": [
        {
          "output_type": "execute_result",
          "data": {
            "text/html": [
              "<div>\n",
              "<style scoped>\n",
              "    .dataframe tbody tr th:only-of-type {\n",
              "        vertical-align: middle;\n",
              "    }\n",
              "\n",
              "    .dataframe tbody tr th {\n",
              "        vertical-align: top;\n",
              "    }\n",
              "\n",
              "    .dataframe thead th {\n",
              "        text-align: right;\n",
              "    }\n",
              "</style>\n",
              "<table border=\"1\" class=\"dataframe\">\n",
              "  <thead>\n",
              "    <tr style=\"text-align: right;\">\n",
              "      <th></th>\n",
              "      <th>Nombre del punto</th>\n",
              "      <th>Este</th>\n",
              "      <th>Norte</th>\n",
              "      <th>Zona</th>\n",
              "      <th>Datum</th>\n",
              "      <th>Altitud</th>\n",
              "      <th>Comunidades identificadas</th>\n",
              "      <th>Descripción de ubicación</th>\n",
              "    </tr>\n",
              "  </thead>\n",
              "  <tbody>\n",
              "    <tr>\n",
              "      <th>0</th>\n",
              "      <td>RTamb5</td>\n",
              "      <td>204853</td>\n",
              "      <td>8103600</td>\n",
              "      <td>19 Sur</td>\n",
              "      <td>WGS84</td>\n",
              "      <td>30</td>\n",
              "      <td>Perifiton, macroinvertebrados bentónicos, nect...</td>\n",
              "      <td>Rio Tambo, a la altura del puente Freyre, apro...</td>\n",
              "    </tr>\n",
              "    <tr>\n",
              "      <th>1</th>\n",
              "      <td>RTamb4</td>\n",
              "      <td>207797</td>\n",
              "      <td>8106922</td>\n",
              "      <td>19 Sur</td>\n",
              "      <td>WGS84</td>\n",
              "      <td>59</td>\n",
              "      <td>Perifiton, macroinvertebrados bentónicos, nect...</td>\n",
              "      <td>Rio Tambo, aproximadamente 5 km aguas arriba d...</td>\n",
              "    </tr>\n",
              "    <tr>\n",
              "      <th>2</th>\n",
              "      <td>RTamb7</td>\n",
              "      <td>231616</td>\n",
              "      <td>8115119</td>\n",
              "      <td>19 Sur</td>\n",
              "      <td>WGS84</td>\n",
              "      <td>370</td>\n",
              "      <td>Perifiton, macroinvertebrados bentónicos</td>\n",
              "      <td>Rio Tambo, en la zona llamada Carrizal, aguas ...</td>\n",
              "    </tr>\n",
              "    <tr>\n",
              "      <th>3</th>\n",
              "      <td>RTamb6</td>\n",
              "      <td>197967</td>\n",
              "      <td>8099495</td>\n",
              "      <td>19 Sur</td>\n",
              "      <td>WGS84</td>\n",
              "      <td>15</td>\n",
              "      <td>Perifiton, macroinvertebrados bentónicos</td>\n",
              "      <td>Cerca de la desembocadura del rio Tambo, en el...</td>\n",
              "    </tr>\n",
              "    <tr>\n",
              "      <th>4</th>\n",
              "      <td>RTamb3</td>\n",
              "      <td>209951</td>\n",
              "      <td>8112945</td>\n",
              "      <td>19 Sur</td>\n",
              "      <td>WGS84</td>\n",
              "      <td>97</td>\n",
              "      <td>Perifiton, macroinvertebrados bentónicos</td>\n",
              "      <td>Rio Tambo, en la bocatoma de la junta de usuar...</td>\n",
              "    </tr>\n",
              "  </tbody>\n",
              "</table>\n",
              "</div>"
            ],
            "text/plain": [
              "  Nombre del punto  ...                           Descripción de ubicación\n",
              "0           RTamb5  ...  Rio Tambo, a la altura del puente Freyre, apro...\n",
              "1           RTamb4  ...  Rio Tambo, aproximadamente 5 km aguas arriba d...\n",
              "2           RTamb7  ...  Rio Tambo, en la zona llamada Carrizal, aguas ...\n",
              "3           RTamb6  ...  Cerca de la desembocadura del rio Tambo, en el...\n",
              "4           RTamb3  ...  Rio Tambo, en la bocatoma de la junta de usuar...\n",
              "\n",
              "[5 rows x 8 columns]"
            ]
          },
          "metadata": {
            "tags": []
          },
          "execution_count": 14
        }
      ]
    },
    {
      "cell_type": "code",
      "metadata": {
        "id": "v3udq0yUxEvL",
        "colab_type": "code",
        "colab": {
          "base_uri": "https://localhost:8080/",
          "height": 414
        },
        "outputId": "31892797-e758-40a6-f986-7613a1efb46b"
      },
      "source": [
        "data[data[\"Altitud\"] < 0]"
      ],
      "execution_count": 3,
      "outputs": [
        {
          "output_type": "execute_result",
          "data": {
            "text/html": [
              "<div>\n",
              "<style scoped>\n",
              "    .dataframe tbody tr th:only-of-type {\n",
              "        vertical-align: middle;\n",
              "    }\n",
              "\n",
              "    .dataframe tbody tr th {\n",
              "        vertical-align: top;\n",
              "    }\n",
              "\n",
              "    .dataframe thead th {\n",
              "        text-align: right;\n",
              "    }\n",
              "</style>\n",
              "<table border=\"1\" class=\"dataframe\">\n",
              "  <thead>\n",
              "    <tr style=\"text-align: right;\">\n",
              "      <th></th>\n",
              "      <th>Nombre del punto</th>\n",
              "      <th>Este</th>\n",
              "      <th>Norte</th>\n",
              "      <th>Zona</th>\n",
              "      <th>Datum</th>\n",
              "      <th>Altitud</th>\n",
              "      <th>Comunidades identificadas</th>\n",
              "      <th>Descripción de ubicación</th>\n",
              "    </tr>\n",
              "  </thead>\n",
              "  <tbody>\n",
              "    <tr>\n",
              "      <th>7</th>\n",
              "      <td>LlMej1</td>\n",
              "      <td>193667</td>\n",
              "      <td>8103432</td>\n",
              "      <td>19 Sur</td>\n",
              "      <td>WGS84</td>\n",
              "      <td>-4</td>\n",
              "      <td>Macroinvertebrados bentónicos, fitoplancton, z...</td>\n",
              "      <td>En la laguna Mejia, cerca al mirador</td>\n",
              "    </tr>\n",
              "    <tr>\n",
              "      <th>9</th>\n",
              "      <td>LINor1</td>\n",
              "      <td>194013</td>\n",
              "      <td>8103214</td>\n",
              "      <td>19 Sur</td>\n",
              "      <td>WGS84</td>\n",
              "      <td>-2</td>\n",
              "      <td>Macroinvertebrados bentónicos, fitoplancton, z...</td>\n",
              "      <td>En el canal que abastece a la laguna Iberia no...</td>\n",
              "    </tr>\n",
              "    <tr>\n",
              "      <th>10</th>\n",
              "      <td>LISur1</td>\n",
              "      <td>195149</td>\n",
              "      <td>8101837</td>\n",
              "      <td>19 Sur</td>\n",
              "      <td>WGS84</td>\n",
              "      <td>-3</td>\n",
              "      <td>Macroinvertebrados bentónicos, fitoplancton, z...</td>\n",
              "      <td>Laguna Iberia sur</td>\n",
              "    </tr>\n",
              "    <tr>\n",
              "      <th>12</th>\n",
              "      <td>LBoq1</td>\n",
              "      <td>196838</td>\n",
              "      <td>8100253</td>\n",
              "      <td>19 Sur</td>\n",
              "      <td>WGS84</td>\n",
              "      <td>-7</td>\n",
              "      <td>Macroinvertebrados bentónicos, fitoplancton, z...</td>\n",
              "      <td>Laguna Boqueron</td>\n",
              "    </tr>\n",
              "    <tr>\n",
              "      <th>13</th>\n",
              "      <td>LICen1</td>\n",
              "      <td>194637</td>\n",
              "      <td>8102351</td>\n",
              "      <td>19 Sur</td>\n",
              "      <td>WGS84</td>\n",
              "      <td>-5</td>\n",
              "      <td>Macroinvertebrados bentónicos, fitoplancton, z...</td>\n",
              "      <td>Orillas de la laguna Iberia centro</td>\n",
              "    </tr>\n",
              "  </tbody>\n",
              "</table>\n",
              "</div>"
            ],
            "text/plain": [
              "   Nombre del punto  ...                           Descripción de ubicación\n",
              "7            LlMej1  ...               En la laguna Mejia, cerca al mirador\n",
              "9            LINor1  ...  En el canal que abastece a la laguna Iberia no...\n",
              "10           LISur1  ...                                  Laguna Iberia sur\n",
              "12            LBoq1  ...                                    Laguna Boqueron\n",
              "13           LICen1  ...                 Orillas de la laguna Iberia centro\n",
              "\n",
              "[5 rows x 8 columns]"
            ]
          },
          "metadata": {
            "tags": []
          },
          "execution_count": 3
        }
      ]
    },
    {
      "cell_type": "code",
      "metadata": {
        "id": "zO_iVd7rxcvO",
        "colab_type": "code",
        "colab": {
          "base_uri": "https://localhost:8080/",
          "height": 269
        },
        "outputId": "7d986ed6-c3e5-4e51-f111-ea8badbdc26d"
      },
      "source": [
        "data[\"Comunidades identificadas\"]"
      ],
      "execution_count": 4,
      "outputs": [
        {
          "output_type": "execute_result",
          "data": {
            "text/plain": [
              "0     Perifiton, macroinvertebrados bentónicos, nect...\n",
              "1     Perifiton, macroinvertebrados bentónicos, nect...\n",
              "2              Perifiton, macroinvertebrados bentónicos\n",
              "3              Perifiton, macroinvertebrados bentónicos\n",
              "4              Perifiton, macroinvertebrados bentónicos\n",
              "5              Perifiton, macroinvertebrados bentónicos\n",
              "6              Perifiton, macroinvertebrados bentónicos\n",
              "7     Macroinvertebrados bentónicos, fitoplancton, z...\n",
              "8     Macroinvertebrados bentónicos, fitoplancton, z...\n",
              "9     Macroinvertebrados bentónicos, fitoplancton, z...\n",
              "10    Macroinvertebrados bentónicos, fitoplancton, z...\n",
              "11    Macroinvertebrados bentónicos, fitoplancton, z...\n",
              "12    Macroinvertebrados bentónicos, fitoplancton, z...\n",
              "13    Macroinvertebrados bentónicos, fitoplancton, z...\n",
              "Name: Comunidades identificadas, dtype: object"
            ]
          },
          "metadata": {
            "tags": []
          },
          "execution_count": 4
        }
      ]
    },
    {
      "cell_type": "code",
      "metadata": {
        "id": "GqMlbamlzpMQ",
        "colab_type": "code",
        "colab": {}
      },
      "source": [
        "anita = \"Anita lava la tina\".split(\" \")"
      ],
      "execution_count": 0,
      "outputs": []
    },
    {
      "cell_type": "code",
      "metadata": {
        "id": "XLFfcg0qz-V_",
        "colab_type": "code",
        "colab": {
          "base_uri": "https://localhost:8080/",
          "height": 34
        },
        "outputId": "7297e057-4f99-4ab2-e2f4-a221045575d0"
      },
      "source": [
        "print(anita)\n",
        "if \"no\" in anita:\n",
        "  print(\"Hola\")"
      ],
      "execution_count": 13,
      "outputs": [
        {
          "output_type": "stream",
          "text": [
            "['Anita', 'lava', 'la', 'tina']\n"
          ],
          "name": "stdout"
        }
      ]
    },
    {
      "cell_type": "code",
      "metadata": {
        "id": "gHoGCeNUzQZM",
        "colab_type": "code",
        "colab": {
          "base_uri": "https://localhost:8080/",
          "height": 269
        },
        "outputId": "f78b1412-738b-40b5-d3a2-f305804672d1"
      },
      "source": [
        "data[\"Comunidades identificadas\"].str.split(\", \")"
      ],
      "execution_count": 8,
      "outputs": [
        {
          "output_type": "execute_result",
          "data": {
            "text/plain": [
              "0     [Perifiton, macroinvertebrados bentónicos, nec...\n",
              "1     [Perifiton, macroinvertebrados bentónicos, nec...\n",
              "2            [Perifiton, macroinvertebrados bentónicos]\n",
              "3            [Perifiton, macroinvertebrados bentónicos]\n",
              "4            [Perifiton, macroinvertebrados bentónicos]\n",
              "5            [Perifiton, macroinvertebrados bentónicos]\n",
              "6            [Perifiton, macroinvertebrados bentónicos]\n",
              "7     [Macroinvertebrados bentónicos, fitoplancton, ...\n",
              "8     [Macroinvertebrados bentónicos, fitoplancton, ...\n",
              "9     [Macroinvertebrados bentónicos, fitoplancton, ...\n",
              "10    [Macroinvertebrados bentónicos, fitoplancton, ...\n",
              "11    [Macroinvertebrados bentónicos, fitoplancton, ...\n",
              "12    [Macroinvertebrados bentónicos, fitoplancton, ...\n",
              "13    [Macroinvertebrados bentónicos, fitoplancton, ...\n",
              "Name: Comunidades identificadas, dtype: object"
            ]
          },
          "metadata": {
            "tags": []
          },
          "execution_count": 8
        }
      ]
    },
    {
      "cell_type": "code",
      "metadata": {
        "id": "A1IwOhLKy2sT",
        "colab_type": "code",
        "colab": {}
      },
      "source": [
        "lista = []\n",
        "for x in data[\"Comunidades identificadas\"].str.split(\", \"):\n",
        "    if \"fitoplancton\" in x:\n",
        "        lista.append(\"Si\")\n",
        "    else:\n",
        "        lista.append(\"No\")"
      ],
      "execution_count": 0,
      "outputs": []
    },
    {
      "cell_type": "code",
      "metadata": {
        "id": "o1g7v3tdy40u",
        "colab_type": "code",
        "colab": {}
      },
      "source": [
        "data[\"Fitoplancton\"] = lista"
      ],
      "execution_count": 0,
      "outputs": []
    },
    {
      "cell_type": "code",
      "metadata": {
        "id": "Kzqu1Vszy7El",
        "colab_type": "code",
        "colab": {
          "base_uri": "https://localhost:8080/",
          "height": 450
        },
        "outputId": "c20e7303-0eb1-46e3-dd27-27d2eb65fd70"
      },
      "source": [
        "data.head()"
      ],
      "execution_count": 20,
      "outputs": [
        {
          "output_type": "execute_result",
          "data": {
            "text/html": [
              "<div>\n",
              "<style scoped>\n",
              "    .dataframe tbody tr th:only-of-type {\n",
              "        vertical-align: middle;\n",
              "    }\n",
              "\n",
              "    .dataframe tbody tr th {\n",
              "        vertical-align: top;\n",
              "    }\n",
              "\n",
              "    .dataframe thead th {\n",
              "        text-align: right;\n",
              "    }\n",
              "</style>\n",
              "<table border=\"1\" class=\"dataframe\">\n",
              "  <thead>\n",
              "    <tr style=\"text-align: right;\">\n",
              "      <th></th>\n",
              "      <th>Nombre del punto</th>\n",
              "      <th>Este</th>\n",
              "      <th>Norte</th>\n",
              "      <th>Zona</th>\n",
              "      <th>Datum</th>\n",
              "      <th>Altitud</th>\n",
              "      <th>Comunidades identificadas</th>\n",
              "      <th>Descripción de ubicación</th>\n",
              "      <th>Fitoplancton</th>\n",
              "    </tr>\n",
              "  </thead>\n",
              "  <tbody>\n",
              "    <tr>\n",
              "      <th>0</th>\n",
              "      <td>RTamb5</td>\n",
              "      <td>204853</td>\n",
              "      <td>8103600</td>\n",
              "      <td>19 Sur</td>\n",
              "      <td>WGS84</td>\n",
              "      <td>30</td>\n",
              "      <td>Perifiton, macroinvertebrados bentónicos, nect...</td>\n",
              "      <td>Rio Tambo, a la altura del puente Freyre, apro...</td>\n",
              "      <td>Si</td>\n",
              "    </tr>\n",
              "    <tr>\n",
              "      <th>1</th>\n",
              "      <td>RTamb4</td>\n",
              "      <td>207797</td>\n",
              "      <td>8106922</td>\n",
              "      <td>19 Sur</td>\n",
              "      <td>WGS84</td>\n",
              "      <td>59</td>\n",
              "      <td>Perifiton, macroinvertebrados bentónicos, nect...</td>\n",
              "      <td>Rio Tambo, aproximadamente 5 km aguas arriba d...</td>\n",
              "      <td>Si</td>\n",
              "    </tr>\n",
              "    <tr>\n",
              "      <th>2</th>\n",
              "      <td>RTamb7</td>\n",
              "      <td>231616</td>\n",
              "      <td>8115119</td>\n",
              "      <td>19 Sur</td>\n",
              "      <td>WGS84</td>\n",
              "      <td>370</td>\n",
              "      <td>Perifiton, macroinvertebrados bentónicos</td>\n",
              "      <td>Rio Tambo, en la zona llamada Carrizal, aguas ...</td>\n",
              "      <td>No</td>\n",
              "    </tr>\n",
              "    <tr>\n",
              "      <th>3</th>\n",
              "      <td>RTamb6</td>\n",
              "      <td>197967</td>\n",
              "      <td>8099495</td>\n",
              "      <td>19 Sur</td>\n",
              "      <td>WGS84</td>\n",
              "      <td>15</td>\n",
              "      <td>Perifiton, macroinvertebrados bentónicos</td>\n",
              "      <td>Cerca de la desembocadura del rio Tambo, en el...</td>\n",
              "      <td>No</td>\n",
              "    </tr>\n",
              "    <tr>\n",
              "      <th>4</th>\n",
              "      <td>RTamb3</td>\n",
              "      <td>209951</td>\n",
              "      <td>8112945</td>\n",
              "      <td>19 Sur</td>\n",
              "      <td>WGS84</td>\n",
              "      <td>97</td>\n",
              "      <td>Perifiton, macroinvertebrados bentónicos</td>\n",
              "      <td>Rio Tambo, en la bocatoma de la junta de usuar...</td>\n",
              "      <td>No</td>\n",
              "    </tr>\n",
              "  </tbody>\n",
              "</table>\n",
              "</div>"
            ],
            "text/plain": [
              "  Nombre del punto  ...  Fitoplancton\n",
              "0           RTamb5  ...            Si\n",
              "1           RTamb4  ...            Si\n",
              "2           RTamb7  ...            No\n",
              "3           RTamb6  ...            No\n",
              "4           RTamb3  ...            No\n",
              "\n",
              "[5 rows x 9 columns]"
            ]
          },
          "metadata": {
            "tags": []
          },
          "execution_count": 20
        }
      ]
    },
    {
      "cell_type": "code",
      "metadata": {
        "id": "qXecuqmZ1uMB",
        "colab_type": "code",
        "colab": {}
      },
      "source": [
        "!pip install geopandas"
      ],
      "execution_count": 0,
      "outputs": []
    },
    {
      "cell_type": "code",
      "metadata": {
        "id": "ZwPTaXRN1vbh",
        "colab_type": "code",
        "colab": {}
      },
      "source": [
        "import pandas as pd\n",
        "from geopandas import GeoDataFrame\n",
        "from shapely.geometry import Point\n",
        "import fiona"
      ],
      "execution_count": 0,
      "outputs": []
    },
    {
      "cell_type": "code",
      "metadata": {
        "id": "LF3FCWVQ1xyX",
        "colab_type": "code",
        "colab": {}
      },
      "source": [
        "geometry = [Point(xy) for xy in zip(data.Este, data.Norte)]\n",
        "crs = {'init': 'epsg:32719'} #https://www.spatialreference.org/ref/epsg/4326/"
      ],
      "execution_count": 0,
      "outputs": []
    },
    {
      "cell_type": "code",
      "metadata": {
        "id": "8jSaxUfs37w2",
        "colab_type": "code",
        "colab": {
          "base_uri": "https://localhost:8080/",
          "height": 450
        },
        "outputId": "6ccbfa88-9c7d-42b9-e737-30c9a1f81c63"
      },
      "source": [
        "geo_df = GeoDataFrame(data, crs=crs, geometry=geometry)\n",
        "geo_df.head()"
      ],
      "execution_count": 29,
      "outputs": [
        {
          "output_type": "execute_result",
          "data": {
            "text/html": [
              "<div>\n",
              "<style scoped>\n",
              "    .dataframe tbody tr th:only-of-type {\n",
              "        vertical-align: middle;\n",
              "    }\n",
              "\n",
              "    .dataframe tbody tr th {\n",
              "        vertical-align: top;\n",
              "    }\n",
              "\n",
              "    .dataframe thead th {\n",
              "        text-align: right;\n",
              "    }\n",
              "</style>\n",
              "<table border=\"1\" class=\"dataframe\">\n",
              "  <thead>\n",
              "    <tr style=\"text-align: right;\">\n",
              "      <th></th>\n",
              "      <th>Nombre del punto</th>\n",
              "      <th>Este</th>\n",
              "      <th>Norte</th>\n",
              "      <th>Zona</th>\n",
              "      <th>Datum</th>\n",
              "      <th>Altitud</th>\n",
              "      <th>Comunidades identificadas</th>\n",
              "      <th>Descripción de ubicación</th>\n",
              "      <th>Fitoplancton</th>\n",
              "      <th>geometry</th>\n",
              "    </tr>\n",
              "  </thead>\n",
              "  <tbody>\n",
              "    <tr>\n",
              "      <th>0</th>\n",
              "      <td>RTamb5</td>\n",
              "      <td>204853</td>\n",
              "      <td>8103600</td>\n",
              "      <td>19 Sur</td>\n",
              "      <td>WGS84</td>\n",
              "      <td>30</td>\n",
              "      <td>Perifiton, macroinvertebrados bentónicos, nect...</td>\n",
              "      <td>Rio Tambo, a la altura del puente Freyre, apro...</td>\n",
              "      <td>Si</td>\n",
              "      <td>POINT (204853 8103600)</td>\n",
              "    </tr>\n",
              "    <tr>\n",
              "      <th>1</th>\n",
              "      <td>RTamb4</td>\n",
              "      <td>207797</td>\n",
              "      <td>8106922</td>\n",
              "      <td>19 Sur</td>\n",
              "      <td>WGS84</td>\n",
              "      <td>59</td>\n",
              "      <td>Perifiton, macroinvertebrados bentónicos, nect...</td>\n",
              "      <td>Rio Tambo, aproximadamente 5 km aguas arriba d...</td>\n",
              "      <td>Si</td>\n",
              "      <td>POINT (207797 8106922)</td>\n",
              "    </tr>\n",
              "    <tr>\n",
              "      <th>2</th>\n",
              "      <td>RTamb7</td>\n",
              "      <td>231616</td>\n",
              "      <td>8115119</td>\n",
              "      <td>19 Sur</td>\n",
              "      <td>WGS84</td>\n",
              "      <td>370</td>\n",
              "      <td>Perifiton, macroinvertebrados bentónicos</td>\n",
              "      <td>Rio Tambo, en la zona llamada Carrizal, aguas ...</td>\n",
              "      <td>No</td>\n",
              "      <td>POINT (231616 8115119)</td>\n",
              "    </tr>\n",
              "    <tr>\n",
              "      <th>3</th>\n",
              "      <td>RTamb6</td>\n",
              "      <td>197967</td>\n",
              "      <td>8099495</td>\n",
              "      <td>19 Sur</td>\n",
              "      <td>WGS84</td>\n",
              "      <td>15</td>\n",
              "      <td>Perifiton, macroinvertebrados bentónicos</td>\n",
              "      <td>Cerca de la desembocadura del rio Tambo, en el...</td>\n",
              "      <td>No</td>\n",
              "      <td>POINT (197967 8099495)</td>\n",
              "    </tr>\n",
              "    <tr>\n",
              "      <th>4</th>\n",
              "      <td>RTamb3</td>\n",
              "      <td>209951</td>\n",
              "      <td>8112945</td>\n",
              "      <td>19 Sur</td>\n",
              "      <td>WGS84</td>\n",
              "      <td>97</td>\n",
              "      <td>Perifiton, macroinvertebrados bentónicos</td>\n",
              "      <td>Rio Tambo, en la bocatoma de la junta de usuar...</td>\n",
              "      <td>No</td>\n",
              "      <td>POINT (209951 8112945)</td>\n",
              "    </tr>\n",
              "  </tbody>\n",
              "</table>\n",
              "</div>"
            ],
            "text/plain": [
              "  Nombre del punto    Este  ...  Fitoplancton                geometry\n",
              "0           RTamb5  204853  ...            Si  POINT (204853 8103600)\n",
              "1           RTamb4  207797  ...            Si  POINT (207797 8106922)\n",
              "2           RTamb7  231616  ...            No  POINT (231616 8115119)\n",
              "3           RTamb6  197967  ...            No  POINT (197967 8099495)\n",
              "4           RTamb3  209951  ...            No  POINT (209951 8112945)\n",
              "\n",
              "[5 rows x 10 columns]"
            ]
          },
          "metadata": {
            "tags": []
          },
          "execution_count": 29
        }
      ]
    },
    {
      "cell_type": "code",
      "metadata": {
        "id": "fRCk0zUl4RAJ",
        "colab_type": "code",
        "colab": {
          "base_uri": "https://localhost:8080/",
          "height": 246
        },
        "outputId": "c8b2516c-71fe-462c-f416-d348ab2898f9"
      },
      "source": [
        "%matplotlib inline\n",
        "geo_df.plot()"
      ],
      "execution_count": 30,
      "outputs": [
        {
          "output_type": "execute_result",
          "data": {
            "text/plain": [
              "<matplotlib.axes._subplots.AxesSubplot at 0x7f3cc39a8a90>"
            ]
          },
          "metadata": {
            "tags": []
          },
          "execution_count": 30
        },
        {
          "output_type": "display_data",
          "data": {
            "image/png": "[encoded data removed]",
            "text/plain": [
              "<Figure size 432x288 with 1 Axes>"
            ]
          },
          "metadata": {
            "tags": []
          }
        }
      ]
    },
    {
      "cell_type": "code",
      "metadata": {
        "id": "ZEKz-2N78FuX",
        "colab_type": "code",
        "colab": {}
      },
      "source": [
        "gjson = geo_df.to_crs(epsg='4326').to_json()"
      ],
      "execution_count": 0,
      "outputs": []
    },
    {
      "cell_type": "code",
      "metadata": {
        "id": "lMulwUSy8dPk",
        "colab_type": "code",
        "colab": {
          "base_uri": "https://localhost:8080/",
          "height": 54
        },
        "outputId": "f4238dc9-c6d0-4565-d934-6841414f972e"
      },
      "source": [
        "gjson"
      ],
      "execution_count": 32,
      "outputs": [
        {
          "output_type": "execute_result",
          "data": {
            "text/plain": [
              "'{\"type\": \"FeatureCollection\", \"features\": [{\"id\": \"0\", \"type\": \"Feature\", \"properties\": {\"Altitud\": 30, \"Comunidades identificadas\": \"Perifiton, macroinvertebrados bent\\\\u00f3nicos, necton, fitoplancton, zooplancton\", \"Datum\": \"WGS84\", \"Descripci\\\\u00f3n de ubicaci\\\\u00f3n\": \"Rio Tambo, a la altura del puente Freyre, aproximadamente a 100 m de la bocatoma de la junta de usuarios de Punta de Bomb\\\\u00f3n\", \"Este\": 204853, \"Fitoplancton\": \"Si\", \"Nombre del punto\": \"RTamb5\", \"Norte\": 8103600, \"Zona\": \"19 Sur\"}, \"geometry\": {\"type\": \"Point\", \"coordinates\": [-71.77387733294381, -17.133233473559454]}}, {\"id\": \"1\", \"type\": \"Feature\", \"properties\": {\"Altitud\": 59, \"Comunidades identificadas\": \"Perifiton, macroinvertebrados bent\\\\u00f3nicos, necton, fitoplancton, zooplancton\", \"Datum\": \"WGS84\", \"Descripci\\\\u00f3n de ubicaci\\\\u00f3n\": \"Rio Tambo, aproximadamente 5 km aguas arriba del puente Freyre\", \"Este\": 207797, \"Fitoplancton\": \"Si\", \"Nombre del punto\": \"RTamb4\", \"Norte\": 8106922, \"Zona\": \"19 Sur\"}, \"geometry\": {\"type\": \"Point\", \"coordinates\": [-71.74579163838726, -17.103616636588672]}}, {\"id\": \"2\", \"type\": \"Feature\", \"properties\": {\"Altitud\": 370, \"Comunidades identificadas\": \"Perifiton, macroinvertebrados bent\\\\u00f3nicos\", \"Datum\": \"WGS84\", \"Descripci\\\\u00f3n de ubicaci\\\\u00f3n\": \"Rio Tambo, en la zona llamada Carrizal, aguas arriba del centro poblado El Toro\", \"Este\": 231616, \"Fitoplancton\": \"No\", \"Nombre del punto\": \"RTamb7\", \"Norte\": 8115119, \"Zona\": \"19 Sur\"}, \"geometry\": {\"type\": \"Point\", \"coordinates\": [-71.5211377585503, -17.03250239161238]}}, {\"id\": \"3\", \"type\": \"Feature\", \"properties\": {\"Altitud\": 15, \"Comunidades identificadas\": \"Perifiton, macroinvertebrados bent\\\\u00f3nicos\", \"Datum\": \"WGS84\", \"Descripci\\\\u00f3n de ubicaci\\\\u00f3n\": \"Cerca de la desembocadura del rio Tambo, en el Santuario Nacional Lagunas de Mejia\", \"Este\": 197967, \"Fitoplancton\": \"No\", \"Nombre del punto\": \"RTamb6\", \"Norte\": 8099495, \"Zona\": \"19 Sur\"}, \"geometry\": {\"type\": \"Point\", \"coordinates\": [-71.83910047433532, -17.169396742302105]}}, {\"id\": \"4\", \"type\": \"Feature\", \"properties\": {\"Altitud\": 97, \"Comunidades identificadas\": \"Perifiton, macroinvertebrados bent\\\\u00f3nicos\", \"Datum\": \"WGS84\", \"Descripci\\\\u00f3n de ubicaci\\\\u00f3n\": \"Rio Tambo, en la bocatoma de la junta de usuarios irrigacion Ensenada-Mejia-Mollendo\", \"Este\": 209951, \"Fitoplancton\": \"No\", \"Nombre del punto\": \"RTamb3\", \"Norte\": 8112945, \"Zona\": \"19 Sur\"}, \"geometry\": {\"type\": \"Point\", \"coordinates\": [-71.7247771903269, -17.04950708073593]}}, {\"id\": \"5\", \"type\": \"Feature\", \"properties\": {\"Altitud\": 145, \"Comunidades identificadas\": \"Perifiton, macroinvertebrados bent\\\\u00f3nicos\", \"Datum\": \"WGS84\", \"Descripci\\\\u00f3n de ubicaci\\\\u00f3n\": \"Rio Tambo, a la altura del puente Santa Rosa\", \"Este\": 213523, \"Fitoplancton\": \"No\", \"Nombre del punto\": \"RTamb2\", \"Norte\": 8115232, \"Zona\": \"19 Sur\"}, \"geometry\": {\"type\": \"Point\", \"coordinates\": [-71.69095255957612, -17.029303932748867]}}, {\"id\": \"6\", \"type\": \"Feature\", \"properties\": {\"Altitud\": 223, \"Comunidades identificadas\": \"Perifiton, macroinvertebrados bent\\\\u00f3nicos\", \"Datum\": \"WGS84\", \"Descripci\\\\u00f3n de ubicaci\\\\u00f3n\": \"Rio Tambo, 15 m aguas abajo del medio del traslado \\\\u00a8huaro\\\\u00a8 en el anexo Pascana\", \"Este\": 218955, \"Fitoplancton\": \"No\", \"Nombre del punto\": \"RTamb1\", \"Norte\": 8119620, \"Zona\": \"19 Sur\"}, \"geometry\": {\"type\": \"Point\", \"coordinates\": [-71.63941272728228, -16.990349517897215]}}, {\"id\": \"7\", \"type\": \"Feature\", \"properties\": {\"Altitud\": -4, \"Comunidades identificadas\": \"Macroinvertebrados bent\\\\u00f3nicos, fitoplancton, zooplancton\", \"Datum\": \"WGS84\", \"Descripci\\\\u00f3n de ubicaci\\\\u00f3n\": \"En la laguna Mejia, cerca al mirador\", \"Este\": 193667, \"Fitoplancton\": \"Si\", \"Nombre del punto\": \"LlMej1\", \"Norte\": 8103432, \"Zona\": \"19 Sur\"}, \"geometry\": {\"type\": \"Point\", \"coordinates\": [-71.87893509369175, -17.133281380205904]}}, {\"id\": \"8\", \"type\": \"Feature\", \"properties\": {\"Altitud\": 0, \"Comunidades identificadas\": \"Macroinvertebrados bent\\\\u00f3nicos, fitoplancton, zooplancton\", \"Datum\": \"WGS84\", \"Descripci\\\\u00f3n de ubicaci\\\\u00f3n\": \"Laguna Iberia norte\", \"Este\": 194021, \"Fitoplancton\": \"Si\", \"Nombre del punto\": \"LINor2\", \"Norte\": 8103169, \"Zona\": \"19 Sur\"}, \"geometry\": {\"type\": \"Point\", \"coordinates\": [-71.87564778051265, -17.13570306022259]}}, {\"id\": \"9\", \"type\": \"Feature\", \"properties\": {\"Altitud\": -2, \"Comunidades identificadas\": \"Macroinvertebrados bent\\\\u00f3nicos, fitoplancton, zooplancton\", \"Datum\": \"WGS84\", \"Descripci\\\\u00f3n de ubicaci\\\\u00f3n\": \"En el canal que abastece a la laguna Iberia norte, al noroeste de la laguna\", \"Este\": 194013, \"Fitoplancton\": \"Si\", \"Nombre del punto\": \"LINor1\", \"Norte\": 8103214, \"Zona\": \"19 Sur\"}, \"geometry\": {\"type\": \"Point\", \"coordinates\": [-71.87571664339256, -17.135295732127076]}}, {\"id\": \"10\", \"type\": \"Feature\", \"properties\": {\"Altitud\": -3, \"Comunidades identificadas\": \"Macroinvertebrados bent\\\\u00f3nicos, fitoplancton, zooplancton\", \"Datum\": \"WGS84\", \"Descripci\\\\u00f3n de ubicaci\\\\u00f3n\": \"Laguna Iberia sur\", \"Este\": 195149, \"Fitoplancton\": \"Si\", \"Nombre del punto\": \"LISur1\", \"Norte\": 8101837, \"Zona\": \"19 Sur\"}, \"geometry\": {\"type\": \"Point\", \"coordinates\": [-71.86524079740494, -17.147878878169063]}}, {\"id\": \"11\", \"type\": \"Feature\", \"properties\": {\"Altitud\": 4, \"Comunidades identificadas\": \"Macroinvertebrados bent\\\\u00f3nicos, fitoplancton, zooplancton\", \"Datum\": \"WGS84\", \"Descripci\\\\u00f3n de ubicaci\\\\u00f3n\": \"Salida de la laguna Iberia Sur, ubicada al sureste de la laguna\", \"Este\": 195627, \"Fitoplancton\": \"Si\", \"Nombre del punto\": \"LISur2\", \"Norte\": 8101417, \"Zona\": \"19 Sur\"}, \"geometry\": {\"type\": \"Point\", \"coordinates\": [-71.86081035783836, -17.151734306508995]}}, {\"id\": \"12\", \"type\": \"Feature\", \"properties\": {\"Altitud\": -7, \"Comunidades identificadas\": \"Macroinvertebrados bent\\\\u00f3nicos, fitoplancton, zooplancton\", \"Datum\": \"WGS84\", \"Descripci\\\\u00f3n de ubicaci\\\\u00f3n\": \"Laguna Boqueron\", \"Este\": 196838, \"Fitoplancton\": \"Si\", \"Nombre del punto\": \"LBoq1\", \"Norte\": 8100253, \"Zona\": \"19 Sur\"}, \"geometry\": {\"type\": \"Point\", \"coordinates\": [-71.84959891164657, -17.1624038977605]}}, {\"id\": \"13\", \"type\": \"Feature\", \"properties\": {\"Altitud\": -5, \"Comunidades identificadas\": \"Macroinvertebrados bent\\\\u00f3nicos, fitoplancton, zooplancton\", \"Datum\": \"WGS84\", \"Descripci\\\\u00f3n de ubicaci\\\\u00f3n\": \"Orillas de la laguna Iberia centro\", \"Este\": 194637, \"Fitoplancton\": \"Si\", \"Nombre del punto\": \"LICen1\", \"Norte\": 8102351, \"Zona\": \"19 Sur\"}, \"geometry\": {\"type\": \"Point\", \"coordinates\": [-71.8699772682589, -17.14317020887644]}}]}'"
            ]
          },
          "metadata": {
            "tags": []
          },
          "execution_count": 32
        }
      ]
    },
    {
      "cell_type": "code",
      "metadata": {
        "id": "m01RMb708nfO",
        "colab_type": "code",
        "colab": {}
      },
      "source": [
        "import folium"
      ],
      "execution_count": 0,
      "outputs": []
    },
    {
      "cell_type": "code",
      "metadata": {
        "id": "k3d6B6FC8s-M",
        "colab_type": "code",
        "colab": {}
      },
      "source": [
        "mapa = folium.Map([-17.135, -71.87], zoom_start=10, tiles='openstreetmap')\n",
        "mapa"
      ],
      "execution_count": 0,
      "outputs": []
    },
    {
      "cell_type": "code",
      "metadata": {
        "id": "s2T3B4U28qVI",
        "colab_type": "code",
        "colab": {
          "base_uri": "https://localhost:8080/",
          "height": 474
        },
        "outputId": "b4dee4f8-b894-47d7-bd10-74681fb248d5"
      },
      "source": [
        "mapa = folium.Map([-17.135, -71.87], zoom_start=10, tiles='openstreetmap')\n",
        "points = folium.features.GeoJson(gjson)\n",
        "mapa.add_children(points)\n",
        "mapa\n"
      ],
      "execution_count": 35,
      "outputs": [
        {
          "output_type": "stream",
          "text": [
            "/usr/local/lib/python3.6/dist-packages/ipykernel_launcher.py:4: FutureWarning: Method `add_children` is deprecated. Please use `add_child` instead.\n",
            "  after removing the cwd from sys.path.\n"
          ],
          "name": "stderr"
        },
        {
          "output_type": "execute_result",
          "data": {
            "text/html": [
              "<div style=\"width:100%;\"><div style=\"position:relative;width:100%;height:0;padding-bottom:60%;\"><iframe src=\"data:text/html;charset=utf-8;base64,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\" style=\"position:absolute;width:100%;height:100%;left:0;top:0;border:none !important;\" allowfullscreen webkitallowfullscreen mozallowfullscreen></iframe></div></div>"
            ],
            "text/plain": [
              "<folium.folium.Map at 0x7f3cc0834748>"
            ]
          },
          "metadata": {
            "tags": []
          },
          "execution_count": 35
        }
      ]
    },
    {
      "cell_type": "code",
      "metadata": {
        "id": "M6AqXPyV5Ds5",
        "colab_type": "code",
        "colab": {}
      },
      "source": [
        "import pandas as pd"
      ],
      "execution_count": 0,
      "outputs": []
    },
    {
      "cell_type": "code",
      "metadata": {
        "id": "WIm23R4Y4_Wd",
        "colab_type": "code",
        "colab": {
          "base_uri": "https://localhost:8080/",
          "height": 299
        },
        "outputId": "ff760988-da6a-4965-e6a4-1bc4574b2278"
      },
      "source": [
        "data = pd.read_csv(\"https://raw.githubusercontent.com/ryali93/UNMSM_programacion/master/data/earthquakes.csv\")\n",
        "data.head()"
      ],
      "execution_count": 5,
      "outputs": [
        {
          "output_type": "execute_result",
          "data": {
            "text/html": [
              "<div>\n",
              "<style scoped>\n",
              "    .dataframe tbody tr th:only-of-type {\n",
              "        vertical-align: middle;\n",
              "    }\n",
              "\n",
              "    .dataframe tbody tr th {\n",
              "        vertical-align: top;\n",
              "    }\n",
              "\n",
              "    .dataframe thead th {\n",
              "        text-align: right;\n",
              "    }\n",
              "</style>\n",
              "<table border=\"1\" class=\"dataframe\">\n",
              "  <thead>\n",
              "    <tr style=\"text-align: right;\">\n",
              "      <th></th>\n",
              "      <th>DateTime</th>\n",
              "      <th>Latitude</th>\n",
              "      <th>Longitude</th>\n",
              "      <th>Depth</th>\n",
              "      <th>Magnitude</th>\n",
              "      <th>MagType</th>\n",
              "      <th>NbStations</th>\n",
              "      <th>Gap</th>\n",
              "      <th>Distance</th>\n",
              "      <th>RMS</th>\n",
              "      <th>Source</th>\n",
              "      <th>EventID</th>\n",
              "    </tr>\n",
              "  </thead>\n",
              "  <tbody>\n",
              "    <tr>\n",
              "      <th>0</th>\n",
              "      <td>2002/01/01 10:39:06.82</td>\n",
              "      <td>-55.214</td>\n",
              "      <td>-129.000</td>\n",
              "      <td>10.0</td>\n",
              "      <td>6.0</td>\n",
              "      <td>Mw</td>\n",
              "      <td>78.0</td>\n",
              "      <td>NaN</td>\n",
              "      <td>NaN</td>\n",
              "      <td>1.07</td>\n",
              "      <td>NEI</td>\n",
              "      <td>2.002010e+11</td>\n",
              "    </tr>\n",
              "    <tr>\n",
              "      <th>1</th>\n",
              "      <td>2002/01/01 11:29:22.73</td>\n",
              "      <td>6.303</td>\n",
              "      <td>125.650</td>\n",
              "      <td>138.1</td>\n",
              "      <td>6.3</td>\n",
              "      <td>Mw</td>\n",
              "      <td>236.0</td>\n",
              "      <td>NaN</td>\n",
              "      <td>NaN</td>\n",
              "      <td>0.90</td>\n",
              "      <td>NEI</td>\n",
              "      <td>2.002010e+11</td>\n",
              "    </tr>\n",
              "    <tr>\n",
              "      <th>2</th>\n",
              "      <td>2002/01/02 14:50:33.49</td>\n",
              "      <td>-17.983</td>\n",
              "      <td>178.744</td>\n",
              "      <td>665.8</td>\n",
              "      <td>6.2</td>\n",
              "      <td>Mw</td>\n",
              "      <td>215.0</td>\n",
              "      <td>NaN</td>\n",
              "      <td>NaN</td>\n",
              "      <td>1.08</td>\n",
              "      <td>NEI</td>\n",
              "      <td>2.002010e+11</td>\n",
              "    </tr>\n",
              "    <tr>\n",
              "      <th>3</th>\n",
              "      <td>2002/01/02 17:22:48.76</td>\n",
              "      <td>-17.600</td>\n",
              "      <td>167.856</td>\n",
              "      <td>21.0</td>\n",
              "      <td>7.2</td>\n",
              "      <td>Mw</td>\n",
              "      <td>427.0</td>\n",
              "      <td>NaN</td>\n",
              "      <td>NaN</td>\n",
              "      <td>0.90</td>\n",
              "      <td>NEI</td>\n",
              "      <td>2.002010e+11</td>\n",
              "    </tr>\n",
              "    <tr>\n",
              "      <th>4</th>\n",
              "      <td>2002/01/03 07:05:27.67</td>\n",
              "      <td>36.088</td>\n",
              "      <td>70.687</td>\n",
              "      <td>129.3</td>\n",
              "      <td>6.2</td>\n",
              "      <td>Mw</td>\n",
              "      <td>431.0</td>\n",
              "      <td>NaN</td>\n",
              "      <td>NaN</td>\n",
              "      <td>0.87</td>\n",
              "      <td>NEI</td>\n",
              "      <td>2.002010e+11</td>\n",
              "    </tr>\n",
              "  </tbody>\n",
              "</table>\n",
              "</div>"
            ],
            "text/plain": [
              "                 DateTime  Latitude  Longitude  ...   RMS  Source       EventID\n",
              "0  2002/01/01 10:39:06.82   -55.214   -129.000  ...  1.07     NEI  2.002010e+11\n",
              "1  2002/01/01 11:29:22.73     6.303    125.650  ...  0.90     NEI  2.002010e+11\n",
              "2  2002/01/02 14:50:33.49   -17.983    178.744  ...  1.08     NEI  2.002010e+11\n",
              "3  2002/01/02 17:22:48.76   -17.600    167.856  ...  0.90     NEI  2.002010e+11\n",
              "4  2002/01/03 07:05:27.67    36.088     70.687  ...  0.87     NEI  2.002010e+11\n",
              "\n",
              "[5 rows x 12 columns]"
            ]
          },
          "metadata": {
            "tags": []
          },
          "execution_count": 5
        }
      ]
    },
    {
      "cell_type": "code",
      "metadata": {
        "id": "WzfEtwYWD2nX",
        "colab_type": "code",
        "colab": {}
      },
      "source": [
        "import fiona\n",
        "from shapely.geometry import Point\n",
        "from geopandas import GeoDataFrame"
      ],
      "execution_count": 0,
      "outputs": []
    },
    {
      "cell_type": "code",
      "metadata": {
        "id": "jO-bGzo-EIm8",
        "colab_type": "code",
        "colab": {}
      },
      "source": [
        "geometria = [Point(xy) for xy in zip(data.Longitude, data.Latitude)]\n",
        "CRS = {'init': 'epsg:4326'}"
      ],
      "execution_count": 0,
      "outputs": []
    },
    {
      "cell_type": "code",
      "metadata": {
        "id": "P_zE9kfHEpZw",
        "colab_type": "code",
        "colab": {
          "base_uri": "https://localhost:8080/",
          "height": 383
        },
        "outputId": "e980909b-d32c-4fa7-bcca-01b8d0d4f7f2"
      },
      "source": [
        "geo_df = GeoDataFrame(data, geometry=geometria, crs=CRS)\n",
        "geo_df.head()"
      ],
      "execution_count": 9,
      "outputs": [
        {
          "output_type": "execute_result",
          "data": {
            "text/html": [
              "<div>\n",
              "<style scoped>\n",
              "    .dataframe tbody tr th:only-of-type {\n",
              "        vertical-align: middle;\n",
              "    }\n",
              "\n",
              "    .dataframe tbody tr th {\n",
              "        vertical-align: top;\n",
              "    }\n",
              "\n",
              "    .dataframe thead th {\n",
              "        text-align: right;\n",
              "    }\n",
              "</style>\n",
              "<table border=\"1\" class=\"dataframe\">\n",
              "  <thead>\n",
              "    <tr style=\"text-align: right;\">\n",
              "      <th></th>\n",
              "      <th>DateTime</th>\n",
              "      <th>Latitude</th>\n",
              "      <th>Longitude</th>\n",
              "      <th>Depth</th>\n",
              "      <th>Magnitude</th>\n",
              "      <th>MagType</th>\n",
              "      <th>NbStations</th>\n",
              "      <th>Gap</th>\n",
              "      <th>Distance</th>\n",
              "      <th>RMS</th>\n",
              "      <th>Source</th>\n",
              "      <th>EventID</th>\n",
              "      <th>geometry</th>\n",
              "    </tr>\n",
              "  </thead>\n",
              "  <tbody>\n",
              "    <tr>\n",
              "      <th>0</th>\n",
              "      <td>2002/01/01 10:39:06.82</td>\n",
              "      <td>-55.214</td>\n",
              "      <td>-129.000</td>\n",
              "      <td>10.0</td>\n",
              "      <td>6.0</td>\n",
              "      <td>Mw</td>\n",
              "      <td>78.0</td>\n",
              "      <td>NaN</td>\n",
              "      <td>NaN</td>\n",
              "      <td>1.07</td>\n",
              "      <td>NEI</td>\n",
              "      <td>2.002010e+11</td>\n",
              "      <td>POINT (-129 -55.214)</td>\n",
              "    </tr>\n",
              "    <tr>\n",
              "      <th>1</th>\n",
              "      <td>2002/01/01 11:29:22.73</td>\n",
              "      <td>6.303</td>\n",
              "      <td>125.650</td>\n",
              "      <td>138.1</td>\n",
              "      <td>6.3</td>\n",
              "      <td>Mw</td>\n",
              "      <td>236.0</td>\n",
              "      <td>NaN</td>\n",
              "      <td>NaN</td>\n",
              "      <td>0.90</td>\n",
              "      <td>NEI</td>\n",
              "      <td>2.002010e+11</td>\n",
              "      <td>POINT (125.65 6.303)</td>\n",
              "    </tr>\n",
              "    <tr>\n",
              "      <th>2</th>\n",
              "      <td>2002/01/02 14:50:33.49</td>\n",
              "      <td>-17.983</td>\n",
              "      <td>178.744</td>\n",
              "      <td>665.8</td>\n",
              "      <td>6.2</td>\n",
              "      <td>Mw</td>\n",
              "      <td>215.0</td>\n",
              "      <td>NaN</td>\n",
              "      <td>NaN</td>\n",
              "      <td>1.08</td>\n",
              "      <td>NEI</td>\n",
              "      <td>2.002010e+11</td>\n",
              "      <td>POINT (178.744 -17.983)</td>\n",
              "    </tr>\n",
              "    <tr>\n",
              "      <th>3</th>\n",
              "      <td>2002/01/02 17:22:48.76</td>\n",
              "      <td>-17.600</td>\n",
              "      <td>167.856</td>\n",
              "      <td>21.0</td>\n",
              "      <td>7.2</td>\n",
              "      <td>Mw</td>\n",
              "      <td>427.0</td>\n",
              "      <td>NaN</td>\n",
              "      <td>NaN</td>\n",
              "      <td>0.90</td>\n",
              "      <td>NEI</td>\n",
              "      <td>2.002010e+11</td>\n",
              "      <td>POINT (167.856 -17.6)</td>\n",
              "    </tr>\n",
              "    <tr>\n",
              "      <th>4</th>\n",
              "      <td>2002/01/03 07:05:27.67</td>\n",
              "      <td>36.088</td>\n",
              "      <td>70.687</td>\n",
              "      <td>129.3</td>\n",
              "      <td>6.2</td>\n",
              "      <td>Mw</td>\n",
              "      <td>431.0</td>\n",
              "      <td>NaN</td>\n",
              "      <td>NaN</td>\n",
              "      <td>0.87</td>\n",
              "      <td>NEI</td>\n",
              "      <td>2.002010e+11</td>\n",
              "      <td>POINT (70.687 36.088)</td>\n",
              "    </tr>\n",
              "  </tbody>\n",
              "</table>\n",
              "</div>"
            ],
            "text/plain": [
              "                 DateTime  Latitude  ...       EventID                 geometry\n",
              "0  2002/01/01 10:39:06.82   -55.214  ...  2.002010e+11     POINT (-129 -55.214)\n",
              "1  2002/01/01 11:29:22.73     6.303  ...  2.002010e+11     POINT (125.65 6.303)\n",
              "2  2002/01/02 14:50:33.49   -17.983  ...  2.002010e+11  POINT (178.744 -17.983)\n",
              "3  2002/01/02 17:22:48.76   -17.600  ...  2.002010e+11    POINT (167.856 -17.6)\n",
              "4  2002/01/03 07:05:27.67    36.088  ...  2.002010e+11    POINT (70.687 36.088)\n",
              "\n",
              "[5 rows x 13 columns]"
            ]
          },
          "metadata": {
            "tags": []
          },
          "execution_count": 9
        }
      ]
    },
    {
      "cell_type": "code",
      "metadata": {
        "id": "EdahfA21E-f_",
        "colab_type": "code",
        "colab": {
          "base_uri": "https://localhost:8080/",
          "height": 208
        },
        "outputId": "8eb5ba21-1bfe-4515-f6cd-44307e374f98"
      },
      "source": [
        "geo_df.plot()"
      ],
      "execution_count": 10,
      "outputs": [
        {
          "output_type": "execute_result",
          "data": {
            "text/plain": [
              "<matplotlib.axes._subplots.AxesSubplot at 0x7f12b2fc0470>"
            ]
          },
          "metadata": {
            "tags": []
          },
          "execution_count": 10
        },
        {
          "output_type": "display_data",
          "data": {
            "image/png": "[encoded data removed]",
            "text/plain": [
              "<Figure size 432x288 with 1 Axes>"
            ]
          },
          "metadata": {
            "tags": []
          }
        }
      ]
    },
    {
      "cell_type": "code",
      "metadata": {
        "id": "FQWvPvicG6Nb",
        "colab_type": "code",
        "colab": {}
      },
      "source": [
        "terremotosSur = geo_df[(geo_df[\"Latitude\"]<0) & (geo_df[\"Magnitude\"]>7)]"
      ],
      "execution_count": 0,
      "outputs": []
    },
    {
      "cell_type": "code",
      "metadata": {
        "id": "wLCaelgcHWB5",
        "colab_type": "code",
        "colab": {
          "base_uri": "https://localhost:8080/",
          "height": 125
        },
        "outputId": "66298d64-564d-4a65-d731-81390bafa1c7"
      },
      "source": [
        "terremotosSur.plot()"
      ],
      "execution_count": 25,
      "outputs": [
        {
          "output_type": "execute_result",
          "data": {
            "text/plain": [
              "<matplotlib.axes._subplots.AxesSubplot at 0x7f12b2d7f5c0>"
            ]
          },
          "metadata": {
            "tags": []
          },
          "execution_count": 25
        },
        {
          "output_type": "display_data",
          "data": {
            "image/png": "[encoded data removed]",
            "text/plain": [
              "<Figure size 432x288 with 1 Axes>"
            ]
          },
          "metadata": {
            "tags": []
          }
        }
      ]
    },
    {
      "cell_type": "code",
      "metadata": {
        "id": "FaLUx-IJLBbE",
        "colab_type": "code",
        "colab": {}
      },
      "source": [
        "gjson = terremotosSur.to_json()"
      ],
      "execution_count": 0,
      "outputs": []
    },
    {
      "cell_type": "code",
      "metadata": {
        "id": "8uwTF7Q5KzJX",
        "colab_type": "code",
        "colab": {}
      },
      "source": [
        "import folium"
      ],
      "execution_count": 0,
      "outputs": []
    },
    {
      "cell_type": "code",
      "metadata": {
        "id": "89HtMaCVK1g9",
        "colab_type": "code",
        "colab": {
          "base_uri": "https://localhost:8080/",
          "height": 474
        },
        "outputId": "80f4aa21-7304-4df3-eff2-0dde939f37cb"
      },
      "source": [
        "MAPA = folium.Map([0,0], zoom_start=4, tiles=\"openstreetmap\")\n",
        "puntos = folium.features.GeoJson(gjson)\n",
        "MAPA.add_children(puntos)\n",
        "MAPA\n"
      ],
      "execution_count": 57,
      "outputs": [
        {
          "output_type": "stream",
          "text": [
            "/usr/local/lib/python3.6/dist-packages/ipykernel_launcher.py:3: FutureWarning: Method `add_children` is deprecated. Please use `add_child` instead.\n",
            "  This is separate from the ipykernel package so we can avoid doing imports until\n"
          ],
          "name": "stderr"
        },
        {
          "output_type": "execute_result",
          "data": {
            "text/html": [
              "<div style=\"width:100%;\"><div style=\"position:relative;width:100%;height:0;padding-bottom:60%;\"><iframe src=\"data:text/html;charset=utf-8;base64,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\" style=\"position:absolute;width:100%;height:100%;left:0;top:0;border:none !important;\" allowfullscreen webkitallowfullscreen mozallowfullscreen></iframe></div></div>"
            ],
            "text/plain": [
              "<folium.folium.Map at 0x7f12b1fe8630>"
            ]
          },
          "metadata": {
            "tags": []
          },
          "execution_count": 57
        }
      ]
    },
    {
      "cell_type": "code",
      "metadata": {
        "id": "f5lU9Ks-IMh1",
        "colab_type": "code",
        "colab": {}
      },
      "source": [
        "def splitear(x):\n",
        "   return x.split(\"/\")"
      ],
      "execution_count": 0,
      "outputs": []
    },
    {
      "cell_type": "code",
      "metadata": {
        "id": "lTQp_BgtIc-D",
        "colab_type": "code",
        "colab": {
          "base_uri": "https://localhost:8080/",
          "height": 34
        },
        "outputId": "c2fa271d-c06f-4f5f-d37c-1af5c6d65f9e"
      },
      "source": [
        "splitear(\"hola/mundo\")"
      ],
      "execution_count": 35,
      "outputs": [
        {
          "output_type": "execute_result",
          "data": {
            "text/plain": [
              "['hola', 'mundo']"
            ]
          },
          "metadata": {
            "tags": []
          },
          "execution_count": 35
        }
      ]
    },
    {
      "cell_type": "code",
      "metadata": {
        "id": "wr0YvbgoIkcf",
        "colab_type": "code",
        "colab": {
          "base_uri": "https://localhost:8080/",
          "height": 34
        },
        "outputId": "7f5777de-de47-402f-8a07-96e6e95d0092"
      },
      "source": [
        "geo_df[\"DateTime\"][0]"
      ],
      "execution_count": 36,
      "outputs": [
        {
          "output_type": "execute_result",
          "data": {
            "text/plain": [
              "'2002/01/01 10:39:06.82'"
            ]
          },
          "metadata": {
            "tags": []
          },
          "execution_count": 36
        }
      ]
    },
    {
      "cell_type": "code",
      "metadata": {
        "id": "J5k0VjM3KB6b",
        "colab_type": "code",
        "colab": {}
      },
      "source": [
        "geo_df[\"DateTime\"].apply(splitear)"
      ],
      "execution_count": 0,
      "outputs": []
    },
    {
      "cell_type": "code",
      "metadata": {
        "id": "jRxDhdFMHesQ",
        "colab_type": "code",
        "colab": {
          "base_uri": "https://localhost:8080/",
          "height": 54
        },
        "outputId": "a282ef13-f71e-466d-db74-b2eafbaaa933"
      },
      "source": [
        "lista = []\n",
        "for x in geo_df[\"DateTime\"].apply(splitear):\n",
        "  if x[0] == \"2006\":\n",
        "    lista.append(\"SI\")\n",
        "  else:\n",
        "    lista.append(\"NO\")\n",
        "print(lista)"
      ],
      "execution_count": 46,
      "outputs": [
        {
          "output_type": "stream",
          "text": [
            "['NO', 'NO', 'NO', 'NO', 'NO', 'NO', 'NO', 'NO', 'NO', 'NO', 'NO', 'NO', 'NO', 'NO', 'NO', 'NO', 'NO', 'NO', 'NO', 'NO', 'NO', 'NO', 'NO', 'NO', 'NO', 'NO', 'NO', 'NO', 'NO', 'NO', 'NO', 'NO', 'NO', 'NO', 'NO', 'NO', 'NO', 'NO', 'NO', 'NO', 'NO', 'NO', 'NO', 'NO', 'NO', 'NO', 'NO', 'NO', 'NO', 'NO', 'NO', 'NO', 'NO', 'NO', 'NO', 'NO', 'NO', 'NO', 'NO', 'NO', 'NO', 'NO', 'NO', 'NO', 'NO', 'NO', 'NO', 'NO', 'NO', 'NO', 'NO', 'NO', 'NO', 'NO', 'NO', 'NO', 'NO', 'NO', 'NO', 'NO', 'NO', 'NO', 'NO', 'NO', 'NO', 'NO', 'NO', 'NO', 'NO', 'NO', 'NO', 'NO', 'NO', 'NO', 'NO', 'NO', 'NO', 'NO', 'NO', 'NO', 'NO', 'NO', 'NO', 'NO', 'NO', 'NO', 'NO', 'NO', 'NO', 'NO', 'NO', 'NO', 'NO', 'NO', 'NO', 'NO', 'NO', 'NO', 'NO', 'NO', 'NO', 'NO', 'NO', 'NO', 'NO', 'NO', 'NO', 'NO', 'NO', 'NO', 'NO', 'NO', 'NO', 'NO', 'NO', 'NO', 'NO', 'NO', 'NO', 'NO', 'NO', 'NO', 'NO', 'NO', 'NO', 'NO', 'NO', 'NO', 'NO', 'NO', 'NO', 'NO', 'NO', 'NO', 'NO', 'NO', 'NO', 'NO', 'NO', 'NO', 'NO', 'NO', 'NO', 'NO', 'NO', 'NO', 'NO', 'NO', 'NO', 'NO', 'NO', 'NO', 'NO', 'NO', 'NO', 'NO', 'NO', 'NO', 'NO', 'NO', 'NO', 'NO', 'NO', 'NO', 'NO', 'NO', 'NO', 'NO', 'NO', 'NO', 'NO', 'NO', 'NO', 'NO', 'NO', 'NO', 'NO', 'NO', 'NO', 'NO', 'NO', 'NO', 'NO', 'NO', 'NO', 'NO', 'NO', 'NO', 'NO', 'NO', 'NO', 'NO', 'NO', 'NO', 'NO', 'NO', 'NO', 'NO', 'NO', 'NO', 'NO', 'NO', 'NO', 'NO', 'NO', 'NO', 'NO', 'NO', 'NO', 'NO', 'NO', 'NO', 'NO', 'NO', 'NO', 'NO', 'NO', 'NO', 'NO', 'NO', 'NO', 'NO', 'NO', 'NO', 'NO', 'NO', 'NO', 'NO', 'NO', 'NO', 'NO', 'NO', 'NO', 'NO', 'NO', 'NO', 'NO', 'NO', 'NO', 'NO', 'NO', 'NO', 'NO', 'NO', 'NO', 'NO', 'NO', 'NO', 'NO', 'NO', 'NO', 'NO', 'NO', 'NO', 'NO', 'NO', 'NO', 'NO', 'NO', 'NO', 'NO', 'NO', 'NO', 'NO', 'NO', 'NO', 'NO', 'NO', 'NO', 'NO', 'NO', 'NO', 'NO', 'NO', 'NO', 'NO', 'NO', 'NO', 'NO', 'NO', 'NO', 'NO', 'NO', 'NO', 'NO', 'NO', 'NO', 'NO', 'NO', 'NO', 'NO', 'NO', 'NO', 'NO', 'NO', 'NO', 'NO', 'NO', 'NO', 'NO', 'NO', 'NO', 'NO', 'NO', 'NO', 'NO', 'NO', 'NO', 'NO', 'NO', 'NO', 'NO', 'NO', 'NO', 'NO', 'NO', 'NO', 'NO', 'NO', 'NO', 'NO', 'NO', 'NO', 'NO', 'NO', 'NO', 'NO', 'NO', 'NO', 'NO', 'NO', 'NO', 'NO', 'NO', 'NO', 'NO', 'NO', 'NO', 'NO', 'NO', 'NO', 'NO', 'NO', 'NO', 'NO', 'NO', 'NO', 'NO', 'NO', 'NO', 'NO', 'NO', 'NO', 'NO', 'NO', 'NO', 'NO', 'NO', 'NO', 'NO', 'NO', 'NO', 'NO', 'NO', 'NO', 'NO', 'NO', 'NO', 'NO', 'NO', 'NO', 'NO', 'NO', 'NO', 'NO', 'NO', 'NO', 'NO', 'NO', 'NO', 'NO', 'NO', 'NO', 'NO', 'NO', 'NO', 'NO', 'NO', 'NO', 'NO', 'NO', 'NO', 'NO', 'NO', 'NO', 'NO', 'NO', 'NO', 'NO', 'NO', 'NO', 'NO', 'NO', 'NO', 'NO', 'NO', 'NO', 'NO', 'NO', 'NO', 'NO', 'NO', 'NO', 'NO', 'NO', 'NO', 'NO', 'NO', 'NO', 'NO', 'NO', 'NO', 'NO', 'NO', 'NO', 'NO', 'NO', 'NO', 'NO', 'NO', 'NO', 'NO', 'NO', 'NO', 'NO', 'NO', 'NO', 'NO', 'NO', 'NO', 'NO', 'NO', 'NO', 'NO', 'NO', 'NO', 'NO', 'NO', 'NO', 'NO', 'NO', 'NO', 'NO', 'NO', 'NO', 'NO', 'NO', 'NO', 'NO', 'NO', 'NO', 'NO', 'NO', 'NO', 'NO', 'NO', 'NO', 'NO', 'NO', 'NO', 'NO', 'NO', 'NO', 'NO', 'NO', 'NO', 'NO', 'NO', 'NO', 'NO', 'NO', 'NO', 'NO', 'NO', 'NO', 'NO', 'NO', 'NO', 'NO', 'NO', 'NO', 'NO', 'NO', 'NO', 'NO', 'NO', 'NO', 'NO', 'NO', 'NO', 'NO', 'NO', 'NO', 'NO', 'NO', 'NO', 'NO', 'NO', 'NO', 'NO', 'NO', 'NO', 'NO', 'NO', 'NO', 'NO', 'NO', 'NO', 'NO', 'NO', 'NO', 'NO', 'NO', 'NO', 'NO', 'NO', 'NO', 'NO', 'NO', 'NO', 'NO', 'NO', 'NO', 'NO', 'NO', 'NO', 'NO', 'NO', 'NO', 'NO', 'NO', 'NO', 'NO', 'NO', 'NO', 'NO', 'NO', 'NO', 'NO', 'NO', 'NO', 'NO', 'NO', 'NO', 'NO', 'NO', 'NO', 'NO', 'NO', 'NO', 'NO', 'NO', 'NO', 'NO', 'NO', 'NO', 'NO', 'NO', 'NO', 'NO', 'NO', 'NO', 'NO', 'NO', 'NO', 'NO', 'NO', 'NO', 'NO', 'NO', 'SI', 'SI', 'SI', 'SI', 'SI', 'SI', 'SI', 'SI', 'SI', 'SI', 'SI', 'SI', 'SI', 'SI', 'SI', 'SI', 'SI', 'SI', 'SI', 'SI', 'SI', 'SI', 'SI', 'SI', 'SI', 'SI', 'SI', 'SI', 'SI', 'SI', 'SI', 'SI', 'SI', 'SI', 'SI', 'SI', 'SI', 'SI', 'SI', 'SI', 'SI', 'SI', 'SI', 'SI', 'SI', 'SI', 'SI', 'SI', 'SI', 'SI', 'SI', 'SI', 'SI', 'SI', 'SI', 'SI', 'SI', 'SI', 'SI', 'SI', 'SI', 'SI', 'SI', 'SI', 'SI', 'SI', 'SI', 'SI', 'SI', 'SI', 'SI', 'SI', 'SI', 'SI', 'SI', 'SI', 'SI', 'SI', 'SI', 'SI', 'SI', 'SI', 'SI', 'SI', 'SI', 'SI', 'SI', 'SI', 'SI', 'SI', 'SI', 'SI', 'SI', 'SI', 'SI', 'SI', 'SI', 'SI', 'SI', 'SI', 'SI', 'SI', 'SI', 'SI', 'SI', 'SI', 'SI', 'SI', 'SI', 'SI', 'SI', 'SI', 'SI', 'SI', 'SI', 'SI', 'SI', 'SI', 'SI', 'SI', 'SI', 'SI', 'SI', 'SI', 'SI', 'SI', 'SI', 'SI', 'SI', 'SI', 'SI', 'SI', 'SI', 'SI', 'SI', 'SI', 'SI', 'SI', 'SI', 'SI', 'SI', 'SI', 'SI', 'SI', 'SI', 'SI', 'SI', 'SI', 'SI', 'SI', 'SI', 'SI', 'SI', 'NO', 'NO', 'NO', 'NO', 'NO', 'NO', 'NO', 'NO', 'NO', 'NO', 'NO', 'NO', 'NO', 'NO', 'NO', 'NO', 'NO', 'NO', 'NO', 'NO', 'NO', 'NO', 'NO', 'NO', 'NO', 'NO', 'NO', 'NO', 'NO', 'NO', 'NO', 'NO', 'NO', 'NO', 'NO', 'NO', 'NO', 'NO', 'NO', 'NO', 'NO', 'NO', 'NO', 'NO', 'NO', 'NO', 'NO', 'NO', 'NO', 'NO', 'NO', 'NO', 'NO', 'NO', 'NO', 'NO', 'NO', 'NO', 'NO', 'NO', 'NO', 'NO', 'NO', 'NO', 'NO', 'NO', 'NO', 'NO', 'NO', 'NO', 'NO', 'NO', 'NO', 'NO', 'NO', 'NO', 'NO', 'NO', 'NO', 'NO', 'NO', 'NO', 'NO', 'NO', 'NO', 'NO', 'NO', 'NO', 'NO', 'NO', 'NO', 'NO', 'NO', 'NO', 'NO', 'NO', 'NO', 'NO', 'NO', 'NO', 'NO', 'NO', 'NO', 'NO', 'NO', 'NO', 'NO', 'NO', 'NO', 'NO', 'NO', 'NO', 'NO', 'NO', 'NO', 'NO', 'NO', 'NO', 'NO', 'NO', 'NO', 'NO', 'NO', 'NO', 'NO', 'NO', 'NO', 'NO', 'NO', 'NO', 'NO', 'NO', 'NO', 'NO', 'NO', 'NO', 'NO', 'NO', 'NO', 'NO', 'NO', 'NO', 'NO', 'NO', 'NO', 'NO', 'NO', 'NO', 'NO', 'NO', 'NO', 'NO', 'NO', 'NO', 'NO', 'NO', 'NO', 'NO', 'NO', 'NO', 'NO', 'NO', 'NO', 'NO', 'NO', 'NO', 'NO', 'NO', 'NO', 'NO', 'NO', 'NO', 'NO', 'NO', 'NO', 'NO', 'NO', 'NO', 'NO', 'NO', 'NO', 'NO', 'NO', 'NO', 'NO', 'NO', 'NO', 'NO', 'NO', 'NO', 'NO', 'NO', 'NO', 'NO', 'NO', 'NO', 'NO', 'NO', 'NO', 'NO', 'NO', 'NO', 'NO', 'NO', 'NO', 'NO', 'NO', 'NO', 'NO', 'NO', 'NO', 'NO', 'NO', 'NO', 'NO', 'NO', 'NO', 'NO', 'NO', 'NO', 'NO', 'NO', 'NO', 'NO', 'NO', 'NO', 'NO', 'NO', 'NO', 'NO', 'NO', 'NO', 'NO', 'NO', 'NO', 'NO', 'NO', 'NO', 'NO', 'NO', 'NO', 'NO', 'NO', 'NO', 'NO', 'NO', 'NO', 'NO', 'NO', 'NO', 'NO', 'NO', 'NO', 'NO', 'NO', 'NO', 'NO', 'NO', 'NO', 'NO', 'NO', 'NO', 'NO', 'NO', 'NO', 'NO', 'NO', 'NO', 'NO', 'NO', 'NO', 'NO', 'NO', 'NO', 'NO', 'NO', 'NO', 'NO', 'NO', 'NO', 'NO', 'NO', 'NO', 'NO', 'NO', 'NO', 'NO', 'NO', 'NO', 'NO', 'NO', 'NO', 'NO', 'NO', 'NO', 'NO', 'NO', 'NO', 'NO', 'NO', 'NO', 'NO', 'NO', 'NO', 'NO', 'NO', 'NO', 'NO', 'NO', 'NO', 'NO', 'NO', 'NO', 'NO', 'NO', 'NO', 'NO', 'NO', 'NO', 'NO', 'NO', 'NO', 'NO', 'NO', 'NO', 'NO', 'NO', 'NO', 'NO', 'NO', 'NO', 'NO', 'NO', 'NO', 'NO', 'NO', 'NO', 'NO', 'NO', 'NO', 'NO', 'NO', 'NO', 'NO', 'NO', 'NO', 'NO', 'NO', 'NO', 'NO', 'NO', 'NO', 'NO', 'NO', 'NO', 'NO', 'NO', 'NO', 'NO', 'NO', 'NO', 'NO', 'NO', 'NO', 'NO', 'NO', 'NO', 'NO', 'NO', 'NO', 'NO', 'NO', 'NO', 'NO', 'NO', 'NO', 'NO', 'NO', 'NO', 'NO', 'NO', 'NO', 'NO', 'NO', 'NO', 'NO', 'NO', 'NO', 'NO', 'NO', 'NO', 'NO', 'NO', 'NO', 'NO', 'NO', 'NO', 'NO', 'NO', 'NO', 'NO', 'NO', 'NO', 'NO', 'NO', 'NO', 'NO', 'NO', 'NO', 'NO', 'NO', 'NO', 'NO', 'NO', 'NO', 'NO', 'NO', 'NO', 'NO', 'NO', 'NO', 'NO', 'NO', 'NO', 'NO', 'NO', 'NO', 'NO', 'NO', 'NO', 'NO', 'NO', 'NO', 'NO', 'NO', 'NO', 'NO', 'NO', 'NO', 'NO', 'NO', 'NO', 'NO', 'NO', 'NO', 'NO', 'NO', 'NO', 'NO', 'NO', 'NO', 'NO', 'NO', 'NO', 'NO', 'NO', 'NO', 'NO', 'NO', 'NO', 'NO', 'NO', 'NO', 'NO', 'NO', 'NO', 'NO', 'NO', 'NO', 'NO', 'NO', 'NO', 'NO', 'NO', 'NO', 'NO', 'NO', 'NO', 'NO', 'NO', 'NO', 'NO', 'NO', 'NO', 'NO', 'NO', 'NO', 'NO', 'NO', 'NO', 'NO', 'NO', 'NO', 'NO', 'NO', 'NO', 'NO', 'NO', 'NO', 'NO', 'NO', 'NO', 'NO', 'NO', 'NO', 'NO', 'NO', 'NO', 'NO', 'NO', 'NO', 'NO', 'NO', 'NO', 'NO', 'NO', 'NO', 'NO', 'NO', 'NO', 'NO', 'NO', 'NO', 'NO', 'NO', 'NO', 'NO', 'NO', 'NO', 'NO', 'NO', 'NO', 'NO', 'NO', 'NO', 'NO', 'NO', 'NO', 'NO', 'NO', 'NO', 'NO', 'NO', 'NO', 'NO', 'NO', 'NO', 'NO', 'NO', 'NO', 'NO', 'NO', 'NO', 'NO', 'NO', 'NO', 'NO', 'NO', 'NO', 'NO', 'NO', 'NO', 'NO', 'NO', 'NO', 'NO', 'NO', 'NO', 'NO', 'NO', 'NO', 'NO', 'NO', 'NO', 'NO', 'NO', 'NO', 'NO', 'NO', 'NO', 'NO', 'NO', 'NO', 'NO', 'NO', 'NO', 'NO', 'NO', 'NO', 'NO', 'NO', 'NO', 'NO', 'NO', 'NO', 'NO', 'NO', 'NO', 'NO', 'NO', 'NO', 'NO', 'NO', 'NO', 'NO', 'NO', 'NO', 'NO', 'NO', 'NO', 'NO', 'NO', 'NO', 'NO', 'NO', 'NO', 'NO', 'NO', 'NO', 'NO', 'NO', 'NO', 'NO', 'NO', 'NO', 'NO', 'NO', 'NO', 'NO', 'NO', 'NO', 'NO', 'NO', 'NO', 'NO', 'NO', 'NO', 'NO', 'NO', 'NO', 'NO', 'NO', 'NO', 'NO', 'NO', 'NO', 'NO', 'NO', 'NO', 'NO', 'NO', 'NO', 'NO', 'NO', 'NO', 'NO', 'NO', 'NO', 'NO', 'NO', 'NO', 'NO', 'NO', 'NO', 'NO', 'NO', 'NO', 'NO', 'NO', 'NO', 'NO', 'NO', 'NO', 'NO', 'NO', 'NO', 'NO', 'NO', 'NO', 'NO', 'NO', 'NO', 'NO', 'NO', 'NO', 'NO', 'NO', 'NO', 'NO', 'NO', 'NO', 'NO', 'NO', 'NO', 'NO', 'NO', 'NO', 'NO', 'NO', 'NO', 'NO', 'NO', 'NO', 'NO', 'NO', 'NO', 'NO', 'NO', 'NO', 'NO', 'NO', 'NO', 'NO', 'NO', 'NO', 'NO', 'NO', 'NO', 'NO', 'NO', 'NO', 'NO', 'NO', 'NO', 'NO', 'NO', 'NO', 'NO', 'NO', 'NO', 'NO', 'NO', 'NO', 'NO', 'NO', 'NO', 'NO', 'NO', 'NO', 'NO', 'NO', 'NO', 'NO', 'NO', 'NO', 'NO', 'NO', 'NO', 'NO', 'NO', 'NO', 'NO', 'NO', 'NO', 'NO', 'NO', 'NO', 'NO', 'NO', 'NO', 'NO', 'NO', 'NO', 'NO', 'NO', 'NO', 'NO', 'NO', 'NO', 'NO', 'NO', 'NO', 'NO', 'NO', 'NO', 'NO', 'NO', 'NO', 'NO', 'NO', 'NO', 'NO', 'NO', 'NO', 'NO', 'NO', 'NO', 'NO', 'NO', 'NO', 'NO', 'NO', 'NO', 'NO', 'NO', 'NO', 'NO', 'NO', 'NO', 'NO', 'NO', 'NO', 'NO', 'NO', 'NO', 'NO', 'NO', 'NO', 'NO', 'NO', 'NO', 'NO', 'NO', 'NO', 'NO', 'NO', 'NO', 'NO', 'NO', 'NO', 'NO', 'NO', 'NO', 'NO', 'NO', 'NO', 'NO', 'NO', 'NO', 'NO', 'NO', 'NO', 'NO', 'NO', 'NO', 'NO', 'NO', 'NO', 'NO', 'NO', 'NO', 'NO', 'NO', 'NO', 'NO', 'NO', 'NO', 'NO', 'NO', 'NO', 'NO', 'NO', 'NO', 'NO', 'NO', 'NO', 'NO', 'NO', 'NO', 'NO', 'NO', 'NO', 'NO', 'NO', 'NO', 'NO', 'NO', 'NO', 'NO', 'NO', 'NO', 'NO', 'NO', 'NO', 'NO', 'NO', 'NO', 'NO', 'NO', 'NO', 'NO', 'NO', 'NO', 'NO', 'NO', 'NO', 'NO', 'NO', 'NO', 'NO', 'NO', 'NO', 'NO', 'NO', 'NO', 'NO', 'NO', 'NO', 'NO', 'NO', 'NO', 'NO', 'NO', 'NO', 'NO', 'NO', 'NO', 'NO', 'NO', 'NO', 'NO', 'NO', 'NO', 'NO', 'NO', 'NO', 'NO', 'NO', 'NO', 'NO', 'NO', 'NO', 'NO', 'NO', 'NO', 'NO', 'NO', 'NO', 'NO', 'NO', 'NO', 'NO', 'NO', 'NO', 'NO', 'NO', 'NO', 'NO', 'NO', 'NO', 'NO', 'NO', 'NO', 'NO', 'NO', 'NO', 'NO', 'NO', 'NO', 'NO', 'NO', 'NO', 'NO', 'NO', 'NO', 'NO', 'NO', 'NO', 'NO', 'NO', 'NO', 'NO', 'NO', 'NO', 'NO', 'NO', 'NO', 'NO', 'NO', 'NO', 'NO', 'NO', 'NO', 'NO', 'NO', 'NO', 'NO', 'NO', 'NO', 'NO', 'NO', 'NO', 'NO', 'NO', 'NO', 'NO', 'NO', 'NO', 'NO', 'NO', 'NO', 'NO', 'NO', 'NO', 'NO', 'NO', 'NO', 'NO', 'NO', 'NO', 'NO', 'NO', 'NO', 'NO', 'NO', 'NO', 'NO', 'NO', 'NO', 'NO', 'NO', 'NO', 'NO', 'NO', 'NO', 'NO', 'NO', 'NO', 'NO', 'NO', 'NO', 'NO', 'NO', 'NO', 'NO', 'NO', 'NO', 'NO', 'NO', 'NO', 'NO', 'NO', 'NO', 'NO', 'NO', 'NO', 'NO', 'NO', 'NO', 'NO', 'NO', 'NO', 'NO', 'NO', 'NO', 'NO', 'NO', 'NO', 'NO', 'NO', 'NO', 'NO', 'NO', 'NO', 'NO', 'NO', 'NO', 'NO', 'NO', 'NO', 'NO', 'NO', 'NO', 'NO', 'NO', 'NO', 'NO', 'NO', 'NO', 'NO', 'NO', 'NO', 'NO', 'NO', 'NO', 'NO', 'NO', 'NO', 'NO', 'NO', 'NO', 'NO', 'NO', 'NO', 'NO', 'NO', 'NO', 'NO', 'NO', 'NO', 'NO', 'NO', 'NO', 'NO', 'NO', 'NO', 'NO', 'NO', 'NO', 'NO', 'NO', 'NO', 'NO', 'NO', 'NO', 'NO', 'NO', 'NO', 'NO', 'NO', 'NO', 'NO', 'NO', 'NO', 'NO', 'NO', 'NO', 'NO', 'NO', 'NO', 'NO', 'NO', 'NO', 'NO', 'NO', 'NO', 'NO', 'NO', 'NO', 'NO', 'NO', 'NO', 'NO', 'NO', 'NO', 'NO', 'NO', 'NO', 'NO', 'NO', 'NO', 'NO', 'NO', 'NO', 'NO', 'NO', 'NO', 'NO', 'NO', 'NO', 'NO', 'NO', 'NO', 'NO', 'NO', 'NO', 'NO', 'NO', 'NO', 'NO', 'NO', 'NO', 'NO', 'NO', 'NO', 'NO', 'NO', 'NO', 'NO', 'NO', 'NO', 'NO', 'NO', 'NO', 'NO', 'NO', 'NO', 'NO', 'NO', 'NO', 'NO', 'NO', 'NO', 'NO', 'NO', 'NO', 'NO', 'NO', 'NO', 'NO', 'NO', 'NO', 'NO', 'NO', 'NO', 'NO', 'NO', 'NO', 'NO', 'NO', 'NO', 'NO', 'NO', 'NO', 'NO', 'NO', 'NO', 'NO', 'NO', 'NO', 'NO', 'NO', 'NO', 'NO', 'NO', 'NO', 'NO', 'NO', 'NO', 'NO', 'NO', 'NO', 'NO', 'NO', 'NO', 'NO', 'NO', 'NO', 'NO', 'NO', 'NO', 'NO', 'NO', 'NO', 'NO', 'NO', 'NO', 'NO', 'NO', 'NO', 'NO', 'NO', 'NO', 'NO', 'NO', 'NO', 'NO', 'NO', 'NO', 'NO', 'NO', 'NO', 'NO', 'NO', 'NO', 'NO', 'NO', 'NO', 'NO', 'NO', 'NO', 'NO', 'NO', 'NO', 'NO', 'NO', 'NO', 'NO', 'NO', 'NO', 'NO', 'NO', 'NO', 'NO', 'NO', 'NO', 'NO', 'NO', 'NO', 'NO', 'NO', 'NO', 'NO', 'NO', 'NO', 'NO', 'NO', 'NO', 'NO', 'NO', 'NO', 'NO', 'NO', 'NO', 'NO', 'NO', 'NO', 'NO', 'NO', 'NO', 'NO', 'NO', 'NO', 'NO', 'NO', 'NO', 'NO', 'NO', 'NO', 'NO', 'NO', 'NO', 'NO', 'NO', 'NO', 'NO', 'NO', 'NO', 'NO', 'NO', 'NO', 'NO', 'NO', 'NO', 'NO', 'NO', 'NO', 'NO', 'NO', 'NO', 'NO', 'NO', 'NO', 'NO', 'NO', 'NO', 'NO', 'NO', 'NO', 'NO', 'NO', 'NO', 'NO', 'NO', 'NO', 'NO', 'NO', 'NO', 'NO', 'NO', 'NO', 'NO', 'NO', 'NO', 'NO', 'NO', 'NO', 'NO', 'NO', 'NO', 'NO', 'NO', 'NO', 'NO', 'NO', 'NO', 'NO', 'NO', 'NO', 'NO', 'NO', 'NO', 'NO', 'NO', 'NO', 'NO', 'NO', 'NO', 'NO', 'NO', 'NO', 'NO', 'NO', 'NO', 'NO', 'NO', 'NO', 'NO', 'NO', 'NO', 'NO', 'NO', 'NO', 'NO', 'NO', 'NO', 'NO', 'NO', 'NO', 'NO', 'NO', 'NO', 'NO', 'NO', 'NO', 'NO', 'NO', 'NO', 'NO', 'NO', 'NO', 'NO', 'NO', 'NO', 'NO', 'NO', 'NO', 'NO', 'NO', 'NO', 'NO', 'NO', 'NO', 'NO', 'NO', 'NO', 'NO', 'NO', 'NO', 'NO', 'NO', 'NO', 'NO', 'NO', 'NO', 'NO', 'NO', 'NO', 'NO', 'NO', 'NO', 'NO', 'NO', 'NO', 'NO', 'NO', 'NO', 'NO', 'NO', 'NO', 'NO', 'NO', 'NO', 'NO', 'NO', 'NO', 'NO', 'NO', 'NO', 'NO', 'NO', 'NO', 'NO', 'NO', 'NO', 'NO', 'NO', 'NO', 'NO', 'NO', 'NO', 'NO', 'NO', 'NO', 'NO', 'NO', 'NO', 'NO', 'NO', 'NO', 'NO', 'NO', 'NO', 'NO', 'NO', 'NO', 'NO', 'NO', 'NO', 'NO', 'NO', 'NO', 'NO', 'NO', 'NO', 'NO', 'NO', 'NO', 'NO', 'NO', 'NO', 'NO', 'NO', 'NO', 'NO', 'NO', 'NO', 'NO', 'NO', 'NO', 'NO', 'NO', 'NO', 'NO', 'NO', 'NO', 'NO', 'NO', 'NO', 'NO', 'NO', 'NO', 'NO', 'NO', 'NO', 'NO', 'NO', 'NO', 'NO', 'NO', 'NO', 'NO', 'NO', 'NO', 'NO', 'NO', 'NO', 'NO', 'NO', 'NO', 'NO', 'NO', 'NO', 'NO', 'NO', 'NO', 'NO', 'NO', 'NO', 'NO', 'NO', 'NO', 'NO', 'NO', 'NO', 'NO', 'NO', 'NO', 'NO', 'NO', 'NO', 'NO', 'NO', 'NO', 'NO', 'NO', 'NO', 'NO', 'NO', 'NO', 'NO', 'NO', 'NO', 'NO', 'NO', 'NO', 'NO', 'NO', 'NO', 'NO', 'NO', 'NO', 'NO', 'NO', 'NO', 'NO', 'NO', 'NO', 'NO', 'NO', 'NO', 'NO', 'NO', 'NO', 'NO', 'NO', 'NO', 'NO', 'NO', 'NO', 'NO', 'NO', 'NO', 'NO', 'NO', 'NO', 'NO', 'NO', 'NO', 'NO', 'NO', 'NO', 'NO', 'NO', 'NO', 'NO', 'NO', 'NO', 'NO', 'NO', 'NO', 'NO', 'NO', 'NO', 'NO', 'NO', 'NO', 'NO', 'NO', 'NO', 'NO', 'NO', 'NO', 'NO', 'NO', 'NO', 'NO', 'NO', 'NO', 'NO', 'NO', 'NO', 'NO', 'NO', 'NO', 'NO', 'NO', 'NO', 'NO', 'NO', 'NO', 'NO', 'NO', 'NO', 'NO', 'NO', 'NO', 'NO', 'NO', 'NO']\n"
          ],
          "name": "stdout"
        }
      ]
    },
    {
      "cell_type": "code",
      "metadata": {
        "id": "DUGaSWIqJWR6",
        "colab_type": "code",
        "colab": {}
      },
      "source": [
        "geo_df[\"Terr2006\"] = lista"
      ],
      "execution_count": 0,
      "outputs": []
    },
    {
      "cell_type": "code",
      "metadata": {
        "id": "C35KbD_tJin9",
        "colab_type": "code",
        "colab": {
          "base_uri": "https://localhost:8080/",
          "height": 485
        },
        "outputId": "c6849dc5-b0f3-4eed-fdb0-e3211b7f5916"
      },
      "source": [
        "geo_df[(geo_df[\"Terr2006\"]==\"SI\")  & (geo_df[\"Magnitude\"]>7)]"
      ],
      "execution_count": 51,
      "outputs": [
        {
          "output_type": "execute_result",
          "data": {
            "text/html": [
              "<div>\n",
              "<style scoped>\n",
              "    .dataframe tbody tr th:only-of-type {\n",
              "        vertical-align: middle;\n",
              "    }\n",
              "\n",
              "    .dataframe tbody tr th {\n",
              "        vertical-align: top;\n",
              "    }\n",
              "\n",
              "    .dataframe thead th {\n",
              "        text-align: right;\n",
              "    }\n",
              "</style>\n",
              "<table border=\"1\" class=\"dataframe\">\n",
              "  <thead>\n",
              "    <tr style=\"text-align: right;\">\n",
              "      <th></th>\n",
              "      <th>DateTime</th>\n",
              "      <th>Latitude</th>\n",
              "      <th>Longitude</th>\n",
              "      <th>Depth</th>\n",
              "      <th>Magnitude</th>\n",
              "      <th>MagType</th>\n",
              "      <th>NbStations</th>\n",
              "      <th>Gap</th>\n",
              "      <th>Distance</th>\n",
              "      <th>RMS</th>\n",
              "      <th>Source</th>\n",
              "      <th>EventID</th>\n",
              "      <th>geometry</th>\n",
              "      <th>Terr2006</th>\n",
              "    </tr>\n",
              "  </thead>\n",
              "  <tbody>\n",
              "    <tr>\n",
              "      <th>600</th>\n",
              "      <td>2006/01/02 06:10:49.76</td>\n",
              "      <td>-60.957</td>\n",
              "      <td>-21.606</td>\n",
              "      <td>13.0</td>\n",
              "      <td>7.4</td>\n",
              "      <td>Mw</td>\n",
              "      <td>271.0</td>\n",
              "      <td>NaN</td>\n",
              "      <td>NaN</td>\n",
              "      <td>1.28</td>\n",
              "      <td>NEI</td>\n",
              "      <td>2.006010e+11</td>\n",
              "      <td>POINT (-21.606 -60.957)</td>\n",
              "      <td>SI</td>\n",
              "    </tr>\n",
              "    <tr>\n",
              "      <th>601</th>\n",
              "      <td>2006/01/02 22:13:40.49</td>\n",
              "      <td>-19.926</td>\n",
              "      <td>-178.178</td>\n",
              "      <td>582.9</td>\n",
              "      <td>7.2</td>\n",
              "      <td>Mw</td>\n",
              "      <td>646.0</td>\n",
              "      <td>NaN</td>\n",
              "      <td>NaN</td>\n",
              "      <td>1.11</td>\n",
              "      <td>NEI</td>\n",
              "      <td>2.006010e+11</td>\n",
              "      <td>POINT (-178.178 -19.926)</td>\n",
              "      <td>SI</td>\n",
              "    </tr>\n",
              "    <tr>\n",
              "      <th>608</th>\n",
              "      <td>2006/01/27 16:58:53.67</td>\n",
              "      <td>-5.473</td>\n",
              "      <td>128.131</td>\n",
              "      <td>397.0</td>\n",
              "      <td>7.6</td>\n",
              "      <td>Mw</td>\n",
              "      <td>560.0</td>\n",
              "      <td>NaN</td>\n",
              "      <td>NaN</td>\n",
              "      <td>0.88</td>\n",
              "      <td>NEI</td>\n",
              "      <td>2.006013e+11</td>\n",
              "      <td>POINT (128.131 -5.473)</td>\n",
              "      <td>SI</td>\n",
              "    </tr>\n",
              "    <tr>\n",
              "      <th>638</th>\n",
              "      <td>2006/04/20 23:25:02.15</td>\n",
              "      <td>60.949</td>\n",
              "      <td>167.089</td>\n",
              "      <td>22.0</td>\n",
              "      <td>7.6</td>\n",
              "      <td>Mw</td>\n",
              "      <td>579.0</td>\n",
              "      <td>NaN</td>\n",
              "      <td>NaN</td>\n",
              "      <td>0.87</td>\n",
              "      <td>NEI</td>\n",
              "      <td>2.006042e+11</td>\n",
              "      <td>POINT (167.089 60.949)</td>\n",
              "      <td>SI</td>\n",
              "    </tr>\n",
              "    <tr>\n",
              "      <th>649</th>\n",
              "      <td>2006/05/03 15:26:40.29</td>\n",
              "      <td>-20.187</td>\n",
              "      <td>-174.123</td>\n",
              "      <td>55.0</td>\n",
              "      <td>8.0</td>\n",
              "      <td>Mw</td>\n",
              "      <td>626.0</td>\n",
              "      <td>NaN</td>\n",
              "      <td>NaN</td>\n",
              "      <td>1.18</td>\n",
              "      <td>NEI</td>\n",
              "      <td>2.006050e+11</td>\n",
              "      <td>POINT (-174.123 -20.187)</td>\n",
              "      <td>SI</td>\n",
              "    </tr>\n",
              "    <tr>\n",
              "      <th>654</th>\n",
              "      <td>2006/05/16 10:39:23.34</td>\n",
              "      <td>-31.810</td>\n",
              "      <td>-179.307</td>\n",
              "      <td>152.0</td>\n",
              "      <td>7.4</td>\n",
              "      <td>Mw</td>\n",
              "      <td>613.0</td>\n",
              "      <td>NaN</td>\n",
              "      <td>NaN</td>\n",
              "      <td>1.32</td>\n",
              "      <td>NEI</td>\n",
              "      <td>2.006052e+11</td>\n",
              "      <td>POINT (-179.307 -31.81)</td>\n",
              "      <td>SI</td>\n",
              "    </tr>\n",
              "    <tr>\n",
              "      <th>680</th>\n",
              "      <td>2006/07/17 08:19:26.68</td>\n",
              "      <td>-9.284</td>\n",
              "      <td>107.419</td>\n",
              "      <td>20.0</td>\n",
              "      <td>7.7</td>\n",
              "      <td>Mw</td>\n",
              "      <td>357.0</td>\n",
              "      <td>NaN</td>\n",
              "      <td>NaN</td>\n",
              "      <td>1.16</td>\n",
              "      <td>NEI</td>\n",
              "      <td>2.006072e+11</td>\n",
              "      <td>POINT (107.419 -9.284000000000001)</td>\n",
              "      <td>SI</td>\n",
              "    </tr>\n",
              "    <tr>\n",
              "      <th>728</th>\n",
              "      <td>2006/11/15 11:14:13.57</td>\n",
              "      <td>46.592</td>\n",
              "      <td>153.266</td>\n",
              "      <td>10.0</td>\n",
              "      <td>8.3</td>\n",
              "      <td>Mw</td>\n",
              "      <td>576.0</td>\n",
              "      <td>NaN</td>\n",
              "      <td>NaN</td>\n",
              "      <td>1.07</td>\n",
              "      <td>NEI</td>\n",
              "      <td>2.006112e+11</td>\n",
              "      <td>POINT (153.266 46.592)</td>\n",
              "      <td>SI</td>\n",
              "    </tr>\n",
              "    <tr>\n",
              "      <th>748</th>\n",
              "      <td>2006/12/26 12:26:21.14</td>\n",
              "      <td>21.799</td>\n",
              "      <td>120.547</td>\n",
              "      <td>10.0</td>\n",
              "      <td>7.1</td>\n",
              "      <td>Mw</td>\n",
              "      <td>744.0</td>\n",
              "      <td>NaN</td>\n",
              "      <td>NaN</td>\n",
              "      <td>1.00</td>\n",
              "      <td>NEI</td>\n",
              "      <td>2.006123e+11</td>\n",
              "      <td>POINT (120.547 21.799)</td>\n",
              "      <td>SI</td>\n",
              "    </tr>\n",
              "  </tbody>\n",
              "</table>\n",
              "</div>"
            ],
            "text/plain": [
              "                   DateTime  ...  Terr2006\n",
              "600  2006/01/02 06:10:49.76  ...        SI\n",
              "601  2006/01/02 22:13:40.49  ...        SI\n",
              "608  2006/01/27 16:58:53.67  ...        SI\n",
              "638  2006/04/20 23:25:02.15  ...        SI\n",
              "649  2006/05/03 15:26:40.29  ...        SI\n",
              "654  2006/05/16 10:39:23.34  ...        SI\n",
              "680  2006/07/17 08:19:26.68  ...        SI\n",
              "728  2006/11/15 11:14:13.57  ...        SI\n",
              "748  2006/12/26 12:26:21.14  ...        SI\n",
              "\n",
              "[9 rows x 14 columns]"
            ]
          },
          "metadata": {
            "tags": []
          },
          "execution_count": 51
        }
      ]
    }
  ]
}