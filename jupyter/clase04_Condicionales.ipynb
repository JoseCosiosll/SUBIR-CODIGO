{
  "nbformat": 4,
  "nbformat_minor": 0,
  "metadata": {
    "colab": {
      "name": "clase04_Condicionales.ipynb",
      "version": "0.3.2",
      "provenance": [],
      "collapsed_sections": [],
      "include_colab_link": true
    },
    "kernelspec": {
      "name": "python3",
      "display_name": "Python 3"
    }
  },
  "cells": [
    {
      "cell_type": "markdown",
      "metadata": {
        "id": "view-in-github",
        "colab_type": "text"
      },
      "source": [
        "<a href=\"https://colab.research.google.com/github/ryali93/UNMSM_programacion2019-1/blob/master/jupyter/clase04_Condicionales.ipynb\" target=\"_parent\"><img src=\"https://colab.research.google.com/assets/colab-badge.svg\" alt=\"Open In Colab\"/></a>"
      ]
    },
    {
      "cell_type": "markdown",
      "metadata": {
        "id": "3mnoXSdTr_Oa",
        "colab_type": "text"
      },
      "source": [
        "# Clase 04\n",
        "# ESTRUCTURAS DE CONTROL SELECTIVAS"
      ]
    },
    {
      "cell_type": "markdown",
      "metadata": {
        "id": "WRuTKK2u0cL7",
        "colab_type": "text"
      },
      "source": [
        "Esta semana nos centraremos en tomar decisiones y repetir tareas en Python. Ambos conceptos forman parte de la idea computacional más grande llamada **flujo de control** , que se refiere a cómo se determina la ejecución de diferentes partes de un programa de computadora. \n",
        "\n",
        "Aprenderemos cómo modificar la ejecución de nuestros scripts utilizando (1) bucles , que se usan para repetir la ejecución de partes de un programa, y ​​(2) declaraciones condicionales , que usan pruebas lógicas básicas para determinar qué partes de un programa ser ejecutado.\n",
        "\n",
        "Antes de hablar de estructuras de control de flujo en Python, es importante hablar de indentación.\n",
        "\n",
        "## Indentación\n",
        "Es un tipo de notación utilizado para mejorar la legibilidad del código fuente por parte de los programadores, teniendo en cuenta que los compiladores o intérpretes raramente cosideran los espacios en blanco entre las sentencias de sus programas.\n",
        "En la sintaxis de Python no se encuentra **(begin)** o **(end)** explicitos, **ni llaves que marquen dónde empieza o termina su código**. El único delimitador son dos puntos **(:)** y el sangrado del propio código. \n",
        "\n",
        "* Algunas notas importantes sobre la sangría\n",
        "* La sangría en python es típicamente **4 espacios**. \n",
        "\n",
        "La mayoría de los editores de programación de texto serán inteligentes con respecto a la sangría y también convertirán los TAB en cuatro espacios. \n",
        "\n",
        "Los cuadernos Jupyter son inteligentes con respecto a la sangría y harán lo correcto, es decir, autoindentarán una línea debajo de una línea con dos puntos al final y convertirán los TAB en espacios. Si está en otro editor, recuerde: ___LOS TABS Y LOS ESPACIOS NO SE MEZCLAN___.\n",
        "\n",
        "Un ejemplo simple es encontrar la suma de los cuadrados de la secuencia 0 a 99,\n",
        "\n",
        "## Encoding\n",
        "El encoding (o codificación de caracteres) es otro de los elementos del lenguaje que no pueden omitirse a la hora de hablar de estructuras de control de flujos. El encoding no es más que una directiva que se coloca al inicio de un archivo de Python, a fin de indicar al sistema, la codificación de caracteres utilizada en el archivo."
      ]
    },
    {
      "cell_type": "markdown",
      "metadata": {
        "id": "CPqSdFud0qql",
        "colab_type": "text"
      },
      "source": [
        " **#-*- coding: utf-8 -*-**\n",
        " \n"
      ]
    },
    {
      "cell_type": "markdown",
      "metadata": {
        "id": "4K9P9V_Xtc_6",
        "colab_type": "text"
      },
      "source": [
        "## 1. Control de flujos condicionales\n",
        "\n",
        "Estos tipos de control de flujos permiten evaluar condicionales para que el programa se ejecute de diferentes formas, ya sea que se ejecute un fragmento de código u otro, dependiendo del resultado de las condicionales (**True**, **False**).\n",
        "\n",
        "La acción de evaluar condicionales es parte de nuestra vida cotidiana y, sucede de manera mucho más frecuente de lo que creemos. Por ejemplo, antes de cruzar una avenida primero evaluamos el estado en que se encuentra el semáforo, si la luz del semáforo es rojo, no cruzamos la pista, pero si la luz es de color verde, si cruzamos la pista. Por lo tanto, en este caso muy familiar, nuestra acción está determinada por el resultado de evaluar el estado del semáforo.\n",
        "\n",
        "| Símbolo | Significado   | Ejemplo | Resultado |\n",
        "|------|------|------|------|\n",
        "|   **==**  | Igual que | 4 **==** 18 | False |\n",
        "|   **!=**  | Distinto que | rojo **! =** verde | True |\n",
        "|   **<**  | Menor que | 12 **<** 30 | True |\n",
        "|   **>**  | Mayor que | 3 **>** 21 | False |\n",
        "|   **<=**  | Menor o igual que | 30 **<=** 30 | True |\n",
        "|   **>=**  | Mayor o igual que | 3 **>=** 5 | False |\n",
        "\n",
        "Para evaluar más de una condición simultáneamente, se utilizan operadores lógicos:\n",
        "\n",
        "| Operador | Ejemplo   | Explicación | Resultado |\n",
        "|------|------|------|------|\n",
        "|   and  | 5 == 7 **and** 7 > 12  | False **and** False | False |\n",
        "|   or  | 12 == 12 **or** 15 < 7  | True **or** False | True |\n",
        "\n",
        "Los flujos condicionales, se definen mediante el uso de tres palabras reservadas: **if**, **elif** y **else**."
      ]
    },
    {
      "cell_type": "code",
      "metadata": {
        "id": "gOJL1-GOrzED",
        "colab_type": "code",
        "colab": {}
      },
      "source": [
        "x = 20\n",
        "    \n",
        "if x < 10:\n",
        "    print('x es menor que 10')\n",
        "else:\n",
        "    print('x es mayor que 10')"
      ],
      "execution_count": 0,
      "outputs": []
    },
    {
      "cell_type": "markdown",
      "metadata": {
        "id": "-mkQPtrl1NmI",
        "colab_type": "text"
      },
      "source": [
        "### Ejemplos:"
      ]
    },
    {
      "cell_type": "code",
      "metadata": {
        "id": "c_pjWsgs1QFW",
        "colab_type": "code",
        "colab": {}
      },
      "source": [
        "temp = [15, 22, 30]\n",
        "\n",
        "i=0\n",
        "val = temp[i]\n",
        "\n",
        "if 12 <= val < 22: \n",
        "    print(\"El medio ambiente esta muy frío!!!\")\n",
        "elif val == 22:\n",
        "    print(\"El medio ambiente presenta condiciones normales\")\n",
        "elif val > 22:\n",
        "    print(\"El medio ambiente está cálido!!!!\")\n",
        "else: (\" es otro planeta\")"
      ],
      "execution_count": 0,
      "outputs": []
    },
    {
      "cell_type": "code",
      "metadata": {
        "id": "CHQXVqXv1TfI",
        "colab_type": "code",
        "colab": {}
      },
      "source": [
        "temp = [15, 22, 30]\n",
        "suelo= [\"seco\", \"humedo\", \"charcos\"]\n",
        "\n",
        "valtemp = temp[0]\n",
        "valsuelo= suelo[2]\n",
        "\n",
        "print(\"Temperatura \\t= \", valtemp, \"°C\",\"\\nestado suelo \\t= \", valsuelo)\n",
        "\n",
        "if 12<= valtemp < 22 and valsuelo ==\"seco\": \n",
        "    print(\"Cielo despejado\")\n",
        "    \n",
        "elif valtemp == 22 or valsuelo == \"humedo\":\n",
        "    print(\"lluvia leve\")\n",
        "    \n",
        "elif valtemp > 22 and valsuelo==\"charcos\":\n",
        "    print(\"lluvia severa\")\n",
        "    \n",
        "else: print(\" Faltan datos\")"
      ],
      "execution_count": 0,
      "outputs": []
    },
    {
      "cell_type": "markdown",
      "metadata": {
        "id": "Le-Rbo3l1XAo",
        "colab_type": "text"
      },
      "source": [
        "Anidando usando **if**"
      ]
    },
    {
      "cell_type": "code",
      "metadata": {
        "id": "tymiyQKn1az4",
        "colab_type": "code",
        "colab": {}
      },
      "source": [
        "numero = 9\n",
        "if numero>=0:\n",
        "    if numero ==0:\n",
        "        print(\"Cero\")\n",
        "    else: print(\"Es un número positivo\")\n",
        "else: print(\"Es un número negativo\")"
      ],
      "execution_count": 0,
      "outputs": []
    },
    {
      "cell_type": "code",
      "metadata": {
        "id": "-3OAP-Jb1daR",
        "colab_type": "code",
        "colab": {}
      },
      "source": [
        "val = \"-3\"\n",
        "\n",
        "if type(val) is float:\n",
        "    if val < 0:\n",
        "        print(\"Es un número real negativo\")\n",
        "    elif val > 0:\n",
        "        print(\"Es un número real positivo\")\n",
        "if type(val) is int:\n",
        "    if val < 0:\n",
        "        print(\"Es un número entero negativo\")\n",
        "    elif val > 0:\n",
        "        print(\"Es un número entero positivo\")\n",
        "else: print(\"No es un número, sino es una cadena\")"
      ],
      "execution_count": 0,
      "outputs": []
    },
    {
      "cell_type": "markdown",
      "metadata": {
        "id": "n1a5PZ5fWzOY",
        "colab_type": "text"
      },
      "source": [
        "---\n",
        "### *Ejercicio*\n",
        "\n",
        "> Vuelva a ejecutar el bloque de código anterior utilizando diferentes valores para x. ¿Qué pasa si x = 10?\n",
        "\n",
        "> Agrega una declaración ***elif*** al segundo bloque de código que imprimirá algo si x == 10.\n",
        "\n",
        "---"
      ]
    },
    {
      "cell_type": "markdown",
      "metadata": {
        "id": "wwQpk-gU1zeu",
        "colab_type": "text"
      },
      "source": [
        "## Solución de una ecuación de segundo grado\n",
        "### $\\mathbf{a}x^{2} + \\mathbf{b}x + \\mathbf{c}$  ...... (1)\n",
        "\n",
        "### Discriminante de una ecuación de segundo grado: ($\\Delta$)\n",
        "\n",
        "### $\\Delta = \\mathbf{b} ^{2} - 4\\mathbf{a}\\mathbf{c}$ ..... (2)\n",
        "\n",
        "### $\\mathbf{x_{1}} = \\frac{- b + \\sqrt{\\Delta}}{2a}$\n",
        "\n",
        "### $\\mathbf{x_{2}} = \\frac{- b - \\sqrt{\\Delta}}{2a}$\n",
        "\n",
        "Donde:  $\\mathbf{x_{1}}$ y $\\mathbf{x_{2}}$, son las soluciones de la ecuación  $\\mathbf{(1)}$\n",
        "\n",
        "#### Condiciones\n",
        "\n",
        "#### si $\\Delta > 0 $, existen dos soluciones\n",
        "\n",
        "#### si $\\Delta = 0 $, existen una única solución\n",
        "\n",
        "#### si $\\Delta < 0 $, existen no existen soluciones reales"
      ]
    },
    {
      "cell_type": "code",
      "metadata": {
        "id": "LoAro9hlAnk8",
        "colab_type": "code",
        "colab": {}
      },
      "source": [
        "print(\"Solución de una ecuación de segundo grado\\n\")\n",
        "print(\"ax**2 + bx + c\\n\")\n",
        "\n",
        "a = float(input(\"a= \"))\n",
        "b = float(input(\"b= \"))\n",
        "c = float(input(\"c= \"))\n",
        "\n",
        "# Determinar el discriminante usando la ecuación (2)\n",
        "discriminante = b**2 - 4*a*c\n",
        "print(\"discriminante =\", discriminante)\n",
        "\n",
        "# Determinando las solucioines x1 y x2\n",
        "import math \n",
        "if discriminante >0:\n",
        "    x1 = (-b + math.sqrt(discriminante) )/(2*a)\n",
        "    x2 = (-b - math.sqrt(discriminante) )/(2*a)\n",
        "    \n",
        "    print(\"x1 = \", x1)\n",
        "    print(\"x2 = \", x2)\n",
        "\n",
        "elif discriminante ==0:\n",
        "    x1 = (-b + math.sqrt(discriminante) )/(2*a)\n",
        "    x2 = x1\n",
        "    print(\"x1,2= \", x2)\n",
        "\n",
        "else: print(\"La ecuación no tiene soluciones reales\")\n",
        "print(\"\\n\")\n",
        "print(a,\"(\",x1,\"**2) +\",  b,\"(\",x1,\") +\", c, \" = \", a*x1**2 + b*x1 + c)\n",
        "    \n",
        "print(a,\"(\",x2,\"**2) +\",  b,\"(\",x2,\") +\", c, \" = \", a*x2**2 + b*x2 + c)\n"
      ],
      "execution_count": 0,
      "outputs": []
    },
    {
      "cell_type": "markdown",
      "metadata": {
        "id": "pIUzTN1XAvUh",
        "colab_type": "text"
      },
      "source": [
        "\n",
        "### MRU y MRUV\n",
        "\n",
        "MRU: Movimiento rectilinio uniforne\n",
        "\n",
        "$a=0$\n",
        "\n",
        "**$d = v_{o} \\times t$**\n",
        "\n",
        "MRUV: Movimiento rectilinio uniforme variado\n",
        "\n",
        "$a\\not=0$\n",
        "\n",
        "$d = v_{o} \\times t \\pm \\frac{1}{2}a\\times t^{2}$"
      ]
    },
    {
      "cell_type": "code",
      "metadata": {
        "id": "wtY01DVPAxcS",
        "colab_type": "code",
        "colab": {}
      },
      "source": [
        "print(\"Condiciones iniciales\")\n",
        "t = float(input(\"t = \"))\n",
        "v = float(input(\"v = \"))\n",
        "a = float(input(\"a = \"))\n",
        "\n",
        "if a==0:\n",
        "    print(\"\\nMRU\")\n",
        "    print(\"-\"*len(\"MRU\"))\n",
        "    \n",
        "    d = v*t\n",
        "    print(\"d = \",v , \"(\", t, \") = \", d)\n",
        "else:\n",
        "    print(\"\\nMRUV\")\n",
        "    print(\"-\"*len(\"MRUV\"))\n",
        "    \n",
        "    d = v*t + 1/2*a*t**2\n",
        "    print(\"d = \", d)"
      ],
      "execution_count": 0,
      "outputs": []
    },
    {
      "cell_type": "markdown",
      "metadata": {
        "id": "Hv3ucvBwXQtl",
        "colab_type": "text"
      },
      "source": [
        "## 2. Contenedores"
      ]
    },
    {
      "cell_type": "markdown",
      "metadata": {
        "id": "kVeM2M_8XVsG",
        "colab_type": "text"
      },
      "source": [
        "A menudo se necesitan listas o secuencias de diferentes valores (por ejemplo, una serie temporal de temperatura, una lista de valores que representan la temperatura en días secuenciales). \n",
        "\n",
        "Hay tres contenedores en el lenguaje python principal. \n",
        "\n",
        "\n",
        "\n",
        "*   Listas\n",
        "*   Tuplas\n",
        "*   Diccionarios\n",
        "\n",
        "\n",
        "Hay algunos contenedores más especializados (por ejemplo, numerosos arrays y marcos de datos de pandas) para usar en computación científica de los que aprenderemos mucho más adelante; son muy similares a los contenedores que aprenderemos aquí."
      ]
    },
    {
      "cell_type": "markdown",
      "metadata": {
        "id": "XI_74rCaXmVh",
        "colab_type": "text"
      },
      "source": [
        "### Listas\n",
        "Las listas son quizás el tipo de contenedor más común. Se utilizan para datos secuenciales. Se crean entre corchetes con valores separados por comas:"
      ]
    },
    {
      "cell_type": "code",
      "metadata": {
        "id": "UzXnhG1JXR0A",
        "colab_type": "code",
        "colab": {}
      },
      "source": [
        "foo = [1., 2., 3, 'cuatro', 'cinco', [6., 7., 8], 'nueve']\n",
        "type(foo)"
      ],
      "execution_count": 0,
      "outputs": []
    },
    {
      "cell_type": "markdown",
      "metadata": {
        "id": "lGLfzOf4X6BD",
        "colab_type": "text"
      },
      "source": [
        "Tenga en cuenta que las listas (a diferencia de las matrices, como veremos más adelante) pueden ser heterogéneas. Es decir, los elementos de la lista no tienen que tener el mismo tipo de datos. ¡Aquí tenemos una lista con float, int, cadenas e incluso otra lista (anidada)!\n",
        "\n",
        "Podemos recuperar los elementos individuales de una lista 'indexando' la lista. Lo hacemos con corchetes, utilizando índices basados en cero, es decir, `0` es el primer elemento, como tal:"
      ]
    },
    {
      "cell_type": "markdown",
      "metadata": {
        "id": "R9_mFeC3YFyt",
        "colab_type": "text"
      },
      "source": [
        "---\n",
        "#### *Ejercicio*\n",
        "\n",
        "¿Qué otros métodos hay? \n",
        "\n",
        " \n",
        "Vea si puede usar estos cuatro métodos de la instancia de la lista 'bar':\n",
        "\n",
        "1. append\n",
        "2. pop\n",
        "3. index\n",
        "4. count\n",
        "---"
      ]
    },
    {
      "cell_type": "code",
      "metadata": {
        "id": "TCMJF3W2Y9go",
        "colab_type": "code",
        "colab": {}
      },
      "source": [
        "bar = [0, 1, 2, 3, 4, 5, 6, 7, 8, 9]"
      ],
      "execution_count": 0,
      "outputs": []
    },
    {
      "cell_type": "markdown",
      "metadata": {
        "id": "seaxEzEBZFUB",
        "colab_type": "text"
      },
      "source": [
        "### Tuplas\n",
        "\n",
        "\n",
        "Las tuplas son secuencias que no pueden modificarse y no tienen métodos. Por lo tanto, están diseñados para ser secuencias inmutables. Se crean como listas, pero con paréntesis en lugar de corchetes."
      ]
    },
    {
      "cell_type": "markdown",
      "metadata": {
        "id": "EIAEGnqxZgAW",
        "colab_type": "text"
      },
      "source": [
        "### Diccionarios\n",
        "\n",
        "Los diccionarios se utilizan para secuencias no ordenadas a las que se hace referencia mediante \"keys\" arbitrarias en lugar de mediante un índice (secuencial). Los diccionarios se crean utilizando llaves con claves y valores separados por dos puntos, y pares **key:value** separados por comas"
      ]
    },
    {
      "cell_type": "code",
      "metadata": {
        "id": "MCZU8Gx3Z8wX",
        "colab_type": "code",
        "colab": {}
      },
      "source": [
        "foobar = {'a':3, 'b':4, 'c':5}"
      ],
      "execution_count": 0,
      "outputs": []
    },
    {
      "cell_type": "code",
      "metadata": {
        "id": "hHxKNo48aCGb",
        "colab_type": "code",
        "colab": {}
      },
      "source": [
        "foobar['b']"
      ],
      "execution_count": 0,
      "outputs": []
    },
    {
      "cell_type": "code",
      "metadata": {
        "id": "wTvlCefsaD39",
        "colab_type": "code",
        "colab": {}
      },
      "source": [
        "# Las claves y los valores se pueden extraer como listas utilizando los métodos de la clase de diccionario.\n",
        "foobar.keys()"
      ],
      "execution_count": 0,
      "outputs": []
    },
    {
      "cell_type": "code",
      "metadata": {
        "id": "9zOWuW94aEZf",
        "colab_type": "code",
        "colab": {}
      },
      "source": [
        "foobar.values()"
      ],
      "execution_count": 0,
      "outputs": []
    },
    {
      "cell_type": "markdown",
      "metadata": {
        "id": "kHKC4t9JaPvO",
        "colab_type": "text"
      },
      "source": [
        "Los nuevos valores se pueden asignar simplemente asignando un valor a una clave que aún no existe"
      ]
    },
    {
      "cell_type": "code",
      "metadata": {
        "id": "idW2BjLMaU7v",
        "colab_type": "code",
        "colab": {}
      },
      "source": [
        "foobar['spam'] = 'eggs'\n",
        "foobar"
      ],
      "execution_count": 0,
      "outputs": []
    },
    {
      "cell_type": "markdown",
      "metadata": {
        "id": "9xTFmdGUaYJ_",
        "colab_type": "text"
      },
      "source": [
        "---\n",
        "#### *Ejercicio*\n",
        "\n",
        "> Crea una variable de diccionario con al menos 3 entradas. Las claves de entrada deben ser el primer nombre de las personas que te rodean en la clase, y el valor debe ser su comida favorita.\n",
        "\n",
        "> Explore los métodos del objeto de diccionario, como se hizo con la instancia de lista en el ejercicio anterior.\n",
        "\n",
        "---"
      ]
    },
    {
      "cell_type": "code",
      "metadata": {
        "id": "ni8lFMOTapJ8",
        "colab_type": "code",
        "colab": {}
      },
      "source": [
        ""
      ],
      "execution_count": 0,
      "outputs": []
    },
    {
      "cell_type": "markdown",
      "metadata": {
        "id": "5FPlRPQraoKS",
        "colab_type": "text"
      },
      "source": [
        "Puedes hacer un diccionario o una lista vacíos usando las funciones **dict** y **list** respectivamente."
      ]
    },
    {
      "cell_type": "code",
      "metadata": {
        "id": "FiVJLsCIajm_",
        "colab_type": "code",
        "colab": {}
      },
      "source": [
        "empty_dict = dict()\n",
        "empty_list = list()\n",
        "print(empty_dict, empty_list)"
      ],
      "execution_count": 0,
      "outputs": []
    },
    {
      "cell_type": "markdown",
      "metadata": {
        "id": "YTRLmuddgULi",
        "colab_type": "text"
      },
      "source": [
        "## 3. Bucles o loops"
      ]
    },
    {
      "cell_type": "markdown",
      "metadata": {
        "id": "7JrMRETfgfrV",
        "colab_type": "text"
      },
      "source": [
        "### for\n",
        "\n",
        "Los bucles son una de las estructuras fundamentales en la programación. Los bucles le permiten iterar sobre cada elemento en una secuencia, uno a la vez, y hacer algo con esos elementos.\n",
        "\n",
        "*Sintaxis de bucle*: Los bucles tienen una sintaxis muy particular en Python; esta sintaxis es una de las características más notables para los nuevos en Python.\n",
        "\n",
        "```\n",
        "for *elemento* en *secuencia*:\n",
        "         <algún código que usa el *elemento*>  # el bloque de código que se identa para cada elemento       \n",
        "         <más código que usa el *elemento*>    # está identado cuatro espacios\n",
        "\n",
        "<el código después de que el bucle continúa> # el final del bucle está marcado por un código sin identación\n",
        "```\n",
        "\n",
        "Por lo tanto, la sangría es significativa para el código. Esto se hizo porque las buenas prácticas de codificación (en casi todos los idiomas, C, FORTRAN, MATLAB) normalmente se identan bucles, funciones, etc. Si la sangría es significativa, se guarda la sintaxis de fin de bucle para un código más compacto."
      ]
    },
    {
      "cell_type": "markdown",
      "metadata": {
        "id": "MdscbZs3llAk",
        "colab_type": "text"
      },
      "source": [
        "* Algunas notas importantes sobre la sangría\n",
        "* La sangría en python es típicamente **4 espacios**. \n",
        "\n",
        "La mayoría de los editores de programación de texto serán inteligentes con respecto a la sangría y también convertirán los TAB en cuatro espacios. \n",
        "\n",
        "Los cuadernos Jupyter son inteligentes con respecto a la sangría y harán lo correcto, es decir, autoindentarán una línea debajo de una línea con dos puntos al final y convertirán los TAB en espacios. Si está en otro editor, recuerde: ___LOS TABS Y LOS ESPACIOS NO SE MEZCLAN___.\n",
        "\n",
        "Un ejemplo simple es encontrar la suma de los cuadrados de la secuencia 0 a 99,"
      ]
    },
    {
      "cell_type": "code",
      "metadata": {
        "id": "xKXRbvjPgXJW",
        "colab_type": "code",
        "colab": {}
      },
      "source": [
        "sum_of_squares = 0\n",
        "\n",
        "for n in range(100):              # el rango produce una secuencia de números desde 0 hasta 100 (sin incluirlo)\n",
        "    sum_of_squares += n**2        # el operador '+ =' es equivalente a 'suma = suma + n ** 2',\n",
        "                                  # el operador '**' es una potencia, como '^' en otros lenguajes\n",
        "\n",
        "print(sum_of_squares)"
      ],
      "execution_count": 0,
      "outputs": []
    },
    {
      "cell_type": "markdown",
      "metadata": {
        "id": "vC3aex1zmZYV",
        "colab_type": "text"
      },
      "source": [
        "Puede iterar sobre cualquier secuencia, y en Python (como MATLAB) es mejor iterar sobre la secuencia que desea que recorrer los índices de esa secuencia. Los siguientes dos ejemplos dan el mismo resultado, pero el primero es mucho más legible y fácil de entender que el segundo. Haz lo primero siempre que sea posible."
      ]
    },
    {
      "cell_type": "code",
      "metadata": {
        "id": "dCgCoLNnmVt0",
        "colab_type": "code",
        "colab": {}
      },
      "source": [
        "# De ser posible, no lo haga de esta manera\n",
        "words = ['este', 'ciclo', 'si', 'me', 'pondre', 'a', 'estudiar']\n",
        "\n",
        "sentence = ''\n",
        "for i in range(len(words)):\n",
        "    sentence += words[i] + ' '\n",
        "\n",
        "sentence"
      ],
      "execution_count": 0,
      "outputs": []
    },
    {
      "cell_type": "markdown",
      "metadata": {
        "id": "ds5UZO0cm1UR",
        "colab_type": "text"
      },
      "source": [
        "A veces desea iterar sobre una secuencia pero también desea los índices de esos elementos. Una forma de hacerlo es la función de enumerar:\n",
        "\n",
        "  enumerar (< secuencia >)\n",
        "\n",
        "Esto devuelve una secuencia de dos tuplas de elementos, el primer elemento en cada tupla es el índice, la segunda el elemento. Se usa comúnmente en bucles, como"
      ]
    },
    {
      "cell_type": "code",
      "metadata": {
        "id": "hcypVCjbm-nz",
        "colab_type": "code",
        "colab": {}
      },
      "source": [
        "for idx, word in enumerate(words):\n",
        "    print('El indice es ', idx, '...')\n",
        "    print('...y la palabra es ', word)"
      ],
      "execution_count": 0,
      "outputs": []
    },
    {
      "cell_type": "markdown",
      "metadata": {
        "id": "I2jiKz9hnmh7",
        "colab_type": "text"
      },
      "source": [
        "#### Comprehension de listas\n",
        "\n",
        "Hay una forma corta de hacer una lista a partir de una regla simple mediante el uso de listas de comprensión. La sintaxis es como\n",
        "\n",
        "[ <element(item)> for item in sequence ]\n",
        "\n",
        "por ejemplo, podemos calcular los cuadrados de los primeros 10 enteros"
      ]
    },
    {
      "cell_type": "code",
      "metadata": {
        "id": "1JUyLiN4oAW0",
        "colab_type": "code",
        "colab": {}
      },
      "source": [
        "[n**2 for n in range(10)]"
      ],
      "execution_count": 0,
      "outputs": []
    },
    {
      "cell_type": "code",
      "metadata": {
        "id": "YGU0hwGdoDT0",
        "colab_type": "code",
        "colab": {}
      },
      "source": [
        "random_list = [1, 2, 'three', 4.0, ['five',]]\n",
        "[isinstance(item, str) for item in random_list]"
      ],
      "execution_count": 0,
      "outputs": []
    },
    {
      "cell_type": "code",
      "metadata": {
        "id": "2AHlBnUQoFCg",
        "colab_type": "code",
        "colab": {}
      },
      "source": [
        "random_list = [1, 2, 'three', 4.0, ['five',]]\n",
        "\n",
        "foo = []\n",
        "for item in random_list:\n",
        "    foo.append(isinstance(item, str))\n",
        "foo"
      ],
      "execution_count": 0,
      "outputs": []
    },
    {
      "cell_type": "markdown",
      "metadata": {
        "id": "yXmAeMhroazF",
        "colab_type": "text"
      },
      "source": [
        "### while\n",
        "\n",
        "La mayoría de los bucles que escribirás serán bucles *for*. Estos son bucles que tienen un número definido de iteraciones, sobre una secuencia específica. Sin embargo, puede haber ocasiones en que no esté claro cuándo debe terminar el ciclo. En este caso, utiliza un bucle *while*. Esto tiene la sintaxis.\n",
        "\n",
        "    while <condition>:\n",
        "        <code>\n",
        "\n",
        "**condition:** debe ser algo que se pueda evaluar cuando se inicia el ciclo, y las variables que determinan el condicional deben modificarse en el ciclo.\n",
        "\n",
        "Este tipo de bucle se debe usar con cuidado: \n",
        "\n",
        "Es relativamente fácil crear accidentalmente un bucle infinito, donde la condición nunca se dispara a detenerse, por lo que el bucle continúa para siempre. Es especialmente importante evitar esto, ya que estamos utilizando recursos compartidos en nuestra clase y un bucle **while** que nunca termina puede causar que la computadora se bloquee.\n",
        "\n",
        "Este es un ejemplo de la integración de una curva infinita que termina cuando el incremento alcanza un valor pequeño (NOTA, esta no es una buena forma de hacer este tipo de cálculo ...)."
      ]
    },
    {
      "cell_type": "code",
      "metadata": {
        "id": "5hO6H_ERoyRu",
        "colab_type": "code",
        "colab": {}
      },
      "source": [
        "i = 1\n",
        "while i <= 50:\n",
        "    print(i)\n",
        "    i = 3 * i + 1\n",
        "print(\"Programa terminado\")"
      ],
      "execution_count": 0,
      "outputs": []
    },
    {
      "cell_type": "markdown",
      "metadata": {
        "id": "nii3Awxtp5il",
        "colab_type": "text"
      },
      "source": [
        "#### Control de flujo\n",
        "\n",
        "Hay algunos comandos que te permiten controlar el flujo de cualquier bucle iterativo: **continue**, **break** y **pass**.\n",
        "\n",
        "- **continue** detiene la iteración actual y continúa al siguiente elemento, si hay uno.\n",
        "\n",
        "- **break** detiene la iteración actual y abandona el bucle.\n",
        "\n",
        "- **pass** no hace nada, y es solo un marcador de posición cuando la sintaxis requiere que algún código tenga que estar presente"
      ]
    },
    {
      "cell_type": "code",
      "metadata": {
        "id": "mM_HTYzSqEEK",
        "colab_type": "code",
        "colab": {}
      },
      "source": [
        "# imprima todos los números hasta  5 (pero no incluido), luego salga del bucle.\n",
        "\n",
        "for n in range(10):\n",
        "    print('.')\n",
        "    if n == 5:\n",
        "        break\n",
        "    print(n)\n",
        "\n",
        "print('done')"
      ],
      "execution_count": 0,
      "outputs": []
    }
  ]
}