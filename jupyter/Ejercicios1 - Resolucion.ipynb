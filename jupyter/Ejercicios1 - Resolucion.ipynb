{
  "nbformat": 4,
  "nbformat_minor": 0,
  "metadata": {
    "colab": {
      "name": "Ejercicios1.ipynb",
      "version": "0.3.2",
      "provenance": [],
      "collapsed_sections": [],
      "include_colab_link": true
    },
    "kernelspec": {
      "name": "python3",
      "display_name": "Python 3"
    }
  },
  "cells": [
    {
      "cell_type": "markdown",
      "metadata": {
        "id": "view-in-github",
        "colab_type": "text"
      },
      "source": [
        "<a href=\"https://colab.research.google.com/github/ryali93/UNMSM_programacion2019-1/blob/master/jupyter/ResolucionEjercicios1.ipynb\" target=\"_parent\"><img src=\"https://colab.research.google.com/assets/colab-badge.svg\" alt=\"Open In Colab\"/></a>"
      ]
    },
    {
      "cell_type": "markdown",
      "metadata": {
        "id": "EN2Eoxq4TCmD",
        "colab_type": "text"
      },
      "source": [
        "## Indentación\n",
        "Es un tipo de notación utilizado para mejorar la legibilidad del código fuente por parte de los programadores, teniendo en cuenta que los compiladores o intérpretes raramente cosideran los espacios en blanco entre las sentencias de sus programas. En la sintaxis de Python no se encuentra (begin) o (end) explicitos, ni llaves que marquen dónde empieza o termina su código. El único delimitador son dos puntos (:) y el sangrado del propio código."
      ]
    },
    {
      "cell_type": "markdown",
      "metadata": {
        "id": "yvKUA6k5UZYA",
        "colab_type": "text"
      },
      "source": [
        "## Input\n",
        "\n",
        "La función input() permite obtener texto escrito por teclado. Al llegar a la función, el programa se detiene esperando que se escriba algo y se pulse la tecla Intro."
      ]
    },
    {
      "cell_type": "code",
      "metadata": {
        "id": "xIu7OREJUmxy",
        "colab_type": "code",
        "colab": {}
      },
      "source": [
        "print(\"¿Cómo se llama?\")\n",
        "nombre = input()\n",
        "print(f\"Me alegro de conocerle, {nombre}\")"
      ],
      "execution_count": 0,
      "outputs": []
    },
    {
      "cell_type": "markdown",
      "metadata": {
        "id": "WAGW9uqiYpZk",
        "colab_type": "text"
      },
      "source": [
        "## Ejercicios"
      ]
    },
    {
      "cell_type": "markdown",
      "metadata": {
        "id": "sYJgCp6qY1W9",
        "colab_type": "text"
      },
      "source": [
        "### Nivel I:"
      ]
    },
    {
      "cell_type": "markdown",
      "metadata": {
        "id": "1Wt9hr33ZMG7",
        "colab_type": "text"
      },
      "source": [
        " 1. Crear dos variables numéricas, sumarlas y mostrar el resultado que diga: \"El resultado del problema es: \""
      ]
    },
    {
      "cell_type": "code",
      "metadata": {
        "id": "e_Ir1-vER6tP",
        "colab_type": "code",
        "colab": {
          "base_uri": "https://localhost:8080/",
          "height": 34
        },
        "outputId": "6896d2b5-304c-4640-a7d0-85ee13ca2742"
      },
      "source": [
        "x = 6\n",
        "y = 8\n",
        "\"El resultado del problema es {}\".format(x+y)"
      ],
      "execution_count": 2,
      "outputs": [
        {
          "output_type": "execute_result",
          "data": {
            "text/plain": [
              "'El resultado del problema es 14'"
            ]
          },
          "metadata": {
            "tags": []
          },
          "execution_count": 2
        }
      ]
    },
    {
      "cell_type": "markdown",
      "metadata": {
        "id": "nkjp5s3FaV6X",
        "colab_type": "text"
      },
      "source": [
        "2. Realizar una función que devuelva el IGV de un producto."
      ]
    },
    {
      "cell_type": "code",
      "metadata": {
        "id": "x6IMmE4sSFTf",
        "colab_type": "code",
        "colab": {
          "base_uri": "https://localhost:8080/",
          "height": 34
        },
        "outputId": "e36b51f1-c160-4b38-dfb6-a5052bdfd597"
      },
      "source": [
        "def IGV(producto):\n",
        "    igv = producto * 0.18\n",
        "    return round(igv, 2)\n",
        "\n",
        "IGV(18)"
      ],
      "execution_count": 4,
      "outputs": [
        {
          "output_type": "execute_result",
          "data": {
            "text/plain": [
              "3.24"
            ]
          },
          "metadata": {
            "tags": []
          },
          "execution_count": 4
        }
      ]
    },
    {
      "cell_type": "markdown",
      "metadata": {
        "id": "K8onDiooZvU_",
        "colab_type": "text"
      },
      "source": [
        "3. Realizar una función de dos parámetros numéricos que devuelva el número mayor y diga cuál es (usar print)."
      ]
    },
    {
      "cell_type": "code",
      "metadata": {
        "id": "rp_AvXejSUpy",
        "colab_type": "code",
        "colab": {
          "base_uri": "https://localhost:8080/",
          "height": 34
        },
        "outputId": "dffff6c1-abaf-44ae-d825-3258433bcab5"
      },
      "source": [
        "def mayor(x, y):\n",
        "    if x > y:\n",
        "        print(\"el número {} es el mayor\".format(x))\n",
        "    elif y > x:\n",
        "        print(\"el número {} es el mayor\".format(y))\n",
        "\n",
        "mayor(4, 6)\n",
        "    "
      ],
      "execution_count": 6,
      "outputs": [
        {
          "output_type": "stream",
          "text": [
            "el número 6 es el mayor\n"
          ],
          "name": "stdout"
        }
      ]
    },
    {
      "cell_type": "markdown",
      "metadata": {
        "id": "susALf6MISW8",
        "colab_type": "text"
      },
      "source": [
        "4. Mostrar los número pares del 1 al 50"
      ]
    },
    {
      "cell_type": "code",
      "metadata": {
        "id": "I3peEk5Et_Vk",
        "colab_type": "code",
        "outputId": "abda8f71-679e-4957-df88-1c8618f2b2c2",
        "colab": {
          "base_uri": "https://localhost:8080/",
          "height": 35
        }
      },
      "source": [
        "for x in range(1, 51):\n",
        "    if x%2  == 0:\n",
        "        print(x, end=\" \")"
      ],
      "execution_count": 0,
      "outputs": [
        {
          "output_type": "stream",
          "text": [
            "2 4 6 8 10 12 14 16 18 20 22 24 26 28 30 32 34 36 38 40 42 44 46 48 50 "
          ],
          "name": "stdout"
        }
      ]
    },
    {
      "cell_type": "markdown",
      "metadata": {
        "id": "VUtckElMal0B",
        "colab_type": "text"
      },
      "source": [
        "5. Crea una variable numérica y si esta entre 0 y 10, mostrar un mensaje indicándolo."
      ]
    },
    {
      "cell_type": "code",
      "metadata": {
        "id": "h7RDxpNLU9GP",
        "colab_type": "code",
        "colab": {
          "base_uri": "https://localhost:8080/",
          "height": 34
        },
        "outputId": "27057750-4cda-4e31-8841-b5a5e2f4a49c"
      },
      "source": [
        "x = 4\n",
        "\n",
        "if x in range(11):\n",
        "    print(\"{} se encuentra en el rango entre 0 y 10\".format(x))\n",
        "else:\n",
        "    print(\"{} no se encuentra en el rango entre 0 y 10\".format(x))"
      ],
      "execution_count": 8,
      "outputs": [
        {
          "output_type": "stream",
          "text": [
            "4 se encuentra en el rango entre 0 y 10\n"
          ],
          "name": "stdout"
        }
      ]
    },
    {
      "cell_type": "markdown",
      "metadata": {
        "id": "vHq-a-KdbD62",
        "colab_type": "text"
      },
      "source": [
        "### Nivel II:"
      ]
    },
    {
      "cell_type": "markdown",
      "metadata": {
        "id": "Iup2ax4xbHrW",
        "colab_type": "text"
      },
      "source": [
        "1. Crea una variable numérica y si esta entre 0 y 10, mostrar un mensaje indicándolo; de la misma forma si está entre 11 y 20, muestre otro mensaje diferente y si esta entre 21 y 30 otro mensaje.\n",
        "\n"
      ]
    },
    {
      "cell_type": "code",
      "metadata": {
        "id": "9LyzeixZwXdF",
        "colab_type": "code",
        "outputId": "fa4dd2ff-dd52-4e52-b281-ed1deddfa1a9",
        "colab": {
          "base_uri": "https://localhost:8080/",
          "height": 35
        }
      },
      "source": [
        "x  = 6\n",
        "if x in range(0, 11):\n",
        "    print(\"%s se encuentra en el rango entre 0 y 10\" % x)\n",
        "elif x in range(11, 21):\n",
        "    print(\"{} se encuentra en el rango entre 11 y 20\".format(x))\n",
        "elif x in range(21, 30):\n",
        "    print(\"{} se encuentra en el rango entre 21 y 30\".format(x))"
      ],
      "execution_count": 0,
      "outputs": [
        {
          "output_type": "stream",
          "text": [
            "6 se encuentra en el rango entre 0 y 10\n"
          ],
          "name": "stdout"
        }
      ]
    },
    {
      "cell_type": "markdown",
      "metadata": {
        "id": "nl0uCLrxbGPe",
        "colab_type": "text"
      },
      "source": [
        "2. Mostrar el índice para cada caracter de su nombre. (Usar sentencia for)"
      ]
    },
    {
      "cell_type": "code",
      "metadata": {
        "id": "1x0lapWH0BQs",
        "colab_type": "code",
        "outputId": "a321dc3f-6350-4982-c74d-dce6b5f5c3bd",
        "colab": {
          "base_uri": "https://localhost:8080/",
          "height": 69
        }
      },
      "source": [
        "nombre = \"Roy\"\n",
        "for x in nombre:\n",
        "    print(\"El indice de {} es {}\".format(nombre.index(x),x))"
      ],
      "execution_count": 0,
      "outputs": [
        {
          "output_type": "stream",
          "text": [
            "El indice de 0 es R\n",
            "El indice de 1 es o\n",
            "El indice de 2 es y\n"
          ],
          "name": "stdout"
        }
      ]
    },
    {
      "cell_type": "markdown",
      "metadata": {
        "id": "zSIrNhwZFNzL",
        "colab_type": "text"
      },
      "source": [
        "3. Realizar una función que tome una lista de palabras y devuelva la mas larga."
      ]
    },
    {
      "cell_type": "code",
      "metadata": {
        "id": "A0VBWdiS1Mw9",
        "colab_type": "code",
        "outputId": "e6359dc3-457c-463a-f463-67f371f38a87",
        "colab": {
          "base_uri": "https://localhost:8080/",
          "height": 35
        }
      },
      "source": [
        "lista = [\"perro\", \"beto\", \"chichico\",\"enciclopedia\", \"cosios\"]\n",
        "contador = 0\n",
        "for x in lista:\n",
        "    if contador < len(x):\n",
        "        contador = len(x)\n",
        "        y = x\n",
        "print(y)"
      ],
      "execution_count": 0,
      "outputs": [
        {
          "output_type": "stream",
          "text": [
            "enciclopedia\n"
          ],
          "name": "stdout"
        }
      ]
    },
    {
      "cell_type": "markdown",
      "metadata": {
        "id": "u7umJ5uTIMpL",
        "colab_type": "text"
      },
      "source": [
        "4. Realizar un programa que identifique cual es la capa de la atmósfera es, de acuerdo a la altitud que se le ingrese.\n"
      ]
    },
    {
      "cell_type": "code",
      "metadata": {
        "id": "pOWQHAWSiDrJ",
        "colab_type": "code",
        "outputId": "1401a796-bee7-4c5e-bb3d-1279fffd2373",
        "colab": {
          "base_uri": "https://localhost:8080/",
          "height": 35
        }
      },
      "source": [
        "x = 400\n",
        "if x in range(0, 20):\n",
        "   print(\"la troposfera se encuentra en un rango de 0 y 19 km\")\n",
        "elif x in range (20,100 ):\n",
        "   print(\"{} la estratosfera se encuentra en un rango de 20 y 99 km.\". format(x))\n",
        "elif x in range (100,301 ):\n",
        "   print(\"{} la mesosfera se encuentra en un rango de 100 y 300 km\". format(x))\n",
        "elif x in range (301, 500):\n",
        "   print(\"{} la exosfera se encuntra en un rango de 301 y 500km\". format(x))"
      ],
      "execution_count": 0,
      "outputs": [
        {
          "output_type": "stream",
          "text": [
            "400 la exosfera se encuntra en un rango de 301 y 500km\n"
          ],
          "name": "stdout"
        }
      ]
    },
    {
      "cell_type": "code",
      "metadata": {
        "id": "uqcZQFKu5K-H",
        "colab_type": "code",
        "outputId": "ba0313d3-3cb4-4fee-c77a-f176c8a29257",
        "colab": {
          "base_uri": "https://localhost:8080/",
          "height": 52
        }
      },
      "source": [
        "altitud = 25000\n",
        "\n",
        "atmosfera = {\"troposfera\": [0,10000],\n",
        "             \"estratosfera\": [10000, 50000], \n",
        "             \"mesosfera\": [50000, 80000], \n",
        "             \"ionosfera\": [80000, 690000]}\n",
        "\n",
        "for x in atmosfera.keys():\n",
        "    if altitud in range(atmosfera[x][0], atmosfera[x][1]):\n",
        "        print(x)\n",
        "# print(atmosfera.keys())\n",
        "# print(atmosfera[ 'troposfera'])\n",
        "# range(atmosfera[x][0], atmosfera[x][1])"
      ],
      "execution_count": 0,
      "outputs": [
        {
          "output_type": "stream",
          "text": [
            "dict_keys(['troposfera', 'estratosfera', 'mesosfera', 'ionosfera'])\n"
          ],
          "name": "stdout"
        },
        {
          "output_type": "execute_result",
          "data": {
            "text/plain": [
              "range(80000, 690000)"
            ]
          },
          "metadata": {
            "tags": []
          },
          "execution_count": 39
        }
      ]
    },
    {
      "cell_type": "markdown",
      "metadata": {
        "id": "L3LAi24xEt2d",
        "colab_type": "text"
      },
      "source": [
        "5. Realizar una función para identificar si una palabra es palíndromo."
      ]
    },
    {
      "cell_type": "code",
      "metadata": {
        "id": "5RHAr0qKA3t7",
        "colab_type": "code",
        "outputId": "f222d36a-3b16-4291-f00f-85f3ae6f3359",
        "colab": {
          "base_uri": "https://localhost:8080/",
          "height": 35
        }
      },
      "source": [
        "def palindromo(palabra):\n",
        "    palabra_procesada = palabra\n",
        "    x= palabra_procesada[::-1]\n",
        "    if x == palabra_procesada:\n",
        "        print(\"la palabra {} es un palindromo\".format(palabra))\n",
        "    else:\n",
        "        print(\"la palabra {} no es un palindromo\".format(palabra))\n",
        "\n",
        "palindromo(\"anitalavalatina\")"
      ],
      "execution_count": 0,
      "outputs": [
        {
          "output_type": "stream",
          "text": [
            "la palabra anitalavalatina es un palindromo\n"
          ],
          "name": "stdout"
        }
      ]
    },
    {
      "cell_type": "markdown",
      "metadata": {
        "id": "IdxhNrB-T66r",
        "colab_type": "text"
      },
      "source": [
        "6. Realizar una función que convierta una lista de datos de temperatura de grados Celcius a Kelvin y Farenheit.\n",
        "   * Se considera la representación de los datos"
      ]
    },
    {
      "cell_type": "code",
      "metadata": {
        "id": "DR0sgurPFT6r",
        "colab_type": "code",
        "outputId": "9bca7b42-49dc-4ecf-cf0c-604b0c2aade3",
        "colab": {
          "base_uri": "https://localhost:8080/",
          "height": 277
        }
      },
      "source": [
        "#Temperatura\n",
        "CC = [-20, -15, -10, -5, 0, 5, 10, 15, 20, 25, 30, 35, 40]\n",
        "i = 0\n",
        "print('  C    K     F')\n",
        "print(\"-\"*20)\n",
        "\n",
        "while i < len(CC):\n",
        "    C = CC[i]\n",
        "    K = CC[i] + 273\n",
        "    F = (9.0/5)*C + 32\n",
        "    print('{}  {}  {}'.format(C, K, F))\n",
        "    i = i + 1"
      ],
      "execution_count": 0,
      "outputs": [
        {
          "output_type": "stream",
          "text": [
            "  C    K     F\n",
            "--------------------\n",
            "-20  253  -4.0\n",
            "-15  258  5.0\n",
            "-10  263  14.0\n",
            "-5  268  23.0\n",
            "0  273  32.0\n",
            "5  278  41.0\n",
            "10  283  50.0\n",
            "15  288  59.0\n",
            "20  293  68.0\n",
            "25  298  77.0\n",
            "30  303  86.0\n",
            "35  308  95.0\n",
            "40  313  104.0\n"
          ],
          "name": "stdout"
        }
      ]
    },
    {
      "cell_type": "markdown",
      "metadata": {
        "id": "y6TE2ym4bzMe",
        "colab_type": "text"
      },
      "source": [
        "### Nivel III:"
      ]
    },
    {
      "cell_type": "markdown",
      "metadata": {
        "id": "wovrJ8uz6iQW",
        "colab_type": "text"
      },
      "source": [
        "1. Realizar una función que pida el valor de los tres lados de un triángulo y calcule el valor de su área y perímetro."
      ]
    },
    {
      "cell_type": "code",
      "metadata": {
        "id": "r_h8c9EXWdve",
        "colab_type": "code",
        "colab": {
          "base_uri": "https://localhost:8080/",
          "height": 68
        },
        "outputId": "c6aa505d-591b-4197-f936-9c2cc3820fcd"
      },
      "source": [
        "import math\n",
        "\n",
        "def triangulo(x, y, z):\n",
        "    perimetro = x + y + z\n",
        "    sp = perimetro / 2 # semiperimetro\n",
        "    area = math.sqrt(sp*(sp - x)*(sp - y)*(sp - z)) # formula de Heron\n",
        "    print(\"El perimetro del triangulo es: {}\".format(perimetro))\n",
        "    print(\"El area del triangulo es: {}\".format(round(area, 2)))\n",
        "    \n",
        "    return perimetro, round(area, 2)\n",
        "\n",
        "triangulo(4, 5, 6)"
      ],
      "execution_count": 12,
      "outputs": [
        {
          "output_type": "stream",
          "text": [
            "El perimetro del triangulo es: 15\n",
            "El area del triangulo es: 9.92\n"
          ],
          "name": "stdout"
        },
        {
          "output_type": "execute_result",
          "data": {
            "text/plain": [
              "(15, 9.92)"
            ]
          },
          "metadata": {
            "tags": []
          },
          "execution_count": 12
        }
      ]
    },
    {
      "cell_type": "markdown",
      "metadata": {
        "id": "wKprS2tEcJzs",
        "colab_type": "text"
      },
      "source": [
        "2. Realizar una función que devuelva el factorial de un número, teniendo como parámetro el número"
      ]
    },
    {
      "cell_type": "code",
      "metadata": {
        "id": "GI8gOQkpXr3I",
        "colab_type": "code",
        "colab": {
          "base_uri": "https://localhost:8080/",
          "height": 34
        },
        "outputId": "39b9d075-6378-4a11-eba2-a2fae80bd70e"
      },
      "source": [
        "def factorial(num):\n",
        "    if num == 0 or num == 1:\n",
        "        return 1\n",
        "    else:\n",
        "        return num * factorial(num - 1)\n",
        "\n",
        "factorial(6)"
      ],
      "execution_count": 13,
      "outputs": [
        {
          "output_type": "execute_result",
          "data": {
            "text/plain": [
              "720"
            ]
          },
          "metadata": {
            "tags": []
          },
          "execution_count": 13
        }
      ]
    },
    {
      "cell_type": "markdown",
      "metadata": {
        "id": "ghRA2EdvcxTh",
        "colab_type": "text"
      },
      "source": [
        "3. Realizar una función que devuelva sucesión Fibonacci, teniendo como parámetro la cantidad de términos"
      ]
    },
    {
      "cell_type": "code",
      "metadata": {
        "id": "eV-7F6PmX3o-",
        "colab_type": "code",
        "colab": {
          "base_uri": "https://localhost:8080/",
          "height": 51
        },
        "outputId": "6734bdd8-6b58-4b3b-b5ff-1baac9e39381"
      },
      "source": [
        "n = int(input(\"Número de términos: \"))\n",
        "a = 0\n",
        "b = 1\n",
        "for i in range(n):\n",
        "    print(a, end=' ')\n",
        "    a = b\n",
        "    b = a + b"
      ],
      "execution_count": 15,
      "outputs": [
        {
          "output_type": "stream",
          "text": [
            "Número de términos: 10\n",
            "0 1 2 4 8 16 32 64 128 256 "
          ],
          "name": "stdout"
        }
      ]
    },
    {
      "cell_type": "markdown",
      "metadata": {
        "id": "ZSBDiu3S4YsW",
        "colab_type": "text"
      },
      "source": [
        "4. De la lista que se encuentra debajo, que tiene los datos de elevación de curvas de nivel, identificar los las curvas maestras, curvas intermedias y auxiliares, tales que:\n",
        "\n",
        "\n",
        "\n",
        "*   Las curvas maestras son divisibles por 200\n",
        "*   Las curvas secundarias son divisibles cada 50\n",
        "*   Las curvas auxiliares no tienen un patrón definido\n",
        "\n"
      ]
    },
    {
      "cell_type": "code",
      "metadata": {
        "id": "vij3OD824Yf8",
        "colab_type": "code",
        "colab": {}
      },
      "source": [
        "listaCN = [800, 1000, 800, 800, 400, 400, 400, 400, 400, 600, 600, 800, 800, 800, 600, 1200, 1200, 1200, 800, 1200, 1400, 1200, 1200, 1000, 800, 1000, 1600, 1600, 400, 250, 300, 300, 300, 350, 350, 350, 350, 350, 650, 450, 500, 500, 500, 450, 350, 350, 350, 650, 850, 850, 700, 750, 850, 1050, 1050, 1050, 1050, 1050, 1100, 1050, 700, 750, 750, 400, 400, 350, 250, 1150, 1550, 1500, 1450, 1300, 1250, 1350, 900, 850, 700, 700, 900, 950, 950, 900, 750, 900, 950, 1150, 700, 750, 750, 750, 700, 1300, 1350, 850, 1250, 1250, 1350, 1300, 1450, 650, 700, 850, 900, 850, 850, 1250, 1250, 1250, 1250, 1250, 1300, 1100, 1050, 1300, 1250, 1100, 1350, 1350, 900, 700, 700, 1250, 1200, 1400, 1400, 1200, 1000, 2200, 2000, 2400, 2000, 2200, 2150, 2150, 1400, 1400, 2050, 2050, 2050, 2100, 2150, 2100, 900, 1000, 2100, 2350, 2350, 2500, 2500, 2500, 2550, 1650, 450, 500, 550, 550, 500, 700, 600, 400, 500, 450, 400, 350, 250, 350, 350, 650, 600, 500, 500, 500, 550, 550, 550, 400, 550, 600, 500, 550, 550, 450, 650, 500, 550, 450, 650, 800, 1000, 1400, 1200, 750, 700, 550, 700, 950, 1100, 850, 1150, 1050, 1100, 2000, 2400, 1800, 2000, 1850, 1900, 1950, 2050, 2100, 2350, 2450, 1050, 1100, 1000, 900, 850, 800, 750, 800, 750, 700, 650, 350, 400, 450, 500, 600, 600, 550, 650, 700, 700, 650, 600, 650, 400, 350, 300, 400, 550, 650, 600, 450, 500, 450, 500, 600, 550, 1600, 950, 550, 450, 2250, 400, 500, 550, 400, 550, 600, 500, 2150, 1950, 2200, 2300, 1900, 1850, 2100, 2050, 1550, 1750, 1650, 1700, 1400, 1250, 1350, 1300, 1200, 1150, 1450, 1500]"
      ],
      "execution_count": 0,
      "outputs": []
    },
    {
      "cell_type": "code",
      "metadata": {
        "id": "3wdT0qkWJaCJ",
        "colab_type": "code",
        "colab": {}
      },
      "source": [
        "listaMaestras = []\n",
        "def curvas(CN):\n",
        "    CN = list(set(CN))\n",
        "    CN.sort()\n",
        "    for x in CN:\n",
        "      if x % 200 == 0:\n",
        "          print(str(x) + \": principal\")\n",
        "          listaMaestras.append(x)\n",
        "      elif x % 50  == 0:\n",
        "          print(str(x)  + \": secundaria\")\n",
        "      else:\n",
        "          print(str(x)  + \": auxiliar\")\n",
        "curvas(listaCN)"
      ],
      "execution_count": 0,
      "outputs": []
    },
    {
      "cell_type": "markdown",
      "metadata": {
        "id": "g3XEyzlBBABl",
        "colab_type": "text"
      },
      "source": [
        "5. Agregar la densidad de cada region al diccionario"
      ]
    },
    {
      "cell_type": "code",
      "metadata": {
        "id": "h2Q5cO0EBA-1",
        "colab_type": "code",
        "colab": {}
      },
      "source": [
        "ciudad = {\"AMAZONAS\":{\"AREA\":39659.16,\"DEPCOD\":\"01\",\"POBLACION\":379384},\"ANCASH\":{\"AREA\":35898.24,\"DEPCOD\":\"02\",\"POBLACION\":1083519},\"APURIMAC\":{\"AREA\":21113.63,\"DEPCOD\":\"03\",\"POBLACION\":405759},\"AREQUIPA\":{\"AREA\":63315.08,\"DEPCOD\":\"04\",\"POBLACION\":1382730},\"AYACUCHO\":{\"AREA\":43571.72,\"DEPCOD\":\"05\",\"POBLACION\":616176},\"CAJAMARCA\":{\"AREA\":33002.3,\"DEPCOD\":\"06\",\"POBLACION\":1341012},\"CALLAO\":{\"AREA\":156.5002,\"DEPCOD\":\"07\",\"POBLACION\":994494},\"CUSCO\":{\"AREA\":72337.00,\"DEPCOD\":\"08\",\"POBLACION\":1205527},\"HUANCAVELICA\":{\"AREA\":22060.99,\"DEPCOD\":\"09\",\"POBLACION\":347639},\"HUANUCO\":{\"AREA\":37068.11,\"DEPCOD\":\"10\",\"POBLACION\":721047},\"ICA\":{\"AREA\":21084.59,\"DEPCOD\":\"11\",\"POBLACION\":850765},\"JUNIN\":{\"AREA\":44601.11,\"DEPCOD\":\"12\",\"POBLACION\":1246038},\"LALIBERTAD\":{\"AREA\":25311.83,\"DEPCOD\":\"13\",\"POBLACION\":1778080},\"LAMBAYEQUE\":{\"AREA\":14331.75,\"DEPCOD\":\"14\",\"POBLACION\":1197260},\"LIMA\":{\"AREA\":34983.62,\"DEPCOD\":\"15\",\"POBLACION\":9485405},\"LORETO\":{\"AREA\":375442.4,\"DEPCOD\":\"16\",\"POBLACION\":883510},\"MADREDEDIOS\":{\"AREA\":85020.52,\"DEPCOD\":\"17\",\"POBLACION\":141070},\"MOQUEGUA\":{\"AREA\":15810.29,\"DEPCOD\":\"18\",\"POBLACION\":174863},\"PASCO\":{\"AREA\":23962.61,\"DEPCOD\":\"19\",\"POBLACION\":254065},\"PIURA\":{\"AREA\":36064.12,\"DEPCOD\":\"20\",\"POBLACION\":1856809},\"PUNO\":{\"AREA\":67858.29,\"DEPCOD\":\"21\",\"POBLACION\":1172697},\"SANMARTIN\":{\"AREA\":50422.56,\"DEPCOD\":\"22\",\"POBLACION\":813381},\"TACNA\":{\"AREA\":16055.31,\"DEPCOD\":\"23\",\"POBLACION\":329332},\"TUMBES\":{\"AREA\":4701.135,\"DEPCOD\":\"24\",\"POBLACION\":224863},\"UCAYALI\":{\"AREA\":105081.8,\"DEPCOD\":\"25\",\"POBLACION\":496459}}"
      ],
      "execution_count": 0,
      "outputs": []
    },
    {
      "cell_type": "code",
      "metadata": {
        "id": "EK7sYNYSL4qG",
        "colab_type": "code",
        "colab": {
          "base_uri": "https://localhost:8080/",
          "height": 54
        },
        "outputId": "8ef02a73-f60f-4d48-fa12-048e79173690"
      },
      "source": [
        "for x in ciudad.keys():\n",
        "    densidad = ciudad[x][\"POBLACION\"] / ciudad[x][\"AREA\"]\n",
        "    ciudad[x][\"DENSIDAD\"] = round(densidad, 2)\n",
        "\n",
        "print(ciudad)"
      ],
      "execution_count": 17,
      "outputs": [
        {
          "output_type": "stream",
          "text": [
            "{'AMAZONAS': {'AREA': 39659.16, 'DEPCOD': '01', 'POBLACION': 379384, 'DENSIDAD': 9.57}, 'ANCASH': {'AREA': 35898.24, 'DEPCOD': '02', 'POBLACION': 1083519, 'DENSIDAD': 30.18}, 'APURIMAC': {'AREA': 21113.63, 'DEPCOD': '03', 'POBLACION': 405759, 'DENSIDAD': 19.22}, 'AREQUIPA': {'AREA': 63315.08, 'DEPCOD': '04', 'POBLACION': 1382730, 'DENSIDAD': 21.84}, 'AYACUCHO': {'AREA': 43571.72, 'DEPCOD': '05', 'POBLACION': 616176, 'DENSIDAD': 14.14}, 'CAJAMARCA': {'AREA': 33002.3, 'DEPCOD': '06', 'POBLACION': 1341012, 'DENSIDAD': 40.63}, 'CALLAO': {'AREA': 156.5002, 'DEPCOD': '07', 'POBLACION': 994494, 'DENSIDAD': 6354.59}, 'CUSCO': {'AREA': 72337.0, 'DEPCOD': '08', 'POBLACION': 1205527, 'DENSIDAD': 16.67}, 'HUANCAVELICA': {'AREA': 22060.99, 'DEPCOD': '09', 'POBLACION': 347639, 'DENSIDAD': 15.76}, 'HUANUCO': {'AREA': 37068.11, 'DEPCOD': '10', 'POBLACION': 721047, 'DENSIDAD': 19.45}, 'ICA': {'AREA': 21084.59, 'DEPCOD': '11', 'POBLACION': 850765, 'DENSIDAD': 40.35}, 'JUNIN': {'AREA': 44601.11, 'DEPCOD': '12', 'POBLACION': 1246038, 'DENSIDAD': 27.94}, 'LALIBERTAD': {'AREA': 25311.83, 'DEPCOD': '13', 'POBLACION': 1778080, 'DENSIDAD': 70.25}, 'LAMBAYEQUE': {'AREA': 14331.75, 'DEPCOD': '14', 'POBLACION': 1197260, 'DENSIDAD': 83.54}, 'LIMA': {'AREA': 34983.62, 'DEPCOD': '15', 'POBLACION': 9485405, 'DENSIDAD': 271.14}, 'LORETO': {'AREA': 375442.4, 'DEPCOD': '16', 'POBLACION': 883510, 'DENSIDAD': 2.35}, 'MADREDEDIOS': {'AREA': 85020.52, 'DEPCOD': '17', 'POBLACION': 141070, 'DENSIDAD': 1.66}, 'MOQUEGUA': {'AREA': 15810.29, 'DEPCOD': '18', 'POBLACION': 174863, 'DENSIDAD': 11.06}, 'PASCO': {'AREA': 23962.61, 'DEPCOD': '19', 'POBLACION': 254065, 'DENSIDAD': 10.6}, 'PIURA': {'AREA': 36064.12, 'DEPCOD': '20', 'POBLACION': 1856809, 'DENSIDAD': 51.49}, 'PUNO': {'AREA': 67858.29, 'DEPCOD': '21', 'POBLACION': 1172697, 'DENSIDAD': 17.28}, 'SANMARTIN': {'AREA': 50422.56, 'DEPCOD': '22', 'POBLACION': 813381, 'DENSIDAD': 16.13}, 'TACNA': {'AREA': 16055.31, 'DEPCOD': '23', 'POBLACION': 329332, 'DENSIDAD': 20.51}, 'TUMBES': {'AREA': 4701.135, 'DEPCOD': '24', 'POBLACION': 224863, 'DENSIDAD': 47.83}, 'UCAYALI': {'AREA': 105081.8, 'DEPCOD': '25', 'POBLACION': 496459, 'DENSIDAD': 4.72}}\n"
          ],
          "name": "stdout"
        }
      ]
    },
    {
      "cell_type": "markdown",
      "metadata": {
        "id": "kx2YZWlhTcRm",
        "colab_type": "text"
      },
      "source": [
        "6. Hacer un programa que pida un usuario y contraseña, y sólo deje pasar si las credenciales son válidas"
      ]
    },
    {
      "cell_type": "code",
      "metadata": {
        "id": "vAE4rEb-YQCS",
        "colab_type": "code",
        "colab": {
          "base_uri": "https://localhost:8080/",
          "height": 68
        },
        "outputId": "30380006-2e28-48e4-9857-90f8fc46dc56"
      },
      "source": [
        "while True:\n",
        "    name = input(\"Usuario: \")\n",
        "    if name != 'Estudiante':\n",
        "        print(\"Este usuario no exite!!!, intentelo nuevamente...\")\n",
        "        continue\n",
        "    \n",
        "    passwd = input('contraseña: ')\n",
        "    if passwd == 'python3':\n",
        "        break\n",
        "print('Acceso concedido')"
      ],
      "execution_count": 18,
      "outputs": [
        {
          "output_type": "stream",
          "text": [
            "Usuario: Estudiante\n",
            "contraseña: python3\n",
            "Acceso concedido\n"
          ],
          "name": "stdout"
        }
      ]
    },
    {
      "cell_type": "markdown",
      "metadata": {
        "id": "xcaS3Oj3DkDY",
        "colab_type": "text"
      },
      "source": [
        "### Nivel Thanos:"
      ]
    },
    {
      "cell_type": "markdown",
      "metadata": {
        "id": "RzOUnGSfDpsa",
        "colab_type": "text"
      },
      "source": [
        "1. Calcular el ángulo entre dos líneas, teniendo un área de influencia (buffer) y el radio."
      ]
    },
    {
      "cell_type": "markdown",
      "metadata": {
        "id": "SDjTWXrHYoB-",
        "colab_type": "text"
      },
      "source": [
        "![texto alternativo](https://www.cinepremiere.com.mx/wp-content/uploads/2019/04/snap.gif)"
      ]
    }
  ]
}