{
  "nbformat": 4,
  "nbformat_minor": 0,
  "metadata": {
    "colab": {
      "name": "clase05_Bucles.ipynb",
      "version": "0.3.2",
      "provenance": [],
      "collapsed_sections": [],
      "include_colab_link": true
    },
    "kernelspec": {
      "name": "python3",
      "display_name": "Python 3"
    }
  },
  "cells": [
    {
      "cell_type": "markdown",
      "metadata": {
        "id": "view-in-github",
        "colab_type": "text"
      },
      "source": [
        "<a href=\"https://colab.research.google.com/github/ryali93/UNMSM_programacion2019-1/blob/master/jupyter/clase05_Bucles.ipynb\" target=\"_parent\"><img src=\"https://colab.research.google.com/assets/colab-badge.svg\" alt=\"Open In Colab\"/></a>"
      ]
    },
    {
      "cell_type": "markdown",
      "metadata": {
        "id": "3mnoXSdTr_Oa",
        "colab_type": "text"
      },
      "source": [
        "# Clase 05\n",
        "# ESTRUCTURAS DE CONTROL REPETITIVAS"
      ]
    },
    {
      "cell_type": "markdown",
      "metadata": {
        "id": "YTRLmuddgULi",
        "colab_type": "text"
      },
      "source": [
        "Los bucles son una de las estructuras fundamentales en la programación. Los bucles le permiten iterar sobre cada elemento en una secuencia, uno a la vez, y hacer algo con esos elementos.\n",
        "\n",
        "Por lo tanto, la sangría es significativa para el código. Esto se hizo porque las buenas prácticas de codificación (en casi todos los idiomas, C, FORTRAN, MATLAB) normalmente se identan bucles, funciones, etc. Si la sangría es significativa, se guarda la sintaxis de fin de bucle para un código más compacto.\n",
        "\n",
        "\n",
        "A diferencia de las estructuras de control condicionales, las iterativas, permiten ejecutar un mismo código, de manera repetida, mientras se cumpla una condición.\n",
        "\n",
        "Cuando los datos se recolectan en una objeto (tuplas, listas, diccionarios, arrays y/o matrices), a menudo queremos realizar la misma operación en cada elemento del objeto. Para lo cual, tenemos que recorrer todos los elementos del objeto.\n",
        "\n",
        "En Python se dispone de dos estructuras cíclicas:\n",
        "* El bucle **for**\n",
        "* El bucle **while**"
      ]
    },
    {
      "cell_type": "markdown",
      "metadata": {
        "id": "6sVl6g0aC0el",
        "colab_type": "text"
      },
      "source": [
        "### range()\n",
        "El tipo range es una lista inmutable de números enteros en sucesión aritmética. El tipo **range** se crea llamando al tipo de datos con uno, dos o tres argumentos numéricos, como si fuera una función.\n",
        "\n",
        "El tipo **range()** con un único argmento se escribe **range(n)** y crea una lista de **n** números enteros consecutivos que empieza en 0 y finaliza en **n-1**"
      ]
    },
    {
      "cell_type": "code",
      "metadata": {
        "id": "ARFOxec9C3Wd",
        "colab_type": "code",
        "colab": {}
      },
      "source": [
        "a=range(10)\n",
        "print(\"a = \",list(a))\n",
        "print(type(a))\n",
        "\n",
        "\n",
        "b=range(1,10)\n",
        "print(\"\\nb = \",list(b))\n",
        "print(type(b))\n",
        "\n",
        "c=range(1,10,3)\n",
        "print(\"\\nc = \",list(c))\n",
        "print(type(c))"
      ],
      "execution_count": 0,
      "outputs": []
    },
    {
      "cell_type": "markdown",
      "metadata": {
        "id": "7JrMRETfgfrV",
        "colab_type": "text"
      },
      "source": [
        "### El bucle for\n",
        "\n",
        "La sentencia **for** en Python difiere un poco de lo que uno puede estar acostumbrado en otros lenguajes. En lugar de siempre iterar sobre una progresión aritmética de números (como en Pascal) o darle al usuario la posibilidad de definir tanto el paso de la iteración como la condición de fin (como en C), la sentencia **for** de Python itera sobre los ítems de cualquier secuencia (una lista o una cadena de texto), en el orden que aparecen en la secuencia."
      ]
    },
    {
      "cell_type": "code",
      "metadata": {
        "id": "xKXRbvjPgXJW",
        "colab_type": "code",
        "colab": {}
      },
      "source": [
        "sum_of_squares = 0\n",
        "\n",
        "for n in range(100):              # el rango produce una secuencia de números desde 0 hasta 100 (sin incluirlo)\n",
        "    sum_of_squares += n**2        # el operador '+ =' es equivalente a 'suma = suma + n ** 2',\n",
        "                                  # el operador '**' es una potencia, como '^' en otros lenguajes\n",
        "\n",
        "print(sum_of_squares)"
      ],
      "execution_count": 0,
      "outputs": []
    },
    {
      "cell_type": "markdown",
      "metadata": {
        "id": "0kHttSilF9Vh",
        "colab_type": "text"
      },
      "source": [
        "#### El bucle for en cadenas"
      ]
    },
    {
      "cell_type": "code",
      "metadata": {
        "id": "JCDXpoOTF_Pw",
        "colab_type": "code",
        "colab": {}
      },
      "source": [
        "cadena = \"Bienvenido año 2019\"\n",
        "ncaracteres = len(cadena)\n",
        "print(\"ncaracteres= \", ncaracteres)\n",
        "\n",
        "for i in range(ncaracteres):\n",
        "    print(i, cadena[i])\n"
      ],
      "execution_count": 0,
      "outputs": []
    },
    {
      "cell_type": "code",
      "metadata": {
        "id": "haSkEuYrGJDf",
        "colab_type": "code",
        "colab": {}
      },
      "source": [
        "cadena = \"Bienvenido año 2019\"\n",
        "ncaracteres = len(cadena)\n",
        "print(\"ncaracteres= \", ncaracteres)\n",
        "\n",
        "for i in cadena:\n",
        "    print(i)"
      ],
      "execution_count": 0,
      "outputs": []
    },
    {
      "cell_type": "markdown",
      "metadata": {
        "id": "ytHwvCWaGL4l",
        "colab_type": "text"
      },
      "source": [
        "#### El bucle for en tuplas"
      ]
    },
    {
      "cell_type": "code",
      "metadata": {
        "id": "7YwoLCYgGPWA",
        "colab_type": "code",
        "colab": {}
      },
      "source": [
        "t = (1, 'a', 34.55, 3 + 4j, 'Hello world!')\n",
        "n_elem = len(t)\n",
        "\n",
        "# Primera forma\n",
        "print(\"Primera forma\")\n",
        "print(\"-\"*len(\"Primera forma\"))\n",
        "for i in range(n_elem):\n",
        "    print(i, t[i])\n",
        "\n",
        "# Segunda Forma\n",
        "print(\"\\nSegunda forma\")\n",
        "print(\"-\"*len(\"\\nSegunda forma\"))\n",
        "for i in t:\n",
        "    print(i)"
      ],
      "execution_count": 0,
      "outputs": []
    },
    {
      "cell_type": "markdown",
      "metadata": {
        "id": "ePPnAml0GSOh",
        "colab_type": "text"
      },
      "source": [
        "#### El bucle for con listas"
      ]
    },
    {
      "cell_type": "code",
      "metadata": {
        "id": "wQ8aIKLmG1IZ",
        "colab_type": "code",
        "colab": {}
      },
      "source": [
        "l = [1, 'a', 34.55, 3 + 4j, 'Hello world!']\n",
        "n_elem = len(l)\n",
        "\n",
        "# Primera forma\n",
        "print(\"Primera forma\")\n",
        "print(\"-\"*len(\"Primera forma\"))\n",
        "for i in range(n_elem):\n",
        "    print(i, l[i])\n",
        "\n",
        "# Segunda Forma\n",
        "print(\"\\nSegunda forma\")\n",
        "print(\"-\"*len(\"\\nSegunda forma\"))\n",
        "for i in l:\n",
        "    print(i)"
      ],
      "execution_count": 0,
      "outputs": []
    },
    {
      "cell_type": "markdown",
      "metadata": {
        "id": "ZBn-e3avG28J",
        "colab_type": "text"
      },
      "source": [
        "#### El bucle for con diccionarios"
      ]
    },
    {
      "cell_type": "code",
      "metadata": {
        "id": "N7LSUdg3G4Fp",
        "colab_type": "code",
        "colab": {}
      },
      "source": [
        "lima = {\"region\":\"costa\",\"superficie\":\"2672km2\",\"altura\": 154, \"lat\": -12, \"lon\":-77}\n",
        "\n",
        "keys  = lima.keys()\n",
        "values= lima.values()\n",
        "items = lima.items()\n",
        "print(keys)\n",
        "print(values)\n",
        "print(items)\n",
        "\n",
        "print(\"\\nLima\")\n",
        "print(\"-\"*len(\"Lima\"), \"\\n\")\n",
        "\n",
        "for i,j in items:\n",
        "    print('{0} --> {1}'.format(i , j)) "
      ],
      "execution_count": 0,
      "outputs": []
    },
    {
      "cell_type": "markdown",
      "metadata": {
        "id": "pDZ46Tb2G6eW",
        "colab_type": "text"
      },
      "source": [
        "#### Iteraciones de multiples variables usando el bucle: for"
      ]
    },
    {
      "cell_type": "code",
      "metadata": {
        "id": "96nYIkWQG8_2",
        "colab_type": "code",
        "colab": {}
      },
      "source": [
        "var = [\"airTemp\", \"sst\", \"asst\", \"rain\", \"uwind\", \"vwind\", \"presión\"]\n",
        "val = [22, 27,1.5, 30,10,20,1005]\n",
        "unit= [\"°C\", \"°C\", \"°C\", \"mm/day\", \"m/s\", \"m/s\", \"hPa\"]\n",
        "\n",
        "for ivar, ival, iunit in zip(var, val, unit):\n",
        "    #print(ivar,\"\\t\", ival,\"\\t\", iunit)\n",
        "    print('{0} {1: 1.1f} {2}'.format(ivar, ival, iunit))\n",
        "    "
      ],
      "execution_count": 0,
      "outputs": []
    },
    {
      "cell_type": "code",
      "metadata": {
        "id": "ItfXnQl_G-l-",
        "colab_type": "code",
        "colab": {}
      },
      "source": [
        "var = [\"airTemp\", \"sst\", \"asst\", \"rain\", \"uwind\", \"vwind\", \"presión\"]\n",
        "val = [22, 27,1.5, 30,10,20,1005]\n",
        "unit= [\"°C\", \"°C\", \"°C\", \"mm/day\", \"m/s\", \"m/s\", \"hPa\"]\n",
        "\n",
        "a= len(var) == len(val) and len(var)== len(unit)\n",
        "print(\"a=\", a)\n",
        "\n",
        "if a == True:\n",
        "    for i in range(len(var)):\n",
        "        print(i+1,'{0} --> {1: 1.1f} {2}'.format(var[i], val[i], unit[i]))\n",
        "else :\n",
        "    for ivar, ival, iunit in zip(var, val, unit):\n",
        "        #print(ivar,\"\\t\", ival,\"\\t\", iunit)\n",
        "        print('{0} --> {1: 1.1f} {2}'.format(ivar, ival, iunit))"
      ],
      "execution_count": 0,
      "outputs": []
    },
    {
      "cell_type": "markdown",
      "metadata": {
        "id": "I2jiKz9hnmh7",
        "colab_type": "text"
      },
      "source": [
        "#### Comprehension de listas\n",
        "\n",
        "Hay una forma corta de hacer una lista a partir de una regla simple mediante el uso de listas de comprensión. La sintaxis es como\n",
        "\n",
        "[ <element(item)> for item in sequence ]\n"
      ]
    },
    {
      "cell_type": "code",
      "metadata": {
        "id": "1JUyLiN4oAW0",
        "colab_type": "code",
        "colab": {}
      },
      "source": [
        "[n**2 for n in range(10)]"
      ],
      "execution_count": 0,
      "outputs": []
    },
    {
      "cell_type": "code",
      "metadata": {
        "id": "YGU0hwGdoDT0",
        "colab_type": "code",
        "colab": {}
      },
      "source": [
        "random_list = [1, 2, 'three', 4.0, ['five',]]\n",
        "[isinstance(item, str) for item in random_list]"
      ],
      "execution_count": 0,
      "outputs": []
    },
    {
      "cell_type": "code",
      "metadata": {
        "id": "2AHlBnUQoFCg",
        "colab_type": "code",
        "colab": {}
      },
      "source": [
        "random_list = [1, 2, 'three', 4.0, ['five',]]\n",
        "\n",
        "foo = []\n",
        "for item in random_list:\n",
        "    foo.append(isinstance(item, str))\n",
        "foo"
      ],
      "execution_count": 0,
      "outputs": []
    },
    {
      "cell_type": "markdown",
      "metadata": {
        "id": "OZ4BGAb1Hcq4",
        "colab_type": "text"
      },
      "source": [
        "#### Crear diccionarios usando for, if: forma extensa o tradicional"
      ]
    },
    {
      "cell_type": "code",
      "metadata": {
        "id": "nvBB-sy5Hd7q",
        "colab_type": "code",
        "colab": {}
      },
      "source": [
        "dic2 = {}\n",
        "for x in range(6):\n",
        "   dic2[x] = x*x\n",
        "\n",
        "print(\"dic2 = \", dic2)\n",
        "\n",
        "# usando condicionales\n",
        "dic3 = {}\n",
        "for x in range(6):\n",
        "    if x%2==1 or x%3==1:\n",
        "        dic3[x] = x*x\n",
        "\n",
        "print(\"dic3 = \", dic3)"
      ],
      "execution_count": 0,
      "outputs": []
    },
    {
      "cell_type": "markdown",
      "metadata": {
        "id": "lAEUm2qHHTY8",
        "colab_type": "text"
      },
      "source": [
        "#### Crear diccionarios usando for, if: forma simplificada"
      ]
    },
    {
      "cell_type": "code",
      "metadata": {
        "id": "BkCj-ZbJHQdf",
        "colab_type": "code",
        "colab": {}
      },
      "source": [
        "dic1 = {x: x*x for x in range(6)}\n",
        "print(\"dic1 = \",dic1)\n",
        "\n",
        "dic2 = {x: x*x for x in range(6) if x%2==1 }\n",
        "print(\"dic2 = \",dic2)\n",
        "\n",
        "dic3 = {x: x*x for x in range(6) if x%2==1 or x%3==1}\n",
        "print(\"dic3 = \", dic3)"
      ],
      "execution_count": 0,
      "outputs": []
    },
    {
      "cell_type": "markdown",
      "metadata": {
        "id": "yXmAeMhroazF",
        "colab_type": "text"
      },
      "source": [
        "### El bucle while\n",
        "\n",
        "La mayoría de los bucles que escribirás serán bucles *for*. Estos son bucles que tienen un número definido de iteraciones, sobre una secuencia específica. Sin embargo, puede haber ocasiones en que no esté claro cuándo debe terminar el ciclo. En este caso, utiliza un bucle *while*. Esto tiene la sintaxis.\n",
        "\n",
        "    while <condition>:\n",
        "        <code>\n",
        "\n",
        "**condition:** debe ser algo que se pueda evaluar cuando se inicia el ciclo, y las variables que determinan el condicional deben modificarse en el ciclo.\n",
        "\n",
        "El bucle while es un tipo de estructura que repite una tarea hasta que se cumpla la condición dada.\n",
        "\n",
        "En el loop while, se debe definir una condición específica que le indique al programa que deje de repetir la tarea. Cada vez que el programa completa la tarea, verifica la condición para decidir si detener o realizar la tarea.\n",
        "\n",
        "Este tipo de bucle se debe usar con cuidado: \n",
        "\n",
        "Es relativamente fácil crear accidentalmente un bucle infinito, donde la condición nunca se dispara a detenerse, por lo que el bucle continúa para siempre. Es especialmente importante evitar esto, ya que estamos utilizando recursos compartidos en nuestra clase y un bucle **while** que nunca termina puede causar que la computadora se bloquee."
      ]
    },
    {
      "cell_type": "code",
      "metadata": {
        "id": "5hO6H_ERoyRu",
        "colab_type": "code",
        "colab": {}
      },
      "source": [
        "n = 10\n",
        "\n",
        "# inicializa la  suma y el contador\n",
        "sum = 0\n",
        "i = 1\n",
        "\n",
        "while i <= n:\n",
        "    sum = sum + i\n",
        "    i = i+1    # actualiza el contador\n",
        "    print(sum)\n",
        "print(\"-\"*20)\n",
        "print(\"sum = \", sum)"
      ],
      "execution_count": 0,
      "outputs": []
    },
    {
      "cell_type": "code",
      "metadata": {
        "id": "rPlCmLzqIcSt",
        "colab_type": "code",
        "colab": {}
      },
      "source": [
        "CC = [-20, -15, -10, -5, 0, 5, 10, 15, 20, 25, 30, 35, 40]\n",
        "i = 0\n",
        "print('  C    K     F')\n",
        "print(\"-\"*20)\n",
        "\n",
        "while i < len(CC):\n",
        "    C = CC[i]\n",
        "    K = CC[i] + 273\n",
        "    F = (9.0/5)*C + 32\n",
        "    print('%3d %5d %5.1f' %(C, K, F))\n",
        "    i += 1\n",
        "\n",
        "# Completar ejercicio!!!!"
      ],
      "execution_count": 0,
      "outputs": []
    },
    {
      "cell_type": "code",
      "metadata": {
        "id": "Tr5sHcuZId4V",
        "colab_type": "code",
        "colab": {}
      },
      "source": [
        "name = 'temp'\n",
        "varName = []\n",
        "while name != 'wind':\n",
        "    name = input('Agregar variable: ')\n",
        "    varName.append(name)\n",
        "    \n",
        "print(varName)\n",
        "    "
      ],
      "execution_count": 0,
      "outputs": []
    },
    {
      "cell_type": "code",
      "metadata": {
        "id": "tvz_KcEpIhx7",
        "colab_type": "code",
        "colab": {}
      },
      "source": [
        "while True:\n",
        "    name = input(\"Usuario: \")\n",
        "    if name != 'Roy':\n",
        "        print(\"Este usuario no exite!!!, intentelo nuevamente...\")\n",
        "        continue\n",
        "    \n",
        "    passwd = input('contraseña: ')\n",
        "    if passwd == 'python3':\n",
        "        break\n",
        "print('Acceso concedido')"
      ],
      "execution_count": 0,
      "outputs": []
    },
    {
      "cell_type": "markdown",
      "metadata": {
        "id": "nii3Awxtp5il",
        "colab_type": "text"
      },
      "source": [
        "#### Control de flujo\n",
        "\n",
        "Hay algunos comandos que te permiten controlar el flujo de cualquier bucle iterativo: **continue**, **break** y **pass**.\n",
        "\n",
        "- **continue** detiene la iteración actual y continúa al siguiente elemento, si hay uno.\n",
        "\n",
        "- **break** detiene la iteración actual y abandona el bucle.\n",
        "\n",
        "- **pass** no hace nada, y es solo un marcador de posición cuando la sintaxis requiere que algún código tenga que estar presente"
      ]
    }
  ]
}