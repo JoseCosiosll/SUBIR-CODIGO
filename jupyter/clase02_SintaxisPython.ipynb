{
  "nbformat": 4,
  "nbformat_minor": 0,
  "metadata": {
    "colab": {
      "name": "clase02_SintaxisPython.ipynb",
      "version": "0.3.2",
      "provenance": [],
      "collapsed_sections": [],
      "toc_visible": true,
      "include_colab_link": true
    },
    "kernelspec": {
      "name": "python3",
      "display_name": "Python 3"
    }
  },
  "cells": [
    {
      "cell_type": "markdown",
      "metadata": {
        "id": "view-in-github",
        "colab_type": "text"
      },
      "source": [
        "<a href=\"https://colab.research.google.com/github/ryali93/UNMSM_programacion2019-1/blob/master/jupyter/clase02_SintaxisPython.ipynb\" target=\"_parent\"><img src=\"https://colab.research.google.com/assets/colab-badge.svg\" alt=\"Open In Colab\"/></a>"
      ]
    },
    {
      "cell_type": "markdown",
      "metadata": {
        "id": "6vaDt7Z2b8nc",
        "colab_type": "text"
      },
      "source": [
        "# Clase 02\n",
        "# SINTAXIS Y TIPOS DE DATOS"
      ]
    },
    {
      "cell_type": "markdown",
      "metadata": {
        "id": "6fYsQ6HAddBS",
        "colab_type": "text"
      },
      "source": [
        "En esta lección revisaremos los tipos de datos, aprenderemos cómo se pueden almacenar los datos en las listas de Python y sobre el concepto de objetos en la programación."
      ]
    },
    {
      "cell_type": "markdown",
      "metadata": {
        "id": "i_piNRda66Fv",
        "colab_type": "text"
      },
      "source": [
        "## 2.1 Tipos de datos\n"
      ]
    },
    {
      "cell_type": "markdown",
      "metadata": {
        "id": "HMq0SrXE7ALP",
        "colab_type": "text"
      },
      "source": [
        "Los tipos de variables posibles en Python son:\n",
        "\n",
        "### Números:\n",
        "\n",
        "\n",
        "*   string (str): Son caracteres, no tienen valor numérico\n",
        "*   integer (int): Números enteros o naturales\n",
        "*   float (float): Números flotantes o reales\n",
        "\n",
        "\n"
      ]
    },
    {
      "cell_type": "code",
      "metadata": {
        "id": "PqT4nZcd8Nns",
        "colab_type": "code",
        "colab": {}
      },
      "source": [
        "a = 3        # esto es un número entero [int].\n",
        "print(\"a es: \", type(a))\n",
        "print(a)\n",
        "\n",
        "b = 39.747  # esto es un número de coma flotante (float)\n",
        "print(\"\\nb es: \", type(b))\n",
        "print(b)\n",
        "\n",
        "z = 4 + 6j   # esto es un número complejo \n",
        "print(\"\\nz es: \", type(z))\n",
        "print(z)\n",
        "\n",
        "str1 = 'hola'\n",
        "\n",
        "str2 = int(\"123\")\n",
        "\n",
        "print(\"\\na+b=\", a + b)\n",
        "print(\"\\nstr2 + a = \", str2 + a)\n",
        "print(type(str2))"
      ],
      "execution_count": 0,
      "outputs": []
    },
    {
      "cell_type": "markdown",
      "metadata": {
        "id": "Tz5WAxdb8QZx",
        "colab_type": "text"
      },
      "source": [
        "### Cadena de texto:"
      ]
    },
    {
      "cell_type": "code",
      "metadata": {
        "id": "eQc-jAAN8VAt",
        "colab_type": "code",
        "colab": {}
      },
      "source": [
        "c1 = \"Bienvenido año nuevo \"    # esto es una cadena de caracteres.\n",
        "print(\"c1 es: \", type(c1))\n",
        "print(c1)\n",
        "\n",
        "c2 = \"2019\"          # esto es una cadena de caracteres. \n",
        "print(\"\\nc2 es: \", type(c2))\n",
        "print(c2)\n",
        "\n",
        "c3 = c1 + c2         # concatenación de dos cadenas de caracteres\n",
        "print(\"\\nc3 es: \", type(c3))\n",
        "print(c3)\n",
        "print(\"\\nc3 tiene \", len(c3), \"caracteres\") # La función [len] devuelve el número de caracteres de una cadena."
      ],
      "execution_count": 0,
      "outputs": []
    },
    {
      "cell_type": "markdown",
      "metadata": {
        "id": "Ab66VppZ8Y8L",
        "colab_type": "text"
      },
      "source": [
        "### Booleanos:\n",
        "\n",
        "El tipo booleano sólo puede tener dos valores: True (cierto) y False (falso). Estos valores son especialmente importantes para las expresiones condicionales y los bucles."
      ]
    },
    {
      "cell_type": "code",
      "metadata": {
        "id": "5mP8B8cN8dOB",
        "colab_type": "code",
        "colab": {}
      },
      "source": [
        "# Conjunción\n",
        "True and True\n",
        "#True and False"
      ],
      "execution_count": 0,
      "outputs": []
    },
    {
      "cell_type": "code",
      "metadata": {
        "id": "hVHPfx2M8d53",
        "colab_type": "code",
        "colab": {}
      },
      "source": [
        "# Disyunción\n",
        "#True or True\n",
        "#True or False\n",
        "False or False"
      ],
      "execution_count": 0,
      "outputs": []
    },
    {
      "cell_type": "markdown",
      "metadata": {
        "id": "ODChrykC8feH",
        "colab_type": "text"
      },
      "source": [
        "### Ejemplos:"
      ]
    },
    {
      "cell_type": "code",
      "metadata": {
        "id": "uS9A4H6F8kWr",
        "colab_type": "code",
        "colab": {}
      },
      "source": [
        "dd= not True\n",
        "print(\"dd es: \", dd)"
      ],
      "execution_count": 0,
      "outputs": []
    },
    {
      "cell_type": "code",
      "metadata": {
        "id": "HSLnWxpy8mGG",
        "colab_type": "code",
        "colab": {}
      },
      "source": [
        "not not not not not True"
      ],
      "execution_count": 0,
      "outputs": []
    },
    {
      "cell_type": "code",
      "metadata": {
        "id": "UQQgyvbg8nQk",
        "colab_type": "code",
        "colab": {}
      },
      "source": [
        "(4 < 5) and (5 < 6)"
      ],
      "execution_count": 0,
      "outputs": []
    },
    {
      "cell_type": "code",
      "metadata": {
        "id": "_KKWsfVr8oUk",
        "colab_type": "code",
        "colab": {}
      },
      "source": [
        "(4 < 5 ) and (9 < 6)"
      ],
      "execution_count": 0,
      "outputs": []
    },
    {
      "cell_type": "code",
      "metadata": {
        "id": "WpwrbSfv8p_s",
        "colab_type": "code",
        "colab": {}
      },
      "source": [
        "x1 = (1 == 2) or (2 == 2)\n",
        "x2 = (1 == 2) and (2 == 2)\n",
        "\n",
        "print(\"x1 es: \", x1)\n",
        "print(\"x2 es: \", x2)"
      ],
      "execution_count": 0,
      "outputs": []
    },
    {
      "cell_type": "code",
      "metadata": {
        "id": "BgQpgOH_8rUa",
        "colab_type": "code",
        "colab": {}
      },
      "source": [
        "2 + 2 == 4 and not 2 + 2 == 5 and 2 * 2 == 2 + 2"
      ],
      "execution_count": 0,
      "outputs": []
    },
    {
      "cell_type": "code",
      "metadata": {
        "id": "rSBPj2NlGZan",
        "colab_type": "code",
        "colab": {}
      },
      "source": [
        "nombre = 'CHOSICA'\n",
        "id = 202906\n",
        "longitud = 76+41/60+23.8/3600 # 76° 41'23.8\n",
        "latitud = 11+55/60+48.5/3600 # 11° 55'48.5\"\n",
        "tipo = 'Hidrometrica'\n",
        "fecha = \"28-02-1998\""
      ],
      "execution_count": 0,
      "outputs": []
    },
    {
      "cell_type": "markdown",
      "metadata": {
        "id": "4WxNDKdaIY6G",
        "colab_type": "text"
      },
      "source": [
        "Podemos explorar los diferentes tipos de datos almacenados en variables usando la type()función."
      ]
    },
    {
      "cell_type": "code",
      "metadata": {
        "id": "D9Xm4oD5Hp-b",
        "colab_type": "code",
        "colab": {}
      },
      "source": [
        "type(nombre)"
      ],
      "execution_count": 0,
      "outputs": []
    },
    {
      "cell_type": "code",
      "metadata": {
        "id": "uIJR5n13IXoK",
        "colab_type": "code",
        "colab": {}
      },
      "source": [
        "type(id)"
      ],
      "execution_count": 0,
      "outputs": []
    },
    {
      "cell_type": "code",
      "metadata": {
        "id": "vvJpIdpbIkWv",
        "colab_type": "code",
        "colab": {}
      },
      "source": [
        "type(latitud)"
      ],
      "execution_count": 0,
      "outputs": []
    },
    {
      "cell_type": "code",
      "metadata": {
        "id": "c0yGOSfwIreW",
        "colab_type": "code",
        "colab": {}
      },
      "source": [
        "type(tipo)"
      ],
      "execution_count": 0,
      "outputs": []
    },
    {
      "cell_type": "markdown",
      "metadata": {
        "id": "WimqvKld-A7o",
        "colab_type": "text"
      },
      "source": [
        "## Métodos de cadenas"
      ]
    },
    {
      "cell_type": "markdown",
      "metadata": {
        "id": "o7GJJsyTJUOW",
        "colab_type": "text"
      },
      "source": [
        "Recuerde que los tipos de datos son importantes porque algunos no son compatibles entre sí."
      ]
    },
    {
      "cell_type": "code",
      "metadata": {
        "id": "a9WB-iKlJWnG",
        "colab_type": "code",
        "colab": {}
      },
      "source": [
        "nombre + id"
      ],
      "execution_count": 0,
      "outputs": []
    },
    {
      "cell_type": "markdown",
      "metadata": {
        "id": "dcpwjbnmJbsG",
        "colab_type": "text"
      },
      "source": [
        "Aquí obtenemos una **TypeError** porque Python no sabe cómo combinar una cadena de caracteres (nombre) con un valor entero ( id)."
      ]
    },
    {
      "cell_type": "markdown",
      "metadata": {
        "id": "YeQaRXUb-LKi",
        "colab_type": "text"
      },
      "source": [
        "En otros lenguajes de programación es necesario escribir o declarar variables antes que puedan almacenar cualquier cosa en ellas. Esto no es necesario cuando trabajas con cadenas de caracteres en Python."
      ]
    },
    {
      "cell_type": "code",
      "metadata": {
        "id": "XA87UjZG-NS2",
        "colab_type": "code",
        "colab": {}
      },
      "source": [
        "cadena1 = \"océano \"\n",
        "cadena2 = \"atmósfera\"\n",
        "\n",
        "cadena = \"Interacción \"+cadena1 + cadena2\n",
        "print(cadena)"
      ],
      "execution_count": 0,
      "outputs": []
    },
    {
      "cell_type": "code",
      "metadata": {
        "id": "pbTJQ7W8-QdM",
        "colab_type": "code",
        "colab": {}
      },
      "source": [
        "cadena1 = \"océano \"\n",
        "cadena2 = \"atmósfera\"\n",
        "\n",
        "cadena = \"Interacción \"+cadena1 + cadena2\n",
        "print(cadena)\n",
        "print(\"--\"*2)\n",
        "\n",
        "cadena1 = \"océano \\n\"\n",
        "cadena2 = \"atmósfera\"\n",
        "cadena = \"Interacción \"+cadena1 + cadena2\n",
        "print(cadena)"
      ],
      "execution_count": 0,
      "outputs": []
    },
    {
      "cell_type": "code",
      "metadata": {
        "id": "XNFgIPty-TKF",
        "colab_type": "code",
        "colab": {}
      },
      "source": [
        "cadena = \"123\"\n",
        "numero = str(123)\n",
        "c = cadena + numero\n",
        "print(c)"
      ],
      "execution_count": 0,
      "outputs": []
    },
    {
      "cell_type": "markdown",
      "metadata": {
        "id": "Gnqj7i0l-ht7",
        "colab_type": "text"
      },
      "source": [
        "### Indexación de cadenas"
      ]
    },
    {
      "cell_type": "code",
      "metadata": {
        "id": "dlRxHgiI-jHB",
        "colab_type": "code",
        "colab": {}
      },
      "source": [
        "cadena1 = \"océano \"\n",
        "cadena2 = \"atmósfera\"\n",
        "\n",
        "cadena = \"Interacción \"+cadena1 + cadena2\n",
        "print(cadena)\n",
        "print(\"\\n\")\n",
        "\n",
        "print(\"índice [0]:\", cadena[0])\n",
        "print(\"índice [:] al [4]:\", cadena[:4])\n",
        "print(\"------------------------------------------------\")\n",
        "\n",
        "print(\"índice [-1]:\", cadena[-1])\n",
        "print(\"índice [-1] al [-4]:\", cadena[-4:])"
      ],
      "execution_count": 0,
      "outputs": []
    },
    {
      "cell_type": "markdown",
      "metadata": {
        "id": "tTMAMwB4-lwn",
        "colab_type": "text"
      },
      "source": [
        "### Multiplicar cadena"
      ]
    },
    {
      "cell_type": "code",
      "metadata": {
        "id": "Cm2J136g-qNP",
        "colab_type": "code",
        "colab": {}
      },
      "source": [
        "cadena1 = \"océano \"\n",
        "cadena2 = \"atmósfera\"\n",
        "\n",
        "cadena = \"Interacción \"*3 + cadena1 + cadena2\n",
        "print(cadena)\n",
        "\n",
        "print(\"\\n\")\n",
        "cadena = \"Interacción \"*6 + cadena1 + cadena2\n",
        "print(cadena)"
      ],
      "execution_count": 0,
      "outputs": []
    },
    {
      "cell_type": "markdown",
      "metadata": {
        "id": "ozNsvav2-sQK",
        "colab_type": "text"
      },
      "source": [
        "### Añadir caracteres a una cadena"
      ]
    },
    {
      "cell_type": "code",
      "metadata": {
        "id": "9dBZfro0-uIp",
        "colab_type": "code",
        "colab": {}
      },
      "source": [
        "cadena1 = \"océano \"\n",
        "cadena2 = \"atmósfera\"\n",
        "\n",
        "cadena = \"Interacción \" + cadena1 + cadena2\n",
        "print(cadena)\n",
        "\n",
        "print(\"\\n\")\n",
        "cadena += \" continente\"\n",
        "print(cadena)"
      ],
      "execution_count": 0,
      "outputs": []
    },
    {
      "cell_type": "markdown",
      "metadata": {
        "id": "MbDrDypJ-wzF",
        "colab_type": "text"
      },
      "source": [
        "### Determinar el número de caracteres de una cadena\n",
        "\n",
        "La función len devuelve el número de caracteres de una cadena. Esto es considerando la cantidad de caracteres y espacios en blanco.\n",
        "\n"
      ]
    },
    {
      "cell_type": "code",
      "metadata": {
        "id": "xSq8lKsZ-wWc",
        "colab_type": "code",
        "colab": {}
      },
      "source": [
        "cadena1 = \"océano \"\n",
        "print(len(cadena1))\n",
        "\n",
        "cadena2 = \"atmósfera\"\n",
        "print(len(cadena2))\n",
        "\n",
        "cadena = \"Interacción \" + cadena1 + cadena2\n",
        "print(len(cadena))"
      ],
      "execution_count": 0,
      "outputs": []
    },
    {
      "cell_type": "markdown",
      "metadata": {
        "id": "Ev8i7zD0-5zG",
        "colab_type": "text"
      },
      "source": [
        "### Buscar sub-cadenas\n",
        "\n",
        "Es posible recorrer todas las sub cadenas de una cadena, utilizando el método find, quién devuelve el índice de inicio de la sub-cadena."
      ]
    },
    {
      "cell_type": "code",
      "metadata": {
        "id": "c1ESB81w-wS6",
        "colab_type": "code",
        "colab": {}
      },
      "source": [
        "cadena1 = \"océano \"\n",
        "cadena2 = \"atmósfera\"\n",
        "\n",
        "cadena = \"Interacción \" + cadena1 + cadena2\n",
        "print(cadena)\n",
        "\n",
        "buscarSC = cadena.find(\"atmósfera\")\n",
        "print(buscarSC)"
      ],
      "execution_count": 0,
      "outputs": []
    },
    {
      "cell_type": "markdown",
      "metadata": {
        "id": "3fnOmGr9--aT",
        "colab_type": "text"
      },
      "source": [
        "Si la sub-cadena no se encuentra dentro de la cadena, el método **find** devolverá el valor -1"
      ]
    },
    {
      "cell_type": "code",
      "metadata": {
        "id": "TMgfhwLj_EQy",
        "colab_type": "code",
        "colab": {}
      },
      "source": [
        "cadena1 = \"océano \"\n",
        "cadena2 = \"atmósfera\"\n",
        "\n",
        "cadena = \"Interacción \" + cadena1 + cadena2\n",
        "print(cadena)\n",
        "\n",
        "buscarSC = cadena.find(\"acción océ\")\n",
        "print(buscarSC)"
      ],
      "execution_count": 0,
      "outputs": []
    },
    {
      "cell_type": "markdown",
      "metadata": {
        "id": "yn3V-tZb_Evd",
        "colab_type": "text"
      },
      "source": [
        "### Convertir: minúsculas y mayusculas\n",
        "\n",
        "Los caracteres tienen diferentes métodos. Sigue de cerca las instrucciones para descubrir algunas de ellas. Si desea descubrirlos con más detalle, siempre puede escribir **help(str)**.\n",
        "\n",
        "**upper():** devuelve una copia de la cadena en la que todos los caracteres como mayúsculas.\n",
        "\n",
        "**lower():** devuelve una copia de la cadena en la que todos los caracteres como minúsculas."
      ]
    },
    {
      "cell_type": "code",
      "metadata": {
        "id": "w_L1dxNq_H_c",
        "colab_type": "code",
        "colab": {}
      },
      "source": [
        "cadena1 = \"océano \"\n",
        "cadena2 = \"atmósfera\"\n",
        "\n",
        "cadena = \"Interacción \" + cadena1 + cadena2\n",
        "\n",
        "print(cadena)\n",
        "print(cadena.upper())\n",
        "print(cadena.lower())"
      ],
      "execution_count": 0,
      "outputs": []
    },
    {
      "cell_type": "markdown",
      "metadata": {
        "id": "6EZmO7jf_aD5",
        "colab_type": "text"
      },
      "source": [
        "### Reemplazar caracteres"
      ]
    },
    {
      "cell_type": "code",
      "metadata": {
        "id": "5k7Uchbk_ce5",
        "colab_type": "code",
        "colab": {}
      },
      "source": [
        "cadena1 = \"océano \"\n",
        "cadena2 = \"atmósfera\"\n",
        "\n",
        "cadena = \"Interacción \" + cadena1 + cadena2\n",
        "print(cadena)\n",
        "\n",
        "newCad = cadena.replace(\"o\", \"land\")\n",
        "print(newCad)"
      ],
      "execution_count": 0,
      "outputs": []
    },
    {
      "cell_type": "markdown",
      "metadata": {
        "id": "2swc48WFJrk1",
        "colab_type": "text"
      },
      "source": [
        "### Convertir datos de un tipo a otro (Coerción)"
      ]
    },
    {
      "cell_type": "markdown",
      "metadata": {
        "id": "bJLn63MNJ6af",
        "colab_type": "text"
      },
      "source": [
        "No es el caso que variables como la ***nombre*** y ***id***  no puedan combinarse en absoluto, para combinar una cadena de caracteres con un número necesitamos realizar una conversión de tipo de datos para que sean compatibles. \n",
        "Por ejemplo, podríamos convertir el ***id*** entero en una cadena de caracteres usando la función str()."
      ]
    },
    {
      "cell_type": "code",
      "metadata": {
        "id": "m3_L0SL7KkYm",
        "colab_type": "code",
        "colab": {}
      },
      "source": [
        "idstr = str(id)"
      ],
      "execution_count": 0,
      "outputs": []
    },
    {
      "cell_type": "code",
      "metadata": {
        "id": "dcBPz_6cKtVV",
        "colab_type": "code",
        "colab": {}
      },
      "source": [
        "type(id)"
      ],
      "execution_count": 0,
      "outputs": []
    },
    {
      "cell_type": "code",
      "metadata": {
        "id": "Oq50jrTcKu9N",
        "colab_type": "code",
        "colab": {}
      },
      "source": [
        "print(id)"
      ],
      "execution_count": 0,
      "outputs": []
    },
    {
      "cell_type": "markdown",
      "metadata": {
        "id": "1GNUh--cK7le",
        "colab_type": "text"
      },
      "source": [
        "Como puede ver, **str()** convierte un valor numérico en una cadena de caracteres con los mismos números que antes."
      ]
    },
    {
      "cell_type": "markdown",
      "metadata": {
        "id": "eb2uq9I3LBOU",
        "colab_type": "text"
      },
      "source": [
        "Similar a usar **str()** para convertir números en cadenas de caracteres, **int()** se puede usar para convertir cadenas o números de punto flotante en enteros y **float()** se puede usar para convertir cadenas o números enteros en números de punto flotante."
      ]
    },
    {
      "cell_type": "markdown",
      "metadata": {
        "id": "SkJQ2mcPL-Yl",
        "colab_type": "text"
      },
      "source": [
        "### Combinando texto y números "
      ]
    },
    {
      "cell_type": "markdown",
      "metadata": {
        "id": "82Z5zVRXMAHt",
        "colab_type": "text"
      },
      "source": [
        "Aunque la mayoría de las operaciones matemáticas operan con valores numéricos, una forma común de combinar cadenas de caracteres es usar el operador de suma +."
      ]
    },
    {
      "cell_type": "code",
      "metadata": {
        "id": "Py999zB0Mg8d",
        "colab_type": "code",
        "colab": {}
      },
      "source": [
        "nombreeid = nombre + \": \" + str(id)"
      ],
      "execution_count": 0,
      "outputs": []
    },
    {
      "cell_type": "code",
      "metadata": {
        "id": "4zEMGQOaMjD7",
        "colab_type": "code",
        "colab": {}
      },
      "source": [
        "print(nombreeid)"
      ],
      "execution_count": 0,
      "outputs": []
    },
    {
      "cell_type": "markdown",
      "metadata": {
        "id": "UKXqNSD_K7fE",
        "colab_type": "text"
      },
      "source": [
        "Tenga en cuenta que aquí estamos convirtiendo **id** una cadena de caracteres utilizando la **str()** función dentro de la asignación a la variable **nombreeid**. Alternativamente, podríamos haber añadido simplemente **nombre** y **idstr**."
      ]
    },
    {
      "cell_type": "code",
      "metadata": {
        "id": "7xV_XCaFAbqS",
        "colab_type": "code",
        "colab": {}
      },
      "source": [
        ""
      ],
      "execution_count": 0,
      "outputs": []
    },
    {
      "cell_type": "code",
      "metadata": {
        "id": "D5S_P65GAbn7",
        "colab_type": "code",
        "colab": {}
      },
      "source": [
        ""
      ],
      "execution_count": 0,
      "outputs": []
    },
    {
      "cell_type": "markdown",
      "metadata": {
        "id": "RnLdv9k6gNEk",
        "colab_type": "text"
      },
      "source": [
        "## Tips"
      ]
    },
    {
      "cell_type": "markdown",
      "metadata": {
        "id": "62mpnnWwgSni",
        "colab_type": "text"
      },
      "source": [
        "### Ayuda\n",
        "\n",
        "Tal vez ya sabes el nombre de una función, pero todavía tiene que averiguar cómo usarlo. \n",
        "\n",
        "Irónicamente, hay que pedir información sobre una función con otra función: **help()**. \n",
        "\n",
        "También se puede usar **?** antes del nombre de la función."
      ]
    },
    {
      "cell_type": "code",
      "metadata": {
        "id": "JVCW6VyqgOz0",
        "colab_type": "code",
        "colab": {}
      },
      "source": [
        "help(max)\n",
        "?max"
      ],
      "execution_count": 0,
      "outputs": []
    }
  ]
}