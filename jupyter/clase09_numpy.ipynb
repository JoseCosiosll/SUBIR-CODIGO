{
  "nbformat": 4,
  "nbformat_minor": 0,
  "metadata": {
    "colab": {
      "name": "clase09_numpy.ipynb",
      "version": "0.3.2",
      "provenance": [],
      "collapsed_sections": [
        "o3rCz_U7Dq6f",
        "kYsQooXuDq6g",
        "i-TqT2QyDq6m",
        "49opBVzjDq65",
        "Uw7Bp_aYDq7T",
        "SXfF8PxCDq7i",
        "gtKECQ68Dq7j",
        "PrOqlMbyDq7n",
        "Np46hc-MDq7r",
        "J4CigtxmDq7v",
        "E4YQgbWODq70",
        "gnn2Cd_rDq77",
        "i57OLBgBDq8A",
        "YgUU__EkDq8F",
        "MwmUM__xDq8G"
      ],
      "include_colab_link": true
    },
    "language_info": {
      "codemirror_mode": {
        "name": "ipython",
        "version": 2
      },
      "file_extension": ".py",
      "mimetype": "text/x-python",
      "name": "python",
      "nbconvert_exporter": "python",
      "pygments_lexer": "ipython2",
      "version": "2.7.10"
    },
    "kernelspec": {
      "display_name": "Python 2",
      "language": "python",
      "name": "python2"
    }
  },
  "cells": [
    {
      "cell_type": "markdown",
      "metadata": {
        "id": "view-in-github",
        "colab_type": "text"
      },
      "source": [
        "<a href=\"https://colab.research.google.com/github/ryali93/UNMSM_programacion2019-1/blob/master/jupyter/clase09_numpy.ipynb\" target=\"_parent\"><img src=\"https://colab.research.google.com/assets/colab-badge.svg\" alt=\"Open In Colab\"/></a>"
      ]
    },
    {
      "cell_type": "markdown",
      "metadata": {
        "id": "aGxHxP0lDq6e",
        "colab_type": "text"
      },
      "source": [
        "# Introducción a NumPy"
      ]
    },
    {
      "cell_type": "markdown",
      "metadata": {
        "id": "Lo6KOBV8Dq6f",
        "colab_type": "text"
      },
      "source": [
        "Hasta ahora hemos visto los tipos de datos más básicos que nos ofrece Python: integer, real, complex, boolean, list, tuple y demás.\n",
        "En este notebook nos adentraremos en el paquete NumPy: aprenderemos a crear distintos arrays y a operar con ellos."
      ]
    },
    {
      "cell_type": "markdown",
      "metadata": {
        "id": "o3rCz_U7Dq6f",
        "colab_type": "text"
      },
      "source": [
        "## ¿Qué es un array? "
      ]
    },
    {
      "cell_type": "markdown",
      "metadata": {
        "id": "KEGASSedDq6g",
        "colab_type": "text"
      },
      "source": [
        "Un array es un __bloque de memoria que contiene elementos del mismo tipo__. Básicamente:\n",
        "\n",
        "* nos _recuerdan_ a los vectores, matrices, tensores...\n",
        "* podemos almacenar el array con un nombre y acceder a sus __elementos__ mediante sus __índices__.\n",
        "* ayudan a gestionar de manera eficiente la memoria y a acelerar los cálculos.\n",
        "\n",
        "\n",
        "---\n",
        "\n",
        "| Índice     | 0     | 1     | 2     | 3     | ...   | n-1   | n  |\n",
        "| ---------- | :---: | :---: | :---: | :---: | :---: | :---: | :---: |\n",
        "| Valor      | 2.1   | 3.6   | 7.8   | 1.5   | ...   | 5.4   | 6.3 |\n",
        "\n",
        "---\n",
        "\n",
        "__¿Qué solemos guardar en arrays?__\n",
        "\n",
        "* Vectores y matrices.\n",
        "* Datos de experimentos:\n",
        "    - En distintos instantes discretos.\n",
        "    - En distintos puntos del espacio.\n",
        "* Resultado de evaluar funciones con los datos anteriores.\n",
        "* Discretizaciones para usar algoritmos de: integración, derivación, interpolación...\n"
      ]
    },
    {
      "cell_type": "markdown",
      "metadata": {
        "id": "kYsQooXuDq6g",
        "colab_type": "text"
      },
      "source": [
        "## ¿Qué es NumPy?"
      ]
    },
    {
      "cell_type": "markdown",
      "metadata": {
        "id": "W1IJGCo_Dq6h",
        "colab_type": "text"
      },
      "source": [
        "NumPy es un paquete fundamental para la programación científica que __proporciona un objeto tipo array__ para almacenar datos de forma eficiente y una serie de __funciones__ para operar y manipular esos datos.\n",
        "Para usar NumPy lo primero que debemos hacer es importarlo:"
      ]
    },
    {
      "cell_type": "code",
      "metadata": {
        "id": "zW8hPHShDq6h",
        "colab_type": "code",
        "outputId": "da9a3498-a781-4298-8268-1236ab2686d2",
        "colab": {
          "base_uri": "https://localhost:8080/",
          "height": 34
        }
      },
      "source": [
        "import numpy as np\n",
        "#para ver la versión que tenemos instalada:\n",
        "np.__version__"
      ],
      "execution_count": 0,
      "outputs": [
        {
          "output_type": "execute_result",
          "data": {
            "text/plain": [
              "'1.16.2'"
            ]
          },
          "metadata": {
            "tags": []
          },
          "execution_count": 1
        }
      ]
    },
    {
      "cell_type": "markdown",
      "metadata": {
        "id": "i-TqT2QyDq6m",
        "colab_type": "text"
      },
      "source": [
        "## Nuestro primer array"
      ]
    },
    {
      "cell_type": "markdown",
      "metadata": {
        "id": "xJ_W6yBWDq6m",
        "colab_type": "text"
      },
      "source": [
        "¿No decíamos que Python era fácil? Pues __creemos nuestros primeros arrays__:"
      ]
    },
    {
      "cell_type": "code",
      "metadata": {
        "id": "TW-ewvaLDq6n",
        "colab_type": "code",
        "colab": {}
      },
      "source": [
        "import numpy as np"
      ],
      "execution_count": 0,
      "outputs": []
    },
    {
      "cell_type": "code",
      "metadata": {
        "id": "35WqJpfWDq6p",
        "colab_type": "code",
        "outputId": "e2b2efd0-8987-4e17-b75b-9c784b8f0091",
        "colab": {
          "base_uri": "https://localhost:8080/",
          "height": 34
        }
      },
      "source": [
        "# Array de una dimensión\n",
        "mi_primer_array = np.array([1, 2, 3, 4]) \n",
        "mi_primer_array"
      ],
      "execution_count": 0,
      "outputs": [
        {
          "output_type": "execute_result",
          "data": {
            "text/plain": [
              "array([1, 2, 3, 4])"
            ]
          },
          "metadata": {
            "tags": []
          },
          "execution_count": 3
        }
      ]
    },
    {
      "cell_type": "code",
      "metadata": {
        "id": "eU1h1RPbDq6r",
        "colab_type": "code",
        "outputId": "01f30a66-badd-4e19-9a2a-d131c147ef11",
        "colab": {
          "base_uri": "https://localhost:8080/",
          "height": 34
        }
      },
      "source": [
        "# Podemos usar print\n",
        "print(mi_primer_array)"
      ],
      "execution_count": 0,
      "outputs": [
        {
          "output_type": "stream",
          "text": [
            "[1 2 3 4]\n"
          ],
          "name": "stdout"
        }
      ]
    },
    {
      "cell_type": "code",
      "metadata": {
        "id": "dNMd3C43Dq6v",
        "colab_type": "code",
        "outputId": "31ee8897-ed31-4b22-b42b-47de30925b5d",
        "colab": {
          "base_uri": "https://localhost:8080/",
          "height": 34
        }
      },
      "source": [
        "# Comprobar el tipo de mi_primer_array\n",
        "type(mi_primer_array)"
      ],
      "execution_count": 0,
      "outputs": [
        {
          "output_type": "execute_result",
          "data": {
            "text/plain": [
              "numpy.ndarray"
            ]
          },
          "metadata": {
            "tags": []
          },
          "execution_count": 5
        }
      ]
    },
    {
      "cell_type": "code",
      "metadata": {
        "id": "N_7yveRmDq6x",
        "colab_type": "code",
        "outputId": "5b7271db-cb73-4a83-bf9f-ff522e8d4faa",
        "colab": {
          "base_uri": "https://localhost:8080/",
          "height": 34
        }
      },
      "source": [
        "# Comprobar el tipo de datos que contiene\n",
        "mi_primer_array.dtype"
      ],
      "execution_count": 0,
      "outputs": [
        {
          "output_type": "execute_result",
          "data": {
            "text/plain": [
              "dtype('int64')"
            ]
          },
          "metadata": {
            "tags": []
          },
          "execution_count": 6
        }
      ]
    },
    {
      "cell_type": "markdown",
      "metadata": {
        "id": "a8IZ8-L1Dq60",
        "colab_type": "text"
      },
      "source": [
        "Los arrays de una dimensión se crean pasándole una lista como argumento a la función `np.array`. Para crear un array de dos dimensiones le pasaremos una _lista de listas_:"
      ]
    },
    {
      "cell_type": "code",
      "metadata": {
        "id": "964_c0O-Dq60",
        "colab_type": "code",
        "colab": {}
      },
      "source": [
        "# Array de dos dimensiones\n",
        "mi_segundo_array = np.array([[1, 2, 3], [4, 5, 6], [7, 8, 9]])"
      ],
      "execution_count": 0,
      "outputs": []
    },
    {
      "cell_type": "markdown",
      "metadata": {
        "id": "qGCO2p0UDq62",
        "colab_type": "text"
      },
      "source": [
        "<div class=\"alert alert-info\">Podemos continuar en la siguiente línea usando `\\`, pero no es necesario escribirlo dentro de paréntesis o corchetes</div>"
      ]
    },
    {
      "cell_type": "markdown",
      "metadata": {
        "id": "vV3_Vp0KDq63",
        "colab_type": "text"
      },
      "source": [
        "Esto sería una buena manera de definirlo, de acuerdo con el [PEP 8 (indentation)](http://legacy.python.org/dev/peps/pep-0008/#indentation):"
      ]
    },
    {
      "cell_type": "code",
      "metadata": {
        "id": "kbVssdLHDq63",
        "colab_type": "code",
        "colab": {}
      },
      "source": [
        "mi_segundo_array = np.array([\n",
        "    [1, 2, 3],\n",
        "    [4, 5, 6],\n",
        "    [7, 8, 9]\n",
        "    ]) "
      ],
      "execution_count": 0,
      "outputs": []
    },
    {
      "cell_type": "markdown",
      "metadata": {
        "id": "49opBVzjDq65",
        "colab_type": "text"
      },
      "source": [
        "### Funciones y constantes de NumPy"
      ]
    },
    {
      "cell_type": "markdown",
      "metadata": {
        "id": "bVC2FMKWDq65",
        "colab_type": "text"
      },
      "source": [
        "Hemos dicho que NumPy también incorporá __funciones__. Un ejemplo sencillo:"
      ]
    },
    {
      "cell_type": "code",
      "metadata": {
        "id": "-aX8KD3ADq66",
        "colab_type": "code",
        "outputId": "c484e20f-a4db-413f-c21b-a09bed1eee8b",
        "colab": {
          "base_uri": "https://localhost:8080/",
          "height": 34
        }
      },
      "source": [
        "mi_primer_array"
      ],
      "execution_count": 0,
      "outputs": [
        {
          "output_type": "execute_result",
          "data": {
            "text/plain": [
              "array([1, 2, 3, 4])"
            ]
          },
          "metadata": {
            "tags": []
          },
          "execution_count": 9
        }
      ]
    },
    {
      "cell_type": "code",
      "metadata": {
        "id": "DxedKcQlDq68",
        "colab_type": "code",
        "outputId": "ecc80629-7b32-49f8-b978-0691a19c9bde",
        "colab": {
          "base_uri": "https://localhost:8080/",
          "height": 34
        }
      },
      "source": [
        "# Suma\n",
        "np.sum(mi_primer_array)"
      ],
      "execution_count": 0,
      "outputs": [
        {
          "output_type": "execute_result",
          "data": {
            "text/plain": [
              "10"
            ]
          },
          "metadata": {
            "tags": []
          },
          "execution_count": 10
        }
      ]
    },
    {
      "cell_type": "code",
      "metadata": {
        "id": "nYGYXNupDq6-",
        "colab_type": "code",
        "outputId": "5fce0a0a-1dc4-42d6-d05d-1777ed6d9d08",
        "colab": {
          "base_uri": "https://localhost:8080/",
          "height": 34
        }
      },
      "source": [
        "# Máximo\n",
        "np.max(mi_primer_array)"
      ],
      "execution_count": 0,
      "outputs": [
        {
          "output_type": "execute_result",
          "data": {
            "text/plain": [
              "4"
            ]
          },
          "metadata": {
            "tags": []
          },
          "execution_count": 11
        }
      ]
    },
    {
      "cell_type": "code",
      "metadata": {
        "id": "ZFVgs9NqDq7A",
        "colab_type": "code",
        "outputId": "db3c8d1e-fa3e-41a7-9ebc-72b3b35e1210",
        "colab": {
          "base_uri": "https://localhost:8080/",
          "height": 68
        }
      },
      "source": [
        "mi_segundo_array"
      ],
      "execution_count": 0,
      "outputs": [
        {
          "output_type": "execute_result",
          "data": {
            "text/plain": [
              "array([[1, 2, 3],\n",
              "       [4, 5, 6],\n",
              "       [7, 8, 9]])"
            ]
          },
          "metadata": {
            "tags": []
          },
          "execution_count": 12
        }
      ]
    },
    {
      "cell_type": "code",
      "metadata": {
        "id": "N-zKcXhADq7D",
        "colab_type": "code",
        "outputId": "e1708270-681d-4d43-963c-0da763ef83aa",
        "colab": {
          "base_uri": "https://localhost:8080/",
          "height": 34
        }
      },
      "source": [
        "np.max(mi_segundo_array)"
      ],
      "execution_count": 0,
      "outputs": [
        {
          "output_type": "execute_result",
          "data": {
            "text/plain": [
              "9"
            ]
          },
          "metadata": {
            "tags": []
          },
          "execution_count": 13
        }
      ]
    },
    {
      "cell_type": "code",
      "metadata": {
        "id": "Rja40lNwDq7G",
        "colab_type": "code",
        "outputId": "f99d8737-b290-4c46-9333-44f866211edb",
        "colab": {
          "base_uri": "https://localhost:8080/",
          "height": 34
        }
      },
      "source": [
        "np.max(mi_segundo_array,axis=0)"
      ],
      "execution_count": 0,
      "outputs": [
        {
          "output_type": "execute_result",
          "data": {
            "text/plain": [
              "array([7, 8, 9])"
            ]
          },
          "metadata": {
            "tags": []
          },
          "execution_count": 14
        }
      ]
    },
    {
      "cell_type": "code",
      "metadata": {
        "id": "n4kxPumZDq7I",
        "colab_type": "code",
        "outputId": "545363f7-14fe-4c84-e4c7-796179093a10",
        "colab": {
          "base_uri": "https://localhost:8080/",
          "height": 34
        }
      },
      "source": [
        "np.max(mi_segundo_array,axis=1)"
      ],
      "execution_count": 0,
      "outputs": [
        {
          "output_type": "execute_result",
          "data": {
            "text/plain": [
              "array([3, 6, 9])"
            ]
          },
          "metadata": {
            "tags": []
          },
          "execution_count": 15
        }
      ]
    },
    {
      "cell_type": "code",
      "metadata": {
        "id": "I9AHDW3hDq7L",
        "colab_type": "code",
        "outputId": "d2718da8-b285-4609-bf54-66ff4b97aad1",
        "colab": {
          "base_uri": "https://localhost:8080/",
          "height": 68
        }
      },
      "source": [
        "# Seno\n",
        "np.sin(mi_segundo_array)"
      ],
      "execution_count": 0,
      "outputs": [
        {
          "output_type": "execute_result",
          "data": {
            "text/plain": [
              "array([[ 0.84147098,  0.90929743,  0.14112001],\n",
              "       [-0.7568025 , -0.95892427, -0.2794155 ],\n",
              "       [ 0.6569866 ,  0.98935825,  0.41211849]])"
            ]
          },
          "metadata": {
            "tags": []
          },
          "execution_count": 16
        }
      ]
    },
    {
      "cell_type": "markdown",
      "metadata": {
        "id": "9gyhDKDHDq7Q",
        "colab_type": "text"
      },
      "source": [
        "Y algunas __constantes__ que podemos neccesitar:"
      ]
    },
    {
      "cell_type": "code",
      "metadata": {
        "id": "lFwXQSYhDq7Q",
        "colab_type": "code",
        "outputId": "c99db160-5da6-4a54-958a-a7597a77bd5f",
        "colab": {
          "base_uri": "https://localhost:8080/",
          "height": 34
        }
      },
      "source": [
        "np.pi, np.e"
      ],
      "execution_count": 0,
      "outputs": [
        {
          "output_type": "execute_result",
          "data": {
            "text/plain": [
              "(3.141592653589793, 2.718281828459045)"
            ]
          },
          "metadata": {
            "tags": []
          },
          "execution_count": 17
        }
      ]
    },
    {
      "cell_type": "markdown",
      "metadata": {
        "id": "Uw7Bp_aYDq7T",
        "colab_type": "text"
      },
      "source": [
        "### Atributos de un array"
      ]
    },
    {
      "cell_type": "code",
      "metadata": {
        "id": "xvbp9kYfDq7T",
        "colab_type": "code",
        "colab": {}
      },
      "source": [
        "### Número de dimensiones de un array"
      ],
      "execution_count": 0,
      "outputs": []
    },
    {
      "cell_type": "code",
      "metadata": {
        "id": "GPDOScdgDq7U",
        "colab_type": "code",
        "outputId": "ef062548-8e4c-49ad-adbb-6e41b4f4bae2",
        "colab": {
          "base_uri": "https://localhost:8080/",
          "height": 34
        }
      },
      "source": [
        "mi_primer_array.ndim"
      ],
      "execution_count": 0,
      "outputs": [
        {
          "output_type": "execute_result",
          "data": {
            "text/plain": [
              "1"
            ]
          },
          "metadata": {
            "tags": []
          },
          "execution_count": 18
        }
      ]
    },
    {
      "cell_type": "code",
      "metadata": {
        "id": "b37DMtQ-Dq7W",
        "colab_type": "code",
        "outputId": "f1253316-b812-4d45-bfaa-cfbf6bf964d7",
        "colab": {
          "base_uri": "https://localhost:8080/",
          "height": 34
        }
      },
      "source": [
        "mi_segundo_array.ndim"
      ],
      "execution_count": 0,
      "outputs": [
        {
          "output_type": "execute_result",
          "data": {
            "text/plain": [
              "2"
            ]
          },
          "metadata": {
            "tags": []
          },
          "execution_count": 19
        }
      ]
    },
    {
      "cell_type": "code",
      "metadata": {
        "id": "fDQNwWryDq7Z",
        "colab_type": "code",
        "colab": {}
      },
      "source": [
        "### Tamaño de cada dimensión"
      ],
      "execution_count": 0,
      "outputs": []
    },
    {
      "cell_type": "code",
      "metadata": {
        "id": "_9QXvhGpDq7a",
        "colab_type": "code",
        "outputId": "c7999748-efdb-4f09-c069-61f905b55a9b",
        "colab": {
          "base_uri": "https://localhost:8080/",
          "height": 34
        }
      },
      "source": [
        "mi_primer_array.shape"
      ],
      "execution_count": 0,
      "outputs": [
        {
          "output_type": "execute_result",
          "data": {
            "text/plain": [
              "(4,)"
            ]
          },
          "metadata": {
            "tags": []
          },
          "execution_count": 20
        }
      ]
    },
    {
      "cell_type": "code",
      "metadata": {
        "id": "RmEDbe9wDq7c",
        "colab_type": "code",
        "outputId": "0caa57c6-4387-4aab-8bc5-1836817e24b7",
        "colab": {
          "base_uri": "https://localhost:8080/",
          "height": 34
        }
      },
      "source": [
        "mi_segundo_array.shape"
      ],
      "execution_count": 0,
      "outputs": [
        {
          "output_type": "execute_result",
          "data": {
            "text/plain": [
              "(3, 3)"
            ]
          },
          "metadata": {
            "tags": []
          },
          "execution_count": 21
        }
      ]
    },
    {
      "cell_type": "code",
      "metadata": {
        "id": "b0sWbQPLDq7e",
        "colab_type": "code",
        "colab": {}
      },
      "source": [
        "### Número de elementos de un array"
      ],
      "execution_count": 0,
      "outputs": []
    },
    {
      "cell_type": "code",
      "metadata": {
        "id": "OpvYGlZtDq7f",
        "colab_type": "code",
        "outputId": "a831fa73-94c8-4afb-e3a5-a5893c7ad6e1",
        "colab": {
          "base_uri": "https://localhost:8080/",
          "height": 34
        }
      },
      "source": [
        "mi_primer_array.size"
      ],
      "execution_count": 0,
      "outputs": [
        {
          "output_type": "execute_result",
          "data": {
            "text/plain": [
              "4"
            ]
          },
          "metadata": {
            "tags": []
          },
          "execution_count": 22
        }
      ]
    },
    {
      "cell_type": "code",
      "metadata": {
        "id": "IAkpefb3Dq7h",
        "colab_type": "code",
        "outputId": "37aaba91-7b5a-425b-ee4b-cf1e49cfbb41",
        "colab": {
          "base_uri": "https://localhost:8080/",
          "height": 34
        }
      },
      "source": [
        "mi_segundo_array.size"
      ],
      "execution_count": 0,
      "outputs": [
        {
          "output_type": "execute_result",
          "data": {
            "text/plain": [
              "9"
            ]
          },
          "metadata": {
            "tags": []
          },
          "execution_count": 23
        }
      ]
    },
    {
      "cell_type": "markdown",
      "metadata": {
        "id": "SXfF8PxCDq7i",
        "colab_type": "text"
      },
      "source": [
        "## Funciones para crear arrays"
      ]
    },
    {
      "cell_type": "markdown",
      "metadata": {
        "id": "-lkUf9X3Dq7j",
        "colab_type": "text"
      },
      "source": [
        "Hemos visto que la función `np.array()` nos permite crear arrays con los valores que nosotros introduzcamos manualmente a través de listas."
      ]
    },
    {
      "cell_type": "markdown",
      "metadata": {
        "id": "gtKECQ68Dq7j",
        "colab_type": "text"
      },
      "source": [
        "#### array de ceros"
      ]
    },
    {
      "cell_type": "code",
      "metadata": {
        "id": "RqeNadFhDq7j",
        "colab_type": "code",
        "outputId": "7971ea93-5bc2-4f96-b4d5-8e7cd6a382c8",
        "colab": {
          "base_uri": "https://localhost:8080/",
          "height": 119
        }
      },
      "source": [
        "# En una dimensión\n",
        "np.zeros(100)"
      ],
      "execution_count": 0,
      "outputs": [
        {
          "output_type": "execute_result",
          "data": {
            "text/plain": [
              "array([0., 0., 0., 0., 0., 0., 0., 0., 0., 0., 0., 0., 0., 0., 0., 0., 0.,\n",
              "       0., 0., 0., 0., 0., 0., 0., 0., 0., 0., 0., 0., 0., 0., 0., 0., 0.,\n",
              "       0., 0., 0., 0., 0., 0., 0., 0., 0., 0., 0., 0., 0., 0., 0., 0., 0.,\n",
              "       0., 0., 0., 0., 0., 0., 0., 0., 0., 0., 0., 0., 0., 0., 0., 0., 0.,\n",
              "       0., 0., 0., 0., 0., 0., 0., 0., 0., 0., 0., 0., 0., 0., 0., 0., 0.,\n",
              "       0., 0., 0., 0., 0., 0., 0., 0., 0., 0., 0., 0., 0., 0., 0.])"
            ]
          },
          "metadata": {
            "tags": []
          },
          "execution_count": 24
        }
      ]
    },
    {
      "cell_type": "code",
      "metadata": {
        "id": "XGiOOp4_Dq7l",
        "colab_type": "code",
        "outputId": "a3e61417-86eb-4be3-b3ae-a3c4aa1ae7c2",
        "colab": {
          "base_uri": "https://localhost:8080/",
          "height": 187
        }
      },
      "source": [
        "# En dos dimensiones\n",
        "np.zeros([10,10])"
      ],
      "execution_count": 0,
      "outputs": [
        {
          "output_type": "execute_result",
          "data": {
            "text/plain": [
              "array([[0., 0., 0., 0., 0., 0., 0., 0., 0., 0.],\n",
              "       [0., 0., 0., 0., 0., 0., 0., 0., 0., 0.],\n",
              "       [0., 0., 0., 0., 0., 0., 0., 0., 0., 0.],\n",
              "       [0., 0., 0., 0., 0., 0., 0., 0., 0., 0.],\n",
              "       [0., 0., 0., 0., 0., 0., 0., 0., 0., 0.],\n",
              "       [0., 0., 0., 0., 0., 0., 0., 0., 0., 0.],\n",
              "       [0., 0., 0., 0., 0., 0., 0., 0., 0., 0.],\n",
              "       [0., 0., 0., 0., 0., 0., 0., 0., 0., 0.],\n",
              "       [0., 0., 0., 0., 0., 0., 0., 0., 0., 0.],\n",
              "       [0., 0., 0., 0., 0., 0., 0., 0., 0., 0.]])"
            ]
          },
          "metadata": {
            "tags": []
          },
          "execution_count": 25
        }
      ]
    },
    {
      "cell_type": "markdown",
      "metadata": {
        "id": "6Gb8TJegDq7n",
        "colab_type": "text"
      },
      "source": [
        "<div class=\"alert alert-info\"><strong>Nota:</strong> \n",
        "En el caso 1D es válido tanto `np.zeros([5])` como `np.zeros(5)` (sin los corchetes), pero no lo será para el caso nD\n",
        "</div>"
      ]
    },
    {
      "cell_type": "markdown",
      "metadata": {
        "id": "PrOqlMbyDq7n",
        "colab_type": "text"
      },
      "source": [
        "#### array \"vacío\""
      ]
    },
    {
      "cell_type": "code",
      "metadata": {
        "id": "2sTJH8-EDq7n",
        "colab_type": "code",
        "outputId": "006e0dc1-f8c4-48b6-acdd-759cdaece0b8",
        "colab": {
          "base_uri": "https://localhost:8080/",
          "height": 68
        }
      },
      "source": [
        "np.empty(10)"
      ],
      "execution_count": 0,
      "outputs": [
        {
          "output_type": "execute_result",
          "data": {
            "text/plain": [
              "array([4.65303026e-310, 0.00000000e+000, 6.94299715e-310, 6.94301399e-310,\n",
              "       6.94299671e-310, 6.94299671e-310, 6.94299714e-310, 0.00000000e+000,\n",
              "       6.94300540e-310, 6.94299714e-310])"
            ]
          },
          "metadata": {
            "tags": []
          },
          "execution_count": 26
        }
      ]
    },
    {
      "cell_type": "markdown",
      "metadata": {
        "id": "tCM1jpixDq7r",
        "colab_type": "text"
      },
      "source": [
        "<div class=\"alert alert-error\"><strong>Importante:</strong> \n",
        "El array vacío se crea en un tiempo algo inferior al array de ceros. Sin embargo, el valor de sus elementos será arbitrario y dependerá del estado de la memoria. Si lo utilizas asegúrate de que luego llenas bien todos sus elementos porque podrías introducir resultados erróneos.\n",
        "</div>"
      ]
    },
    {
      "cell_type": "markdown",
      "metadata": {
        "id": "Np46hc-MDq7r",
        "colab_type": "text"
      },
      "source": [
        "#### array de unos"
      ]
    },
    {
      "cell_type": "code",
      "metadata": {
        "id": "5SkvBRNCDq7s",
        "colab_type": "code",
        "outputId": "8b6dd67c-eff1-41aa-d2cd-dfe906ea69f8",
        "colab": {
          "base_uri": "https://localhost:8080/",
          "height": 68
        }
      },
      "source": [
        "np.ones([3, 2])"
      ],
      "execution_count": 0,
      "outputs": [
        {
          "output_type": "execute_result",
          "data": {
            "text/plain": [
              "array([[1., 1.],\n",
              "       [1., 1.],\n",
              "       [1., 1.]])"
            ]
          },
          "metadata": {
            "tags": []
          },
          "execution_count": 27
        }
      ]
    },
    {
      "cell_type": "markdown",
      "metadata": {
        "id": "oSchhrVFDq7u",
        "colab_type": "text"
      },
      "source": [
        "<div class=\"alert alert-info\"><strong>Nota:</strong> \n",
        "Otras funciones muy útiles son `np.zeros_like` y `np.ones_like`. Usa la ayuda para ver lo que hacen si lo necesitas.\n",
        "</div>"
      ]
    },
    {
      "cell_type": "markdown",
      "metadata": {
        "id": "J4CigtxmDq7v",
        "colab_type": "text"
      },
      "source": [
        "#### array identidad"
      ]
    },
    {
      "cell_type": "code",
      "metadata": {
        "id": "gjJzMpWRDq7v",
        "colab_type": "code",
        "outputId": "29b80400-01b1-4824-ea06-83ac64805bc3",
        "colab": {
          "base_uri": "https://localhost:8080/",
          "height": 85
        }
      },
      "source": [
        "np.identity(4)"
      ],
      "execution_count": 0,
      "outputs": [
        {
          "output_type": "execute_result",
          "data": {
            "text/plain": [
              "array([[1., 0., 0., 0.],\n",
              "       [0., 1., 0., 0.],\n",
              "       [0., 0., 1., 0.],\n",
              "       [0., 0., 0., 1.]])"
            ]
          },
          "metadata": {
            "tags": []
          },
          "execution_count": 28
        }
      ]
    },
    {
      "cell_type": "markdown",
      "metadata": {
        "id": "v4Jf6_V-Dq7x",
        "colab_type": "text"
      },
      "source": [
        "<div class=\"alert alert-info\"><strong>Nota:</strong> \n",
        "También puedes probar `np.eye()` y `np.diag()`.\n",
        "</div>"
      ]
    },
    {
      "cell_type": "markdown",
      "metadata": {
        "id": "UdXRUUuCDq70",
        "colab_type": "text"
      },
      "source": [
        "### Rangos"
      ]
    },
    {
      "cell_type": "markdown",
      "metadata": {
        "id": "E4YQgbWODq70",
        "colab_type": "text"
      },
      "source": [
        "#### np.arange"
      ]
    },
    {
      "cell_type": "markdown",
      "metadata": {
        "id": "NJ1Ildv9Dq71",
        "colab_type": "text"
      },
      "source": [
        "NumPy, dame __un array que vaya de 0 a 5__:"
      ]
    },
    {
      "cell_type": "code",
      "metadata": {
        "id": "AEzuPcCpDq71",
        "colab_type": "code",
        "outputId": "8896504a-50b7-490c-a2ce-c1085c45b879",
        "colab": {
          "base_uri": "https://localhost:8080/",
          "height": 34
        }
      },
      "source": [
        "a = np.arange(1, 5)\n",
        "a"
      ],
      "execution_count": 0,
      "outputs": [
        {
          "output_type": "execute_result",
          "data": {
            "text/plain": [
              "array([1, 2, 3, 4])"
            ]
          },
          "metadata": {
            "tags": []
          },
          "execution_count": 29
        }
      ]
    },
    {
      "cell_type": "markdown",
      "metadata": {
        "id": "PeJlQVXlDq73",
        "colab_type": "text"
      },
      "source": [
        "__Mira con atención el resultado anterior__, ¿hay algo que deberías grabar en tu cabeza para simpre?\n",
        "__El último elemento no es 5 sino 4__"
      ]
    },
    {
      "cell_type": "markdown",
      "metadata": {
        "id": "vHEjdPFQDq73",
        "colab_type": "text"
      },
      "source": [
        "NumPy, dame __un array que vaya de 0 a 10, de 3 en 3__:"
      ]
    },
    {
      "cell_type": "code",
      "metadata": {
        "id": "RMXJ8rgpDq73",
        "colab_type": "code",
        "outputId": "9003ebfc-b094-4987-b3ef-a199797893b9",
        "colab": {
          "base_uri": "https://localhost:8080/",
          "height": 34
        }
      },
      "source": [
        "np.arange(0, 11, 3)"
      ],
      "execution_count": 0,
      "outputs": [
        {
          "output_type": "execute_result",
          "data": {
            "text/plain": [
              "array([0, 3, 6, 9])"
            ]
          },
          "metadata": {
            "tags": []
          },
          "execution_count": 30
        }
      ]
    },
    {
      "cell_type": "markdown",
      "metadata": {
        "id": "gnn2Cd_rDq77",
        "colab_type": "text"
      },
      "source": [
        "#### np.linspace"
      ]
    },
    {
      "cell_type": "markdown",
      "metadata": {
        "id": "qzrwiXYTDq79",
        "colab_type": "text"
      },
      "source": [
        "Si has tenido que usar MATLAB alguna vez, seguro que esto te suena:"
      ]
    },
    {
      "cell_type": "code",
      "metadata": {
        "id": "oBST0ewoDq7-",
        "colab_type": "code",
        "outputId": "1ec363ff-7167-4472-c5bf-c7b6e0fc9ae8",
        "colab": {
          "base_uri": "https://localhost:8080/",
          "height": 51
        }
      },
      "source": [
        "np.linspace(0, 10, 21)"
      ],
      "execution_count": 0,
      "outputs": [
        {
          "output_type": "execute_result",
          "data": {
            "text/plain": [
              "array([ 0. ,  0.5,  1. ,  1.5,  2. ,  2.5,  3. ,  3.5,  4. ,  4.5,  5. ,\n",
              "        5.5,  6. ,  6.5,  7. ,  7.5,  8. ,  8.5,  9. ,  9.5, 10. ])"
            ]
          },
          "metadata": {
            "tags": []
          },
          "execution_count": 31
        }
      ]
    },
    {
      "cell_type": "markdown",
      "metadata": {
        "id": "Jmn5NnsADq7_",
        "colab_type": "text"
      },
      "source": [
        "En este caso sí que se incluye el último elemento."
      ]
    },
    {
      "cell_type": "markdown",
      "metadata": {
        "id": "IJEPPMzaDq8A",
        "colab_type": "text"
      },
      "source": [
        "<div class=\"alert alert-info\"><strong>Nota:</strong> \n",
        "También puedes probar `np.logspace()`\n",
        "</div>"
      ]
    },
    {
      "cell_type": "markdown",
      "metadata": {
        "id": "i57OLBgBDq8A",
        "colab_type": "text"
      },
      "source": [
        "### reshape"
      ]
    },
    {
      "cell_type": "markdown",
      "metadata": {
        "id": "PIqUYc0BDq8A",
        "colab_type": "text"
      },
      "source": [
        "Con `np.arange()` es posible crear \"vectores\" cuyos elementos tomen valores consecutivos o equiespaciados, como hemos visto anteriormente. ¿Podemos hacer lo mismo con \"matrices\"? Pues sí, pero no usando una sola función. Imagina que quieres crear algo como esto:\n",
        "\n",
        "\\begin{pmatrix}\n",
        "    1 & 2 & 3\\\\ \n",
        "    4 & 5 & 6\\\\\n",
        "    7 & 8 & 9\\\\\n",
        "    \\end{pmatrix}\n",
        "    \n",
        "* Comenzaremos por crear un array 1d con los valores $(1,2,3,4,5,6,7,8,9)$ usando `np.arange()`.\n",
        "* Luego le daremos forma de array 2d. con `np.reshape(array, (dim0, dim1))`."
      ]
    },
    {
      "cell_type": "code",
      "metadata": {
        "id": "GCA-eXp9Dq8B",
        "colab_type": "code",
        "outputId": "30418eee-6898-4f91-d8b3-be127b614cb5",
        "colab": {
          "base_uri": "https://localhost:8080/",
          "height": 68
        }
      },
      "source": [
        "a = np.arange(1, 10)\n",
        "M = np.reshape(a, [3, 3])\n",
        "M"
      ],
      "execution_count": 0,
      "outputs": [
        {
          "output_type": "execute_result",
          "data": {
            "text/plain": [
              "array([[1, 2, 3],\n",
              "       [4, 5, 6],\n",
              "       [7, 8, 9]])"
            ]
          },
          "metadata": {
            "tags": []
          },
          "execution_count": 32
        }
      ]
    },
    {
      "cell_type": "code",
      "metadata": {
        "id": "0sDXkCTPDq8E",
        "colab_type": "code",
        "outputId": "dee69860-9d4a-4da2-d7d5-00897c0e345b",
        "colab": {
          "base_uri": "https://localhost:8080/",
          "height": 68
        }
      },
      "source": [
        "# También funciona como método\n",
        "N = a.reshape([3,3])\n",
        "N"
      ],
      "execution_count": 0,
      "outputs": [
        {
          "output_type": "execute_result",
          "data": {
            "text/plain": [
              "array([[1, 2, 3],\n",
              "       [4, 5, 6],\n",
              "       [7, 8, 9]])"
            ]
          },
          "metadata": {
            "tags": []
          },
          "execution_count": 33
        }
      ]
    },
    {
      "cell_type": "markdown",
      "metadata": {
        "id": "s81hZXC0Dq8F",
        "colab_type": "text"
      },
      "source": [
        "<div class=\"alert alert-info\"><strong>Nota:</strong> \n",
        "No vamos a entrar demasiado en qué son los métodos, pero debes saber que están asociados a la programación orientada a objetos y que en Python todo es un objeto. Lo que debes pensar es que son unas funciones especiales en las que el argumento más importante (sobre el que se realiza la acción) se escribe delante seguido de un punto. Por ejemplo: `<objeto>.método(argumentos)`\n",
        "</div>"
      ]
    },
    {
      "cell_type": "markdown",
      "metadata": {
        "id": "YgUU__EkDq8F",
        "colab_type": "text"
      },
      "source": [
        "## Operaciones"
      ]
    },
    {
      "cell_type": "markdown",
      "metadata": {
        "id": "MwmUM__xDq8G",
        "colab_type": "text"
      },
      "source": [
        "### Operaciones elemento a elemento"
      ]
    },
    {
      "cell_type": "markdown",
      "metadata": {
        "id": "kjTI1xoeDq8G",
        "colab_type": "text"
      },
      "source": [
        "Ahora que pocas cosas se nos escapan de los arrays, probemos a hacer algunas operaciones. El funcionamiento es el habitual en FORTRAN y MATLAB y poco hay que añadir:"
      ]
    },
    {
      "cell_type": "code",
      "metadata": {
        "id": "27zQim8hDq8H",
        "colab_type": "code",
        "outputId": "bd1e8016-f78e-4f05-d33b-8f8a941b44d6",
        "colab": {
          "base_uri": "https://localhost:8080/",
          "height": 34
        }
      },
      "source": [
        "#crear un arra y y sumarle un número\n",
        "arr = np.arange(11)\n",
        "arr + 55"
      ],
      "execution_count": 0,
      "outputs": [
        {
          "output_type": "execute_result",
          "data": {
            "text/plain": [
              "array([55, 56, 57, 58, 59, 60, 61, 62, 63, 64, 65])"
            ]
          },
          "metadata": {
            "tags": []
          },
          "execution_count": 34
        }
      ]
    },
    {
      "cell_type": "code",
      "metadata": {
        "id": "DFjUN5ELDq8I",
        "colab_type": "code",
        "outputId": "bc52f206-8da9-412b-bb3e-91c977e89168",
        "colab": {
          "base_uri": "https://localhost:8080/",
          "height": 34
        }
      },
      "source": [
        "#multiplicarlo por un número\n",
        "arr * 2"
      ],
      "execution_count": 0,
      "outputs": [
        {
          "output_type": "execute_result",
          "data": {
            "text/plain": [
              "array([ 0,  2,  4,  6,  8, 10, 12, 14, 16, 18, 20])"
            ]
          },
          "metadata": {
            "tags": []
          },
          "execution_count": 35
        }
      ]
    },
    {
      "cell_type": "code",
      "metadata": {
        "id": "2PMPbo_7Dq8K",
        "colab_type": "code",
        "outputId": "ed07640f-2855-4ee4-df66-ffcbe88ffe6a",
        "colab": {
          "base_uri": "https://localhost:8080/",
          "height": 34
        }
      },
      "source": [
        "#elevarlo al cuadrado\n",
        "arr ** 2"
      ],
      "execution_count": 0,
      "outputs": [
        {
          "output_type": "execute_result",
          "data": {
            "text/plain": [
              "array([  0,   1,   4,   9,  16,  25,  36,  49,  64,  81, 100])"
            ]
          },
          "metadata": {
            "tags": []
          },
          "execution_count": 36
        }
      ]
    },
    {
      "cell_type": "code",
      "metadata": {
        "id": "4L7yuHDlDq8M",
        "colab_type": "code",
        "outputId": "7345c833-4dba-4812-efd5-838d2c92a4a8",
        "colab": {
          "base_uri": "https://localhost:8080/",
          "height": 68
        }
      },
      "source": [
        "#calcular una función\n",
        "np.tanh(arr)"
      ],
      "execution_count": 0,
      "outputs": [
        {
          "output_type": "execute_result",
          "data": {
            "text/plain": [
              "array([0.        , 0.76159416, 0.96402758, 0.99505475, 0.9993293 ,\n",
              "       0.9999092 , 0.99998771, 0.99999834, 0.99999977, 0.99999997,\n",
              "       1.        ])"
            ]
          },
          "metadata": {
            "tags": []
          },
          "execution_count": 37
        }
      ]
    },
    {
      "cell_type": "markdown",
      "metadata": {
        "id": "UhkZx4JcDq8O",
        "colab_type": "text"
      },
      "source": [
        "<div class=\"alert alert-info\"><strong>Entrenamiento:</strong> \n",
        "Puedes tratar de comparar la diferencia de tiempo entre realizar la operación en bloque, como ahora, y realizarla elemento a elemento, recorriendo el array con un bucle.\n",
        "</div>"
      ]
    },
    {
      "cell_type": "markdown",
      "metadata": {
        "id": "dj_Z2VfqDq8P",
        "colab_type": "text"
      },
      "source": [
        "__Si las operaciones involucran dos arrays también se realizan elemento a elemento__"
      ]
    },
    {
      "cell_type": "code",
      "metadata": {
        "id": "Zeq5fGnlDq8P",
        "colab_type": "code",
        "colab": {}
      },
      "source": [
        "#creamos dos arrays\n",
        "arr1 = np.arange(0, 11)\n",
        "arr2 = np.arange(20, 31)"
      ],
      "execution_count": 0,
      "outputs": []
    },
    {
      "cell_type": "code",
      "metadata": {
        "id": "_uk1o56JDq8Q",
        "colab_type": "code",
        "outputId": "1af96283-8ab5-456d-bf06-b36c7de3d8b9",
        "colab": {
          "base_uri": "https://localhost:8080/",
          "height": 34
        }
      },
      "source": [
        "arr1"
      ],
      "execution_count": 0,
      "outputs": [
        {
          "output_type": "execute_result",
          "data": {
            "text/plain": [
              "array([ 0,  1,  2,  3,  4,  5,  6,  7,  8,  9, 10])"
            ]
          },
          "metadata": {
            "tags": []
          },
          "execution_count": 40
        }
      ]
    },
    {
      "cell_type": "code",
      "metadata": {
        "id": "8BZJoVDmDq8S",
        "colab_type": "code",
        "outputId": "f27a9e56-a1fd-4876-a901-8500759766c8",
        "colab": {
          "base_uri": "https://localhost:8080/",
          "height": 34
        }
      },
      "source": [
        "arr2"
      ],
      "execution_count": 0,
      "outputs": [
        {
          "output_type": "execute_result",
          "data": {
            "text/plain": [
              "array([20, 21, 22, 23, 24, 25, 26, 27, 28, 29, 30])"
            ]
          },
          "metadata": {
            "tags": []
          },
          "execution_count": 39
        }
      ]
    },
    {
      "cell_type": "code",
      "metadata": {
        "id": "y_t-tKhVDq8T",
        "colab_type": "code",
        "outputId": "dbbc38a4-fd60-473e-b2db-d40ccd61fb05",
        "colab": {
          "base_uri": "https://localhost:8080/",
          "height": 34
        }
      },
      "source": [
        "#los sumamos\n",
        "arr1 + arr2"
      ],
      "execution_count": 0,
      "outputs": [
        {
          "output_type": "execute_result",
          "data": {
            "text/plain": [
              "array([20, 22, 24, 26, 28, 30, 32, 34, 36, 38, 40])"
            ]
          },
          "metadata": {
            "tags": []
          },
          "execution_count": 41
        }
      ]
    },
    {
      "cell_type": "code",
      "metadata": {
        "id": "4LKZJsSvDq8V",
        "colab_type": "code",
        "outputId": "5b7568ee-86bb-4bfa-c685-73e431f70ebb",
        "colab": {
          "base_uri": "https://localhost:8080/",
          "height": 34
        }
      },
      "source": [
        "#multiplicamos\n",
        "arr1 * arr2"
      ],
      "execution_count": 0,
      "outputs": [
        {
          "output_type": "execute_result",
          "data": {
            "text/plain": [
              "array([  0,  21,  44,  69,  96, 125, 156, 189, 224, 261, 300])"
            ]
          },
          "metadata": {
            "tags": []
          },
          "execution_count": 42
        }
      ]
    },
    {
      "cell_type": "markdown",
      "metadata": {
        "id": "eUcBSZ4fDq8Y",
        "colab_type": "text"
      },
      "source": [
        "#### Comparaciones"
      ]
    },
    {
      "cell_type": "code",
      "metadata": {
        "id": "bueTdPX2Dq8Y",
        "colab_type": "code",
        "outputId": "b6567469-bb2e-4741-df1e-39fae841c053",
        "colab": {
          "base_uri": "https://localhost:8080/",
          "height": 51
        }
      },
      "source": [
        "# >,<\n",
        "arr1 > arr2"
      ],
      "execution_count": 0,
      "outputs": [
        {
          "output_type": "execute_result",
          "data": {
            "text/plain": [
              "array([False, False, False, False, False, False, False, False, False,\n",
              "       False, False])"
            ]
          },
          "metadata": {
            "tags": []
          },
          "execution_count": 43
        }
      ]
    },
    {
      "cell_type": "code",
      "metadata": {
        "id": "CQpS1Z5GDq8a",
        "colab_type": "code",
        "outputId": "991fac34-0097-4069-e951-fff4c2358b5c",
        "colab": {
          "base_uri": "https://localhost:8080/",
          "height": 51
        }
      },
      "source": [
        "# ==\n",
        "arr1 == arr2 # ¡ojo! los arrays son de integers, no de floats"
      ],
      "execution_count": 0,
      "outputs": [
        {
          "output_type": "execute_result",
          "data": {
            "text/plain": [
              "array([False, False, False, False, False, False, False, False, False,\n",
              "       False, False])"
            ]
          },
          "metadata": {
            "tags": []
          },
          "execution_count": 44
        }
      ]
    },
    {
      "cell_type": "markdown",
      "metadata": {
        "id": "8cpOwXk_Dq8b",
        "colab_type": "text"
      },
      "source": [
        "___Hemos aprendido:___\n",
        "\n",
        "* A usar las principales funciones para crear arrays.\n",
        "* A operar con arrays.\n",
        "\n",
        "\n",
        "Algunos enlaces:\n",
        "\n",
        "Algunos enlaces en Pybonacci:\n",
        "\n",
        "* [Cómo crear matrices en Python con NumPy](http://pybonacci.wordpress.com/2012/06/11/como-crear-matrices-en-python-con-numpy/).\n",
        "* [Números aleatorios en Python con NumPy y SciPy](http://pybonacci.wordpress.com/2013/01/11/numeros-aleatorios-en-python-con-numpy-y-scipy/).\n",
        "\n",
        "\n",
        "Algunos enlaces en otros sitios:\n",
        "\n",
        "* [100 numpy exercises](http://www.labri.fr/perso/nrougier/teaching/numpy.100/index.html).\n",
        "* [NumPy and IPython SciPy 2013 Tutorial](http://conference.scipy.org/scipy2013/tutorial_detail.php?id=100).\n",
        "* [NumPy and SciPy documentation](http://docs.scipy.org/doc/)."
      ]
    }
  ]
}