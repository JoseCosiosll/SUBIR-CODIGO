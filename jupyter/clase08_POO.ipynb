{
  "nbformat": 4,
  "nbformat_minor": 0,
  "metadata": {
    "colab": {
      "name": "Programación_orientada_a_objetos_POO.ipynb",
      "version": "0.3.2",
      "provenance": [],
      "include_colab_link": true
    },
    "language_info": {
      "codemirror_mode": {
        "name": "ipython",
        "version": 3
      },
      "file_extension": ".py",
      "mimetype": "text/x-python",
      "name": "python",
      "nbconvert_exporter": "python",
      "pygments_lexer": "ipython3",
      "version": "3.6.0"
    },
    "kernelspec": {
      "display_name": "Python 3",
      "language": "python",
      "name": "python3"
    }
  },
  "cells": [
    {
      "cell_type": "markdown",
      "metadata": {
        "id": "view-in-github",
        "colab_type": "text"
      },
      "source": [
        "<a href=\"https://colab.research.google.com/github/ryali93/UNMSM_programacion2019-1/blob/master/Programaci%C3%B3n_orientada_a_objetos_POO.ipynb\" target=\"_parent\"><img src=\"https://colab.research.google.com/assets/colab-badge.svg\" alt=\"Open In Colab\"/></a>"
      ]
    },
    {
      "cell_type": "markdown",
      "metadata": {
        "id": "XLEyiTQ1Ln52",
        "colab_type": "text"
      },
      "source": [
        "# Programación orientada a objetos (POO)\n",
        "**Un objeto es una cosa**. Por lo tanto, es un sustantivo, entonces **un objeto es un sustantivo**. Si observamos a nuestro alrrededor encontraremos muchos objetos.\n",
        "\n",
        "Por lo tanto ** un objeto** como **sustantivo** tiene asociado cualidades. Y las cualidades son adjetivos. Entonces, para describir **la manera de ser** de un objeto, debemos pregutarnos **¿cómo es el objeto?**\n",
        "\n",
        "### Por ejemplo\n",
        "\n",
        "* **El objeto** es verde\n",
        "\n",
        "* **El objeto** es grande\n",
        "\n",
        "* **El objeto** es feo\n",
        "\n",
        "Estos adjetivos generalmente se complementan con sustantivos para proporcionar mayor claridad (información) a la hora de comunicar algo.\n",
        "\n",
        "### Por ejemplo\n",
        "\n",
        "* El objeto es **de color** verde.\n",
        "\n",
        "* El objeto es **de tamaño** grande.\n",
        "\n",
        "* El objeto es **de aspecto** feo.\n",
        "\n",
        "Por lo tanto, una cualidad es un atributo (derivado de cualidad atribuible a un objeto) y que entonces, **un objeto es un sustantivo que posee atributos, cuyas  cualidades lo describen**.\n"
      ]
    },
    {
      "cell_type": "markdown",
      "metadata": {
        "id": "yV5v9oKFLn53",
        "colab_type": "text"
      },
      "source": [
        "## Crear clases\n",
        "Las clases permiten empaquetar datos y bloques de código. Al crear una nueva clase, se crea un nuevo tipo de objeto, permitiendo crear nuevas instancias de ese tipo. Cada instancia de clase puede tener atributos adjuntos para mantener su estado.\n",
        "\n",
        "### Sintaxis\n",
        "La forma más sencilla de definir una clase es:"
      ]
    },
    {
      "cell_type": "code",
      "metadata": {
        "id": "gKUSG4r8Ln55",
        "colab_type": "code",
        "outputId": "5be0435d-3e28-4478-a1cc-d8cf52865299",
        "colab": {}
      },
      "source": [
        "\"\"\"\n",
        "class NombreClase:\n",
        "    Cuerpo 1\n",
        "    Cuerpo 2\n",
        "    .\n",
        "    .\n",
        "    .\n",
        "    Cuerpo n\n",
        "\"\"\""
      ],
      "execution_count": 0,
      "outputs": [
        {
          "output_type": "execute_result",
          "data": {
            "text/plain": [
              "'\\nclass NombreClase:\\n    Cuerpo 1\\n    Cuerpo 2\\n    .\\n    .\\n    .\\n    Cuerpo n\\n'"
            ]
          },
          "metadata": {
            "tags": []
          },
          "execution_count": 1
        }
      ]
    },
    {
      "cell_type": "markdown",
      "metadata": {
        "id": "GD1tOcECLn6C",
        "colab_type": "text"
      },
      "source": [
        "Los objetos clase soportan dos tipos de operaciones: hacer referencia a **atributos** e **instanciación**.\n",
        "\n",
        "Para hacer referencia a atributos se usa la sintaxis estándar de todas las referencias a atributos, en Python es: **objeto.nombre**. Los nombres de atributos válidos son todos los nombres que estaban en el espacio de nombres de la **clase** cuando ésta se creó. Por lo tanto si la definición de la clase es:"
      ]
    },
    {
      "cell_type": "code",
      "metadata": {
        "id": "feEwAHCnLn6D",
        "colab_type": "code",
        "colab": {}
      },
      "source": [
        "class cinematica:\n",
        "    \"\"\"Esto es una descripción de la clase cinematica\"\"\"\n",
        "    t = 45\n",
        "    v = 3\n"
      ],
      "execution_count": 0,
      "outputs": []
    },
    {
      "cell_type": "markdown",
      "metadata": {
        "id": "RXBRoEELLn6H",
        "colab_type": "text"
      },
      "source": [
        "... entonces **cinematica.t**, **cinematica.v** y **cinematica.movMRU** son referencias de atributos válidos, que devuelven un valor numérico **(int)** y un objeto función, respectivamente. Los atributos de clase también pueden ser  asignados, o sea que se pueden cambiar de valor de **cinematica.t** y**cinematica.t** mediante asignación. **$__doc__$** también es un atributo válido, que devuelve la documentación asociada a la clase: **\"cinematica\"**.\n",
        "\n",
        "La instanciación de clases usa la notación de funciones. Haciendo de cuenta que el objeto de clase es una función sin parámetros que devuelvan una nueva instancia de la clase. Por ejemplo para la **clase cinematica:"
      ]
    },
    {
      "cell_type": "code",
      "metadata": {
        "id": "5SKDPfKvLn6J",
        "colab_type": "code",
        "outputId": "234a5977-0b0d-44fb-e4d7-d547b521d2ce",
        "colab": {}
      },
      "source": [
        "x = cinematica()\n",
        "print(x.t)\n",
        "print(x.v)\n",
        "print(x.__doc__)\n",
        "print(dir(x))"
      ],
      "execution_count": 0,
      "outputs": [
        {
          "output_type": "stream",
          "text": [
            "45\n",
            "3\n",
            "Esto es una descripción de la clase cinematica\n",
            "['__class__', '__delattr__', '__dict__', '__dir__', '__doc__', '__eq__', '__format__', '__ge__', '__getattribute__', '__gt__', '__hash__', '__init__', '__init_subclass__', '__le__', '__lt__', '__module__', '__ne__', '__new__', '__reduce__', '__reduce_ex__', '__repr__', '__setattr__', '__sizeof__', '__str__', '__subclasshook__', '__weakref__', 't', 'v']\n"
          ],
          "name": "stdout"
        }
      ]
    },
    {
      "cell_type": "markdown",
      "metadata": {
        "id": "kq7MaQWLLn6O",
        "colab_type": "text"
      },
      "source": [
        "crea una nueva instancia de la clase y asigna este objeto a la variable local x. La operación de instanciación  (llamar a un objeto clase) crea un nuevo objeto. "
      ]
    },
    {
      "cell_type": "markdown",
      "metadata": {
        "id": "EdjpXBqiLn6P",
        "colab_type": "text"
      },
      "source": [
        "## Métodos\n",
        "Lós métodos son **funciones especiales** definidos en un bloque indentado de sentencias dentro de una **clase** , sólo que técnicamente se denominan métodos, y representan acciones propias que puede realizar el objeto. Notar que el primer argumento o parámetro de un método debe ser **self**.\n",
        "\n",
        "#### Por ejemplo:\n",
        "\n",
        "Se definen los métodos **movMRU** y **movMRUV**, de la clase **cinematica**, El método **movMRU** tiene dos argumentos que especifica el tiempo y velocidad. Mientras que, el método **movMRUV** presenta tres argumentos que especifica el tiempo, la velocidad y la aceleración.\n"
      ]
    },
    {
      "cell_type": "code",
      "metadata": {
        "id": "CAwTVjAkLn6Q",
        "colab_type": "code",
        "outputId": "928e6f41-73f2-41d4-a023-1b2d40e2f735",
        "colab": {}
      },
      "source": [
        "class cinematica:\n",
        "    \"\"\"Esto es una descripción de la clase cinematica\"\"\"\n",
        "    \n",
        "    def movMRU(self, t, v):\n",
        "        \"\"\"Movimiento rectilineo uniforme\"\"\"\n",
        "        d = v*t\n",
        "        return d\n",
        "    \n",
        "    def movMRUV(self, t, v, a):\n",
        "        \"\"\"Movimiento rectilineo uniforme variado\"\"\"\n",
        "        d = v*t + 0.5*a*t*t\n",
        "        return d\n",
        "\n",
        "a = cinematica()\n",
        "print(\"a = \", a)\n",
        "\n",
        "d_MRU = a.movMRU(2,3)\n",
        "print(\"d_MRU = \", d_MRU)\n",
        "\n",
        "d_MRUV = a.movMRUV(2,3,4)\n",
        "print(\"d_MRUV = \", d_MRUV)\n",
        "\n",
        "print(dir(cinematica))\n",
        "\n",
        "print(help(cinematica))\n",
        "        "
      ],
      "execution_count": 0,
      "outputs": [
        {
          "output_type": "stream",
          "text": [
            "a =  <__main__.cinematica object at 0x7f8c2c1aec18>\n",
            "d_MRU =  6\n",
            "d_MRUV =  14.0\n",
            "['__class__', '__delattr__', '__dict__', '__dir__', '__doc__', '__eq__', '__format__', '__ge__', '__getattribute__', '__gt__', '__hash__', '__init__', '__init_subclass__', '__le__', '__lt__', '__module__', '__ne__', '__new__', '__reduce__', '__reduce_ex__', '__repr__', '__setattr__', '__sizeof__', '__str__', '__subclasshook__', '__weakref__', 'movMRU', 'movMRUV']\n",
            "Help on class cinematica in module __main__:\n",
            "\n",
            "class cinematica(builtins.object)\n",
            " |  Esto es una descripción de la clase cinematica\n",
            " |  \n",
            " |  Methods defined here:\n",
            " |  \n",
            " |  movMRU(self, t, v)\n",
            " |      Movimiento rectilineo uniforme\n",
            " |  \n",
            " |  movMRUV(self, t, v, a)\n",
            " |      Movimiento rectilineo uniforme variado\n",
            " |  \n",
            " |  ----------------------------------------------------------------------\n",
            " |  Data descriptors defined here:\n",
            " |  \n",
            " |  __dict__\n",
            " |      dictionary for instance variables (if defined)\n",
            " |  \n",
            " |  __weakref__\n",
            " |      list of weak references to the object (if defined)\n",
            "\n",
            "None\n"
          ],
          "name": "stdout"
        }
      ]
    },
    {
      "cell_type": "markdown",
      "metadata": {
        "id": "X805uxb8Ln6U",
        "colab_type": "text"
      },
      "source": [
        "Uno de los métodos especiales, $__init__$, también llamado el **constructor** de clase (objeto). Este método se llama cada vez que se crea una nueva instancia de la clase y ejecuta de manera automática todo el bloque de código que contiene.\n",
        "\n",
        "Este método, al igual que todos los métodos de cualquier clase, recibe como primer parámetro a la instancia sobre la que está trabajando. Por convención ese primer parámetro es **self** (que se traduce como: **yo mismo**). Para definir atributos, basta con definir una variable dentro de la instancia, es de buena práctica definir todos los atributos de las instancias en el constructor, de modo que se creen con algún valor válido. Por ejemplo:"
      ]
    },
    {
      "cell_type": "code",
      "metadata": {
        "id": "xnIVFWdgLn6W",
        "colab_type": "code",
        "colab": {}
      },
      "source": [
        "class cinematica:\n",
        "    \"\"\"Esto es una descripción de la clase cinematica\"\"\"\n",
        "    \n",
        "    def movMRU(self, t, v):\n",
        "        \"\"\"Movimiento rectilineo uniforme\"\"\"\n",
        "        d = v*t\n",
        "        return d\n",
        "    \n",
        "    def movMRUV(self, t, v, a):\n",
        "        \"\"\"Movimiento rectilineo uniforme variado\"\"\"\n",
        "        d = v*t + 0.5*a*t*t\n",
        "        return d"
      ],
      "execution_count": 0,
      "outputs": []
    },
    {
      "cell_type": "code",
      "metadata": {
        "id": "u4FlKS-gLn6b",
        "colab_type": "code",
        "outputId": "13d4a655-5393-4b11-8f7e-b5f5973631f5",
        "colab": {}
      },
      "source": [
        "class cinematica:\n",
        "    \"\"\"Esto es una descripción de la clase cinematica\"\"\"\n",
        "    \n",
        "    def __init__(self, t=0, v=0, a=0):\n",
        "        \"\"\"Constructor de la clase cinematica\"\"\"\n",
        "        self.t = t\n",
        "        self.v = v\n",
        "        self.a = a\n",
        "    \n",
        "    def movMRU(self):\n",
        "        \"\"\"Movimiento rectilineo uniforme\"\"\"\n",
        "        self.d = self.v*self.t\n",
        "        return self.d\n",
        "    \n",
        "    def movMRUV(self):\n",
        "        \"\"\"Movimiento rectilineo uniforme variado\"\"\"\n",
        "        self.d1 = self.v*self.t + 0.5*self.a*self.t**2\n",
        "        return self.d1\n",
        "\n",
        "obj = cinematica(2,5,3)\n",
        "print(\"obj = \", obj)\n",
        "print(\"t =\", obj.t)\n",
        "print(\"v = \", obj.v)\n",
        "print(\"a = \", obj.a)\n",
        "\n",
        "d_MRU = obj.movMRU()\n",
        "print(\"d_MRU = \", d_MRU)\n",
        "\n",
        "d_MRUV = obj.movMRUV()\n",
        "print(\"d_MRUV = \", d_MRUV)\n",
        "\n",
        "#print(dir(cinematica))\n",
        "#print(help(cinematica))"
      ],
      "execution_count": 0,
      "outputs": [
        {
          "output_type": "stream",
          "text": [
            "obj =  <__main__.cinematica object at 0x7f3b74fedc88>\n",
            "t = 2\n",
            "v =  5\n",
            "a =  3\n",
            "d_MRU =  10\n",
            "d_MRUV =  16.0\n"
          ],
          "name": "stdout"
        }
      ]
    },
    {
      "cell_type": "code",
      "metadata": {
        "id": "QbqN3OL5Ln6g",
        "colab_type": "code",
        "colab": {}
      },
      "source": [
        ""
      ],
      "execution_count": 0,
      "outputs": []
    }
  ]
}